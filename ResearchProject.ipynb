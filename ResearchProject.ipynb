{
  "cells": [
    {
      "cell_type": "markdown",
      "metadata": {
        "id": "view-in-github",
        "colab_type": "text"
      },
      "source": [
        "<a href=\"https://colab.research.google.com/github/BucketofJava/Generative-Emotion-Network/blob/main/ResearchProject.ipynb\" target=\"_parent\"><img src=\"https://colab.research.google.com/assets/colab-badge.svg\" alt=\"Open In Colab\"/></a>"
      ]
    },
    {
      "cell_type": "code",
      "execution_count": 1,
      "metadata": {
        "id": "3LsI1CSx-a1v"
      },
      "outputs": [],
      "source": [
        "import os\n",
        "import numpy as np"
      ]
    },
    {
      "cell_type": "code",
      "source": [
        "import pandas as pd\n",
        "pd.set_option('display.width', 17000)\n",
        "df=pd.read_csv(\"emotion-labels-train.csv\");\n",
        "df=df.sample(n=8)\n",
        "\n",
        "df.head(n=8)\n"
      ],
      "metadata": {
        "colab": {
          "base_uri": "https://localhost:8080/",
          "height": 344
        },
        "id": "oowsJNliLzdM",
        "outputId": "43cba31d-a370-4cb0-8c01-15c32beebf14"
      },
      "execution_count": null,
      "outputs": [
        {
          "output_type": "execute_result",
          "data": {
            "text/plain": [
              "                                                   text    label\n",
              "1197  Home is where the heart lies ! Love my little ...     fear\n",
              "3014  @X_KIMTAEHYUNG_X \\n— momentarily before it dis...  sadness\n",
              "1517  not only was that the worst @EGX that's I've a...     fear\n",
              "2756  @NessaMatthews he's perfect. But not even in t...    anger\n",
              "3451  For those of you who I have footage of but did...  sadness\n",
              "1089  Just feel awkward that I'm being timid to ever...     fear\n",
              "842   Cosplaying properly for the first time on Satu...     fear\n",
              "3516  Back to forest drama -\\nfrom my #Forest #music...  sadness"
            ],
            "text/html": [
              "\n",
              "  <div id=\"df-d6a20318-ee25-4467-ab53-f5eb53fdb92f\">\n",
              "    <div class=\"colab-df-container\">\n",
              "      <div>\n",
              "<style scoped>\n",
              "    .dataframe tbody tr th:only-of-type {\n",
              "        vertical-align: middle;\n",
              "    }\n",
              "\n",
              "    .dataframe tbody tr th {\n",
              "        vertical-align: top;\n",
              "    }\n",
              "\n",
              "    .dataframe thead th {\n",
              "        text-align: right;\n",
              "    }\n",
              "</style>\n",
              "<table border=\"1\" class=\"dataframe\">\n",
              "  <thead>\n",
              "    <tr style=\"text-align: right;\">\n",
              "      <th></th>\n",
              "      <th>text</th>\n",
              "      <th>label</th>\n",
              "    </tr>\n",
              "  </thead>\n",
              "  <tbody>\n",
              "    <tr>\n",
              "      <th>1197</th>\n",
              "      <td>Home is where the heart lies ! Love my little ...</td>\n",
              "      <td>fear</td>\n",
              "    </tr>\n",
              "    <tr>\n",
              "      <th>3014</th>\n",
              "      <td>@X_KIMTAEHYUNG_X \\n— momentarily before it dis...</td>\n",
              "      <td>sadness</td>\n",
              "    </tr>\n",
              "    <tr>\n",
              "      <th>1517</th>\n",
              "      <td>not only was that the worst @EGX that's I've a...</td>\n",
              "      <td>fear</td>\n",
              "    </tr>\n",
              "    <tr>\n",
              "      <th>2756</th>\n",
              "      <td>@NessaMatthews he's perfect. But not even in t...</td>\n",
              "      <td>anger</td>\n",
              "    </tr>\n",
              "    <tr>\n",
              "      <th>3451</th>\n",
              "      <td>For those of you who I have footage of but did...</td>\n",
              "      <td>sadness</td>\n",
              "    </tr>\n",
              "    <tr>\n",
              "      <th>1089</th>\n",
              "      <td>Just feel awkward that I'm being timid to ever...</td>\n",
              "      <td>fear</td>\n",
              "    </tr>\n",
              "    <tr>\n",
              "      <th>842</th>\n",
              "      <td>Cosplaying properly for the first time on Satu...</td>\n",
              "      <td>fear</td>\n",
              "    </tr>\n",
              "    <tr>\n",
              "      <th>3516</th>\n",
              "      <td>Back to forest drama -\\nfrom my #Forest #music...</td>\n",
              "      <td>sadness</td>\n",
              "    </tr>\n",
              "  </tbody>\n",
              "</table>\n",
              "</div>\n",
              "      <button class=\"colab-df-convert\" onclick=\"convertToInteractive('df-d6a20318-ee25-4467-ab53-f5eb53fdb92f')\"\n",
              "              title=\"Convert this dataframe to an interactive table.\"\n",
              "              style=\"display:none;\">\n",
              "        \n",
              "  <svg xmlns=\"http://www.w3.org/2000/svg\" height=\"24px\"viewBox=\"0 0 24 24\"\n",
              "       width=\"24px\">\n",
              "    <path d=\"M0 0h24v24H0V0z\" fill=\"none\"/>\n",
              "    <path d=\"M18.56 5.44l.94 2.06.94-2.06 2.06-.94-2.06-.94-.94-2.06-.94 2.06-2.06.94zm-11 1L8.5 8.5l.94-2.06 2.06-.94-2.06-.94L8.5 2.5l-.94 2.06-2.06.94zm10 10l.94 2.06.94-2.06 2.06-.94-2.06-.94-.94-2.06-.94 2.06-2.06.94z\"/><path d=\"M17.41 7.96l-1.37-1.37c-.4-.4-.92-.59-1.43-.59-.52 0-1.04.2-1.43.59L10.3 9.45l-7.72 7.72c-.78.78-.78 2.05 0 2.83L4 21.41c.39.39.9.59 1.41.59.51 0 1.02-.2 1.41-.59l7.78-7.78 2.81-2.81c.8-.78.8-2.07 0-2.86zM5.41 20L4 18.59l7.72-7.72 1.47 1.35L5.41 20z\"/>\n",
              "  </svg>\n",
              "      </button>\n",
              "      \n",
              "  <style>\n",
              "    .colab-df-container {\n",
              "      display:flex;\n",
              "      flex-wrap:wrap;\n",
              "      gap: 12px;\n",
              "    }\n",
              "\n",
              "    .colab-df-convert {\n",
              "      background-color: #E8F0FE;\n",
              "      border: none;\n",
              "      border-radius: 50%;\n",
              "      cursor: pointer;\n",
              "      display: none;\n",
              "      fill: #1967D2;\n",
              "      height: 32px;\n",
              "      padding: 0 0 0 0;\n",
              "      width: 32px;\n",
              "    }\n",
              "\n",
              "    .colab-df-convert:hover {\n",
              "      background-color: #E2EBFA;\n",
              "      box-shadow: 0px 1px 2px rgba(60, 64, 67, 0.3), 0px 1px 3px 1px rgba(60, 64, 67, 0.15);\n",
              "      fill: #174EA6;\n",
              "    }\n",
              "\n",
              "    [theme=dark] .colab-df-convert {\n",
              "      background-color: #3B4455;\n",
              "      fill: #D2E3FC;\n",
              "    }\n",
              "\n",
              "    [theme=dark] .colab-df-convert:hover {\n",
              "      background-color: #434B5C;\n",
              "      box-shadow: 0px 1px 3px 1px rgba(0, 0, 0, 0.15);\n",
              "      filter: drop-shadow(0px 1px 2px rgba(0, 0, 0, 0.3));\n",
              "      fill: #FFFFFF;\n",
              "    }\n",
              "  </style>\n",
              "\n",
              "      <script>\n",
              "        const buttonEl =\n",
              "          document.querySelector('#df-d6a20318-ee25-4467-ab53-f5eb53fdb92f button.colab-df-convert');\n",
              "        buttonEl.style.display =\n",
              "          google.colab.kernel.accessAllowed ? 'block' : 'none';\n",
              "\n",
              "        async function convertToInteractive(key) {\n",
              "          const element = document.querySelector('#df-d6a20318-ee25-4467-ab53-f5eb53fdb92f');\n",
              "          const dataTable =\n",
              "            await google.colab.kernel.invokeFunction('convertToInteractive',\n",
              "                                                     [key], {});\n",
              "          if (!dataTable) return;\n",
              "\n",
              "          const docLinkHtml = 'Like what you see? Visit the ' +\n",
              "            '<a target=\"_blank\" href=https://colab.research.google.com/notebooks/data_table.ipynb>data table notebook</a>'\n",
              "            + ' to learn more about interactive tables.';\n",
              "          element.innerHTML = '';\n",
              "          dataTable['output_type'] = 'display_data';\n",
              "          await google.colab.output.renderOutput(dataTable, element);\n",
              "          const docLink = document.createElement('div');\n",
              "          docLink.innerHTML = docLinkHtml;\n",
              "          element.appendChild(docLink);\n",
              "        }\n",
              "      </script>\n",
              "    </div>\n",
              "  </div>\n",
              "  "
            ]
          },
          "metadata": {},
          "execution_count": 4
        }
      ]
    },
    {
      "cell_type": "markdown",
      "metadata": {
        "id": "7Pvg2Vye0MvG"
      },
      "source": [
        "# Import and format text and emotion data"
      ]
    },
    {
      "cell_type": "code",
      "execution_count": 2,
      "metadata": {
        "id": "aieGiMB8SGyf"
      },
      "outputs": [],
      "source": [
        "whitelistchars=['\\n', ' ', '!', '\"', \"'\", ',', '-', '.', '/', '0', '1', '2', '3', '4', '5', '6', '7', '8', '9', ':', ';', '=', '?', '\\\\', '`', 'a', 'b', 'c', 'd', 'e', 'f', 'g', 'h', 'i', 'j', 'k', 'l', \n",
        "                'm', 'n', 'o', 'p', 'q', 'r', 's', 't', 'u', 'v', 'w', 'x', 'y', 'z', '|', '~', '\\xa0', '£', '´', '»', 'é', 'ñ', 'ó','–', '—', '―', '‘', '’', '“', '”', '•', '…', '‼', '™']"
      ]
    },
    {
      "cell_type": "code",
      "execution_count": 4,
      "metadata": {
        "colab": {
          "base_uri": "https://localhost:8080/"
        },
        "id": "lo1Bg_DKsBgp",
        "outputId": "d6b8167b-35db-4f3c-9aad-5738a01cd2c2"
      },
      "outputs": [
        {
          "output_type": "stream",
          "name": "stdout",
          "text": [
            "6755\n"
          ]
        }
      ],
      "source": [
        "texts=[]\n",
        "emotions=[]\n",
        "emotionlabels=[]\n",
        "emotionlist=[\"joy\", \"sadness\", \"anger\", \"fear\"]\n",
        "f=open(\"/content/emotion-labels-train.csv\", \"r\")\n",
        "current_line=f.readline()\n",
        "def processtweet(tweet):\n",
        "  twot=tweet.split(\" \")\n",
        "  toremove=[]\n",
        "  hashtags=[]\n",
        "  for i in range(len(twot)):\n",
        "    blacklistedchars=\"#$%^&*()_+{}[]\"\n",
        "    if(\"@\" in twot[i]):\n",
        "      toremove.append(i)\n",
        "    if(\"#\" in twot[i]):\n",
        "      hashtags.append(i)\n",
        "    else:\n",
        "      hashtags=[]\n",
        "    for j in twot[i]:\n",
        "      if(not j.lower() in whitelistchars):\n",
        "        blacklistedchars=blacklistedchars+j\n",
        "    for j in blacklistedchars:\n",
        "      twot[i]=twot[i].replace(j, '')\n",
        "  toremove=toremove+hashtags\n",
        "  for i in range(len(toremove)):\n",
        "    twot.pop(toremove[i]-i)\n",
        "  return \" \".join(twot)\n",
        "while(\",\" in current_line):\n",
        "  row=current_line.split(\",\")\n",
        "  labelname=row[len(row)-1].lower().replace(\" \", \"\").replace(\"\\n\", \"\")\n",
        "  if(not labelname in emotionlist):\n",
        "    current_line=f.readline()\n",
        "    continue\n",
        "  texts.append(processtweet(\",\".join(row[:len(row)-1])))\n",
        "  emotionlabels.append(row[len(row)-1].lower().replace(\" \", \"\").replace(\"\\n\", \"\"))\n",
        "  emotions.append(emotionlist.index(row[len(row)-1].lower().replace(\" \", \"\").replace(\"\\n\", \"\")))\n",
        "  current_line=f.readline()\n",
        "f.close()\n",
        "f=open(\"/content/emotion-labels-test.csv\")\n",
        "current_line=f.readline()\n",
        "while(\",\" in current_line):\n",
        "  row=current_line.split(\",\")\n",
        "  labelname=row[len(row)-1].lower().replace(\" \", \"\").replace(\"\\n\", \"\")\n",
        "  if(not labelname in emotionlist):\n",
        "    current_line=f.readline()\n",
        "    continue\n",
        "  texts.append(processtweet(\",\".join(row[:len(row)-1])))\n",
        "  emotionlabels.append(row[len(row)-1].lower().replace(\" \", \"\").replace(\"\\n\", \"\"))\n",
        "  emotions.append(emotionlist.index(row[len(row)-1].lower().replace(\" \", \"\").replace(\"\\n\", \"\")))\n",
        "  current_line=f.readline()\n",
        "f.close()                                                                                                                                                                                                                                                                                                                                                                    \n",
        "#index=int(len(texts)*.8)\n",
        "print(len(emotions))\n",
        "from keras.utils.np_utils import to_categorical\n",
        "emotions = to_categorical(emotions)"
      ]
    },
    {
      "cell_type": "code",
      "execution_count": 5,
      "metadata": {
        "colab": {
          "base_uri": "https://localhost:8080/"
        },
        "id": "SjUWNHS5lzyp",
        "outputId": "848d6107-bb53-4780-911a-2cde9ff04d7f"
      },
      "outputs": [
        {
          "output_type": "stream",
          "name": "stdout",
          "text": [
            "{'startoken': 1, 'endtoken': 2, 'the': 3, 'to': 4, 'i': 5, 'a': 6, 'and': 7, 'is': 8, 'of': 9, 'you': 10, 'in': 11, 'my': 12, 'it': 13, 'that': 14, 'for': 15, 'on': 16, 'me': 17, 'so': 18, 'be': 19, 'this': 20, 'but': 21, 'not': 22, 'with': 23, \"i'm\": 24, 'just': 25, 'at': 26, 'have': 27, 'your': 28, 'are': 29, 'all': 30, 'was': 31, 'like': 32, 'when': 33, 'if': 34, \"it's\": 35, 'up': 36, 'amp': 37, \"don't\": 38, 'about': 39, 'get': 40, 'no': 41, 'out': 42, 'will': 43, 'we': 44, 'as': 45, 'what': 46, 'do': 47, 'can': 48, 'from': 49, 'he': 50, 'by': 51, 'they': 52, 'or': 53, 'how': 54, 'n': 55, 'now': 56, 'an': 57, 'people': 58, 'one': 59, 'know': 60, 'his': 61, 'time': 62, 'day': 63, 'her': 64, 'good': 65, 'who': 66, 'love': 67, 'more': 68, 'u': 69, 'why': 70, 'see': 71, 'has': 72, 'been': 73, \"can't\": 74, 'she': 75, 'go': 76, 'think': 77, 'make': 78, 'some': 79, 'still': 80, 'happy': 81, \"'\": 82, 'over': 83, 'got': 84, 'there': 85, 'want': 86, 'really': 87, 'going': 88, 'today': 89, 'our': 90, 'would': 91, 'because': 92, 'their': 93, 'never': 94, 'am': 95, '2': 96, 'had': 97, 'being': 98, 'them': 99, 'feel': 100, 'off': 101, 'back': 102, 'life': 103, 'him': 104, 'only': 105, 'too': 106, 'need': 107, 'always': 108, 'watch': 109, 'new': 110, 'someone': 111, 'even': 112, 'then': 113, 'much': 114, 'should': 115, 'than': 116, 'after': 117, 'way': 118, \"i've\": 119, 'right': 120, \"that's\": 121, 'did': 122, \"you're\": 123, 'us': 124, 'live': 125, 'work': 126, 'start': 127, 'ever': 128, 'lol': 129, 'were': 130, 'bad': 131, 'could': 132, 'look': 133, 'fucking': 134, 'man': 135, 'again': 136, 'most': 137, 'something': 138, 'fear': 139, 'im': 140, 'any': 141, 'down': 142, 'smile': 143, 'well': 144, 'into': 145, 'makes': 146, '3': 147, 'last': 148, 'say': 149, 'best': 150, 'every': 151, 'let': 152, 'give': 153, 'lost': 154, 'amazing': 155, 'here': 156, 'great': 157, 'god': 158, 'very': 159, 'better': 160, 'night': 161, 'before': 162, 'sad': 163, 'its': 164, 'first': 165, 'these': 166, \"didn't\": 167, 'stop': 168, 'those': 169, 'said': 170, 'oh': 171, 'hate': 172, 'old': 173, 'world': 174, 'little': 175, 'things': 176, 'getting': 177, 'same': 178, 'find': 179, 'thing': 180, 'having': 181, 'another': 182, 'anxiety': 183, 'through': 184, 'tonight': 185, 'where': 186, 'does': 187, 'terrorism': 188, 'while': 189, 'home': 190, 'shit': 191, 'tell': 192, 'made': 193, 'come': 194, 'hope': 195, 'other': 196, '1': 197, 'afraid': 198, 'anger': 199, 'next': 200, 'also': 201, 'take': 202, 'away': 203, 'week': 204, 'tomorrow': 205, \"doesn't\": 206, 'terror': 207, 'pout': 208, 'long': 209, 'game': 210, 'play': 211, 'such': 212, 'heart': 213, 'worst': 214, 'wanna': 215, 'depression': 216, 'horror': 217, 'face': 218, 'person': 219, 'thanks': 220, \"i'll\": 221, 'angry': 222, 'thank': 223, 'serious': 224, 'nothing': 225, \"he's\": 226, 'sure': 227, 'broadcast': 228, 'hard': 229, 'despair': 230, 'dreadful': 231, 'looking': 232, 'big': 233, 'ly': 234, 'which': 235, 'doing': 236, 'watching': 237, 'days': 238, 'everyone': 239, 'laughter': 240, 'keep': 241, 'trump': 242, 'since': 243, 'end': 244, 'actually': 245, 'many': 246, 'team': 247, 'thought': 248, 'show': 249, 'may': 250, 'everything': 251, 'black': 252, 'pretty': 253, 'guys': 254, 'year': 255, 'anything': 256, 'own': 257, 'mind': 258, '4': 259, 'done': 260, 'wish': 261, 'wait': 262, 'worry': 263, 'help': 264, 'awful': 265, 'feeling': 266, \"i'd\": 267, 'morning': 268, 'myself': 269, 'maybe': 270, 'shocking': 271, 'rage': 272, 'whole': 273, 'both': 274, 'remember': 275, 'please': 276, \"there's\": 277, 'sadness': 278, 'yet': 279, 'years': 280, 'frown': 281, 'phone': 282, 'two': 283, 'panic': 284, 'bitter': 285, 'use': 286, 'against': 287, 'trying': 288, 'anyone': 289, '5': 290, 'gonna': 291, 'dark': 292, 'fuck': 293, 'hilarious': 294, 'talk': 295, 'yeah': 296, 'side': 297, 'nervous': 298, 'bully': 299, 'once': 300, 'ur': 301, 'sober': 302, 'making': 303, 'smiling': 304, 'head': 305, 'terrible': 306, 'nightmare': 307, 'literally': 308, 'already': 309, \"they're\": 310, 'twitter': 311, 'white': 312, 'sorry': 313, 'left': 314, 'job': 315, 'service': 316, 'around': 317, 'glee': 318, 'without': 319, 'hell': 320, 'looks': 321, 'house': 322, 'guy': 323, 'horrible': 324, 'blues': 325, 'believe': 326, 'half': 327, 'ok': 328, 'says': 329, 'sometimes': 330, 'pakistan': 331, 'revenge': 332, 'cheer': 333, 'w': 334, 'girl': 335, 'wow': 336, \"isn't\": 337, \"we're\": 338, 'might': 339, 'burning': 340, 'alarm': 341, 'joyful': 342, 'bc': 343, 'follow': 344, 'real': 345, 'sleep': 346, 'news': 347, 'playing': 348, 'put': 349, 'least': 350, \"what's\": 351, 'bit': 352, 'try': 353, 'saying': 354, 'gone': 355, 'part': 356, 'offended': 357, 'discouraged': 358, 'future': 359, 'class': 360, 'change': 361, 'working': 362, '6': 363, 'mean': 364, 'seen': 365, 'funny': 366, 'laugh': 367, 'gets': 368, 'lot': 369, 'win': 370, \"wasn't\": 371, 'police': 372, 'sadly': 373, 'outrage': 374, 'snap': 375, 'depressing': 376, 'until': 377, 'beautiful': 378, 'call': 379, 'yourself': 380, 'miss': 381, 'shy': 382, 'shaking': 383, 'times': 384, 'shake': 385, 'turn': 386, 'awe': 387, 'unhappy': 388, 'friends': 389, 'season': 390, 'fun': 391, 'nice': 392, 'optimism': 393, 'talking': 394, 'used': 395, 'war': 396, 'else': 397, 'started': 398, 'birthday': 399, 'customer': 400, 'yes': 401, 'pleasing': 402, 'true': 403, 'story': 404, 'bright': 405, 'sparkling': 406, 'tired': 407, 'moment': 408, 'point': 409, 'grim': 410, 'stayed': 411, 'furious': 412, 'madden': 413, 'rejoice': 414, 'lively': 415, 'free': 416, 'taking': 417, 'either': 418, '20': 419, 'comes': 420, 'order': 421, 'asked': 422, '10': 423, 'fire': 424, 'd': 425, 'fuming': 426, 'fury': 427, 'offend': 428, 'dull': 429, 'place': 430, 'though': 431, 'goes': 432, 'minutes': 433, 'took': 434, 'leave': 435, \"won't\": 436, 'sink': 437, 'boiling': 438, 'sting': 439, 'insult': 440, 'hilarity': 441, 'playful': 442, 'tv': 443, 'cheering': 444, 'absolutely': 445, 'human': 446, 'dont': 447, 'car': 448, 'high': 449, 'animated': 450, 'words': 451, 'tears': 452, 'late': 453, 'gt': 454, 'kind': 455, 'school': 456, 'discourage': 457, 'raging': 458, 'burst': 459, 'offense': 460, 'family': 461, 'elated': 462, 'needs': 463, '7': 464, 'cheery': 465, 'gave': 466, 'rejoicing': 467, 'far': 468, 'breezy': 469, 'ass': 470, 'cause': 471, 'must': 472, 'eat': 473, 'rather': 474, 'lord': 475, 'crying': 476, 'lose': 477, 'wrong': 478, 'between': 479, 'concern': 480, 'gloomy': 481, 'pine': 482, 'cheerful': 483, 'exhilarating': 484, 'delight': 485, '15': 486, 'soon': 487, 'movie': 488, 'hearty': 489, 'fans': 490, 'wonder': 491, 'worse': 492, 'past': 493, 'hands': 494, 'told': 495, 'okay': 496, 'country': 497, 'scare': 498, 'room': 499, 'irritate': 500, 'wrath': 501, 'mourn': 502, 'seeing': 503, 'joyous': 504, 'excited': 505, 'water': 506, 'full': 507, 'others': 508, 'almost': 509, 'chirp': 510, 'fact': 511, 'top': 512, 'word': 513, 'seriously': 514, 'kill': 515, \"y'all\": 516, 'takes': 517, 'laughing': 518, \"let's\": 519, \"you've\": 520, 'damn': 521, 'together': 522, \"she's\": 523, 'episode': 524, 'care': 525, 'weeks': 526, 'mad': 527, 'music': 528, 'sick': 529, 'support': 530, 'money': 531, 'month': 532, 'grudge': 533, 'fret': 534, 'sunk': 535, 'dream': 536, 'cheerfully': 537, 'joy': 538, 'happiness': 539, 'found': 540, 'feels': 541, 'friend': 542, 'haha': 543, 'called': 544, 'city': 545, 'problem': 546, 'woman': 547, 'hey': 548, 'weary': 549, 'r': 550, 'hold': 551, 'understand': 552, 'experience': 553, 'self': 554, '—': 555, 'vs': 556, 'hear': 557, 'forward': 558, 'bed': 559, 'run': 560, 'lmao': 561, 'enough': 562, 'men': 563, '12': 564, 'happened': 565, 'post': 566, 'cry': 567, 'hours': 568, 'reason': 569, 'honestly': 570, 'stay': 571, 'levity': 572, '8': 573, 'ready': 574, '9': 575, 'book': 576, 'means': 577, 'less': 578, 'dog': 579, 'peace': 580, 'tho': 581, 'under': 582, \"aren't\": 583, 'truth': 584, 'hair': 585, 'die': 586, 'hour': 587, 'media': 588, 'attack': 589, 'scared': 590, 'test': 591, 'india': 592, 'sweet': 593, 'strong': 594, 'wake': 595, 'yesterday': 596, 'glad': 597, 'omg': 598, 'food': 599, 'stuff': 600, 'young': 601, 'outside': 602, 'close': 603, 'boy': 604, 'finally': 605, 'coming': 606, 'using': 607, 'b': 608, 'body': 609, 'felt': 610, 'ago': 611, 'accept': 612, \"'i\": 613, 'name': 614, 's': 615, 'wants': 616, 'cut': 617, 'guess': 618, 'tweet': 619, 'tried': 620, 'rest': 621, 'front': 622, \"haven't\": 623, 'act': 624, 'vote': 625, 'during': 626, 'early': 627, 'listen': 628, 'forgot': 629, 'quote': 630, 'jovial': 631, 'within': 632, 'song': 633, 'went': 634, 'each': 635, 'players': 636, 'wanted': 637, 'situation': 638, 'gotta': 639, 'paul': 640, 'afternoon': 641, 'social': 642, 'quite': 643, 'pay': 644, 'happen': 645, 'imagine': 646, 'state': 647, 'american': 648, 'attacks': 649, 'horrific': 650, 'read': 651, 'dread': 652, 'contact': 653, \"wouldn't\": 654, 'fiery': 655, 'evening': 656, 'friday': 657, 'fall': 658, 'stupid': 659, 'lots': 660, 'lt': 661, 'super': 662, 'success': 663, 'listening': 664, 'watched': 665, 'video': 666, 'sound': 667, 'hit': 668, 'hurt': 669, 'seems': 670, 'saw': 671, 'level': 672, '30': 673, 'expect': 674, 'instead': 675, 'ppl': 676, 'baby': 677, 'power': 678, 'played': 679, 'straight': 680, 'rabid': 681, 'dude': 682, 'fan': 683, 'open': 684, 'truly': 685, '”': 686, 'bring': 687, \"ain't\": 688, 'history': 689, 'forever': 690, 'exhilaration': 691, 'knows': 692, 'king': 693, 'kinda': 694, 'break': 695, 'few': 696, 'party': 697, 'death': 698, 'buy': 699, 'short': 700, 'etc': 701, 'girls': 702, 'resent': 703, 'relentless': 704, 'waiting': 705, 'beyond': 706, 'wonderful': 707, 'singing': 708, 'second': 709, 'train': 710, 'x': 711, 'ask': 712, 'probably': 713, 'women': 714, 'america': 715, \"you'll\": 716, 'eyes': 717, 'ya': 718, 'important': 719, 'plus': 720, 'lips': 721, 'fighting': 722, 'living': 723, 'ni': 724, 'poor': 725, 'hand': 726, 'threaten': 727, 'horrid': 728, 'line': 729, 'snapchat': 730, 'gloom': 731, 'met': 732, 'online': 733, 'gym': 734, 'gleeful': 735, 'came': 736, 'cuz': 737, \"couldn't\": 738, 'tweets': 739, 'heard': 740, 'eating': 741, 'gbbo': 742, 'goal': 743, 'thinking': 744, 'different': 745, 'kids': 746, 'rojo': 747, 'joke': 748, 'become': 749, 'pure': 750, 'soul': 751, 'heyday': 752, 'film': 753, 'forget': 754, 'football': 755, 'shot': 756, 'behind': 757, 'child': 758, 'step': 759, 'chance': 760, 'starting': 761, 'interview': 762, 'killed': 763, 'movies': 764, 'beat': 765, 'door': 766, 'low': 767, 'bb18': 768, 'weak': 769, 'died': 770, 'dear': 771, 'awesome': 772, 'missed': 773, 'bet': 774, 'easy': 775, 'cool': 776, 'grateful': 777, 'sense': 778, 'yo': 779, 'perfect': 780, 'due': 781, 're': 782, 'internet': 783, 'red': 784, 'blood': 785, 'air': 786, 'tells': 787, 'challenges': 788, 'victory': 789, 'fast': 790, 'pick': 791, 'hot': 792, 'paid': 793, 'cannot': 794, 'set': 795, 'lives': 796, 'realize': 797, 'business': 798, 'racism': 799, 'brown': 800, 'saturday': 801, 'favorite': 802, 'safe': 803, 'kid': 804, 'alone': 805, 'form': 806, 'hillary': 807, 'months': 808, 'dad': 809, 'idea': 810, 'mine': 811, 'cops': 812, 'towards': 813, 'brother': 814, 'turned': 815, 'series': 816, 'indian': 817, 'move': 818, \"it'll\": 819, 'lady': 820, 'happens': 821, '17': 822, 'v': 823, 'send': 824, 'united': 825, 'clear': 826, 'later': 827, 'arms': 828, 'somebody': 829, 'respect': 830, 'knowing': 831, 'match': 832, 'pain': 833, 'race': 834, '2016': 835, 'children': 836, 'walk': 837, 'gun': 838, 'speech': 839, 'cant': 840, 'supposed': 841, 'swear': 842, 'dying': 843, 'teams': 844, 'broken': 845, 'longer': 846, 'cold': 847, 'loving': 848, 'parents': 849, 'holding': 850, 'biggest': 851, 'inside': 852, 'huff': 853, 'drunk': 854, 'pessimist': 855, 'coffee': 856, 'boys': 857, 'extra': 858, 'fine': 859, 't': 860, 'following': 861, 'proud': 862, 'mood': 863, 'dropped': 864, 'problems': 865, 'pak': 866, 'reading': 867, 'stand': 868, 'cover': 869, 'random': 870, '0': 871, 'mirth': 872, 'whatever': 873, 'road': 874, 'college': 875, 'wtf': 876, 'question': 877, 'drop': 878, 'date': 879, 'sit': 880, 'john': 881, 'save': 882, '100': 883, 'racist': 884, 'meet': 885, 'stuck': 886, 'americans': 887, 'pizza': 888, 'rooney': 889, 'anymore': 890, 'haunt': 891, 'rn': 892, 'texans': 893, 'terrific': 894, 'matter': 895, 'smh': 896, 'definitely': 897, 'dm': 898, 'moving': 899, 'provoke': 900, 'candice': 901, 'attention': 902, 'sulk': 903, 'depress': 904, 'dismal': 905, 'ages': 906, 'na': 907, 'scary': 908, 'welcome': 909, 'lovely': 910, 'store': 911, 'cute': 912, 'loves': 913, 'o': 914, 'positive': 915, 'balls': 916, 'e': 917, 'able': 918, \"we've\": 919, 'fight': 920, 'starts': 921, 'bill': 922, 'spent': 923, 'trust': 924, 'single': 925, 'attempt': 926, 'charlotte': 927, '11': 928, 'card': 929, 'age': 930, 'taken': 931, 'looked': 932, 'worried': 933, 'mom': 934, 'grow': 935, 'three': 936, 'ex': 937, 'player': 938, 'don': 939, 'blame': 940, 'bored': 941, 'completely': 942, 'woke': 943, 'crap': 944, 'nights': 945, 'hi': 946, 'nd': 947, 'anyway': 948, 'exactly': 949, 'yr': 950, 'hesitate': 951, 'nicole': 952, 'resentment': 953, 'sort': 954, 'tiff': 955, 'kik': 956, 'grieve': 957, 'changing': 958, 'tip': 959, 'present': 960, 'across': 961, 'hahaha': 962, 'bro': 963, 'enjoy': 964, 'north': 965, 'winning': 966, 'mate': 967, 'check': 968, 'loved': 969, 'green': 970, 'round': 971, 'ones': 972, 'ticket': 973, 'weather': 974, 'church': 975, 'foot': 976, 'draw': 977, 'bunch': 978, 'update': 979, 'likes': 980, 'cross': 981, 'weekend': 982, 'negative': 983, \"hasn't\": 984, 'bitch': 985, 'dead': 986, 'shut': 987, 'posted': 988, 'app': 989, 'blacks': 990, 'running': 991, 'answer': 992, 'reality': 993, 'turns': 994, 'lies': 995, 'comments': 996, 'bloody': 997, \"shouldn't\": 998, 'radio': 999, 'ugh': 1000, 'nap': 1001, 'learn': 1002, 'jesus': 1003, 'issues': 1004, 'usa': 1005, 'hoping': 1006, 'sister': 1007, 'alarming': 1008, 'destroy': 1009, 'nor': 1010, \"who's\": 1011, 'agree': 1012, 'deal': 1013, 'action': 1014, 'political': 1015, 'fuckin': 1016, 'ive': 1017, 'incense': 1018, 'journey': 1019, 'frowning': 1020, 'absolute': 1021, 'course': 1022, 'points': 1023, 'letting': 1024, 'often': 1025, 'sitting': 1026, 'simply': 1027, 'dumb': 1028, 'near': 1029, 'val': 1030, 'tickets': 1031, 'along': 1032, 'voice': 1033, 'worth': 1034, 'won': 1035, 'held': 1036, 'version': 1037, 'fix': 1038, 'pre': 1039, 'color': 1040, 'conversation': 1041, 'decide': 1042, 'giving': 1043, 'speak': 1044, 'chris': 1045, 'light': 1046, 'character': 1047, 'response': 1048, 'key': 1049, 'dreams': 1050, 'stars': 1051, 'obama': 1052, 'stopped': 1053, 'sir': 1054, 'shooting': 1055, 'normal': 1056, 'shitty': 1057, 'annoyed': 1058, 'fright': 1059, 'keeps': 1060, 'sucks': 1061, 'seem': 1062, 'luck': 1063, 'obviously': 1064, 'issue': 1065, 'id': 1066, 'btw': 1067, 'silence': 1068, 'bout': 1069, 'article': 1070, 'mins': 1071, 'learning': 1072, 'deep': 1073, 'pitch': 1074, 'facts': 1075, 'knew': 1076, 'penny': 1077, 'cup': 1078, 'process': 1079, 'calling': 1080, 'somewhere': 1081, 'losing': 1082, 'games': 1083, 'shall': 1084, 'website': 1085, 'blessed': 1086, 'despite': 1087, 'choose': 1088, 'delivered': 1089, 'hungry': 1090, 'surprised': 1091, 'simple': 1092, 'needed': 1093, 'complete': 1094, 'youtube': 1095, 'memories': 1096, 'nhe': 1097, 'final': 1098, 'fucked': 1099, 'promise': 1100, 'nation': 1101, 'couple': 1102, 'looting': 1103, 'af': 1104, 'everybody': 1105, \"'s\": 1106, 'himself': 1107, 'treat': 1108, 'upside': 1109, 'evil': 1110, 'possible': 1111, 'mother': 1112, 'optimist': 1113, 'pro': 1114, 'office': 1115, 'group': 1116, 'lie': 1117, 'company': 1118, 'confused': 1119, '1st': 1120, 'writing': 1121, 'drink': 1122, 'spider': 1123, 'sky': 1124, 'community': 1125, 'piece': 1126, 'apparently': 1127, 'keeping': 1128, 'piss': 1129, 'nearly': 1130, 'finished': 1131, 'jump': 1132, 'terrorist': 1133, 'fam': 1134, 'fail': 1135, 'drive': 1136, 'president': 1137, 'reply': 1138, 'unga': 1139, 'express': 1140, 'zero': 1141, 'difference': 1142, 'leadership': 1143, 'sex': 1144, 'intimidate': 1145, 'changed': 1146, 'network': 1147, 'sent': 1148, 'feet': 1149, 'protest': 1150, 'till': 1151, 'campaign': 1152, 'followers': 1153, 'leaves': 1154, 'ball': 1155, 'milk': 1156, 'nails': 1157, 'mr': 1158, 'irate': 1159, '40': 1160, 'l': 1161, 'growl': 1162, 'son': 1163, 'showing': 1164, 'flight': 1165, 'affliction': 1166, 'melancholy': 1167, 'hurts': 1168, 'meant': 1169, 'however': 1170, 'ways': 1171, 'alive': 1172, 'shower': 1173, 'wearing': 1174, 'goals': 1175, 'clean': 1176, 'spot': 1177, '14': 1178, 'paper': 1179, 'opened': 1180, 'ride': 1181, 'deserve': 1182, 'current': 1183, 'strength': 1184, 'known': 1185, 'cheerfulness': 1186, 'above': 1187, 'leads': 1188, 'spirit': 1189, 'begin': 1190, 'entire': 1191, 'michelle': 1192, 'upon': 1193, 'hearing': 1194, 'everyday': 1195, \"he'll\": 1196, 'greatest': 1197, 'expected': 1198, 'picture': 1199, 'assume': 1200, 'ha': 1201, 'debate': 1202, 'whether': 1203, 'mark': 1204, 'decision': 1205, 'double': 1206, '22': 1207, 'block': 1208, 'mention': 1209, 'continue': 1210, 'russia': 1211, \"'oh\": 1212, 'ahs': 1213, 'muslims': 1214, 'exist': 1215, 'rock': 1216, 'gives': 1217, 'based': 1218, 'faith': 1219, 'plan': 1220, 'typical': 1221, 'ugly': 1222, 'shows': 1223, 'sat': 1224, 'bought': 1225, 'lets': 1226, 'shame': 1227, 'wild': 1228, 'soft': 1229, 'kick': 1230, 'walking': 1231, 'acting': 1232, 'carry': 1233, '25': 1234, 'uk': 1235, 'busy': 1236, 'violence': 1237, 'including': 1238, 'dry': 1239, 'lack': 1240, 'twice': 1241, 'harm': 1242, 'disabled': 1243, 'bake': 1244, 'doom': 1245, 'broke': 1246, 'threat': 1247, 'fearing': 1248, 'father': 1249, 'pop': 1250, 'lately': 1251, 'election': 1252, 'un': 1253, 'trash': 1254, 'halloween': 1255, 'slow': 1256, 'booked': 1257, 'videos': 1258, 'convinced': 1259, 'british': 1260, 'middle': 1261, 'main': 1262, 'questions': 1263, 'bringing': 1264, 'leaving': 1265, 'product': 1266, 'sunday': 1267, 'born': 1268, 'interesting': 1269, 'jack': 1270, 'photo': 1271, '3rd': 1272, 'chill': 1273, 'nobody': 1274, 'touch': 1275, 'failure': 1276, 'received': 1277, 'usually': 1278, 'system': 1279, '2nd': 1280, 'c': 1281, 'pull': 1282, 'asleep': 1283, 'wear': 1284, 'sign': 1285, 'tantrums': 1286, 'em': 1287, 'irritation': 1288, 'annoying': 1289, 'innocent': 1290, 'holiday': 1291, 'pic': 1292, 'animosity': 1293, 'kitchen': 1294, 'manchester': 1295, 'freaking': 1296, '23': 1297, 'filled': 1298, 'share': 1299, 'constantly': 1300, 'wednesday': 1301, 'content': 1302, 'wishing': 1303, 'whenever': 1304, 'training': 1305, 'sun': 1306, 'recent': 1307, 'yep': 1308, 'blue': 1309, 'thy': 1310, 'juggle': 1311, '…': 1312, 'everywhere': 1313, 'ability': 1314, '50': 1315, 'jubilant': 1316, 'bottle': 1317, 'folks': 1318, 'join': 1319, 'replaced': 1320, 'cats': 1321, 'four': 1322, 'ill': 1323, 'peter': 1324, 'asking': 1325, 'helping': 1326, 'wine': 1327, 'became': 1328, 'toward': 1329, 'dick': 1330, 'health': 1331, 'telling': 1332, 'download': 1333, 'jaunty': 1334, 'g': 1335, 'thoughts': 1336, 'view': 1337, 'band': 1338, 'statement': 1339, \"ni'm\": 1340, '16': 1341, 'appreciate': 1342, 'upset': 1343, 'policy': 1344, 'mighty': 1345, 'channel': 1346, 'record': 1347, 'justice': 1348, 'control': 1349, 'quit': 1350, 'meeting': 1351, 'bag': 1352, 'calm': 1353, 'account': 1354, 'number': 1355, 'wind': 1356, 'p': 1357, 'prices': 1358, 'doctor': 1359, 'parking': 1360, 'mouth': 1361, \"they'll\": 1362, 'struggle': 1363, 'public': 1364, 'dating': 1365, 'bs': 1366, 'protests': 1367, 'stress': 1368, 'research': 1369, 'otherwise': 1370, 'wished': 1371, 'itself': 1372, 'taste': 1373, 'source': 1374, 'challenge': 1375, 'brought': 1376, 'fake': 1377, 'feelings': 1378, 'nah': 1379, 'defending': 1380, \"someone's\": 1381, 'stomach': 1382, 'immediately': 1383, 'total': 1384, 'pants': 1385, 'laughs': 1386, 'checked': 1387, 'clown': 1388, 'ran': 1389, 'names': 1390, 'anywhere': 1391, 'nawaz': 1392, 'fair': 1393, 'changes': 1394, 'exact': 1395, 'written': 1396, 'idk': 1397, 'september': 1398, 'islam': 1399, 'wall': 1400, 'constant': 1401, 'uber': 1402, 'ep': 1403, 'email': 1404, 'ordered': 1405, 'case': 1406, 'winter': 1407, 'handle': 1408, 'themselves': 1409, 'nso': 1410, 'rude': 1411, 'texas': 1412, 'restless': 1413, 'onto': 1414, 'smoke': 1415, 'mary': 1416, 'small': 1417, 'regret': 1418, 'raw': 1419, 'chair': 1420, 'inner': 1421, 'weird': 1422, 'shoes': 1423, 'celtic': 1424, 'tremendous': 1425, 'club': 1426, 'non': 1427, 'christmas': 1428, 'cunt': 1429, 'suppose': 1430, 'aggravate': 1431, 'pissed': 1432, 'rush': 1433, 'huh': 1434, 'midnight': 1435, 'tulsa': 1436, 'favourite': 1437, 'cheese': 1438, 'centre': 1439, 'songs': 1440, 'exhausted': 1441, 'ffs': 1442, 'catch': 1443, 'peoplelikemebecause': 1444, 'k': 1445, 'nif': 1446, 'hatred': 1447, 'bees': 1448, 'refund': 1449, 'fails': 1450, 'usual': 1451, 'brilliant': 1452, 'indeed': 1453, 'confident': 1454, 'noise': 1455, 'national': 1456, 'ty': 1457, 'discover': 1458, 'totally': 1459, 'hockey': 1460, 'mercy': 1461, 'summer': 1462, 'showed': 1463, 'easily': 1464, 'commercial': 1465, 'slowly': 1466, 'focus': 1467, 'realized': 1468, 'fashion': 1469, 'cat': 1470, 'spry': 1471, 'cam': 1472, 'canceled': 1473, 'ghost': 1474, 'clients': 1475, 'depressed': 1476, 'meal': 1477, 'individual': 1478, 'involved': 1479, 'pleasure': 1480, 'expression': 1481, 'paint': 1482, 'places': 1483, 'boots': 1484, 'choice': 1485, 'display': 1486, 'scene': 1487, 'plays': 1488, 'faced': 1489, 'sentence': 1490, 'george': 1491, 'gay': 1492, 'drinking': 1493, 'holds': 1494, 'nand': 1495, 'explain': 1496, 'breaks': 1497, 'create': 1498, 'fault': 1499, 'adult': 1500, 'secret': 1501, 'beginning': 1502, 'brave': 1503, 'pm': 1504, \"they've\": 1505, 'wins': 1506, 'joe': 1507, 'clinton': 1508, 'pussy': 1509, 'apart': 1510, 'street': 1511, 'ring': 1512, 'average': 1513, 'especially': 1514, 'project': 1515, 'pessimism': 1516, 'sleeping': 1517, 'legs': 1518, 'dashed': 1519, 'floor': 1520, 'gas': 1521, 'buoyant': 1522, \"you'd\": 1523, 'smart': 1524, 'attitude': 1525, 'note': 1526, 'heads': 1527, 'gen': 1528, 'yall': 1529, 'speaking': 1530, 'mode': 1531, 'iphone': 1532, 'concert': 1533, 'moved': 1534, 'bus': 1535, 'crash': 1536, 'carpet': 1537, 'lonely': 1538, 'dangerous': 1539, 'roommate': 1540, 'reverse': 1541, 'muslim': 1542, 'passed': 1543, 'opportunity': 1544, 'sept': 1545, 'keys': 1546, 'brain': 1547, 'empty': 1548, 'emoji': 1549, \"he'd\": 1550, 'brothers': 1551, '18': 1552, 'space': 1553, 'local': 1554, 'options': 1555, 'nno': 1556, 'sounds': 1557, 'driving': 1558, 'finish': 1559, 'dire': 1560, 'term': 1561, 'opinion': 1562, 'injustice': 1563, 'earth': 1564, 'punch': 1565, 'appearance': 1566, 'avoid': 1567, 'rich': 1568, 'unfortunately': 1569, 'study': 1570, 'blind': 1571, 'emails': 1572, 'kidding': 1573, 'allow': 1574, 'comfortable': 1575, 'access': 1576, 'majority': 1577, 'useless': 1578, 'nope': 1579, 'dinner': 1580, 'members': 1581, 'works': 1582, 'lit': 1583, 'bakewell': 1584, 'experiences': 1585, 'hath': 1586, 'mistake': 1587, 'refuse': 1588, 'chuckle': 1589, 'plenty': 1590, 'october': 1591, 'yay': 1592, 'deserves': 1593, 'add': 1594, 'shoot': 1595, 'putting': 1596, 'infuriate': 1597, 'sam': 1598, '13': 1599, 'personal': 1600, 'wife': 1601, 'instantly': 1602, 'lying': 1603, 'tolerance': 1604, 'practice': 1605, 'bb': 1606, 'rape': 1607, 'rip': 1608, 'seek': 1609, 'facebook': 1610, 'spend': 1611, 'sis': 1612, 'projection': 1613, 'major': 1614, 'awareness': 1615, 'burns': 1616, 'energy': 1617, 'cage': 1618, 'loss': 1619, 'dreary': 1620, 'advice': 1621, 'sees': 1622, 'crimes': 1623, 'quiet': 1624, 'clouded': 1625, 'star': 1626, 'forest': 1627, 'runs': 1628, 'fat': 1629, 'dishes': 1630, 'write': 1631, 'huge': 1632, 'crazy': 1633, 'planned': 1634, 'monday': 1635, 'eye': 1636, 'michael': 1637, 'ladies': 1638, \"'this\": 1639, 'min': 1640, 'ridiculous': 1641, 'flying': 1642, 'sports': 1643, 'currently': 1644, 'cake': 1645, 'colors': 1646, 'moon': 1647, '90': 1648, 'giggle': 1649, 'unknown': 1650, 'candles': 1651, 'tea': 1652, 'copy': 1653, 'eh': 1654, 'collect': 1655, 'buying': 1656, 'emotions': 1657, 'brings': 1658, 'switch': 1659, 'decided': 1660, 'ryan': 1661, 'mini': 1662, 'teeth': 1663, 'incredibly': 1664, 'certainly': 1665, 'aesthetically': 1666, 'bf': 1667, 'liked': 1668, 'hello': 1669, 'temper': 1670, 'pour': 1671, 'fingers': 1672, 'irony': 1673, 'walked': 1674, 'hang': 1675, 'vacation': 1676, 'suggest': 1677, 'william': 1678, 'return': 1679, 'tbh': 1680, 'facing': 1681, 'describe': 1682, 'effective': 1683, 'style': 1684, 'tribute': 1685, 'unless': 1686, 'nose': 1687, 'awkward': 1688, 'nme': 1689, 'books': 1690, 'twain': 1691, 'workout': 1692, 'pray': 1693, 'given': 1694, 'society': 1695, 'tour': 1696, 'heaven': 1697, 'coworker': 1698, 'pics': 1699, 'regular': 1700, 'relationship': 1701, 'bar': 1702, 'clowns': 1703, 'sold': 1704, 'lil': 1705, 'pastor': 1706, 'lead': 1707, 'tag': 1708, 'lucky': 1709, 'shift': 1710, 'bob': 1711, 'quick': 1712, 'willing': 1713, 'services': 1714, 'info': 1715, 'ten': 1716, 'wolf': 1717, 'doesnt': 1718, 'lip': 1719, 'million': 1720, 'per': 1721, 'comment': 1722, '70': 1723, 'throat': 1724, '24': 1725, 'seasons': 1726, 'allowed': 1727, 'tax': 1728, 'iraq': 1729, 'concerned': 1730, 'armed': 1731, 'ignorance': 1732, 'y': 1733, 'jersey': 1734, 'track': 1735, 'brad': 1736, 'humans': 1737, 'talks': 1738, 'security': 1739, 'shiver': 1740, 'murder': 1741, 'arrive': 1742, 'address': 1743, 'rights': 1744, 'global': 1745, 'position': 1746, 'smells': 1747, 'missing': 1748, 'crossed': 1749, 'elected': 1750, 'amount': 1751, 'flat': 1752, 'minus': 1753, 'role': 1754, 'refugee': 1755, 'argument': 1756, 'clearly': 1757, 'government': 1758, 'bands': 1759, 'kashmir': 1760, 'causing': 1761, 'force': 1762, 'freedom': 1763, 'tips': 1764, 'west': 1765, 'ham': 1766, 'fellow': 1767, 'hide': 1768, 'throw': 1769, 'traffic': 1770, 'righteous': 1771, 'ruining': 1772, 'fest': 1773, 'anti': 1774, 'false': 1775, 'spoke': 1776, 'they’re': 1777, 'firm': 1778, 'type': 1779, 'daunting': 1780, 'behavior': 1781, 'english': 1782, 'destroyed': 1783, 'jk': 1784, 'intimidated': 1785, 'rate': 1786, 'married': 1787, 'refugees': 1788, 'manager': 1789, 'gosh': 1790, 'shine': 1791, 'unbelievable': 1792, 'nthe': 1793, 'impossible': 1794, \"'the\": 1795, 'clock': 1796, 'voices': 1797, 'nigga': 1798, 'blocks': 1799, 'gaga': 1800, 'sue': 1801, 'cooked': 1802, 'picoftheday': 1803, 'fav': 1804, \"god's\": 1805, 'delete': 1806, \"should've\": 1807, 'kicking': 1808, 'niggas': 1809, 'learned': 1810, 'ice': 1811, 'heading': 1812, 'rain': 1813, 'coach': 1814, \"where's\": 1815, 'holy': 1816, 'bee': 1817, 'lunch': 1818, 'fume': 1819, 'turning': 1820, 'provocation': 1821, 'town': 1822, 'corrupt': 1823, \"me'\": 1824, 'ruffle': 1825, 'hrc': 1826, 'jokes': 1827, \"candice's\": 1828, 'accepted': 1829, 'displeasure': 1830, 'abt': 1831, 'bubble': 1832, 'relationships': 1833, 'cheeks': 1834, 'anybody': 1835, 'desolate': 1836, 'latest': 1837, 'cheap': 1838, 'harder': 1839, 'happening': 1840, 'boring': 1841, 'cure': 1842, 'earlier': 1843, 'arc': 1844, 'report': 1845, 'dejected': 1846, 'thats': 1847, 'm': 1848, 'table': 1849, '―': 1850, 'highlights': 1851, 'silly': 1852, 'dance': 1853, \"'cause\": 1854, 'congrats': 1855, 'female': 1856, 'holidays': 1857, 'hopefully': 1858, 'glasses': 1859, 'thisisus': 1860, 'happier': 1861, 'bday': 1862, 'endless': 1863, 'premiere': 1864, 'math': 1865, 'photos': 1866, 'xx': 1867, 'helpful': 1868, 'web': 1869, 'luv': 1870, 'hearts': 1871, 'tiny': 1872, 'expensive': 1873, 'fox': 1874, 'grass': 1875, 'sweden': 1876, 'answers': 1877, 'ahead': 1878, 'jimmy': 1879, 'wee': 1880, 'surely': 1881, 'students': 1882, 'hall': 1883, 'education': 1884, 'teaching': 1885, 'overtime': 1886, 'minute': 1887, 'shop': 1888, 'cable': 1889, 'opening': 1890, 'route': 1891, 'thursday': 1892, 'medicine': 1893, 'positivity': 1894, 'gift': 1895, 'banter': 1896, 'ignoring': 1897, 'performance': 1898, 'regardless': 1899, 'odds': 1900, 'genuinely': 1901, 'grand': 1902, 'lo': 1903, 'boss': 1904, 'sugar': 1905, 'incredible': 1906, 'older': 1907, 'lmfao': 1908, 'blocked': 1909, 'merriment': 1910, 'successful': 1911, 'depth': 1912, 'remains': 1913, 'specific': 1914, 'numbers': 1915, '26': 1916, 'lights': 1917, 'skin': 1918, 'finger': 1919, 'teacher': 1920, 'wet': 1921, 'offers': 1922, 'price': 1923, 'coincidence': 1924, 'pack': 1925, 'gutted': 1926, 'james': 1927, 'matt': 1928, 'anxious': 1929, 'warrior': 1930, 'christ': 1931, 'heavy': 1932, 'potential': 1933, 'talked': 1934, 'goodbye': 1935, 'details': 1936, 'liveliness': 1937, 'economic': 1938, 'johnson': 1939, 'russian': 1940, 'animals': 1941, 'large': 1942, 'prayers': 1943, 'basket': 1944, 'package': 1945, 'prayer': 1946, 'fallen': 1947, 'chances': 1948, 'adrenaline': 1949, 'react': 1950, 'famous': 1951, 'laws': 1952, \"it'd\": 1953, 'mostly': 1954, 'uses': 1955, 'loud': 1956, 'husband': 1957, 'expecting': 1958, 'actual': 1959, 'dat': 1960, 'created': 1961, 'smiles': 1962, 'score': 1963, 'wasted': 1964, 'suck': 1965, 'sales': 1966, 'pity': 1967, 'sushi': 1968, 'possibly': 1969, 'divided': 1970, 'language': 1971, 'determined': 1972, 'drinks': 1973, 'wave': 1974, 'window': 1975, 'data': 1976, 'figuring': 1977, 'frustrated': 1978, 'profile': 1979, 'h': 1980, 'pls': 1981, 'therapist': 1982, 'sexuality': 1983, 'ns': 1984, 'ny': 1985, 'voters': 1986, 'terrifying': 1987, 'ignored': 1988, 'dentist': 1989, 'revolting': 1990, 'code': 1991, 'fearful': 1992, 'worrying': 1993, 'freaked': 1994, 'whats': 1995, 'frightened': 1996, 'alternate': 1997, 'fit': 1998, 'barely': 1999, 'writers': 2000, 'butter': 2001, 'army': 2002, 'ghastly': 2003, 'student': 2004, 'university': 2005, 'ideas': 2006, 'offered': 2007, 'countries': 2008, 'fish': 2009, 'agent': 2010, 'somehow': 2011, 'basic': 2012, 'supporting': 2013, 'sensitive': 2014, 'pushing': 2015, 'donald': 2016, 'murdered': 2017, 'mum': 2018, 'teach': 2019, 'types': 2020, 'sets': 2021, 'finding': 2022, 'gratitude': 2023, 'subway': 2024, 'victims': 2025, 'st': 2026, 'appropriate': 2027, 'jose': 2028, 'sigh': 2029, 'doubt': 2030, 'covering': 2031, 'puns': 2032, 'meds': 2033, 'replace': 2034, 'dollars': 2035, 'fill': 2036, 'terms': 2037, 'danish': 2038, 'depths': 2039, 'via': 2040, 'la': 2041, 'you’re': 2042, 'animal': 2043, 'physical': 2044, 'monster': 2045, 'aid': 2046, 'interested': 2047, 'recently': 2048, 'stores': 2049, 'considered': 2050, 'strongly': 2051, 'windows': 2052, 'distrust': 2053, 'degree': 2054, 'joey': 2055, 'pressure': 2056, 'politics': 2057, 'coaching': 2058, 'defense': 2059, 'bits': 2060, 'drove': 2061, 'bigger': 2062, 'requires': 2063, 'calls': 2064, 'cares': 2065, 'atm': 2066, 'clothes': 2067, 'likely': 2068, 'artist': 2069, \"would've\": 2070, 'common': 2071, 'rules': 2072, 'result': 2073, 'desire': 2074, 'illusion': 2075, 'league': 2076, 'mel': 2077, 'silver': 2078, 'bullet': 2079, 'box': 2080, 'chase': 2081, 'november': 2082, 'de': 2083, 'naked': 2084, 'stadium': 2085, 'station': 2086, 'headed': 2087, 'wwe': 2088, 'hesitation': 2089, 'losers': 2090, 'rapper': 2091, 'universal': 2092, 'lines': 2093, 'park': 2094, 'pie': 2095, 'posting': 2096, 'tracking': 2097, 'suddenly': 2098, 'don’t': 2099, 'storm': 2100, 'placed': 2101, '500': 2102, 'outta': 2103, 'link': 2104, 'beings': 2105, 'chicken': 2106, 'buzzing': 2107, 'affront': 2108, 'cop': 2109, 'loose': 2110, 'crime': 2111, 'charlotteprotest': 2112, 'xbox': 2113, 'sudden': 2114, 'escape': 2115, \"you'\": 2116, 'adults': 2117, 'heat': 2118, 'board': 2119, 'yours': 2120, 'reaction': 2121, 'further': 2122, 'chat': 2123, 'land': 2124, 'personally': 2125, 'offensive': 2126, 'standing': 2127, 'indignant': 2128, 'sight': 2129, 'overwhelming': 2130, '3x': 2131, 'angrily': 2132, \"'that\": 2133, 'asian': 2134, 'perception': 2135, 'momma': 2136, 'stories': 2137, 'sharing': 2138, 'machine': 2139, 'chronic': 2140, 'shirt': 2141, 'houston': 2142, 'visit': 2143, 'sing': 2144, 'lay': 2145, 'paying': 2146, 'funeral': 2147, 'thousands': 2148, 'matches': 2149, 'moping': 2150, 'disheartened': 2151, 'damage': 2152, 'liars': 2153, '48': 2154, 'album': 2155, 'msm': 2156, 'marcos': 2157, \"life's\": 2158, 'inconsolable': 2159, 'mess': 2160, 'murky': 2161, 'whilst': 2162, 'editing': 2163, 'art': 2164, 'survivor': 2165, 'recovery': 2166, \"weren't\": 2167, 'slightly': 2168, 'hotel': 2169, '8pm': 2170, 'hopelessness': 2171, 'co': 2172, 'blithe': 2173, 'posts': 2174, 'disappointed': 2175, 'girlfriends': 2176, 'blow': 2177, '21': 2178, 'karma': 2179, 'thee': 2180, 'talkin': 2181, 'covered': 2182, 'nbut': 2183, \"here's\": 2184, 'oct': 2185, 'evolution': 2186, 'wash': 2187, 'charge': 2188, 'faux': 2189, 'smell': 2190, 'atlanta': 2191, 'whoever': 2192, 'seconds': 2193, 'hut': 2194, 'gold': 2195, 'japanese': 2196, 'wks': 2197, '1000': 2198, 'blast': 2199, 'offer': 2200, 'accounts': 2201, 'thankyou': 2202, 'sunny': 2203, 'tumblr': 2204, '45': 2205, 'dollar': 2206, 'whose': 2207, 'relief': 2208, 'fantastic': 2209, 'award': 2210, 'themed': 2211, 'australia': 2212, 'aw': 2213, 'ps': 2214, 'distracting': 2215, 'pun': 2216, 'gladness': 2217, 'pile': 2218, 'salty': 2219, 'file': 2220, 'cried': 2221, 'tom': 2222, 'oregon': 2223, 'continues': 2224, 'creative': 2225, 'nephew': 2226, 'nut': 2227, 'marks': 2228, 'basically': 2229, 'adorable': 2230, 'daughter': 2231, 'neighbor': 2232, 'dancing': 2233, 'kindness': 2234, 'yoga': 2235, 'breakfast': 2236, 'shawty': 2237, '2014': 2238, 'beats': 2239, 'birds': 2240, 'quotesoup': 2241, 'wondering': 2242, 'risk': 2243, 'swim': 2244, 'dudes': 2245, '2day': 2246, 'florida': 2247, 'spying': 2248, 'gained': 2249, 'height': 2250, 'convo': 2251, 'inspiration': 2252, 'wise': 2253, 'breaking': 2254, 'fancy': 2255, 'helps': 2256, 'disrespect': 2257, 'patton': 2258, 'hug': 2259, 'dunno': 2260, 'nshe': 2261, 'breathe': 2262, 'root': 2263, 'autumn': 2264, 'among': 2265, 'socialmedia': 2266, 'queen': 2267, 'sixth': 2268, 'nto': 2269, 'nin': 2270, 'oil': 2271, 'digging': 2272, 'eyebrows': 2273, 'memphis': 2274, 'hopeful': 2275, 'nj': 2276, 'purpose': 2277, 'target': 2278, 'coz': 2279, 'handed': 2280, 'ended': 2281, 'mon': 2282, 'magazines': 2283, 'strangers': 2284, 'official': 2285, 'honesty': 2286, 'decent': 2287, 'kurt': 2288, 'polish': 2289, 'hitting': 2290, 'rap': 2291, 'french': 2292, 'picked': 2293, 'wisdom': 2294, 'pool': 2295, 'insurance': 2296, 'messed': 2297, 'apprehension': 2298, 'button': 2299, 'honest': 2300, 'healthy': 2301, '“the': 2302, 'effects': 2303, 'herself': 2304, 'achieve': 2305, 'n―': 2306, 'toddler': 2307, 'hole': 2308, 'apples': 2309, \"week's\": 2310, 'blake': 2311, 'nthat': 2312, 'ukulele': 2313, 'welll': 2314, 'range': 2315, 'itching': 2316, 'battle': 2317, 'instagram': 2318, 'shines': 2319, 'misery': 2320, 'none': 2321, 'provide': 2322, 'afford': 2323, 'pig': 2324, \"today's\": 2325, 'cos': 2326, 'someday': 2327, 'yelling': 2328, 'direction': 2329, 'minds': 2330, 'option': 2331, 'excitement': 2332, 'strange': 2333, 'pats': 2334, 'chelsea': 2335, 'legit': 2336, 'treated': 2337, 'method': 2338, 'episodes': 2339, 'reporting': 2340, 'donation': 2341, 'saved': 2342, 'steve': 2343, 'utd': 2344, 'fi': 2345, 'hoe': 2346, 'recording': 2347, 'bless': 2348, 'meanwhile': 2349, 'halfway': 2350, 'bare': 2351, 'thread': 2352, 'trans': 2353, 'drug': 2354, 'f': 2355, 'bear': 2356, 'haters': 2357, 'cost': 2358, 'afghanistan': 2359, 'passing': 2360, 'pages': 2361, 'bt': 2362, 'emotional': 2363, 'forth': 2364, 'ruins': 2365, 'italian': 2366, 'drowning': 2367, 'havent': 2368, 'uncontrollable': 2369, 'suicidal': 2370, 'tattoo': 2371, 'falling': 2372, 'gathering': 2373, 'poop': 2374, 'several': 2375, 'daily': 2376, 'riots': 2377, 'nowadays': 2378, 'london': 2379, 'physically': 2380, 'anatomy': 2381, 'severe': 2382, 'camps': 2383, 'neighborhood': 2384, 'praying': 2385, 'sleepless': 2386, 'steal': 2387, 'coworkers': 2388, 'scroll': 2389, 'madness': 2390, 'woods': 2391, 'flipping': 2392, 'festival': 2393, 'hubby': 2394, 'worked': 2395, 'govt': 2396, 'ruin': 2397, 'childhood': 2398, 'gotten': 2399, 'coping': 2400, 'spray': 2401, 'victim': 2402, 'matters': 2403, 'onus': 2404, 'uri': 2405, 'flower': 2406, 'tries': 2407, 'rioters': 2408, 'anniversary': 2409, 'apartment': 2410, 'thinks': 2411, 'excuse': 2412, 'meter': 2413, 'follows': 2414, 'hospital': 2415, 'waters': 2416, \"sharif's\": 2417, 'sponsoring': 2418, 'shudder': 2419, 'leader': 2420, 'dr': 2421, 'cantsleep': 2422, 'complain': 2423, 'generation': 2424, 'massiah': 2425, 'absurd': 2426, 'groups': 2427, 'mac': 2428, 'houses': 2429, 'timid': 2430, 'mourinho': 2431, 'candy': 2432, 'cases': 2433, 'democracy': 2434, 'supports': 2435, 'leo': 2436, 'simon': 2437, 'thru': 2438, 'canada': 2439, 'dogs': 2440, 'prove': 2441, 'vile': 2442, 'candidate': 2443, 'higher': 2444, 'island': 2445, 'birth': 2446, 'frustration': 2447, 'remain': 2448, 'male': 2449, 'guns': 2450, 'plz': 2451, 'cray': 2452, 'hmm': 2453, 'nwe': 2454, 'didnt': 2455, 'sleepy': 2456, 'shoutout': 2457, \"we'll\": 2458, 'worship': 2459, 'session': 2460, 'considering': 2461, 'overnight': 2462, 'prejudice': 2463, 'quality': 2464, 'embarrassing': 2465, 'bayern': 2466, 'propaganda': 2467, 'crushes': 2468, 'talented': 2469, 'factor': 2470, 'status': 2471, 'pitt': 2472, 'acc': 2473, 'irrelevant': 2474, 'focusing': 2475, 'wing': 2476, 'artists': 2477, 'begins': 2478, 'although': 2479, 'similar': 2480, 'passion': 2481, 'coverage': 2482, 'wifi': 2483, 'painting': 2484, 'results': 2485, 'spain': 2486, 'becoming': 2487, 'williams': 2488, 'jr': 2489, 'affair': 2490, 'criticize': 2491, 'gameface': 2492, 'ortiz': 2493, 'organization': 2494, 'visa': 2495, 'cloud': 2496, 'protection': 2497, 'compared': 2498, 'darkness': 2499, 'verses': 2500, 'buses': 2501, 'sutton': 2502, 'net': 2503, 'spam': 2504, 'manages': 2505, 'nfl': 2506, 'patronus': 2507, 'jobs': 2508, \"'i'm\": 2509, 'pride': 2510, 'division': 2511, 'value': 2512, 'peanut': 2513, 'market': 2514, 'concept': 2515, 'gotham': 2516, 'designer': 2517, 'author': 2518, 'gear': 2519, 'tart': 2520, 'tastes': 2521, 'liar': 2522, 'nthis': 2523, 'blessings': 2524, 'succeed': 2525, 'taught': 2526, 'scored': 2527, 'text': 2528, 'dalai': 2529, 'lama': 2530, 'refs': 2531, 'favor': 2532, 'fifa': 2533, 'polished': 2534, 'regretting': 2535, 'limited': 2536, 'field': 2537, 'push': 2538, 'career': 2539, 'ground': 2540, 'thousand': 2541, 'comic': 2542, 'theme': 2543, 'events': 2544, 'haunting': 2545, 'helped': 2546, 'reach': 2547, 'unique': 2548, 'steak': 2549, 'beer': 2550, 'atmosphere': 2551, 'jumped': 2552, 'butt': 2553, 'pulled': 2554, 'equipment': 2555, 'buck': 2556, 'promising': 2557, 'aware': 2558, 'juz': 2559, 'amazon': 2560, 'loses': 2561, 'faster': 2562, 'cruel': 2563, 'machines': 2564, 'dislike': 2565, \"nicole's\": 2566, 'ea': 2567, 'cleaning': 2568, 'iphones': 2569, \"she'll\": 2570, 'remove': 2571, 'bridges': 2572, 'fave': 2573, 'miles': 2574, 'scorned': 2575, 'sofas': 2576, 'blm': 2577, 'ios10': 2578, 'jealous': 2579, 'ruined': 2580, 'general': 2581, 'certain': 2582, 'threw': 2583, 'cancelled': 2584, 'killing': 2585, 'conditioned': 2586, 'beneath': 2587, 'swung': 2588, 'pieces': 2589, 'inflame': 2590, 'passage': 2591, 'ignorant': 2592, 'ignore': 2593, 'candace': 2594, 'recommended': 2595, 'disappointing': 2596, 'jc': 2597, 'vic': 2598, 'imo': 2599, 'bridgette': 2600, 'ourselves': 2601, 'honor': 2602, 'corbyn': 2603, '19': 2604, 'fuel': 2605, 'baptist': 2606, 'mix': 2607, 'putin': 2608, 'industry': 2609, 'indignation': 2610, 'suffer': 2611, 'fb': 2612, 'population': 2613, 'tape': 2614, 'nick': 2615, 'christie': 2616, 'elway': 2617, 'building': 2618, 'disappointment': 2619, 'stepped': 2620, 'seat': 2621, 'culture': 2622, 'reaches': 2623, 'nc': 2624, 'pointed': 2625, 'relevant': 2626, 'yellow': 2627, 'distraught': 2628, 'rappers': 2629, 'kept': 2630, 'waited': 2631, 'pigs': 2632, 'scuffs': 2633, 'rt': 2634, '32': 2635, 'forgive': 2636, 'sisters': 2637, 'added': 2638, 'wasp': 2639, 'rent': 2640, 'growing': 2641, 'orange': 2642, 'mall': 2643, 'kikme': 2644, 'luckily': 2645, 'ima': 2646, 'brutality': 2647, 'sadden': 2648, 'damper': 2649, 'despondent': 2650, 'mope': 2651, 'understanding': 2652, 'arriving': 2653, 'responsible': 2654, 'berry': 2655, 'prepared': 2656, 'sedate': 2657, 'housing': 2658, 'nasty': 2659, 'awake': 2660, 'customers': 2661, 'deliver': 2662, 'mixed': 2663, 'flt': 2664, 'managers': 2665, 'features': 2666, 'worries': 2667, 'trigger': 2668, 'heaviness': 2669, 'tony': 2670, 'clue': 2671, 'pass': 2672, 'size': 2673, 'dc': 2674, 'cab': 2675, 'successes': 2676, 'bottom': 2677, 'sydney': 2678, 'stressed': 2679, 'solemn': 2680, 'uncle': 2681, 'beating': 2682, 'realising': 2683, 'meaning': 2684, 'ship': 2685, 'weakness': 2686, 'wasnt': 2687, 'somber': 2688, 'carrick': 2689, 'wallet': 2690, 'gate': 2691, 'apple': 2692, 'lover': 2693, 'angelina': 2694, \"good'\": 2695, 'bomb': 2696, 'z': 2697, 'perhaps': 2698, 'except': 2699, 'idiot': 2700, \"how's\": 2701, 'jazz': 2702, 'hunger': 2703, 'grind': 2704, 'cuddles': 2705, 'sucker': 2706, 'drawing': 2707, 'highly': 2708, 'pal': 2709, 'cooking': 2710, 'pot': 2711, 'perfume': 2712, 'sending': 2713, 'amy': 2714, 'sharpened': 2715, 'nwhat': 2716, 'midst': 2717, \"ya'll\": 2718, 'tf': 2719, 'tryna': 2720, 'goddamn': 2721, 'insta': 2722, 'hurting': 2723, 'gaming': 2724, 'planet': 2725, 'autocorrect': 2726, 'suprised': 2727, 'eventually': 2728, 'epic': 2729, 'hitler': 2730, 'cookies': 2731, 'rolls': 2732, 'tamra': 2733, 'arrest': 2734, 'passenger': 2735, 'melbourne': 2736, 'appointment': 2737, 'acceptable': 2738, 'officer': 2739, 'neither': 2740, 'celebrate': 2741, 'steele': 2742, 'supporters': 2743, 'build': 2744, 'mixing': 2745, 'migraine': 2746, 'hangover': 2747, 'stood': 2748, 'gad': 2749, 'heartbreaking': 2750, 'exterior': 2751, 'uplift': 2752, 'neighbours': 2753, 'invest': 2754, '25k': 2755, 'joyed': 2756, 'struggling': 2757, 'skittles': 2758, 'frustrating': 2759, 'cmon': 2760, 'szn': 2761, 'laughed': 2762, 'thoughtful': 2763, 'reached': 2764, 'bridget': 2765, 'sour': 2766, 'toronto': 2767, 'firstdayoffall': 2768, 'retweeted': 2769, 'jerk': 2770, 'enjoying': 2771, 'professor': 2772, 'hahahaha': 2773, \"tonight's\": 2774, 'ah': 2775, 'kardashian': 2776, 'thenicebot': 2777, 'wink': 2778, 'da': 2779, 'disney': 2780, 'thin': 2781, 'ot': 2782, 'period': 2783, 'rewatching': 2784, 'impressive': 2785, 'spoken': 2786, 'vulnerable': 2787, 'xmas': 2788, 'mrs': 2789, 'productive': 2790, 'charlie': 2791, 'deeply': 2792, 'miami': 2793, 'fr': 2794, 'romance': 2795, 'inspire': 2796, 'punny': 2797, 'closer': 2798, 'surfing': 2799, 'hooked': 2800, 'slip': 2801, 'kisses': 2802, \"'to\": 2803, 'library': 2804, 'tfw': 2805, 'poured': 2806, 'riding': 2807, 'blew': 2808, 'comedy': 2809, 'fond': 2810, 'fulfilled': 2811, 'ntoday': 2812, 'modicum': 2813, 'yup': 2814, 'recipe': 2815, 'unbelievably': 2816, 'sticking': 2817, 'pouring': 2818, 'blessing': 2819, 'wobble': 2820, 'realise': 2821, 'scrum': 2822, 'beef': 2823, 'hip': 2824, 'wit': 2825, 'aww': 2826, 'named': 2827, 'ted': 2828, 'screams': 2829, 'hips': 2830, 'wetter': 2831, \"dry'\": 2832, 'clouds': 2833, 'contestants': 2834, 'tilting': 2835, 'cook': 2836, 'wide': 2837, 'israel': 2838, 'vibes': 2839, 'aside': 2840, 'mustacheharbor': 2841, 'xd': 2842, 'glass': 2843, 'reveal': 2844, 'slide': 2845, 'thighs': 2846, 'leaning': 2847, 'def': 2848, 'theory': 2849, 'blend': 2850, 'patience': 2851, 'mirror': 2852, 'judge': 2853, 'mountain': 2854, 'reminder': 2855, 'confidence': 2856, 'kiss': 2857, 'maintain': 2858, 'rat': 2859, 'painful': 2860, 'terrified': 2861, 'guts': 2862, 'pulls': 2863, 'joviality': 2864, 'protect': 2865, 'weapon': 2866, 'documentary': 2867, \"70's\": 2868, 'yourselves': 2869, 'master': 2870, 'romans': 2871, 'expressed': 2872, 'ye': 2873, 'ends': 2874, 'ustinov': 2875, 'anticipating': 2876, 'wicked': 2877, 'pervert': 2878, 'proverbs': 2879, 'babies': 2880, 'press': 2881, 'pakis': 2882, 'outfit': 2883, 'asks': 2884, 'nerve': 2885, 'restaurant': 2886, 'angel': 2887, 'suspect': 2888, '“set': 2889, 'emotion': 2890, 'supper': 2891, 'weiner': 2892, 'revelation': 2893, 'texting': 2894, 'habit': 2895, 'thumbs': 2896, 'princess': 2897, 'chewing': 2898, 'mid': 2899, 'starving': 2900, 'parties': 2901, 'hollywood': 2902, 'yell': 2903, 'garbage': 2904, \"else's\": 2905, 'ought': 2906, 'finds': 2907, 'levels': 2908, 'truck': 2909, 'lesson': 2910, '27': 2911, 'lock': 2912, '•': 2913, 'hysterical': 2914, 'cast': 2915, 'kitten': 2916, 'aged': 2917, 'assured': 2918, 'threesome': 2919, 'discuss': 2920, 'stronger': 2921, 'brand': 2922, 'finale': 2923, 'bass': 2924, 'northampton': 2925, \"people's\": 2926, 'cluck': 2927, 'sci': 2928, 'shots': 2929, 'tend': 2930, 'suffering': 2931, 'pictures': 2932, 'characters': 2933, 'mt': 2934, 'design': 2935, 'remind': 2936, 'minority': 2937, 'owner': 2938, 'misogyny': 2939, 'liking': 2940, 'phones': 2941, 'simultaneously': 2942, 'temperament': 2943, 'extremely': 2944, 'attacked': 2945, 'gifs': 2946, 'messages': 2947, 'bushes': 2948, 'soy': 2949, 'noah': 2950, 'genocide': 2951, 'chuck': 2952, 'fees': 2953, 'proper': 2954, 'dt': 2955, 'release': 2956, 'inquiries': 2957, 'brexit': 2958, 'economy': 2959, 'prick': 2960, '2am': 2961, 'dates': 2962, 'pathetic': 2963, 'secretary': 2964, 'kerry': 2965, 'devil': 2966, 'abysmal': 2967, 'grumpy': 2968, \"when's\": 2969, 'icing': 2970, 'np': 2971, 'nu': 2972, 'properly': 2973, 'surrounded': 2974, 'trouble': 2975, 'rev': 2976, 'blowing': 2977, 'respond': 2978, 'everytime': 2979, 'helicopter': 2980, 'crew': 2981, 'terrorists': 2982, 'weekly': 2983, 'ban': 2984, 'cycle': 2985, 'nlikewise': 2986, 'bridge': 2987, 'tt': 2988, 'deleted': 2989, 'exam': 2990, 'youre': 2991, 'fashioned': 2992, 'china': 2993, 'hairy': 2994, 'safety': 2995, '3am': 2996, 'forced': 2997, \"now'\": 2998, 'bin': 2999, 'laden': 3000, 'pumped': 3001, 'submit': 3002, 'background': 3003, 'suffered': 3004, 'stolen': 3005, \"everyone's\": 3006, 'blooded': 3007, 'signed': 3008, 'selection': 3009, 'fought': 3010, 'realistic': 3011, '300': 3012, 'stealing': 3013, 'films': 3014, 'preaching': 3015, 'epicentre': 3016, 'forcing': 3017, 'factory': 3018, 'isis': 3019, 'nyc': 3020, 'appears': 3021, 'searching': 3022, 'sharif': 3023, \"'don't\": 3024, 'silent': 3025, 'repeat': 3026, 'situations': 3027, 'spread': 3028, 'fears': 3029, 'freshers': 3030, 'shes': 3031, 'scott': 3032, 'daft': 3033, 'bills': 3034, 'visits': 3035, 'violations': 3036, 'terrorstatepak': 3037, 'border': 3038, 'solution': 3039, 'checking': 3040, 'danger': 3041, \"terrorist's\": 3042, 'switched': 3043, 'massive': 3044, 'continuously': 3045, 'boggart': 3046, 'til': 3047, 'courage': 3048, 'referred': 3049, 'denial': 3050, 'dms': 3051, 'chip': 3052, 'balochistan': 3053, 'civil': 3054, 'radical': 3055, 'islamic': 3056, 'requirements': 3057, 'kit': 3058, 'announce': 3059, 'beds': 3060, 'roots': 3061, 'sea': 3062, 'detox': 3063, 'nawazsharif': 3064, 'announced': 3065, 'pale': 3066, 'votes': 3067, 'draft': 3068, 'cutting': 3069, 'zombie': 3070, 'addition': 3071, 'fiction': 3072, 'semester': 3073, 'airline': 3074, 'worstairline': 3075, 'march': 3076, 'loosing': 3077, 'openly': 3078, 'pitched': 3079, 'lived': 3080, 'coaches': 3081, 'landscape': 3082, 'purchased': 3083, 'freshman': 3084, 'chavs': 3085, 'speaks': 3086, 'bug': 3087, 'attended': 3088, 'jail': 3089, 'internationaldayofpeace': 3090, 'states': 3091, 'principle': 3092, 'cower': 3093, 'mission': 3094, 'bcuz': 3095, 'impression': 3096, 'overcoming': 3097, 'refer': 3098, 'toilet': 3099, 'cracks': 3100, 'foundation': 3101, 'psycho': 3102, 'nervousness': 3103, 'se': 3104, 'impact': 3105, 'signal': 3106, 'engineers': 3107, 'resolved': 3108, 'pov': 3109, 'tall': 3110, 'suspicion': 3111, 'objective': 3112, 'nature': 3113, 'shook': 3114, 'disease': 3115, 'gp': 3116, 'rider': 3117, 'friendship': 3118, 'mixture': 3119, 'damp': 3120, 'sweat': 3121, 'slogan': 3122, 'trains': 3123, 'rooting': 3124, 'astounded': 3125, 'germany': 3126, 'bias': 3127, 'apprehend': 3128, 'instinct': 3129, 'reasoning': 3130, 'mistakes': 3131, 'divorce': 3132, 'skinned': 3133, 'ohio': 3134, 'original': 3135, 'note7': 3136, 'upcoming': 3137, 'tan': 3138, 'dealing': 3139, 'terribledebatequestions': 3140, 'roll': 3141, 'bitches': 3142, 'mental': 3143, 'awaits': 3144, 'anytime': 3145, 'smack': 3146, 'bat': 3147, 'program': 3148, 'slagging': 3149, 'england': 3150, 'shock': 3151, 'annoys': 3152, 'cheat': 3153, 'disgusting': 3154, \"windows'\": 3155, 'overall': 3156, 'darn': 3157, 'despondency': 3158, 'sc': 3159, 'memorized': 3160, 'lam': 3161, 'stressful': 3162, 'protesting': 3163, 'feds': 3164, 'raise': 3165, 'mos': 3166, 'romero': 3167, 'queue': 3168, 'indians': 3169, 'reinstate': 3170, '101': 3171, 'howard': 3172, 'topic': 3173, \"'get\": 3174, 'flirting': 3175, 'rises': 3176, 'camden': 3177, 'mets': 3178, 'republicans': 3179, 'shouting': 3180, 'blown': 3181, 'youtuber': 3182, 'rashford': 3183, 'besides': 3184, 'ridiculously': 3185, 'chocolate': 3186, 'soccer': 3187, 'slash': 3188, 'pastry': 3189, 'spark': 3190, 'caused': 3191, 'loyal': 3192, 'espresso': 3193, 'imagination': 3194, 'solutions': 3195, 'ngo': 3196, 'actors': 3197, 'meals': 3198, 'albums': 3199, 'matty': 3200, 'netflix': 3201, 'golden': 3202, 'throughout': 3203, 'punt': 3204, 'deserved': 3205, 'center': 3206, 'jeans': 3207, \"'no\": 3208, 'speeds': 3209, 'outlet': 3210, 'novel': 3211, 'hurry': 3212, 'ending': 3213, 'hahahah': 3214, 'feature': 3215, 'allah': 3216, 'messenger': 3217, 'cities': 3218, 'coy': 3219, 'ref': 3220, 'trap': 3221, 'stare': 3222, 'cocks': 3223, 'fruit': 3224, 'listed': 3225, 'lundqvist': 3226, 'thoroughly': 3227, 'bush': 3228, 'puff': 3229, 'hoco': 3230, 'solid': 3231, 'powerful': 3232, '90s': 3233, 'con': 3234, 'masses': 3235, 'walker': 3236, 'enjoyed': 3237, \"one's\": 3238, 'snake': 3239, 'td': 3240, 'profit': 3241, 'fandom': 3242, 'assistance': 3243, 'encouragement': 3244, 'pr': 3245, 'department': 3246, 'protein': 3247, 'heck': 3248, 'driver': 3249, 'disgusted': 3250, 'parcel': 3251, 'whichever': 3252, 'wipe': 3253, 'delayed': 3254, 'idiots': 3255, 'rangers': 3256, 'glasgow': 3257, 'buddy': 3258, 'foster': 3259, 'hav': 3260, 'natalie': 3261, \"'you\": 3262, 'recognized': 3263, 'feed': 3264, 'unable': 3265, 'shootings': 3266, 'socks': 3267, 'rule': 3268, 'officers': 3269, 'ummm': 3270, 'blog': 3271, 'faking': 3272, 'wakes': 3273, 'nwhen': 3274, 'plans': 3275, 'establishment': 3276, 'testing': 3277, 'raid': 3278, 'travel': 3279, '80': 3280, 'quad': 3281, 'neighborhoods': 3282, 'selasi': 3283, 'engineer': 3284, 'member': 3285, 'strike': 3286, '47': 3287, 'unarmed': 3288, 'chicago': 3289, 'nerves': 3290, 'screen': 3291, '00': 3292, 'citizens': 3293, 'charging': 3294, 'cow': 3295, 'outraged': 3296, 'nowhere': 3297, 'feathers': 3298, 'slowest': 3299, 'figure': 3300, \"'but\": 3301, 'looney': 3302, 'hating': 3303, 'greys': 3304, 'hat': 3305, 'personality': 3306, 'kendrick': 3307, 'flew': 3308, 'fortunate': 3309, 'badly': 3310, 'lowkey': 3311, 'stans': 3312, 'complaining': 3313, 'swallow': 3314, 'flu': 3315, 'happily': 3316, 'spine': 3317, 'aaron': 3318, 'hacked': 3319, 'conflict': 3320, 'values': 3321, 'priorities': 3322, 'patient': 3323, 'suggested': 3324, 'tough': 3325, 'comparing': 3326, 'prank': 3327, 'clips': 3328, 'vigil': 3329, 'metropolitan': 3330, 'roy': 3331, 'messing': 3332, 'bakes': 3333, 'wouldnt': 3334, 'wanting': 3335, 'leg': 3336, 'satisfaction': 3337, 'drill': 3338, 'brendan': 3339, 'makeup': 3340, 'garcia': 3341, 'views': 3342, 'ultra': 3343, 'taurus': 3344, 'realizing': 3345, \"woman's\": 3346, 'rid': 3347, 'al': 3348, 'shits': 3349, 'qb': 3350, 'purely': 3351, 'vision': 3352, 'keller': 3353, 'i’ll': 3354, 'initially': 3355, 'event': 3356, 'brock': 3357, 'loser': 3358, 'wounds': 3359, 'heels': 3360, 'nyou': 3361, 'max': 3362, 'guilty': 3363, 'articles': 3364, 'century': 3365, 'tiger': 3366, 'nfrom': 3367, 'foaming': 3368, 'll': 3369, 'grown': 3370, 'parts': 3371, 'polite': 3372, 'forgiving': 3373, 'standard': 3374, 'poisonous': 3375, 'classic': 3376, 'cars': 3377, 'homie': 3378, 'indignity': 3379, 'jerseys': 3380, 'faithful': 3381, 'selfie': 3382, 'immense': 3383, 'jared': 3384, 'girly': 3385, 'unacceptable': 3386, 'spending': 3387, 'scores': 3388, 'eval': 3389, 'tms': 3390, 'ect': 3391, 'condolences': 3392, 'woken': 3393, 'melancholic': 3394, 'rethink': 3395, 'fame': 3396, 'laying': 3397, 'sofa': 3398, 'denver': 3399, 'appalling': 3400, 'haikuchallenge': 3401, 'ms': 3402, 'eternal': 3403, 'failed': 3404, 'transition': 3405, 'pas': 3406, 'fanbase': 3407, '500k': 3408, 'encouraging': 3409, 'returned': 3410, 'seats': 3411, 'pencil': 3412, 'habitual': 3413, 'citizen': 3414, 'german': 3415, 'programme': 3416, 'realised': 3417, 'inform': 3418, 'payet': 3419, 'bathroom': 3420, 'droop': 3421, \"time'\": 3422, 'twats': 3423, 'hanging': 3424, 'mufc': 3425, 'mates': 3426, 'appear': 3427, 'underneath': 3428, 'steps': 3429, 'backward': 3430, 'penis': 3431, 'fml': 3432, 'sunshine': 3433, 'congratulations': 3434, 'sell': 3435, 'j': 3436, 'delusional': 3437, 'marcus': 3438, 'ultimately': 3439, 'joyless': 3440, 'beans': 3441, 'noticed': 3442, 'vigorous': 3443, \"'fine\": 3444, 'hestia': 3445, 'tie': 3446, 'attendance': 3447, 'mask': 3448, 'circle': 3449, 'disturbed': 3450, 'sub': 3451, 'rough': 3452, 'therapy': 3453, 'engine': 3454, 'nit': 3455, 'credit': 3456, 'corner': 3457, 'isnt': 3458, 'tragedy': 3459, '2b': 3460, 'lbs': 3461, 'complained': 3462, 'exists': 3463, 'injury': 3464, 'pardon': 3465, 'progress': 3466, 'shopping': 3467, 'figured': 3468, 'shady': 3469, 'kudos': 3470, 'rides': 3471, 'decisions': 3472, 'rebuild': 3473, 'smooth': 3474, 'gud': 3475, 'lethalweapon': 3476, 'rueful': 3477, 'practically': 3478, 'shoulder': 3479, 'supporter': 3480, 'whisper': 3481, 'pawn': 3482, 'overcome': 3483, 'chiropractor': 3484, 'pasta': 3485, 'violent': 3486, 'honey': 3487, 'lads': 3488, 'musicians': 3489, 'model': 3490, 'laptop': 3491, 'creepy': 3492, 'guests': 3493, '30pm': 3494, 'ff': 3495, 'troubled': 3496, 'difficulty': 3497, 'nthey': 3498, 'hannah': 3499, 'compassion': 3500, 'polls': 3501, 'nuts': 3502, 'prime': 3503, 'tree': 3504, 'tournament': 3505, 'comics': 3506, 'hun': 3507, 'envy': 3508, 'modern': 3509, 'rob': 3510, 'notice': 3511, 'it’s': 3512, 'hundred': 3513, 'miserable': 3514, 'science': 3515, 'reaper': 3516, 'understood': 3517, 'automatic': 3518, 'regard': 3519, 'bother': 3520, 'tweeting': 3521, 'nephews': 3522, 'ma': 3523, 'embrace': 3524, 'entertaining': 3525, 'flag': 3526, 'speed': 3527, 'educate': 3528, 'mile': 3529, 'drivers': 3530, 'david': 3531, 'stock': 3532, 'closed': 3533, 'spell': 3534, 'shawarma': 3535, 'prison': 3536, 'beauty': 3537, 'combined': 3538, 'reminds': 3539, 'reflection': 3540, 'equally': 3541, 'actions': 3542, 'spiritual': 3543, 'taylor': 3544, 'choir': 3545, 'disgrace': 3546, 'morrow': 3547, 'peeps': 3548, 'tone': 3549, 'seemed': 3550, 'technology': 3551, 'spin': 3552, 'gag': 3553, 'tim': 3554, 'technical': 3555, 'n1peter': 3556, 'nthrow': 3557, 'bullying': 3558, 'memory': 3559, 'admire': 3560, 'goin': 3561, 'rare': 3562, 'surprisingly': 3563, '150': 3564, 'partner': 3565, 'determine': 3566, 'classes': 3567, 'particular': 3568, 'formidable': 3569, 'terrify': 3570, 'fraud': 3571, 'sweating': 3572, 'windy': 3573, 'tremor': 3574, 'connor': 3575, 'lemme': 3576, 'search': 3577, 'melted': 3578, 'rlly': 3579, 'ethan': 3580, 'useful': 3581, 'overseas': 3582, 'psychiatrist': 3583, 'safely': 3584, 'tarts': 3585, 'bound': 3586, 'headache': 3587, 'chart': 3588, 'begging': 3589, 'critical': 3590, 'condition': 3591, 'possess': 3592, 'smash': 3593, 'cringe': 3594, 'opens': 3595, 'tokyo': 3596, 'atrocious': 3597, 'conscience': 3598, 'south': 3599, 'multiple': 3600, 'forgiveness\\xa0might': 3601, 'weakest': 3602, 'warning': 3603, 'apps': 3604, 'waste': 3605, 'earn': 3606, 'uploaded': 3607, 'icq': 3608, 'picking': 3609, 'plastic': 3610, 'signing': 3611, 'numb': 3612, 'pete': 3613, '10k': 3614, 'freezing': 3615, 'canon': 3616, \"ma'am\": 3617, 'lackadaisical': 3618, 'count': 3619, 'burslem': 3620, 'subscribers': 3621, 'yt': 3622, 'bridgetjonesbaby': 3623, 'yeah‼': 3624, 'paul‼': 3625, 'gopackgo': 3626, 'gogipego': 3627, 'prowess': 3628, 'phenomenal': 3629, 'parody': 3630, 'gunnysmith93': 3631, 'twitching': 3632, 'lololol': 3633, 'comedic': 3634, 'modernfamily': 3635, 'funniest': 3636, 'balance': 3637, 'cynicism': 3638, 'skywalkers': 3639, 'hillsboro': 3640, 'produces': 3641, 'dancer': 3642, 'ruthann': 3643, 'magical': 3644, 'balloons': 3645, \"us'\": 3646, \"photo's\": 3647, 'notebooks': 3648, 'hugs': 3649, 'homecoming': 3650, 'pet': 3651, \"'do\": 3652, \"nlet's\": 3653, \"ndon't\": 3654, 'podcasts': 3655, 'yvr': 3656, 'hubs': 3657, 'marmite': 3658, 'stretch': 3659, 'garoppolo': 3660, 'messaged': 3661, \"'ugh\": 3662, \"breakfast'\": 3663, 'existence': 3664, 'downtown': 3665, 'mass': 3666, 'respectful': 3667, 'meaningful': 3668, 'contentwiththelordsportion': 3669, 'satisfy': 3670, 'wsjnordics': 3671, 'riggs': 3672, 'lolol': 3673, 'expectant': 3674, 'ukedchat': 3675, 'a4': 3676, 'lmaoo': 3677, 'harvest16': 3678, 'chopper': 3679, 'sweaty': 3680, 'ooh': 3681, 'hygge': 3682, 'jasmine': 3683, 'salt': 3684, 'aloha': 3685, 'cloudy': 3686, 'guitar': 3687, 'owners': 3688, 'herothegreyhound': 3689, 'greyhound': 3690, 'detours': 3691, 'delightful': 3692, 'surprises': 3693, 'siblings': 3694, 'gangster': 3695, 'sylvia': 3696, 'prince': 3697, 'satisfying': 3698, \"do'\": 3699, 'doc': 3700, 'audio': 3701, 'moments': 3702, 'reservations': 3703, 'prayed': 3704, 'en': 3705, \"grey's\": 3706, 'refreshing': 3707, 'lmboo': 3708, 'meme': 3709, 'independence': 3710, 'msg': 3711, 'flock': 3712, 'personaldevelopment': 3713, 'bacheloretteau': 3714, 'zoolander': 3715, 'kanye': 3716, 'clayton': 3717, 'homes': 3718, 'lane': 3719, 'addicted': 3720, 'remembering': 3721, 'routine': 3722, 'wrapped': 3723, 'neck': 3724, 'kissing': 3725, 'popped': 3726, 'musically': 3727, 'trips': 3728, 'followed': 3729, 'braces': 3730, 'transcendent': 3731, 'metro': 3732, 'lrt': 3733, 'walterdale': 3734, 'snowgang': 3735, 'remembered': 3736, 'winds': 3737, 'aint': 3738, 'waves': 3739, \"that'll\": 3740, 'followback': 3741, 'kerr': 3742, 'untill': 3743, 'avatar': 3744, 'christian': 3745, 'cheeseburger': 3746, 'onion': 3747, 'mustard': 3748, 'egg': 3749, \"she'd\": 3750, \"rec'd\": 3751, 'haitian': 3752, '15yrs': 3753, 'preparing': 3754, 'acquire': 3755, 'bldg': 3756, 'le': 3757, 'restoration': 3758, \"'everywhere\": 3759, 'barns': 3760, 'overflow': 3761, 'pickup': 3762, 'finn': 3763, \"'can't\": 3764, \"feeling'\": 3765, 'scenes': 3766, 'yachtrock': 3767, 'stifled': 3768, 'the\\xa0lord\\xa0turn': 3769, 'enjoyment': 3770, 'teasing': 3771, 'reciprocated': 3772, 'swinging': 3773, 'skies': 3774, 'preparation': 3775, 'recorded': 3776, 'images': 3777, 'encounter': 3778, 'tribez': 3779, 'castlez': 3780, \"'non\": 3781, 'permissive': 3782, \"environment'\": 3783, \"'battleground'\": 3784, 'sweater': 3785, 'chilly': 3786, 'mornings': 3787, 'letter': 3788, 'occasion': 3789, 'bruce': 3790, 'disposition': 3791, 'prof': 3792, 'unlikely': 3793, 'dialogue': 3794, 'partners': 3795, 'director': 3796, 'racepimp': 3797, 'tamron': 3798, \"'fscts'\": 3799, \"'msnbc'\": 3800, 'shove': 3801, \"val's\": 3802, 'revealed': 3803, 'katie': 3804, \"'normal'\": 3805, 'addictionbreak': 3806, 'habittalk': 3807, 'interest': 3808, 'proven': 3809, 'comfort': 3810, 'kicks': 3811, 'peaceful': 3812, 'bey': 3813, 'kicked': 3814, 'fashionable': 3815, 'hale': 3816, 'towel': 3817, 'backing': 3818, '—but': 3819, 'gratefully': 3820, 'nconclusion': 3821, 'sloth': 3822, 'gods': 3823, 'coughing': 3824, 'ab': 3825, 'abs': 3826, 'defined': 3827, 'dirty': 3828, 'conjunction': 3829, 'quotient': 3830, 'sufficiently': 3831, 'robocoq': 3832, '301': 3833, 'laundry': 3834, 'ralph': 3835, 'waldo': 3836, 'emerson': 3837, 'robinhoodhour': 3838, 'bizhour': 3839, 'spit': 3840, 'baseball': 3841, 'angle': 3842, 'burn': 3843, 'alert': 3844, 'flavors': 3845, 'font': 3846, 'richness': 3847, \"4's\": 3848, 'adverts': 3849, 'observant': 3850, 'seed': 3851, 'chases': 3852, 'championship': 3853, 'shaped': 3854, 'foolish': 3855, \"come'\": 3856, 'mississippi': 3857, 'sprightly': 3858, 'varsity': 3859, 'visitors': 3860, \"quarterback'\": 3861, 'wrecks': 3862, 'crushed': 3863, 'dries': 3864, 'bones': 3865, 'bribe': 3866, 'stands': 3867, 'essential': 3868, 'cigarette': 3869, 'village': 3870, 'massali': 3871, 'agreed': 3872, 'nascar': 3873, 'threats': 3874, 'prospect': 3875, 'daddy': 3876, 'excites': 3877, 'scares': 3878, 'anthony': 3879, 'dming': 3880, 'addiction': 3881, 'grief': 3882, 'joys': 3883, 'nquote': 3884, '70s': 3885, 'jean': 3886, 'tenacious': 3887, 'spontaneous': 3888, 'defeated': 3889, 'protected': 3890, 'private': 3891, 'follow4follow': 3892, 'dex': 3893, 'hunter': 3894, 'kris': 3895, 'theobald': 3896, 'families': 3897, 'folk': 3898, 'swimming': 3899, 'relentlessly': 3900, 'optimistic': 3901, 'ear': 3902, 'prepare': 3903, \"child's\": 3904, 'pitchers': 3905, 'elkracken': 3906, 'scratched': 3907, 'paws': 3908, 'tore': 3909, 'burgers': 3910, 'heroes': 3911, 'leafy': 3912, 'banned': 3913, 'backed': 3914, 'trusted': 3915, 'eventual': 3916, 'destruction': 3917, 'interests': 3918, 'sherlock': 3919, 'holmes': 3920, 'thine': 3921, 'ing': 3922, 'sacrificed': 3923, 'worthy': 3924, 'gripping': 3925, 'cheerleaders': 3926, 'senior': 3927, 'accurate': 3928, 'gifts': 3929, 'scum': 3930, 'nare': 3931, 'blaine': 3932, 'psychology': 3933, 'fictional': 3934, 'atop': 3935, 'crossing': 3936, 'grade': 3937, 'fee': 3938, 'tricks': 3939, 'palm': 3940, 'former': 3941, 'diplomat': 3942, 'normally': 3943, 'underwear': 3944, 'wives': 3945, 'kg': 3946, 'glen': 3947, 'rohan': 3948, 'gif': 3949, 'curtains': 3950, 'hah': 3951, 'steer': 3952, 'etep': 3953, 'advocate': 3954, 'sexually': 3955, 'ceased': 3956, 'isaiah': 3957, 'harley': 3958, 'quinn': 3959, 'satan': 3960, 'yrs': 3961, \"'n'\": 3962, 'chief': 3963, 'curiosity': 3964, 'dbs': 3965, '2012': 3966, 'returns': 3967, 'generally': 3968, 'rose': 3969, \"izn't\": 3970, 'cheated': 3971, 'ribena': 3972, 'saddened': 3973, 'attending': 3974, \"'it'\": 3975, 'thugs': 3976, 'shown': 3977, 'reinforce': 3978, 'publicly': 3979, 'celebrity': 3980, 'studying': 3981, 'foreign': 3982, 'goofy': 3983, \"quinn's\": 3984, 'ordering': 3985, 'blinders': 3986, 'scariest': 3987, 'daytime': 3988, 'frontier': 3989, 'nervouswreck': 3990, 'medication': 3991, 'sneaking': 3992, 'fantasies': 3993, 'yearning': 3994, 'faint': 3995, 'can’t': 3996, 'shitting': 3997, 'perform': 3998, 'noises': 3999, 's6': 4000, \"'operation\": 4001, \"echoes'\": 4002, 'momentum': 4003, 'weirdwednesday': 4004, 'damnit': 4005, 'hysteria': 4006, 'bu': 4007, 'calming': 4008, 'anthonyweiner': 4009, 'distraction': 4010, 'crashes': 4011, 'information': 4012, 'bite': 4013, 'uniform': 4014, 'europe': 4015, 'shamefull': 4016, 'unequal': 4017, 'veterans': 4018, 'convince': 4019, 'preschool': 4020, 'schools': 4021, 'saga': 4022, 'devices': 4023, 'teles': 4024, 'brighton': 4025, '100k': 4026, 'recognizing': 4027, 'impending': 4028, 'mentally': 4029, 'coward': 4030, 'load': 4031, 'mm': 4032, 'imediately': 4033, 'interviews': 4034, 'pam': 4035, 'sworn': 4036, 'fresh': 4037, 'sounding': 4038, 'ughh': 4039, \"'sleep\": 4040, \"full'\": 4041, 'carr': 4042, 'kidney': 4043, 'didn’t': 4044, 'pisses': 4045, 'osama': 4046, 'contained': 4047, \"'wardrobe\": 4048, \"makeover'\": 4049, 'parked': 4050, 'syria': 4051, 'standstill': 4052, 'freeway': 4053, 'probability': 4054, 'binge': 4055, 'methods': 4056, 'dye': 4057, 'lysol': 4058, 'suffocating': 4059, 'febreeze': 4060, 'complaint': 4061, 'rental': 4062, 'leaders': 4063, 'racial': 4064, 'grandad': 4065, 'hometown': 4066, '55am': 4067, 'loughborough': 4068, \"pakistan'\": 4069, 'extract': 4070, 'relieve': 4071, 'reduce': 4072, 'attractive': 4073, 'pok': 4074, 'bust': 4075, 'camp': 4076, '2017': 4077, '£800': 4078, 'avoiding': 4079, 'goat': 4080, 'libeling': 4081, 'holly': 4082, 'cyborg': 4083, 'aka': 4084, 'induction': 4085, \"box'\": 4086, 'bears': 4087, 'wolves': 4088, 'loneliness': 4089, 'constitution': 4090, 'paranormal': 4091, 'activity': 4092, 'dimension': 4093, 'unreliable': 4094, 'confirm': 4095, 'graduate': 4096, '45am': 4097, \"elouise's\": 4098, 'probs': 4099, 'awaken': 4100, 'hella': 4101, 'taxes': 4102, 'immediate': 4103, 'east': 4104, 'crisis': 4105, 'profiling': 4106, '41': 4107, 'edt': 4108, 'civilians': 4109, \"'moving\": 4110, 'homosexuality': 4111, \"christianity'\": 4112, 'foursquare': 4113, 'zika': 4114, 'hoax': 4115, 'files': 4116, 'deet': 4117, 'binary': 4118, 'chemical': 4119, 'targeting': 4120, 'runway': 4121, 'diverted': 4122, 'fargo': 4123, 'oompa': 4124, 'loompa': 4125, 'naming': 4126, 'hv': 4127, 'virtually': 4128, 'prob': 4129, 'kirribilli': 4130, 'rioting': 4131, 'assholes': 4132, 'spy': 4133, 'pakistani': 4134, 'forces': 4135, 'pretending': 4136, 'religions': 4137, 'battered': 4138, 'whoa': 4139, 'younger': 4140, 'youngleader': 4141, 'npakistan': 4142, 'weapons': 4143, \"city's\": 4144, 'tactics': 4145, 'blacklivesmatter': 4146, 'ohh': 4147, 'stone': 4148, 'b4': 4149, 'unruly': 4150, '8am': 4151, 'nothanks': 4152, 'ripping': 4153, 'ntfc': 4154, 'ibra': 4155, 'rushford': 4156, 'pfft': 4157, 'ongoing': 4158, 'consciousness': 4159, 'ginger': 4160, 'peppermint': 4161, 'baluchistan': 4162, 'wept': 4163, 'rns': 4164, 'rusty': 4165, \"'price\": 4166, \"news'\": 4167, 'ramping': 4168, 'discipleship': 4169, 'limits': 4170, 'preordered': 4171, '49': 4172, 'attached': 4173, 'dragged': 4174, 'accrington': 4175, 'stanley': 4176, 'mmmm': 4177, 'inauthentic': 4178, 'weight': 4179, 'fosu': 4180, 'embracing': 4181, 'evidence': 4182, 'fnaf': 4183, 'facetime': 4184, 'scream': 4185, 'beach': 4186, 'coached': 4187, 'jumpstreet': 4188, 'gears': 4189, 'forms': 4190, 'presidential': 4191, 'sickness': 4192, 'cons': 4193, 'amidst': 4194, 'skill': 4195, 'narcissist': 4196, 'avoided': 4197, 'georgia': 4198, \"tech's\": 4199, 'secondary': 4200, 'marshmallow': 4201, 'permanent': 4202, 'packed': 4203, 'supported': 4204, 'skeptical': 4205, 'germs': 4206, \"'your\": 4207, \"sorry'\": 4208, 'killary': 4209, 'knife': 4210, 'toaster': 4211, 'terrorize': 4212, 'ths': 4213, 'bodies': 4214, 'yf': 4215, 'suspension': 4216, 'reactivate': 4217, 'violated': 4218, 'roles': 4219, 'schalke': 4220, 'intimidation': 4221, 'elder': 4222, 'assignment': 4223, 'humanity': 4224, 'improving': 4225, 'equality': 4226, 'diet': 4227, 'cooped': 4228, 'shd': 4229, 'embrrssd': 4230, 'bp': 4231, 'malik': 4232, 'franchise': 4233, 'nindia': 4234, 'concerns': 4235, 'contributions': 4236, 'intervention': 4237, 'hence': 4238, 'mob': 4239, 'offering': 4240, 'moth': 4241, 'warranty': 4242, 'borderline': 4243, 'mint': 4244, 'talksport': 4245, 'broadcasted': 4246, 'basement': 4247, 'existential': 4248, 'arrival': 4249, 'shew': 4250, 'plug': 4251, 'approaching': 4252, \"'tear\": 4253, \"apart'\": 4254, \"'why\": 4255, 'anychance': 4256, 'addressing': 4257, 'communication': 4258, 'tuesday': 4259, 'bullshit': 4260, 'pregnant': 4261, 'nurse': 4262, 'blamed': 4263, 'blames': 4264, 'judgement': 4265, 'freespeech': 4266, 'publishing': 4267, 'professionalism': 4268, 'provider': 4269, 'captureyourmind': 4270, \"brendon's\": 4271, 'devotee': 4272, 'moto': 4273, 'reelected': 4274, 'satellite': 4275, 'shambles': 4276, 'laura': 4277, 'constructive': 4278, 'criticism': 4279, \"'lazy\": 4280, \"retire'\": 4281, 'heather': 4282, 'sewage': 4283, \"nit's\": 4284, 'primarily': 4285, 'lessens': 4286, '’s': 4287, 'again’': 4288, 'credentials': 4289, 'litigator': 4290, 'anu': 4291, 'responded': 4292, 'bigotry': 4293, 'third': 4294, 'cnn': 4295, 'punish': 4296, \"caballero's\": 4297, 'financial': 4298, 'guise': 4299, 'stupidity': 4300, 'quickie': 4301, 'began': 4302, 'tmobile': 4303, 'cujo': 4304, 'positives': 4305, 'dads': 4306, 'witness': 4307, '500thtest': 4308, \"'anniversary\": 4309, \"1607'\": 4310, 'allows': 4311, 'temporada': 4312, 'shameful': 4313, 'tryin': 4314, 'plain': 4315, 'insensitive': 4316, 'cashier': 4317, 'returning': 4318, 'item': 4319, 'slacking': 4320, 'gadot': 4321, 'ivan': 4322, 'allen': 4323, 'blvd': 4324, 'rhobh': 4325, 'illness': 4326, 'workplace': 4327, 'informed': 4328, 'mic': 4329, 'admin': 4330, 'rejects': 4331, 'vetted': 4332, 'fed': 4333, 'resettlement': 4334, 'aiding': 4335, \"player's\": 4336, 'tournaments': 4337, 'oriole': 4338, 'yanks': 4339, 'law': 4340, 'homefronttherevolution': 4341, 'gameplay': 4342, 'staff': 4343, 'thick': 4344, 'server': 4345, 'gabriella': 4346, 'troy': 4347, 'pontefract': 4348, 'monkhill': 4349, '“like': 4350, \"driver'\": 4351, 'bowers': 4352, 'crocodile': 4353, 'bullies': 4354, 'unsubscribed': 4355, 'expose': 4356, 'loos': 4357, 'massacre': 4358, 'theatre': 4359, 'pert': 4360, 'subtitles': 4361, \"pakistan's\": 4362, 'deception': 4363, \"tonight'\": 4364, 'nhi': 4365, 'nwhy': 4366, 'fights': 4367, 'inept': 4368, \"o'brien's\": 4369, 'russell': 4370, 'odell': 4371, 'buble': 4372, 'ew': 4373, 'averaging': 4374, 'disco': 4375, 'permit': 4376, 'sensitivity': 4377, 'employees': 4378, 'departure': 4379, '“': 4380, 'hennessey': 4381, 'mutch': 4382, 'fryers': 4383, 'corn': 4384, 'cleveland': 4385, 'ringing': 4386, 'flatmate': 4387, 'knocked': 4388, 'goksfillyourhouseforfree': 4389, 'retitled': 4390, 'repainted': 4391, 'teufel': 4392, \"'reassigned'\": 4393, 'sooner': 4394, 'serve': 4395, 'cyber': 4396, 'beast': 4397, 'jaded': 4398, 'detector': 4399, 'bidded': 4400, 'coding': 4401, 'unity3d': 4402, 'steamworks': 4403, 'networking': 4404, 'magazine': 4405, 'funding': 4406, 'leftover': 4407, 'cereal': 4408, 'tna': 4409, 'emirates': 4410, 'defender': 4411, 'core': 4412, 'phantom': 4413, 'scotland': 4414, 'gamer': 4415, 'vlogger': 4416, 'animator': 4417, 'australian': 4418, 'bender': 4419, 'steals': 4420, 'refuses': 4421, 'championships': 4422, 'musician': 4423, 'instruments': 4424, 'biker': 4425, 'gang': 4426, 'dlc': 4427, 'almond': 4428, 'ethic': 4429, 'exemplary': 4430, 'smirk': 4431, '2020': 4432, \"'grande\": 4433, 'decaf': 4434, '130': 4435, 'degrees': 4436, 'americano': 4437, \"foam'\": 4438, 'ap': 4439, 'unlocks': 4440, '757': 4441, 'airplane': 4442, 'characteristic': 4443, 'puzzle': 4444, 'beatles': 4445, 'opera': 4446, 'dawson': 4447, 'mediocrity': 4448, 'align': 4449, 'mlb': 4450, 'futuristic': 4451, 'mindfulness': 4452, 'chips': 4453, 'bible': 4454, 'funnypics': 4455, 'dey': 4456, 'aberdeen': 4457, 'johnstone': 4458, 'furthest': 4459, 'gamedev': 4460, 'texastech': 4461, 'ourgirl': 4462, 'trolls': 4463, 'pockets': 4464, \"gt's\": 4465, 'sites': 4466, 'guest': 4467, 'review': 4468, '37': 4469, 'amwriting': 4470, 'forming': 4471, \"'what\": 4472, 'remover': 4473, '3yr': 4474, 'jb': 4475, 'howl': 4476, '28th': 4477, 'cursed': 4478, 'fuller': 4479, 'hopkins': 4480, 'suit': 4481, 'huns': 4482, 'revels': 4483, 'immodest': 4484, 'inadvertently': 4485, 'believed': 4486, 'quran': 4487, '28': 4488, \"carrick's\": 4489, 'misses': 4490, 'beside': 4491, 'register': 4492, 'cunts': 4493, 'kissed': 4494, 'anna': 4495, 'trends': 4496, \"''\": 4497, 'breathless': 4498, 'com': 4499, 'chuckles': 4500, 'smackdev': 4501, 'ptp': 4502, 'robot': 4503, 'gordon': 4504, 'franglaise': 4505, 'madrid': 4506, 'chem': 4507, 'fewer': 4508, '65': 4509, 'ceo': 4510, 'mcdavid': 4511, 'you’ve': 4512, '–george': 4513, 'addair': 4514, 'flourish': 4515, 'loads': 4516, 'ramos': 4517, 'bbfinale': 4518, 'dynamic': 4519, 'cosmos': 4520, '09': 4521, 'curious': 4522, 'advise': 4523, 'champs': 4524, 'darthvader': 4525, 'inhaler': 4526, 'bars': 4527, 'wheel': 4528, 'talents': 4529, '31': 4530, \"'a\": 4531, 'york': 4532, 'foundational': 4533, 'pablo': 4534, 'picasso': 4535, 'inspiring': 4536, 'hustle': 4537, 'scorer': 4538, 'jorge': 4539, 'nnow': 4540, 'rockefeller': 4541, 'engaging': 4542, 'thorpe': 4543, 'healing': 4544, 'sorted': 4545, 'joining': 4546, 'yard': 4547, 'ellie': 4548, 'setting': 4549, 'okgoogle': 4550, 'parks': 4551, 'rp': 4552, 'angelic': 4553, 'comrades': 4554, 'fries': 4555, 'investing': 4556, 'recruitment': 4557, 'mackinnon': 4558, 'greater': 4559, 'shell': 4560, 'starbucks': 4561, 'josh': 4562, 'tasting': 4563, 'fuk': 4564, 'fridge': 4565, 'knock': 4566, 'landlord': 4567, 'vehicle': 4568, 'ef': 4569, 'davis': 4570, 'willynilly': 4571, 'wentworth': 4572, 'pissing': 4573, 'wont': 4574, 'fuking': 4575, 'callbacks': 4576, 'condemn': 4577, 'pits': 4578, 'kendall': 4579, 'bes': 4580, 'hoopjunkie': 4581, 'tasers': 4582, 'immobilize': 4583, 'taser': 4584, 'arse': 4585, 'francis': 4586, '£44': 4587, '77': 4588, '£148': 4589, 'alliance': 4590, \"'update'\": 4591, 'fly': 4592, 'hangs': 4593, 'blaming': 4594, 'vengeful': 4595, 'cult': 4596, 'log': 4597, 'sorting': 4598, 'asap': 4599, 'snakes': 4600, 'bugger': 4601, 'hogging': 4602, 'wills': 4603, 'ooooooooh': 4604, 'uuuugggghhhhhhhhh': 4605, 'filling': 4606, 'achilles': 4607, 'kills': 4608, 'streets': 4609, 'abusive': 4610, 'liberal': 4611, 'coupon': 4612, 'juror': 4613, 'san': 4614, 'bloods': 4615, 'nimber': 4616, 'stopping': 4617, 'eta': 4618, 'bollocked': 4619, \"'with\": 4620, 'stehr': 4621, \"7th'\": 4622, 'investigation': 4623, 'forthwith': 4624, \"'have\": 4625, 'nappy': 4626, 'accessibility': 4627, 'innovation': 4628, 'fuckery': 4629, 'ideologically': 4630, 'bankrupt': 4631, 'opportunistic': 4632, 'contracts': 4633, 'nominated': 4634, 'donations': 4635, 'nations': 4636, 'masks': 4637, 'democrats': 4638, 'brutal': 4639, 'fred': 4640, 'manutd': 4641, 'fills': 4642, 'blizzard': 4643, '700': 4644, 'arrives': 4645, 'canoodling': 4646, 'southern': 4647, 'bint': 4648, \"'look\": 4649, \"'by\": 4650, \"mistake'\": 4651, 'appealing': 4652, '2015': 4653, 'wheres': 4654, 'fist': 4655, 'laptops': 4656, 'sti': 4657, 'property': 4658, 'priority': 4659, 'list': 4660, 'highs': 4661, 'doggies': 4662, 'barracking': 4663, 'gws': 4664, 'policing': 4665, 'gh': 4666, 'molly': 4667, \"morgan's\": 4668, 'bond': 4669, 'pochettino': 4670, 'sprint': 4671, 'comp': 4672, 'robbing': 4673, 'wedding': 4674, 'aggressive': 4675, 'manner': 4676, 'costs': 4677, 'ole': 4678, 'justification': 4679, 'programs': 4680, 'behaviour': 4681, 'pizzas': 4682, 'beasts': 4683, 'toon': 4684, 'divide': 4685, 'races': 4686, 'cultures': 4687, 'prudence': 4688, 'suggests': 4689, 'bump': 4690, 'viewed': 4691, 'skepticism': 4692, 'axis': 4693, 'limbs': 4694, 'attacking': 4695, 'shonda': 4696, 'rimes': 4697, 'og': 4698, 'unavoidable': 4699, 'demons': 4700, 'lamar': 4701, 'barbecue': 4702, 'hashtags': 4703, 'focused': 4704, 'burkeramsey': 4705, 'jonbenet': 4706, 'golf': 4707, 'previously': 4708, 'voting': 4709, 'wreck': 4710, 'discipline': 4711, 'mute': 4712, 'acceptance': 4713, 'scottish': 4714, 'accent': 4715, 'scowl': 4716, 'clenching': 4717, 'floated': 4718, 'wigan': 4719, 'tits': 4720, 'stuartspecial': 4721, 'yelled': 4722, 'grocery': 4723, 'espn': 4724, 'assumed': 4725, 'sensing': 4726, 'lest': 4727, 'racists': 4728, 'irish': 4729, 'firmly': 4730, 'natural': 4731, 'amen': 4732, 'pill': 4733, 'chills': 4734, 'firsttweetever': 4735, 'sippin': 4736, 'hotchocolate': 4737, 'hellloooootwitter': 4738, 'directing': 4739, 'breath': 4740, 'controls': 4741, 'suicide': 4742, 'initiative': 4743, 'ak47': 4744, 'prisoners': 4745, 'beck': 4746, 'meee': 4747, 'promis': 4748, 'cbs': 4749, 'feeds': 4750, 'afp': 4751, 'explore': 4752, 'businesses': 4753, 'symbolizes': 4754, 'kei': 4755, 'unfairly': 4756, 'yikes': 4757, 'meech': 4758, 'fixed': 4759, 'cb': 4760, 'preposterous': 4761, \"nicholson's\": 4762, 'joker': 4763, 'drugged': 4764, 'aggravates': 4765, 'bull': 4766, 'yuuuhh': 4767, 'clin': 4768, 'prevmed': 4769, 'ugghhh': 4770, 'ether': 4771, 'snuggling': 4772, 'quentin': 4773, 'letts': 4774, 'epipen': 4775, 'expand': 4776, 'smith': 4777, 'cadres': 4778, 'akshay': 4779, 'gender': 4780, 'leather': 4781, 'jacket': 4782, 'throws': 4783, 'retaliation': 4784, 'targeted': 4785, 'tr': 4786, 'controlled': 4787, 'logical': 4788, \"'let\": 4789, 'cyran': 4790, \"jeongguk's\": 4791, 'tiddy': 4792, 'tyson': 4793, 'humour': 4794, 'mentions': 4795, 'stepping': 4796, 'barrier': 4797, 'alarms': 4798, 'dreamboys': 4799, \"it'\": 4800, 'sacked': 4801, 'fumbled': 4802, 'barca': 4803, 'defeat': 4804, 'isi': 4805, 'welfarereform': 4806, \"'model'\": 4807, 'heel': 4808, \"trump's\": 4809, 'base': 4810, 'skipping': 4811, 'nmade': 4812, 'nslight': 4813, 'nheheh': 4814, 'pilot': 4815, 'psychological': 4816, 'menforchoice': 4817, 'ate': 4818, 'imma': 4819, 'taffy': 4820, 'boost': 4821, 'confusion': 4822, 'balanced': 4823, 'alloa': 4824, 'embarrassed': 4825, 'slightest': 4826, 'roast': 4827, 'pokemon': 4828, 'brissett': 4829, 'frozen': 4830, 'fakes': 4831, 'fairly': 4832, 'warm': 4833, 'essentially': 4834, 'areas': 4835, 'recognize': 4836, 'dis': 4837, 'promised': 4838, \"'gardevoir'\": 4839, 'wishes': 4840, 'trainer': 4841, 'klitschko': 4842, 'joshua': 4843, 'officially': 4844, 'trophy': 4845, 'bloke': 4846, 'likewise': 4847, 'successfully': 4848, \"kali's\": 4849, 'curling': 4850, 'forehead': 4851, 'scar': 4852, 'triggered': 4853, 'jenner': 4854, 'nhelen': 4855, 'nstephen': 4856, 'evicted': 4857, 'biting': 4858, 'tongue': 4859, 'elephants': 4860, 'wrestled': 4861, 'quoteoftheday': 4862, 'which…come': 4863, 'congress': 4864, 'tweeted': 4865, 'orton': 4866, 'wcw': 4867, 'bash': 4868, 'consequences': 4869, 'shadows': 4870, 'vodka': 4871, 'flaunt': 4872, 'practical': 4873, 'fantasy': 4874, 'bestrong': 4875, '“do': 4876, 'hoop': 4877, 'washed': 4878, 'stream': 4879, '“he': 4880, 'np16': 4881, 'drops': 4882, 'nthank': 4883, 'purposes': 4884, 'gameday': 4885, 'buford': 4886, 'dragrace': 4887, 'allstars2': 4888, 'yaassss': 4889, 'queens': 4890, 'haired': 4891, '21st': 4892, 'motivations': 4893, \"'proving\": 4894, \"wrong'\": 4895, 'subject': 4896, 'olive': 4897, 'guarded': 4898, 'rockys': 4899, \"n'\": 4900, 'lmaooo': 4901, 'wasteland': 4902, 'snapped': 4903, 'void': 4904, 'popular': 4905, 'drank': 4906, 'raised': 4907, 'alcoholic': 4908, \"agin's\": 4909, 'politeness': 4910, 'gorgeous': 4911, 'moody': 4912, 'grinding': 4913, 'ranks': 4914, 'justin': 4915, 'swap': 4916, 'anonymously': 4917, 'vsvplou': 4918, 'define': 4919, 'angela': 4920, 'aflcatsswans': 4921, 'pumpkin': 4922, 'patches': 4923, 'ldf16': 4924, 'spraypainting': 4925, 'greenwichmarket': 4926, 'core246': 4927, 'lilylou': 4928, 'relax': 4929, 'massage': 4930, 'cucumbers': 4931, '630am': 4932, 'olympic': 4933, '10golds24': 4934, 'naoto': 4935, 'nod': 4936, 'tha': 4937, \"'will\": 4938, \"'papa\": 4939, \"roach'\": 4940, 'prayerful': 4941, 'carlabtst15': 4942, 'desication': 4943, 'bathing': 4944, 'suits': 4945, 'brodcast': 4946, 'vale': 4947, 'sip': 4948, 'uni': 4949, 'wrinkles': 4950, 'merely': 4951, 'worthless': 4952, 'overwhelmed': 4953, 'extreme': 4954, 'gray': 4955, 'pops': 4956, 'ibiza': 4957, 'doe': 4958, 'opposite': 4959, 'battling': 4960, 'handled': 4961, 'downstairs': 4962, 'gpa': 4963, 'valid': 4964, 'nstill': 4965, 'feared': 4966, \"'be\": 4967, 'loathing': 4968, 'appreciated': 4969, 'lisa': 4970, 'georges': 4971, 'cubs': 4972, 'whiskey': 4973, 'shilling': 4974, 'lab': 4975, 'gove': 4976, 'lifetime': 4977, 'darker': 4978, 'relating': 4979, 'begun': 4980, 'addressed': 4981, 'quotes': 4982, 'emotionally': 4983, 'cum': 4984, 'pills': 4985, 'patti': 4986, 'stamped': 4987, 'affection': 4988, 'swallows': 4989, 'swifts': 4990, \"photo'd\": 4991, 'reporter': 4992, 'endure': 4993, 'hearted': 4994, 'lovers': 4995, 'available': 4996, 'nmy': 4997, 'mondays': 4998, 'mobile': 4999, '30am': 5000, 'providing': 5001, 'sullen': 5002, 'moor': 5003, 'movements': 5004, 'southampton': 5005, 'turnd': 5006, 'terencecutcher': 5007, 'onthe': 5008, 'fully': 5009, \"n'i\": 5010, 'purple': 5011, 'cancel': 5012, 'brb': 5013, 'lame': 5014, 'circumstances': 5015, 'mhchat': 5016, 'associative': 5017, 'cope': 5018, 'wi': 5019, 'flirt': 5020, 'simper': 5021, 'yuck': 5022, 'lied': 5023, 'origin': 5024, 'sobriety': 5025, \"this'll\": 5026, 'delivery': 5027, 'porn': 5028, '2k': 5029, 'charger': 5030, 'acrylic': 5031, 'loooooong': 5032, 'browns': 5033, 'burden': 5034, 'reports': 5035, 'mannn': 5036, 'gop': 5037, 'sufc': 5038, 'pair': 5039, 'adrian': 5040, 'pouting': 5041, 'savvy': 5042, 'gain': 5043, 'heated': 5044, 'q': 5045, 'reminded': 5046, 'los': 5047, 'footy': 5048, 'chick': 5049, 'nothings': 5050, 'ears': 5051, 'careful': 5052, 'slept': 5053, \"n'you're\": 5054, \"'my\": 5055, 'italy': 5056, \"'you're\": 5057, '5am': 5058, 'belly': 5059, 'couldnt': 5060, '50yrs': 5061, 'bournemouth': 5062, 'tempered': 5063, 'harris': 5064, 'shorty': 5065, 'uncertainty': 5066, 'roho': 5067, 'cleaved': 5068, 'fraction': 5069, 'apocalypse': 5070, 'strive': 5071, 'mentalhealth': 5072, 'existent': 5073, 'constitutional': 5074, 'tune': 5075, 'remus': 5076, 'lewis': 5077, 'accomplishments': 5078, 'produced': 5079, 'individuals': 5080, 'bremen': 5081, 'user': 5082, 'forlorn': 5083, 'resting': 5084, 'mayor': 5085, 'stunt': 5086, 'supplies': 5087, 'affairs': 5088, 'vids': 5089, \"n'you\": 5090, 'negativity': 5091, 'slough': 5092, 'ratio': 5093, 'sox': 5094, 'escalate': 5095, 'cn': 5096, 'animation': 5097, 'request': 5098, 'conceded': 5099, \"nl's\": 5100, 'bureaucrat': 5101, 'formed': 5102, 'plotting': 5103, 'minivan': 5104, \"tomorrow's\": 5105, 'trip': 5106, 'midweek': 5107, \"'so\": 5108, 'shining': 5109, 'gloves': 5110, 'guard': 5111, 'blanchardstown': 5112, \"spencer's\": 5113, 'alot': 5114, 'origins': 5115, 'exposed': 5116, 'wood': 5117, 'canadian': 5118, 'expectation': 5119, 'knocks': 5120, 'complains': 5121, 'discussion': 5122, 'sulky': 5123, 'iced': 5124, 'afl': 5125, 'humor': 5126, 'nalso': 5127, 'grave': 5128, 'cave': 5129, 'sage': 5130, 'soup': 5131, 'quickly': 5132, 'disciplined': 5133, 'doings': 5134, 'yea': 5135, '08': 5136, 'explosion': 5137, 'aired': 5138, 'filmed': 5139, 'pond': 5140, 'borrow': 5141, 'amiss': 5142, 'royal': 5143, 'bojack': 5144, 'habits': 5145, 'harambe': 5146, 'nots': 5147, 'there’s': 5148, 'shaytan': 5149, 'refuge': 5150, 'sausage': 5151, 'raising': 5152, 'wayward': 5153, \"there'll\": 5154, 'dutch': 5155, 'duvet': 5156, 'baker': 5157, 'drake': 5158, 'bows': 5159, 'inappropriate': 5160, 'hermione': 5161, 'ron': 5162, 'somewhat': 5163, 'females': 5164, 'example': 5165, 'catching': 5166, 'yield': 5167, 'reds': 5168, 'aspiring': 5169, 'olympia': 5170, 'stumbling': 5171, 'impress': 5172, 'arthur': 5173, 'spends': 5174, 'dashboard': 5175, 'battery': 5176, 'drama': 5177, 'estate': 5178, 'ancestry': 5179, 'speaker': 5180, 'function': 5181, 'punk': 5182, 'tones': 5183, 'stephen': 5184, 'staid': 5185, 'goodness': 5186, 'attracted': 5187, 'labor': 5188, 'eliminate': 5189, 'winston': 5190, 'churchill': 5191, 'alex': 5192, 'management': 5193, 'announcement': 5194, 'darkest': 5195, 'cue': 5196, 'cards': 5197, 'sane': 5198, 'specialist': 5199, 'understands': 5200, 'mournful': 5201, 'fanfiction': 5202, 'pink': 5203, 'hmu': 5204, 'rocks': 5205, 'lazy': 5206, 'jin': 5207, 'princejinyoungday': 5208, 'advances': 5209, 'achievements': 5210, 'charles': 5211, 'towne': 5212, 'commentary': 5213, 'twd': 5214, 'odd': 5215, 'grindah': 5216, 'nosing': 5217, 'listened': 5218, 'ministers': 5219, 'nhf16': 5220, 'impressed': 5221, 'blackish': 5222, 'julian': 5223, 'randomly': 5224, 'gossip': 5225, \"how'd\": 5226, 'celebrated': 5227, 'ciara': 5228, 'julie': 5229, 'jen': 5230, 'claire': 5231, 'bolts': 5232, 'honks': 5233, 'sniffle': 5234, 'tear': 5235, 'generations': 5236, 'redwine': 5237, 'forté': 5238, 'demon': 5239, 'phil': 5240, 'struck': 5241, 'mou': 5242, 'privately': 5243, 'razor': 5244, 'anime': 5245, 'inspired': 5246, 'grace': 5247, 'nuclear': 5248, 'spag': 5249, 'reasons': 5250, 'depravity': 5251, 'converting': 5252, 'survivormillennialsvsgenx': 5253, 'negro': 5254, 'swapping': 5255, 'whistle': 5256, 'harry': 5257, 'styles': 5258, 'snow': 5259, 'equivalent': 5260, 'tigers': 5261, '5679787': 5262, 'apply': 5263, 'bcwinechat': 5264, 'friedrich': 5265, 'nietzsche': 5266, 'ditto': 5267, 'talent': 5268, 'shorts': 5269, \"'bitch\": 5270, \"pillow'\": 5271, '127': 5272, 'wasteful': 5273, 'skiving': 5274, 'freshers2016': 5275, 'sunbeds': 5276, 'banging': 5277, 'edinburgh': 5278, 'matilda': 5279, 'manage': 5280, 'dress': 5281, 'u20': 5282, 'rugby': 5283, 'roosters': 5284, 'exciting': 5285, '1999': 5286, '2013': 5287, 'six': 5288, 'unreal': 5289, 'cider': 5290, 'intelligence': 5291, 'awfy': 5292, 'disallowed': 5293, 'cakeclubhour': 5294, '3pm': 5295, 'souls': 5296, 'nzephaniah': 5297, 'driven': 5298, 'nthere': 5299, 'thou': 5300, 'luke': 5301, 'chuckin': 5302, 'deuces': 5303, 'snuggle': 5304, 'tiller': 5305, 'clip': 5306, 'acts': 5307, 'amendment': 5308, 'opinions': 5309, 'garden': 5310, 'enjoyable': 5311, 'discovered': 5312, 'updated': 5313, 'ballons': 5314, 'fireworks': 5315, 'kelvin': 5316, 'messaging': 5317, 'hyper': 5318, \"gf's\": 5319, 'unite': 5320, 'idc': 5321, 'fitted': 5322, \"love'\": 5323, 'amystery': 5324, 'salon': 5325, 'delicious': 5326, \"'celebrity'\": 5327, 'astros': 5328, \"a's\": 5329, 'path': 5330, 'extends': 5331, 'rise': 5332, 'differently': 5333, 'shattering': 5334, 'led': 5335, 'special': 5336, 'glowing': 5337, 'surprise': 5338, 'offline': 5339, 'fab': 5340, 'musical': 5341, 'inhuman': 5342, 'struggles': 5343, 'protesters': 5344, 'dhoni': 5345, 'bcoz': 5346, 'calmness': 5347, 'finishers': 5348, 'miltirian': 5349, 'dadhusband': 5350, 'humanbeing': 5351, 'filming': 5352, 'leaned': 5353, 'yawning': 5354, 'actor': 5355, 'overdose': 5356, 'highlight': 5357, 'secrets': 5358, 'impractical': 5359, 'jokers': 5360, 'genius': 5361, 'kwoir': 5362, 'auction': 5363, 'advance': 5364, 'killgrave': 5365, 'literal': 5366, 'nightmares': 5367, 'jd': 5368, 'closest': 5369, 'enrique': 5370, 'busquet': 5371, 'signs': 5372, 'contract': 5373, 'extension': 5374, 'horse': 5375, 'testimonies': 5376, \"jeremy's\": 5377, 'hihi': 5378, 'dwts': 5379, 'dependent': 5380, 'hates': 5381, 'tasted': 5382, 'correct': 5383, 'trashy': 5384, 'warmth': 5385, 'melts': 5386, 'fundraiser': 5387, 'fri': 5388, 'thus': 5389, 'accommodate': 5390, 'tht': 5391, 'warfare': 5392, 'hashtag': 5393, 'badger': 5394, 'kx4': 5395, 'cheddar': 5396, 'vice': 5397, 'combination': 5398, 'happppy': 5399, 'happppyyyyyy': 5400, 'happppppyyyyy': 5401, 'haaapppyyyy': 5402, 'sanatana': 5403, 'lopez': 5404, 'meldonium': 5405, 'joined': 5406, 'squad': 5407, 'caught': 5408, 'stairs': 5409, 'canal': 5410, 'reputation': 5411, 'procedures': 5412, 'dehydrated': 5413, 'gently': 5414, 'patron': 5415, 'stifle': 5416, 'matthew': 5417, 'ferriss': 5418, 'motivation': 5419, 'nevertrump': 5420, 'promotes': 5421, 'fuels': 5422, 'biblemotivate': 5423, 'retarded': 5424, '10000': 5425, 'retweets': 5426, 'queues': 5427, 'arrivals': 5428, 'surprising': 5429, 'designatedsurvivor': 5430, \"'chaos\": 5431, 'eats': 5432, 'alternative': 5433, 'nam': 5434, 'fool': 5435, 'nikerun': 5436, 'difficulties': 5437, 'reign': 5438, 'vip': 5439, 'nspeaking': 5440, \"100's\": 5441, \"car'\": 5442, \"could've\": 5443, 'weirdest': 5444, 'acknowledgement': 5445, 'elephant': 5446, 'hunted': 5447, 'abroad': 5448, 'evidently': 5449, 'norms': 5450, 'dk': 5451, 'dps': 5452, 'contacted': 5453, \"'if\": 5454, 'privacy': 5455, 'incognito': 5456, \"mode'\": 5457, 'robbery': 5458, 'spidey': 5459, 'senses': 5460, 'tangled': 5461, 'directly': 5462, 'deplorable': 5463, 'humane': 5464, 'nkelly': 5465, 'hung': 5466, 'caballero': 5467, 'basketball': 5468, 'manufacture': 5469, 'burners': 5470, 'maxlevelz': 5471, 'cramps': 5472, 'multitasking': 5473, 'induce': 5474, 'seeds': 5475, 'laser': 5476, 'vista': 5477, 'lens': 5478, 'implantation': 5479, 'conversion': 5480, 'deck': 5481, 'fla': 5482, 'nv': 5483, 'annoy': 5484, 'flick': 5485, 'butterflies': 5486, 'bike': 5487, '“worry': 5488, 'payment': 5489, \"have'\": 5490, '\\xa0joyce': 5491, 'meyer': 5492, 'requested': 5493, 'tapping': 5494, 'crucial': 5495, 'pk': 5496, 'kal': 5497, 'boshan': 5498, 'involvement': 5499, 'destined': 5500, 'deatheaters': 5501, 'sensors': 5502, 'breakdown': 5503, 'rearrange': 5504, \"quickly'\": 5505, \"'smiled'\": 5506, 'bullied': 5507, 'archangelsummit': 5508, 'theres': 5509, 'boxes': 5510, 'google': 5511, 'chrome': 5512, 'frighten': 5513, 'twitch': 5514, 'allergic': 5515, \"mother's\": 5516, 'cowboys': 5517, '“what': 5518, 'masters': 5519, 'haddon': 5520, 'robinson': 5521, 'conditioner': 5522, 'shampooing': 5523, 'workers': 5524, 'shriekfest': 5525, 'lining': 5526, 'volunteers': 5527, 'rhabdo': 5528, '80s': 5529, 'users': 5530, 'ngt': 5531, 'producers': 5532, 'harassed': 5533, 'palace': 5534, 'error': 5535, 'moan': 5536, 'prevail': 5537, 'wholly': 5538, \"'reasonable'\": 5539, 'quarter': 5540, 'censored': 5541, 'spirits': 5542, 'strumbellas': 5543, \"'guns'\": 5544, \"'dreams'\": 5545, 'depending': 5546, 'cisco': 5547, 'ios': 5548, 'meltdown': 5549, 'hill': 5550, '69th': 5551, 'showboating': 5552, 'ahs6': 5553, \"'nope\": 5554, \"'move'\": 5555, \"'gtfo'\": 5556, 'tremble': 5557, 'eft': 5558, 'tool': 5559, 'curtis': 5560, 'behold': 5561, 'creeps': 5562, 'kyle': 5563, 'bbcan': 5564, 'heyyyy': 5565, 'warriors': 5566, 'revolution': 5567, 'dafron': 5568, 'bilal': 5569, 'abood': 5570, 'immigrant': 5571, 'mesquite': 5572, 'sentenced': 5573, 'unreasonable': 5574, 'fricking': 5575, 'insane': 5576, 'overweight': 5577, 'galore': 5578, 'nhappy': 5579, 'charged': 5580, '£40': 5581, 'arrived': 5582, 'thegreeninferno': 5583, 'throwback': 5584, 'host': 5585, 'potatoes': 5586, 'soaking': 5587, 'items': 5588, 'doctors': 5589, 'bride': 5590, 'wrap': 5591, 'makingamurderer': 5592, 'appeal': 5593, 'multitude': 5594, 'greatness': 5595, 'washing': 5596, 'facility': 5597, 'wheelchair': 5598, 'feud': 5599, 'corey': 5600, 'owe': 5601, 'narley': 5602, 'incite': 5603, 'life‼': 5604, \"'70's\": 5605, 'tad': 5606, '‘terrorist': 5607, 'state’': 5608, 'carries': 5609, 'winners': 5610, 'gryffindor': 5611, 'isp': 5612, 'rivertide': 5613, 'suites': 5614, 'seaside': 5615, '53ms': 5616, 'ping': 5617, 'rudeness': 5618, \"nthat's\": 5619, 'tastings': 5620, 'whisky': 5621, 'dufftown': 5622, 'sans': 5623, 'bla': 5624, 'ttp': 5625, 'avoidmmt': 5626, 'active': 5627, 'dyson': 5628, 'flashbacks': 5629, '»»»': 5630, 'ndreams': 5631, 'sits': 5632, 'basshunter': 5633, 'cal': 5634, 'aye': 5635, 'employment': 5636, \"india's\": 5637, '22000': 5638, 'massif': 5639, 'softer': 5640, 'imposuture': 5641, 'intellectuelle': 5642, 'finland': 5643, 'mike': 5644, '10pm': 5645, 'fufill': 5646, 'separation': 5647, 'historic': 5648, 'evangelical': 5649, 'donatists': 5650, 'clergy': 5651, 'fmr': 5652, 'circles': 5653, 'goodmorning': 5654, 'pave': 5655, 'miracle': 5656, 'sins': 5657, 'forgiveness': 5658, 'reflective': 5659, 'louder': 5660, 'profoundly': 5661, 'remedy': 5662, 'defect': 5663, 'platform': 5664, 'usapremiere': 5665, 'doors': 5666, 'advantage': 5667, 'qamp': 5668, 'dardanella': 5669, 'tesco': 5670, 'electron': 5671, '55': 5672, 'reference': 5673, 've': 5674, 'robbie': 5675, 'message': 5676, 'ridicule': 5677, 'undergraduate': 5678, 'adulthood': 5679, 'ruled': 5680, 'f1': 5681, 'cacking': 5682, 'knowledge': 5683, 'magpies': 5684, 'swooped': 5685, \"hadn't\": 5686, 'mikeandmolly': 5687, 'parallels': 5688, 'df': 5689, 'ii': 5690, 'counting': 5691, 'historically': 5692, \"chick's\": 5693, 'commercials': 5694, 'mcds': 5695, 'intimate': 5696, 'lifeguard': 5697, 'swimmers': 5698, 'vc': 5699, 'screaming': 5700, 'sims': 5701, 'dual': 5702, 'sim': 5703, 'locked': 5704, 'campus': 5705, 'moses': 5706, 'froch': 5707, 'kessler': 5708, 'excuses': 5709, 'soywax': 5710, 'edition': 5711, 'page': 5712, 'script': 5713, 'mfa': 5714, 'referees': 5715, 'amal': 5716, 'clooney': 5717, 'prosecute': 5718, 'blair': 5719, 'downamp': 5720, 'wat': 5721, 'lecturing': 5722, 'curbing': 5723, 'mexico': 5724, 'lib': 5725, 'presses': 5726, 'proposed': 5727, 'rooneys': 5728, 'untouchable': 5729, 'depay': 5730, 'decentishtonight': 5731, 'belichick': 5732, 'carried': 5733, 'stinks': 5734, 'whahibbi': 5735, 'sect': 5736, 'synonymous': 5737, 'drain': 5738, 'tamed': 5739, 'rockies': 5740, 'dbacks': 5741, 'nl': 5742, 'claimed': 5743, \"mum'a\": 5744, '60th': 5745, 'disconnected': 5746, 'rolling': 5747, 'kkk': 5748, 'minimum': 5749, 'wattch': 5750, 'bmth': 5751, 'fanfuckingtastic': 5752, \"jongdae's\": 5753, 'rumoured': 5754, 'wgm': 5755, 'potato': 5756, 'errrr': 5757, 'infuriating': 5758, 'div': 5759, 'yal': 5760, 'specifically': 5761, 'enemy': 5762, 'politicians': 5763, 'departing': 5764, 'inv': 5765, 'ezy864': 5766, \"'twenty's\": 5767, \"plenty'\": 5768, 'shoots': 5769, 'intelligent': 5770, 'monica': 5771, 'regularly': 5772, 'dared': 5773, 'buzz': 5774, 'sprayed': 5775, 'colleague': 5776, 'yhat': 5777, 'category': 5778, 'direct': 5779, 'flint': 5780, 'emo': 5781, 'combs': 5782, 'convenient': 5783, 'swore': 5784, \"parsnip'\": 5785, '40am': 5786, 'shennan': 5787, 'hotter': 5788, 'sauce': 5789, 'insecure': 5790, 'karev': 5791, 'throwing': 5792, 'daaaaaaamn': 5793, 'panpiper': 5794, 'river': 5795, 'sr1': 5796, 'sht': 5797, 'caption': 5798, 'definition': 5799, 'vandalism': 5800, 'blissful': 5801, 'edge': 5802, 'agin': 5803, 'feic': 5804, 'homework': 5805, 'tub': 5806, 'grapes': 5807, 'jv': 5808, 'stonington': 5809, 'waite': 5810, 'winakor': 5811, 'assist': 5812, 'drugs': 5813, 'opportunities': 5814, 'pitches': 5815, 'dancers': 5816, 'poison': 5817, \"o'clock\": 5818, 'dove': 5819, 'analogy': 5820, 'thurston': 5821, 'derby': 5822, 'muppet': 5823, 'goofballs': 5824, 'casuals': 5825, 'faved': 5826, 'statements': 5827, 'gurls': 5828, 'cumtribute': 5829, 'cock': 5830, 'sexist': 5831, 'plaits': 5832, 'morn': 5833, 'stroppy': 5834, 'incurable': 5835, \"std's\": 5836, 'pregnancy': 5837, 'slam': 5838, 'grasp': 5839, 'criminalized': 5840, 'diesel': 5841, 'garda': 5842, '75p': 5843, 'tube': 5844, 'smarties': 5845, 'popping': 5846, 'lid': 5847, 'homely': 5848, 'ease': 5849, 'argh': 5850, 'blinds': 5851, 'halp': 5852, 'onions': 5853, 'garlic': 5854, 'fell': 5855, 'difficult': 5856, 'capo': 5857, 'rs': 5858, 'marry': 5859, 'confimation': 5860, 'broadband': 5861, 'bastard': 5862, 'montanashay': 5863, 'cell': 5864, \"don'tcare\": 5865, 'ad': 5866, 'cancelling': 5867, 'fibe': 5868, 'arrange': 5869, 'jags': 5870, 'muscles': 5871, 'cardiac': 5872, 'titans': 5873, 'haney': 5874, 'showcase': 5875, 'frisco': 5876, 'tx': 5877, 'decorations': 5878, 'stefano': 5879, 'reflects': 5880, 'seed‼‼‼': 5881, 'wen': 5882, 'pen': 5883, 'compliment': 5884, 'preached': 5885, 'frustrates': 5886, 'misplacing': 5887, 'adam': 5888, 'upgrade': 5889, 'correction': 5890, '1449': 5891, \"'customer\": 5892, 'faulty': 5893, 'dryer': 5894, 'replacement': 5895, \"don'\": 5896, \"tweetin'\": 5897, 'wire': 5898, 'slushie': 5899, 'starved': 5900, 'species': 5901, 'cf': 5902, 'snacks': 5903, 'dam': 5904, 'siva': 5905, 'fragment': 5906, 'fellwinters': 5907, 'peak': 5908, 'delays': 5909, 'streatham': 5910, 'cmn': 5911, 'clap': 5912, 'junc': 5913, 'debating': 5914, 'income': 5915, 'lyrics': 5916, 'whaaaat': 5917, 'teef': 5918, 'diver': 5919, 'barred': 5920, 'olympics': 5921, 'smackdown': 5922, 'sword': 5923, 'indefensible': 5924, 'aspect': 5925, '4min': 5926, 'dammit': 5927, 'whays': 5928, 'involuntarily': 5929, 'hiya2247': 5930, 'slap': 5931, 'friedman': 5932, 'transgender': 5933, 'chipotle': 5934, 'rng': 5935, 'sticks': 5936, 'cones': 5937, '50k': 5938, 'nan': 5939, 'azerbaijan': 5940, 'drilling': 5941, 'rapid': 5942, 'plague': 5943, 'colinkaepernick': 5944, 'unjust': 5945, 'keithlamontscott': 5946, 'carolina': 5947, 'wondered': 5948, \"brad's\": 5949, 'gon': 5950, 'notorious': 5951, 'abc': 5952, 'peep': 5953, 'ngives': 5954, 'semi': 5955, 'crashing': 5956, 'postcode': 5957, 'easier': 5958, \"90's\": 5959, 'busted': 5960, 'thnx': 5961, 'lingys': 5962, 'truthful': 5963, 'withdrawals': 5964, 'slider': 5965, 'affective': 5966, 'hegemonists': 5967, 'weekday': 5968, 'schedule': 5969, \"kai's\": 5970, 'teens': 5971, 'sons': 5972, 'haircuts': 5973, 'hiring': 5974, 'soldiers': 5975, 'zones': 5976, 'engagement': 5977, 'cousins': 5978, 'mdw': 5979, 'layover': 5980, 'slc': 5981, 'bailed': 5982, 'horribly': 5983, 'slice': 5984, 'sopranos': 5985, 'trumpie': 5986, 'pretend': 5987, 'lgbt': 5988, 'airport': 5989, 'stage': 5990, 'rut': 5991, 'classical': 5992, 'perfection': 5993, 'flaws': 5994, 'whipping': 5995, 'rays': 5996, 'humorous': 5997, 'contention': 5998, 'hosting': 5999, 'visited': 6000, 'jaime': 6001, 'outing': 6002, 'endorsing': 6003, 'sav': 6004, 'responds': 6005, 'saddest': 6006, \"'yeah\": 6007, 'backyard': 6008, 'fog': 6009, \"ndoesn't\": 6010, 'skype': 6011, 'relapse': 6012, 'superb': 6013, 'newton': 6014, 'roblox': 6015, 'termianted': 6016, 'owned': 6017, 'conclusion': 6018, 'whataloadoftat': 6019, 'rm': 6020, 'nooooo': 6021, 'bell': 6022, 'jeezus': 6023, 'solos': 6024, 'cc': 6025, 'narrowed': 6026, 'gloria': 6027, 'nanny': 6028, 'appreciation': 6029, 'greatday': 6030, 'rei': 6031, 'exponentially': 6032, 'luckii': 6033, 'horny': 6034, 'autumnmemories': 6035, 'annabailey': 6036, 'sipping': 6037, 'pumpkinspice': 6038, 'flavored': 6039, 'nlet': 6040, 'rehoi': 6041, 'naja': 6042, 'ngood': 6043, 'funsville': 6044, 'omd': 6045, 'cracking': 6046, 'brian': 6047, 'vals': 6048, 'adoring': 6049, 'handmade': 6050, 'musthave': 6051, 'reid': 6052, 'included': 6053, 'taht': 6054, 'php54': 6055, 'challenging': 6056, 'peacelove': 6057, 'jummah': 6058, 'mubarak': 6059, '3abla': 6060, 'kaml': 6061, 'fg2a': 6062, 'kda': 6063, 'melbjs': 6064, 'brightens': 6065, '100000000': 6066, 'stupendous': 6067, 'opengym': 6068, 'congratulate': 6069, 'saudi': 6070, 'arabia': 6071, 'grinned': 6072, 'trondheim': 6073, 'productivity': 6074, 'worker': 6075, 'mints': 6076, 'freezer': 6077, \"'raising\": 6078, \"hope'\": 6079, 'bestinbusiness': 6080, 'parade': 6081, 'weans': 6082, 'jammies': 6083, 'glow': 6084, 'jumping': 6085, 'soo': 6086, 'mackinonns': 6087, 'mitts': 6088, 'silky': 6089, 'efficient': 6090, 'geniuses': 6091, 'redefine': 6092, 'actorslife': 6093, 'truelove': 6094, 'graceful': 6095, 'explicits': 6096, 'elegance': 6097, 'helpless': 6098, 'boostercourse': 6099, 'dept': 6100, \"'hello\": 6101, \"xmas'\": 6102, 'goodcustomerservice': 6103, 'mam': 6104, 'attempted': 6105, 'suffocate': 6106, 'cushion': 6107, 'beaming': 6108, 'madly': 6109, 'queendom': 6110, 'vallely': 6111, 'extended': 6112, 'zephaniah': 6113, 'profession': 6114, 'client': 6115, 'bowels': 6116, '“be': 6117, 'sid': 6118, 'espinosa': 6119, 'innovative': 6120, \"takeru's\": 6121, 'cutest': 6122, 'nga': 6123, 'ish': 6124, 'pto': 6125, 'doneeeee': 6126, 'savory': 6127, 'webiversary': 6128, 'mitzvah': 6129, \"smithsonian's\": 6130, 'lifequote': 6131, 'premiers': 6132, 'freudian': 6133, 'uff': 6134, 'arsenal': 6135, 'receive': 6136, 'glanced': 6137, 'garrett': 6138, 'elyse': 6139, 'createlove': 6140, 'compilations': 6141, 'sugarboy': 6142, 'hulu': 6143, 'totes': 6144, \"odell's\": 6145, \"'raaar'\": 6146, 'raining': 6147, 'ashland': 6148, 'parched': 6149, 'plants': 6150, 'tgit': 6151, 'superman': 6152, 'everone': 6153, 'entrepreneur': 6154, 'bunk': 6155, \"will'\": 6156, 'apj': 6157, 'bursting': 6158, 'selling': 6159, 'icon': 6160, 'pochama': 6161, 'nalways': 6162, 'goo': 6163, 'ndare': 6164, 'gby': 6165, 'liverpool': 6166, 'anfield': 6167, 'bird': 6168, 'gasp': 6169, 'underrated': 6170, 'hop': 6171, 'chock': 6172, 'bravado': 6173, 'gamaynoir': 6174, 'westbank': 6175, \"evenin'\": 6176, 'garageband': 6177, 'bffing': 6178, 'gosling': 6179, 'eva': 6180, 'mendes': 6181, 'argue': 6182, 'witout': 6183, 'elinor': 6184, 'sweetmeats': 6185, 'geo': 6186, 'capable': 6187, 'maine': 6188, 'coon': 6189, 'eddy': 6190, 'yeg': 6191, 'veteran': 6192, 'violently': 6193, 'rhythm': 6194, 'moves': 6195, 'n311': 6196, '553': 6197, 'champ': 6198, 'cookie': 6199, 'sends': 6200, 'adventures': 6201, 'pups': 6202, 'aaa': 6203, 'od': 6204, 'object': 6205, 'literature': 6206, 'wiser': 6207, 'poet': 6208, 'collapses': 6209, 'heap': 6210, 'smoky': 6211, 'scripted': 6212, 'ego': 6213, 'maniac': 6214, 'devout': 6215, 'phenomanal': 6216, 'attend': 6217, 'rcmh': 6218, 'wagging': 6219, 'tail': 6220, 'praise': 6221, 'paused': 6222, 'frisbee': 6223, 'kayaking': 6224, 'sevylor': 6225, 'inflatable': 6226, 'kayaks': 6227, 'eyggjxml': 6228, 'invaluable': 6229, '400': 6230, 'sq': 6231, 'ft': 6232, 'homestyle': 6233, 'noodles': 6234, \"mary's\": 6235, 'undying': 6236, 'shite': 6237, 'relations': 6238, \"dn't\": 6239, 'subscribe': 6240, 'coq': 6241, 'xhaka': 6242, 'title': 6243, 'engiybhekayo': 6244, 'yasezayoni': 6245, 'openhouse': 6246, 'futurecantor': 6247, 'tiburonchamber': 6248, 'skein': 6249, 'geese': 6250, 'swam': 6251, 'windermere': 6252, 'breeze': 6253, 'broad': 6254, \"n'yeah\": 6255, 'npursing': 6256, 'punchline': 6257, 'catering': 6258, \"channel's\": 6259, 'technics': 6260, 'symptomatize': 6261, 'vrlfeyrn': 6262, 'caressing': 6263, 'lick': 6264, 'introducing': 6265, 'inc': 6266, 'bjp': 6267, \"'drunken\": 6268, \"patroons'\": 6269, 'echoed': 6270, 'familiar': 6271, 'blossoming': 6272, 'rosy': 6273, 'brims': 6274, \"'mom\": 6275, 'django': 6276, 'unchained': 6277, 'titter': 6278, 'goggles': 6279, 'pocket': 6280, 'dabbed': 6281, 'invisible': 6282, 'ensue': 6283, 'egypt': 6284, 'scenery': 6285, 'affordable': 6286, 'sunriseyoga': 6287, 'bodyawareness': 6288, 'solved': 6289, 'transitioning': 6290, 'previous': 6291, 'ntomiho': 6292, 'ipaglabanmo': 6293, 'tapingday2': 6294, 'nother': 6295, \"'story'\": 6296, 'cutealert': 6297, 'lacan': 6298, \"infants'\": 6299, 'reactions': 6300, 'mouchole': 6301, 'ogre': 6302, 'enliven': 6303, 'angles': 6304, 'vest': 6305, 'tops': 6306, 'annual': 6307, 'labeled': 6308, 'wrinkling': 6309, \"'well\": 6310, 'smiled': 6311, 'ostentatious': 6312, 'scoffed': 6313, 'batman’s': 6314, 'damon': 6315, 'greengrass': 6316, 'po': 6317, 'entertainment': 6318, 'flushed': 6319, 'tightly': 6320, 'aspire': 6321, 'depict': 6322, 'viewers': 6323, 'janak': 6324, 'sef': 6325, 'climbed': 6326, 'windmill': 6327, 'av': 6328, 'muchlove': 6329, 'joysquote': 6330, 'skull': 6331, 'nsam': 6332, 'insure': 6333, 'lightly': 6334, 'moderately': 6335, 'cultivate': 6336, 'plot': 6337, 'admits': 6338, 'medically': 6339, 'killer': 6340, 'pens': 6341, 'defo': 6342, 'veg': 6343, 'gratin': 6344, 'vampire': 6345, 'yahweh': 6346, 'saves': 6347, 'emotionalhedge™': 6348, 'wps': 6349, 'mentioned': 6350, 'tamu': 6351, 'relive': 6352, \"vegas'\": 6353, 'stitches': 6354, 'clever': 6355, 'ritual': 6356, 'frolicsome': 6357, 'panda': 6358, 'eyed': 6359, 'jaws': 6360, 'unending': 6361, 'banquet': 6362, '\\xa0proverbs': 6363, 'mishle': 6364, 'mariners': 6365, 'strangely': 6366, 'meatloaf': 6367, 'winewednesday': 6368, 'repentance': 6369, 'trusting': 6370, 'lowly': 6371, 'glorious': 6372, 'nwho': 6373, 'scent': 6374, 'roses': 6375, 'orient': 6376, 'nmummified': 6377, 'rapeseed': 6378, 'fried': 6379, 'neating': 6380, 'thrilled': 6381, 'segment': 6382, 'taguchi': 6383, 'engineering': 6384, 'optimization': 6385, 'mqnaocu': 6386, 'zeth': 6387, 'benefit': 6388, 'jkuvmvqxy': 6389, 'hesitantly': 6390, 'brushing': 6391, 'against—': 6392, '“when': 6393, '”―maya': 6394, 'angelou': 6395, 'pictureday2016': 6396, 'emoticons': 6397, \"lion's\": 6398, 'nwill': 6399, 'stormy': 6400, 'prepped': 6401, \"n'it's\": 6402, 'alright': 6403, 'lowe': 6404, 'annotated': 6405, 'rasta': 6406, 'n»maya': 6407, 'waltzwithbashir': 6408, 'lebanon': 6409, 'versus': 6410, 'bqavtja': 6411, 'grudgingly': 6412, 'necessity': 6413, 'willingness': 6414, 'bizitalk': 6415, 'southyorkshire': 6416, 'mansfieldhour': 6417, 'soldier': 6418, 'converse': 6419, 'chests': 6420, 'caps': 6421, 'statutes': 6422, 'rejoices': 6423, 'riches': 6424, 'psalm': 6425, '119': 6426, '“don’t': 6427, 'fueled': 6428, 'aflame': 6429, 'servants': 6430, 'countenance': 6431, 'rivers': 6432, 'monotonous': 6433, 'various': 6434, 'tripping': 6435, 'spanish': 6436, 'maketh': 6437, 'barren': 6438, 'npraise': 6439, 'npsa113': 6440, 'biz': 6441, 'babe': 6442, 'ily': 6443, 'clapping': 6444, 'arts': 6445, 'educational': 6446, 'benefits': 6447, 'observingyou': 6448, 'allthetime': 6449, 'becareful': 6450, 'incetown': 6451, 'elevated': 6452, 'moron': 6453, 'genetics': 6454, 'brussels': 6455, 'sprouts': 6456, 'intermit': 6457, 'animatedncaa': 6458, 'pittsburgh': 6459, 'shiny': 6460, 'bbva': 6461, 'peg': 6462, 'telly': 6463, 'scra': 6464, 'turkish': 6465, 'shade': 6466, 'irruptive': 6467, 'twelvemonth': 6468, 'gobbler': 6469, 'nephalism': 6470, 'studio': 6471, 'accepts': 6472, 'hovering': 6473, 'actively': 6474, 'boobs': 6475, 'tatenashi': 6476, 'international': 6477, 'saltes': 6478, 'narkham’s': 6479, \"'passenger\": 6480, \"directions'\": 6481, 'selflessly': 6482, 'groans': 6483, 'caste': 6484, 'dies': 6485, 'chaudhry': 6486, 'tonite': 6487, 'rip30': 6488, 'keifer': 6489, 'regulation': 6490, 'shark': 6491, 'maliciously': 6492, 'crofting': 6493, 'loudon': 6494, 'diner': 6495, \"kap's\": 6496, '49ers': 6497, 'choked': 6498, 'sorta': 6499, 'peeping': 6500, 'phillips': 6501, 'strutting': 6502, 'juxtaposition': 6503, 'entirely': 6504, 'flawless': 6505, 'couch': 6506, 'nbreak': 6507, 'ntalk': 6508, 'microsoft': 6509, 'netframework4': 6510, '1fullplusbygora': 6511, 'interpreting': 6512, 'fitness': 6513, 'bodyposi': 6514, 'haircut': 6515, 'beautifully': 6516, 'sincere': 6517, 'balancing': 6518, \"kirby's\": 6519, 'panther': 6520, 'panel': 6521, 'unappetizing': 6522, 'laudrup': 6523, 'companions': 6524, '30s': 6525, 'guesses': 6526, 'amelie': 6527, 'kenneth': 6528, 'lara': 6529, 'betelgeuse': 6530, 'dedicated': 6531, 'regulus': 6532, 'greed': 6533, 'humbly': 6534, 'ley': 6535, 'gluttony': 6536, 'tipped': 6537, 'hire': 6538, \"'bye\": 6539, 'storing': 6540, 'furniture': 6541, 'eternity': 6542, '•days': 6543, 'shittalking': 6544, 'occasionally': 6545, 'nsfw': 6546, 'loveee': 6547, 'tagsforlikes': 6548, 'tflers': 6549, 'tweegram': 6550, 'photooftheday': 6551, '20likes': 6552, 'like4like': 6553, 'athenian': 6554, 'honoured': 6555, 'chimes': 6556, 'chime': 6557, 'adding': 6558, 'domestic': 6559, 'bliss': 6560, 'compromise': 6561, 'dignified': 6562, 'professional': 6563, 'funerals': 6564, 'satisfied': 6565, 'dwight': 6566, 'proficiency': 6567, 'beaches': 6568, 'pikxb': 6569, 'audience': 6570, 'sceen': 6571, 'realisation': 6572, 'bedtime': 6573, 'pinterest': 6574, 'dessert': 6575, 'pinning': 6576, 'visually': 6577, 'watering': 6578, 'sweets': 6579, 'grate': 6580, 'sweeping': 6581, 'evolvement': 6582, 'cmmyd': 6583, 'johnny': 6584, 'pals': 6585, 'flailing': 6586, 'bobs': 6587, 'hughes': 6588, 'stitch': 6589, \"abby's\": 6590, 'reckon': 6591, 'gulps': 6592, 'helluva': 6593, 'loading': 6594, 'websites': 6595, 'lkskqufke': 6596, 'warblers': 6597, 'acapella': 6598, 'gkn': 6599, 'boro': 6600, 'os': 6601, 'stewards': 6602, '8k': 6603, 'yoosung': 6604, 'assault': 6605, 'corridor': 6606, 'chd': 6607, 'gleesome': 6608, 'insults': 6609, 'occasional': 6610, \"80's\": 6611, 'stack': 6612, 'porthole': 6613, \"bull's\": 6614, 'transportation': 6615, 'cheerios': 6616, 'relate': 6617, \"o's\": 6618, 'rope': 6619, 'dense': 6620, 'hellorhighwater': 6621, 'unlimited': 6622, 'compiled': 6623, 'mattress': 6624, 'nhow': 6625, 'memorable': 6626, '1133': 6627, 'breakups': 6628, 'hms': 6629, \"pinafore'\": 6630, 'smth': 6631, 'fuckign': 6632, 'n10': 6633, 'harwood': 6634, 'liarthiefscoundrel': 6635, 'devoid': 6636, 'taco': 6637, 'bowls': 6638, 'carrell': 6639, 'drown': 6640, 'materialistic': 6641, 'rubbing': 6642, 'woolwich': 6643, 'arround': 6644, 'shoulders': 6645, 'unexpectedly': 6646, 'vents': 6647, 'doorjambs': 6648, 'oblivion': 6649, 'researching': 6650, 'ovet': 6651, '342': 6652, '147': 6653, 'waxen': 6654, 'neeze': 6655, 'merrier': 6656, 'mug': 6657, 'exhilarate': 6658, 'ounce': 6659, 'salespeople': 6660, '88': 6661, 'soothe': 6662, 'afflicted': 6663, 'shield': 6664, 'milspeak': 6665, 'blocking': 6666, 'diminish': 6667, 'observation': 6668, 'm’s': 6669, 'knitting': 6670, 'aren’t': 6671, 'grumbled': 6672, 'stool': 6673, 'defiantly': 6674, 'gesture': 6675, 'rachel': 6676, 'pole': 6677, '5th': 6678, 'mcdonalds': 6679, 'delegation': 6680, 'resident': 6681, 'tzxchldaq': 6682, 'bounty': 6683, 'mirana': 6684, 'stiff': 6685, 'upper': 6686, 'diplomacy': 6687, 'compatibility': 6688, 'lowers': 6689, 'hedonic': 6690, 'volatility': 6691, \"facebook's\": 6692, 'myspace': 6693, 'mombrain': 6694, 'toomuchgoingon': 6695, 'longday': 6696, \"lil'\": 6697, 'prematured': 6698, \"punkin'\": 6699, 'pricks': 6700, 'coffin': 6701, 'popularization': 6702, 'backfire': 6703, 'cinematography': 6704, 'xucqb': 6705, '01': 6706, 'sentient': 6707, '02': 6708, 'gn': 6709, '03': 6710, 'shipped': 6711, 'jungle': 6712, 'bulushi': 6713, \"'bed\": 6714, 'wyd': 6715, 'echoes': 6716, 'onesimplechange': 6717, 'fructose': 6718, 'carbonation': 6719, 'hssu': 6720, 'srpt': 6721, 'patients': 6722, \"mom's\": 6723, \"md's\": 6724, 'adcomm': 6725, 'subsidised': 6726, 'taxed': 6727, 'describes': 6728, \"'steady\": 6729, 'obnoxious': 6730, \"raper's\": 6731, 'badd': 6732, 'chooses': 6733, 'asshole': 6734, '“click': 6735, 'pause”': 6736, '“pause': 6737, 'inactive”': 6738, 'macos': 6739, 'crickets': 6740, 'idol': 6741, 'dilemma': 6742, 'blaiming': 6743, 'endorsement': 6744, 'biweekly': 6745, 'meetings': 6746, 'flakes': 6747, 'tambourines': 6748, 'lyre': 6749, 'fence': 6750, 'layout': 6751, 'gloriosa': 6752, 'bazigaga': 6753, 'rwanda': 6754, 'relatives': 6755, 'peacebuilding': 6756, \"power'\": 6757, 'criminal': 6758, 'denigrate': 6759, 'psa': 6760, 'obvious': 6761, 'gaudreau': 6762, 'risky': 6763, 'dan': 6764, 'categ': 6765, 'obc': 6766, 'nill': 6767, 'reservation': 6768, 'minimize': 6769, 'fut': 6770, 'shanghais': 6771, 'pampa': 6772, 'dingle': 6773, 'uudqujcia': 6774, \"president's\": 6775, 'unixware': 6776, 'skydrive': 6777, 'cokie': 6778, 'exactment': 6779, 'hephxho': 6780, 'itnis': 6781, 'coltsnation': 6782, '6th': 6783, 'string': 6784, 'harking': 6785, \"dt's\": 6786, 'frybread': 6787, 'werent': 6788, 'logically': 6789, 'photographer': 6790, 'portrait': 6791, 'frustrate': 6792, '75': 6793, 'waist': 6794, 'pinch': 6795, 'onstage': 6796, 'alleged': 6797, 'abuses': 6798, 'troops': 6799, 'suggesting': 6800, 'pinky': 6801, 'tinted': 6802, 'bounce': 6803, 'desgusting': 6804, 'mistook': 6805, 'anticipation': 6806, 'dg': 6807, 'tuhday': 6808, 'oilandgas': 6809, \"'how\": 6810, \"things'\": 6811, '4give': 6812, 'unchecked': 6813, \"who've\": 6814, 'onision': 6815, 'crowd': 6816, \"'we\": 6817, 'nigger': 6818, 'normy': 6819, 'humping': 6820, 'shred': 6821, 'rapidly': 6822, 'disappearing': 6823, 'phases': 6824, 'oscillation': 6825, 'pose': 6826, 'scarf': 6827, 'frivolity': 6828, 'priests': 6829, 'stupefied': 6830, 'roland': 6831, 'bainton': 6832, 'luther': 6833, \"'honorable\": 6834, \"senator'\": 6835, 'cease': 6836, 'overthinking': 6837, \"jus'\": 6838, 'pa': 6839, 'pos': 6840, 'tatinof': 6841, 'crowds': 6842, 'procrasting': 6843, 'rising': 6844, 'magnet': 6845, 'floating': 6846, 'universe': 6847, 'wah': 6848, 'frm': 6849, 'cosplaying': 6850, 'tooth': 6851, 'abscess': 6852, 'katherine': 6853, 'whos': 6854, 'recluse': 6855, 'hives': 6856, 'finals': 6857, 'replied': 6858, 'roof': 6859, 'provides': 6860, 'sheer': 6861, 'ekg': 6862, 'mankind': 6863, 'kno': 6864, 'diagnosis': 6865, \"somethin'\": 6866, 'ert': 6867, 'nvr': 6868, 'tablets': 6869, 'acupuncture': 6870, 'collegelife': 6871, 'bugs': 6872, 'crawling': 6873, 'waking': 6874, 'arab': 6875, 'basis': 6876, 'obamalegacy': 6877, '400k': 6878, 'syrians': 6879, 'jews': 6880, 'fleeing': 6881, 'persecution': 6882, 'redstate': 6883, 'havin': 6884, 'crawls': 6885, 'bum': 6886, 'tmrw': 6887, 'elementary': 6888, 'accounting': 6889, 'breathing': 6890, 'yooo': 6891, 'iphone7': 6892, 'crawl': 6893, 'induced': 6894, 'mommagrendel': 6895, 'bangladesh': 6896, 'bombed': 6897, 'strategy': 6898, 'ripe': 6899, 'crush': 6900, 'imagined': 6901, 'perilsoflivingalone': 6902, 'posh': 6903, 'mumbai': 6904, 'useallthehotwatershower': 6905, 'flinch': 6906, 'litigious': 6907, 'surrendered': 6908, 'visible': 6909, \"andrew's\": 6910, 'declare': 6911, 'shaun': 6912, 'redundant': 6913, 'irl': 6914, 'southafrica': 6915, 'focal': 6916, 'passport': 6917, 'lydiaaaa': 6918, 'zionist': 6919, 'nimagine': 6920, 'palestinian': 6921, 'nzionists': 6922, 'innocence': 6923, 'boyfriend': 6924, 'forcibly': 6925, 'nausea': 6926, 'headaches': 6927, 'references': 6928, 'scrubbed': 6929, 'federal': 6930, 'bombings': 6931, 'omit': 6932, 'journ': 6933, 'academic': 6934, 'nreally': 6935, 'creator': 6936, 'conclusions': 6937, 'unrest': 6938, 'aleppo': 6939, 'assad': 6940, 'regime': 6941, 'bombarding': 6942, 'whitephosphrus': 6943, 'bombs': 6944, \"better'\": 6945, 'tragedies': 6946, 'walls': 6947, 'meaindia': 6948, 'deffo': 6949, 'stability': 6950, 'climatechange': 6951, 'geopolitics': 6952, 'korea': 6953, 'vwo': 6954, 'soooo': 6955, 'administration': 6956, 'ignores': 6957, 'loc': 6958, '20th': 6959, 'wrote': 6960, 'ww3': 6961, 'ww1': 6962, 'effort': 6963, 'scarier': 6964, 'fade': 6965, 'brewer': 6966, 'clutter': 6967, 'processed': 6968, 'ivebeenbusierwhyamioverwhelmed': 6969, 'remix': 6970, \"'why'b\": 6971, 'terrencecrutcher': 6972, 'election2016': 6973, 'colinkapernick': 6974, '2much': 6975, 'morgue': 6976, 'reuters': 6977, 'dann': 6978, 'injured': 6979, 'glove': 6980, 'nyssaalghul': 6981, 'indifference': 6982, 'coyotes': 6983, 'meadow': 6984, 'pines': 6985, 'naive': 6986, 'ou': 6987, 'aloneinthecity': 6988, 'phedophiliac': 6989, 'proposes': 6990, 'freaky': 6991, 'hallucination': 6992, 'square': 6993, 'samuel': 6994, 'beckett': 6995, 'navazsharif': 6996, 'distinction': 6997, 'spare': 6998, 'kashmirissue': 6999, 'jiho': 7000, 'chronicpain': 7001, 'malice': 7002, 'estranged': 7003, 'unprepared': 7004, 'professors': 7005, 'emergency': 7006, 'protocols': 7007, 'becz': 7008, 'urself': 7009, 'tense': 7010, 'rand': 7011, 'fueling': 7012, 'worsening': 7013, 'yemen': 7014, 'motherland': 7015, 'ashamed': 7016, 'ally': 7017, '50000': 7018, 'siding': 7019, 'shaming': 7020, 'vast': 7021, 'sanctions': 7022, 'impose': 7023, 'sif': 7024, 'drained': 7025, 'cowardliness': 7026, 'blatant': 7027, 'kulbhushanyadav': 7028, 'arrested': 7029, 'misogynistic': 7030, 'hes': 7031, \"muzzy's\": 7032, 'apprehensive': 7033, \"boy'\": 7034, 'etates': 7035, 'unit': 7036, 'jimmydore': 7037, 'raisingtheboss': 7038, 'oligarchs': 7039, 'yous': 7040, 'pelting': 7041, 'vandalizing': 7042, 'gather': 7043, 'undergoing': 7044, 'sapient': 7045, 'themself': 7046, 'librarians': 7047, 'whitepeople': 7048, 'consumer': 7049, 'unregulated': 7050, 'khalistaan': 7051, 'messy': 7052, 'noooo': 7053, 'nomorehammocks': 7054, 'confesses': 7055, 'comparison': 7056, 'emulate': 7057, \"israel's\": 7058, 'protecting': 7059, 'approach': 7060, 'immigration': 7061, 'perceive': 7062, 'islamist': 7063, 'ideology': 7064, 'conservative': 7065, 'typos': 7066, 'ramble': 7067, 'liscence': 7068, 'better2day': 7069, 'dictator': 7070, 'sharia': 7071, 'pause': 7072, 'nabandonment': 7073, 'tongues': 7074, 'concede': 7075, 'slump': 7076, 'lool': 7077, 'mensah': 7078, 'northamptons': 7079, 'grad': 7080, 'shallowness': 7081, 'arguments': 7082, 'harboring': 7083, 'haqqani': 7084, \"ndidn't\": 7085, '2000': 7086, 'county': 7087, 'donnie': 7088, 'trumpeter': 7089, 'vapid': 7090, 'vacant': 7091, 'viper': 7092, 'slithering': 7093, 'hoys': 7094, 'communism': 7095, 'taller': 7096, 'admiring': 7097, 'uspol': 7098, \"2day's\": 7099, 'addresses': 7100, 'malins': 7101, 'surging': 7102, 'mccreadie': 7103, 'neutral': 7104, 'headline': 7105, 'indicates': 7106, 'peers': 7107, \"'please\": 7108, 'newyork': 7109, 'baloch': 7110, 'activists': 7111, 'demonstrations': 7112, 'headquarters': 7113, 'demanding': 7114, 'exporting': 7115, 'socialanxiety': 7116, \"fixer'\": 7117, \"david's\": 7118, 'suffers': 7119, 'aniston': 7120, \"angelino's\": 7121, 'rollover': 7122, 'warren': 7123, 'sickening': 7124, 'windows10': 7125, 'purging': 7126, 'kenya': 7127, 'elite': 7128, 'purge': 7129, 'choppers': 7130, 'tasked': 7131, 'demolition': 7132, \"'renunciation\": 7133, \"lies'\": 7134, 'insomnia': 7135, 'ere': 7136, 'disaster': 7137, 'header': 7138, 'loot': 7139, 'riot': 7140, 'nviolence': 7141, 'anarchy': 7142, 'percentage': 7143, 'teachers': 7144, 'ingle': 7145, 'bone': 7146, '4yo': 7147, 'gothcore': 7148, \"'too\": 7149, \"spooky'\": 7150, 'delusions': 7151, 'inevitable': 7152, 'frisk': 7153, 'deblasio': 7154, 'rein': 7155, 'ipca': 7156, 'indulges': 7157, 'vilifying': 7158, 'minorities': 7159, 'lowmood': 7160, 'wellbeing': 7161, 'courses': 7162, 'louth': 7163, '0303': 7164, '123': 7165, '4000': 7166, 'kapernick': 7167, 'kneeling': 7168, 'athlete': 7169, 'milo': 7170, 'sense—not': 7171, 'that—but': 7172, 'celebrating': 7173, 'puckish': 7174, 'cooperation': 7175, 'flutter': 7176, 'falike': 7177, \"fa's\": 7178, 'gus': 7179, 'stunning': 7180, 'drew': 7181, \"guy's\": 7182, \"att'n\": 7183, \"stall's\": 7184, 'towels': 7185, 'incomprehension': 7186, 'hve': 7187, 'nsame': 7188, 'npak': 7189, 'hypocritical': 7190, 'millions': 7191, 'rotherham': 7192, 'dwarfed': 7193, 'ahve': 7194, 'skills': 7195, \"thomas'\": 7196, \"group's\": 7197, 'evident': 7198, \"'igt\": 7199, 'populace': 7200, \"'coercion\": 7201, \"intimidation'\": 7202, 'scrapbook': 7203, 'indianarmedforces': 7204, 'bases': 7205, 'interference': 7206, 'sheikhhasina': 7207, 'urges': 7208, 'unroot': 7209, 'crackheads': 7210, 'islands': 7211, 'expressscripts': 7212, 'goldmedal': 7213, 'futile': 7214, 'promote': 7215, 'battlefield': 7216, 'horn': 7217, 'farless': 7218, \"'is\": 7219, 'decline': 7220, 'fullofshit': 7221, 'thiza': 7222, 'bae': 7223, 'benghazi': 7224, 'colinpowell': 7225, 'munich': 7226, \"'half\": 7227, 'swayed': 7228, 'realm': 7229, 'sponsor': 7230, 'illiteracy': 7231, 'extent': 7232, 'agents': 7233, 'rescued': 7234, 'medicating': 7235, 'burying': 7236, 'manifest': 7237, 'people’s': 7238, 'deepest': 7239, 'passions': 7240, 'admit': 7241, 'needy': 7242, '3years': 7243, 'westgate': 7244, 'nairobi': 7245, 'damnnit': 7246, '1400': 7247, 'pts': 7248, 'chiefs': 7249, 'rewards': 7250, 'riggedsystem': 7251, \"'soggy\": 7252, \"bottom'\": 7253, 'keeper': 7254, '‘make': 7255, 'trumppuppet': 7256, 'felon': 7257, 'unf': 7258, 'partially': 7259, 'sighted': 7260, 'pushchair': 7261, 'lakeside': 7262, 'youfm': 7263, 'tg': 7264, 'nike': 7265, 'hillaryclinton': 7266, 'berniesanders': 7267, 'millennials': 7268, 'potus': 7269, 'jillstein': 7270, 'culprits': 7271, 'sale': 7272, 'cynical': 7273, 'nigeria': 7274, 'paradox': 7275, 'encroachment': 7276, 'unconditionally': 7277, 'enforcers': 7278, 'debunking': 7279, 'symptom': 7280, 'vicious': 7281, 'presidenttrump': 7282, 'congressional': 7283, 'hearings': 7284, '1n': 7285, 'introduced': 7286, 'wholeworld': 7287, 'presidentialdebate': 7288, 'presidentialelection2016': 7289, 'orangehitler': 7290, 'skip': 7291, 'combating': 7292, 'poverty': 7293, 'ncomment': 7294, 'ronaldo': 7295, 'bellaissocute': 7296, \"past's\": 7297, 'remarkable': 7298, 'loner': 7299, 'extremist': 7300, 'impulsive': 7301, 'critics': 7302, 'opponents': 7303, 'encountered': 7304, 'require': 7305, 'dna': 7306, 'dropping': 7307, 'nw': 7308, 'calgary': 7309, 'nthese': 7310, 'toldeo': 7311, 'negatives': 7312, 'marniemccormack': 7313, 'bodybuilding': 7314, 'megaphone': 7315, 'xxx': 7316, 'nierstein': 7317, \"'players'\": 7318, 'hots': 7319, 'uncooperative': 7320, '500th': 7321, 'indvsnz': 7322, 'madame': 7323, 'mutuals': 7324, 'deceived': 7325, 'cleared': 7326, 'dispel': 7327, 'termination': 7328, 'anonymous': 7329, 'arm': 7330, 'farting': 7331, 'empathetic': 7332, 'clintonmafia': 7333, 'toxin': 7334, 'abounds': 7335, 'appauling': 7336, 'bend': 7337, 'pundits': 7338, 'criticise': 7339, 'handicap': 7340, 'dodger': 7341, 'agg': 7342, 'shameless': 7343, 'selfish': 7344, 'enveloped': 7345, 'strawberry': 7346, 'scented': 7347, 'vape': 7348, 'urghh': 7349, \"policy'\": 7350, 'blasio': 7351, 'giuliani': 7352, \"'broken\": 7353, \"'pecking\": 7354, \"order'\": 7355, 'resist': 7356, 'petrify': 7357, 'fossil': 7358, 'shucks': 7359, 'gerrard': 7360, 'charisma': 7361, 'coked': 7362, 'phoneprovider': 7363, 'badbusiness': 7364, 'cappuccino': 7365, 'layer': 7366, 'foam': 7367, 'hsm2': 7368, \"'genocide'\": 7369, 'smaller': 7370, 'orwellian': 7371, \"'banter'\": 7372, 'craigen': 7373, 'spoils': 7374, 'afterlife': 7375, 'rates': 7376, '990': 7377, 'employee': 7378, 'zilch': 7379, 't20': 7380, 'odi': 7381, 'hitter': 7382, 'ie': 7383, 'locks': 7384, 'affect': 7385, 'i’d': 7386, 'nadia': 7387, 'werewolves': 7388, 'breaker': 7389, 'jus': 7390, 'niall': 7391, 'blairwitch': 7392, 'blairwitchproject': 7393, 'unafraid': 7394, 'recall': 7395, 'nagainst': 7396, 'furries': 7397, 'suspend': 7398, 'hunters': 7399, \"'daddy'\": 7400, 'debo': 7401, 'avanquest': 7402, 'software': 7403, \"charlotte's\": 7404, 'applaud': 7405, 'authority': 7406, 'elders': 7407, 'gross': 7408, 'bnc': 7409, 'kach': 7410, 'atltraffic': 7411, 'officerexpressed': 7412, 'impliedw': 7413, 'ewr': 7414, '10am': 7415, '5pm': 7416, 'crappy': 7417, 'elizabeth': 7418, 'bennett': 7419, 'objectively': 7420, 'nyg': 7421, 'farewell': 7422, 'et': 7423, 'assistants': 7424, 'hangers': 7425, 'carbon': 7426, 'monoxide': 7427, 'batteries': 7428, 'cowardly': 7429, 'mans': 7430, 'thirdbasecoach': 7431, 'alongside': 7432, \"fox's\": 7433, 'consequence': 7434, 'positioning': 7435, 'russel': 7436, 'trix': 7437, 'rhow': 7438, 'quiver': 7439, 'syndrome': 7440, 'aquila': 7441, 'ajahnae': 7442, 'euriechsa': 7443, 'tracey': 7444, 'stfu': 7445, 'flavour': 7446, 'turnt': 7447, 'ruint': 7448, 'firesauce': 7449, 'hotsauce': 7450, 'mildsauce': 7451, 'getsauced': 7452, 'champagnedreams': 7453, 'gta': 7454, 'shutup': 7455, 'relight': 7456, 'essence': 7457, 'preset': 7458, 'inconvenience': 7459, 'noted': 7460, 'rgds': 7461, 'abhijit': 7462, 'laziness': 7463, \"'kylie\": 7464, 'crust': 7465, 'grades': 7466, 'pauline': 7467, 'epistles': 7468, 'countless': 7469, 'emphasis': 7470, \"'keeping\": 7471, \"together'\": 7472, 'guiding': 7473, '339': 7474, '709': 7475, 'habitation': 7476, 'nsuch': 7477, 'flaked': 7478, 'tattooing': 7479, 'specialise': 7480, 'bigman': 7481, 'zone': 7482, 'risks': 7483, 'nface': 7484, 'eric': 7485, 'wince': 7486, 'gb': 7487, 'kalil': 7488, 'strongest': 7489, 'asset': 7490, \"'accident\": 7491, \"forgiveness'\": 7492, 'whatsoever': 7493, 'divorcing': 7494, 'phew': 7495, 'tulle': 7496, 'ribbon': 7497, 'transform': 7498, 'hardships': 7499, 'spx': 7500, 'crossword': 7501, 'oat': 7502, 'solitary': 7503, 'respecting': 7504, 'portentous': 7505, 'nutrient': 7506, 'rootstock': 7507, 'scruple': 7508, 'failur': 7509, 'mensa': 7510, 'premier': 7511, 'reserves': 7512, 'ps4pro': 7513, 'mistrust': 7514, 'justified': 7515, 'precaution': 7516, 'prudent': 7517, 'atheism': 7518, 'theism': 7519, 'isn’t': 7520, 'stopbullying': 7521, 'eaxh': 7522, 'lsat': 7523, 'computer': 7524, 'misspelled': 7525, 'indiedev': 7526, '3amdeadtime': 7527, 'lovingly': 7528, 'asses': 7529, 'partisan': 7530, 'chait': 7531, 'anyyyyone': 7532, 'revitalize': 7533, 'clevelandhustles': 7534, 'task': 7535, 'wtvr': 7536, 'expat': 7537, 'craving': 7538, 'literary': 7539, \"him's\": 7540, '034': 7541, '42': 7542, '080': 7543, \"'magnitude'\": 7544, '25kish': 7545, 'teamna': 7546, 'wch2016': 7547, 'freekick': 7548, 'spookytv': 7549, 'notcool': 7550, 'abraham': 7551, 'lincoln': 7552, 'penalty': 7553, 'bayer': 7554, 'destroys': 7555, 'bestadvice': 7556, 'movienight': 7557, 'dialing': 7558, 'no1': 7559, 'knw': 7560, 'startups': 7561, 'dnt': 7562, 'glossinger': 7563, 'nobler': 7564, 'admitting': 7565, 'cantstoplaughing': 7566, 'aliens': 7567, 'gore': 7568, 'sith': 7569, 'portion': 7570, '57': 7571, 'wazza': 7572, 'sitter': 7573, 'wouldve': 7574, 'buried': 7575, 'confiaejce': 7576, 'mcintyre': 7577, 'chappy': 7578, 'nbecause': 7579, 'argentina': 7580, 'ep22': 7581, 'granger': 7582, \"'p\": 7583, 'draftsamp': 7584, \"'o\": 7585, 'sede': 7586, 'publictransport': 7587, 'canberraairport': 7588, 'barr': 7589, 'childrenofmen': 7590, 'ncages': 7591, 'precious': 7592, \"'harder\": 7593, 'whispered': 7594, 'index': 7595, 'stroked': 7596, 'waistband': 7597, 'junk': 7598, 'scientist': 7599, 'builds': 7600, 'assistant': 7601, 'junky': 7602, 'modric': 7603, 'bernabéu': 7604, 'viallreal': 7605, 'fazed': 7606, 'quiz': 7607, 'trivial': 7608, 'jon': 7609, 'acuff': 7610, 'tnf': 7611, 'texansarebad': 7612, 'sexy': 7613, 'americanairlines': 7614, 'americanairlinessucks': 7615, 'aateam': 7616, 'hardyboys': 7617, 'impactonpop': 7618, 'offerings': 7619, 'kejriwal': 7620, 'governance': 7621, 'soda': 7622, 'gonzaga': 7623, 'top10': 7624, 'bobmarley': 7625, 'tires': 7626, 'fwm': 7627, 'healthcareit': 7628, 'connector': 7629, 'writer': 7630, 'ai': 7631, 'eq': 7632, 'bigdata': 7633, 'growthhacking': 7634, 'tech': 7635, 'matthews': 7636, 'brotein': 7637, 'officaly': 7638, 'streaming': 7639, 'hen': 7640, 'snowdenmovie': 7641, 'thriller': 7642, 'religious': 7643, 'scaredy': 7644, 'haunted': 7645, 'cobblers': 7646, 'gorre': 7647, 'footballler': 7648, 'thursdaythoughts': 7649, 'yourpushfactor': 7650, 'headers': 7651, 'vivid': 7652, 'someonegt': 7653, 'jury': 7654, 'humanism': 7655, 'barack': 7656, 'accomplish': 7657, 'onlinemarketing': 7658, 'solopreneur': 7659, 'bud': 7660, 'justify': 7661, 'continuation': 7662, 'sequels': 7663, 'spinoffs': 7664, 'sike': 7665, 'nana': 7666, 'studios': 7667, 'bozzelli': 7668, 'benevans': 7669, 'rely': 7670, 'suggestions': 7671, 'dug': 7672, 'gimme': 7673, 'cycling': 7674, 'calves': 7675, 'horrendous': 7676, 'ark': 7677, 'nogood': 7678, 'contrib': 7679, 'looping': 7680, 'assoc': 7681, 'ed': 7682, 'juliana': 7683, \"nerd'\": 7684, 'nickels': 7685, 'earhole': 7686, 'tasks': 7687, 'ka': 7688, \"81'\": 7689, 'vidar': 7690, 'kjartansson': 7691, 'dor': 7692, 'micha': 7693, 'gentlemen': 7694, 'nafter': 7695, 'panamaleaks': 7696, 'presenting': 7697, 'bahamasleaks': 7698, 'qualm': 7699, 'theological': 7700, 'theologically': 7701, 'manup': 7702, 'houvsne': 7703, 'jim': 7704, \"lehrer's\": 7705, 'yards': 7706, '000': 7707, 'bowman': 7708, '279': 7709, '168': 7710, 'roosevelt': 7711, '095': 7712, 'hahahaa': 7713, 'equestrian': 7714, 'seamlessly': 7715, 'nougat': 7716, 'diminishes': 7717, '–rosa': 7718, 'southpark': 7719, 'mellogang': 7720, 'compare': 7721, 'scrubs': 7722, 'ben': 7723, 'dl': 7724, 'exited': 7725, 'pround': 7726, 'colleen': 7727, 'merlin': 7728, 'getsmartwitharq': 7729, 'whiteicenetwork': 7730, 'skilled': 7731, 'manpower': 7732, 'cnt': 7733, 'athabasca': 7734, \"heart'\": 7735, 'mattmilne76': 7736, 'boosts': 7737, 'expansive': 7738, \"cooper's\": 7739, 'farther': 7740, 'madam': 7741, 'queries': 7742, 'meantime': 7743, 'twooo': 7744, 'adventure': 7745, \"'meeting'\": 7746, 'nola': 7747, 'barista': 7748, 'rocklandcounty': 7749, 'ravis': 7750, 'suffern': 7751, 'chef': 7752, \"'twitter'\": 7753, '100g': 7754, 'banana': 7755, '1c': 7756, '1tbsp': 7757, 'chia': 7758, 'pb2': 7759, 'lyle': 7760, 'sweetheart': 7761, 'incensed': 7762, 'inspires': 7763, 'gra': 7764, 'stops': 7765, 'lawn': 7766, 'mower': 7767, 'bastards': 7768, \"people'\": 7769, 'transformed': 7770, 'billed': 7771, 'mexican': 7772, 'welfare': 7773, 'allllat': 7774, 'mf': 7775, 'greedy': 7776, 'mooching': 7777, 'snarl': 7778, 'prebooked': 7779, 'taxi': 7780, 'hateful': 7781, 'fag': 7782, 'ikr': 7783, 'boycotting': 7784, 'pecan': 7785, 'naay': 7786, 'gaps': 7787, 'packaging': 7788, 'seller': 7789, 'hajime': 7790, 'strawmen': 7791, 'littlest': 7792, 'angers': 7793, 'yuppie': 7794, 'progressives': 7795, 'assed': 7796, 'cheeky': 7797, 'squashie': 7798, 'lvg': 7799, 'bribed': 7800, 'foul': 7801, 'shitless': 7802, 'therewillbeblood': 7803, 'ca': 7804, 'dave': 7805, 'cba': 7806, 'ahahah': 7807, 'multimillionaire': 7808, 'spoiled': 7809, 'brat': 7810, 'starter': 7811, 'bye': 7812, 'rile': 7813, 'stfuuu': 7814, 'wallah': 7815, 'bff': 7816, \"'shoot'\": 7817, 'thug': 7818, 'carrying': 7819, 'illegally': 7820, 'inch': 7821, 'favorites': 7822, 'toofaced': 7823, 'associate': 7824, 'crookedcourt': 7825, 'killings': 7826, 'petits': 7827, 'hayes': 7828, \"to'why\": 7829, 'misled': 7830, 'ticketing': 7831, 'bpharm4': 7832, 'eish': 7833, 'nje': 7834, '2hr': 7835, 'volleyball': 7836, 'artefact': 7837, \"'congratulations\": 7838, \"activated'\": 7839, 'charges': 7840, '£34': 7841, 'parenting': 7842, 'grizzly': 7843, 'scatter': 7844, \"nthey're\": 7845, \"tom's\": 7846, 'whom': 7847, 'nothappy': 7848, 'fullprice': 7849, 'bestrides': 7850, 'gum': 7851, 'nonsensical': 7852, 'destroying': 7853, 'misdirected': 7854, 'swines': 7855, 'drag': 7856, 'routes': 7857, 'fever': 7858, \"'cuck'\": 7859, 'reform': 7860, 'reeling': 7861, 'exploding': 7862, 'epicenter': 7863, 'monalisa': 7864, 'bundle': 7865, 'becouse': 7866, 'cleanse': 7867, 'spurs': 7868, 'commentator': 7869, 'mauricio': 7870, \"'mopo'\": 7871, 'surge': 7872, '•my': 7873, 'grabbed': 7874, 'assure': 7875, 'increasing': 7876, 'arrogance': 7877, 'westminster': 7878, 'corrupted': 7879, 'baylor': 7880, 'verification': 7881, '5live': 7882, 'extend': 7883, '606': 7884, 'detail': 7885, 'rudely': 7886, 'feminist': 7887, 'cas': 7888, 'yh': 7889, 'apologists': 7890, 'mindless': 7891, 'creeds': 7892, 'castrated': 7893, 'ridden': 7894, 'eaten': 7895, 'flesh': 7896, 'detest': 7897, 'screenshotted': 7898, 'spitting': 7899, 'venom': 7900, 'stripe': 7901, 'porch': 7902, 'sin': 7903, \"'shit'\": 7904, 'intentional': 7905, 'intention': 7906, 'systemic': 7907, 'drone': 7908, 'screwed': 7909, 'whenwillitstop': 7910, 'mfs': 7911, 'byeeeeeeee': 7912, '100s': 7913, 'inpouring': 7914, 'subsist': 7915, 'quaint': 7916, 'virtuoso': 7917, 'hypocrite': 7918, 'likegt': 7919, 'hw': 7920, 'fatalistic': 7921, 'conduct': 7922, 'intended': 7923, 'world”': 7924, 'frequencies': 7925, 'janieck': 7926, 'devy': 7927, 'gestort': 7928, 'aber': 7929, 'geil': 7930, \"remix'\": 7931, 'shoutdrive': 7932, \"'eye\": 7933, \"eye'\": 7934, 'forgives': 7935, 'forgets': 7936, 'shaker': 7937, 'fists': 7938, 'intense': 7939, 'aa': 7940, 'stan': 7941, 'pets': 7942, 'vets': 7943, 'durban': 7944, 'africa': 7945, 'surfed': 7946, 'stung': 7947, 'carefull': 7948, 'bang': 7949, 'accused': 7950, 'abusing': 7951, 'gazillion': 7952, 'parrots': 7953, 'petition': 7954, 'maghrebi': 7955, 'poc': 7956, \"'couscous'\": 7957, 'couscous': 7958, 'helium': 7959, \"'today's\": 7960, 'proceedings': 7961, 'constituents': 7962, 'heavier': 7963, 'amongst': 7964, 'bog': 7965, 'stingrays': 7966, 'irwin': 7967, 'biological': 7968, 'sensible': 7969, 'incentivise': 7970, 'roam': 7971, 'morally': 7972, 'person™': 7973, 'ravi': 7974, 'tirade': 7975, 'cricket': 7976, 'sjw': 7977, 'connivers': 7978, 'thieves': 7979, 'growling': 7980, 'restrained': 7981, 'curse': 7982, 'hamstring': 7983, 'cramp': 7984, 'arsed': 7985, 'expac': 7986, \"'evolution'\": 7987, 'echo': 7988, 'chamber': 7989, 'reverb': 7990, 'jojo': 7991, 'wryyyyyy': 7992, 'unprovoked': 7993, 'disgracefulesin': 7994, 'accidetly': 7995, 'dumped': 7996, 'corpse': 7997, 'promoters': 7998, 'donalds': 7999, \"adored'\": 8000, 'alwayss': 8001, 'sings': 8002, \"dog'\": 8003, 'slipper': 8004, 'maddie': 8005, 'tuh': 8006, 'hudcomedy': 8007, 'adamrowe': 8008, 'slutfaceshlongnugget': 8009, 'screw': 8010, 'elec': 8011, 'weirdos': 8012, 'deaths': 8013, 'widely': 8014, \"'personal\": 8015, \"accountability'\": 8016, \"'comedy'\": 8017, 'occurs': 8018, 'pap': 8019, 'progrm': 8020, 'coupons': 8021, 'rebates': 8022, 'labour': 8023, 'resorted': 8024, 'cryptic': 8025, 'src': 8026, 'deployment': 8027, 'ku': 8028, 'macom': 8029, 'foreveralone': 8030, 'zandu': 8031, 'balm': 8032, 'acid': 8033, 'vessel': 8034, 'stored': 8035, '£10': 8036, 'shimmy': 8037, '£1': 8038, 'fancypants': 8039, \"saddler's\": 8040, 'opt': 8041, 'legitimate': 8042, 'entity': 8043, 'feeding': 8044, 'quatrains': 8045, 'hmmm': 8046, 'vigilant': 8047, 'huma': 8048, \"'clam\": 8049, 'bradangelina': 8050, \"ex's\": 8051, 'whatprankishoulddo': 8052, 'despise': 8053, 'rebuke': 8054, 'disciplines': 8055, 'expressing': 8056, 'puerto': 8057, 'rican': 8058, 'taino': 8059, 'mechanism': 8060, 'oops': 8061, \"'white\": 8062, \"devil'\": 8063, 'ghuskmarenge': 8064, 'unpredictable': 8065, 'lethal': 8066, 'coordinators': 8067, 'pipes': 8068, 'viral': 8069, 'ballet': 8070, 'wrongfully': 8071, 'stick': 8072, 'models': 8073, 'pointe': 8074, 'griffin': 8075, 'sara': 8076, 'sagin': 8077, 'screened': 8078, 'narcissistic': 8079, 'doll': 8080, 'creature': 8081, 'touchline': 8082, 'shouts': 8083, 'jamming': 8084, 'hbu': 8085, 'cousin': 8086, 'whispers': 8087, 'lerman': 8088, 'centerpiece': 8089, 'thatmoment': 8090, 'worstcelebritycooks': 8091, 'kylexy': 8092, 'rational': 8093, 'visceral': 8094, 'evanora': 8095, 'hoped': 8096, 'creatures': 8097, 'gg': 8098, 'significantly': 8099, 'chilled': 8100, 'walter': 8101, 'mitty': 8102, 'rodgers': 8103, 'baskets': 8104, 'fbi': 8105, 'danny': 8106, 'bradley': 8107, 'pacquaio': 8108, 'frampton': 8109, 'related': 8110, 'mainstream': 8111, 'clarkeson': 8112, 'kneel': 8113, 'troll': 8114, 'accusing': 8115, 'csa': 8116, 'apologist': 8117, 'portland': 8118, 'feodal': 8119, 'correlative': 8120, 'snorting': 8121, 'xlzjyhg': 8122, 'ugliest': 8123, 'survival': 8124, 'territorial': 8125, '93': 8126, \"law's\": 8127, 'prosecution': 8128, 'imprisonment': 8129, 'belittling': 8130, 'kitty': 8131, 'lift': 8132, 'aboard': 8133, 'wycelv': 8134, 'firefighting': 8135, 'voiceover': 8136, 'calorie': 8137, 'savage': 8138, 'uhoh': 8139, 'thrive': 8140, 'ewu': 8141, 'overseer': 8142, 'itunes': 8143, 'vinyl': 8144, 'veggie': 8145, 'dripping': 8146, 'nihilism': 8147, '3d': 8148, 'egyptian': 8149, 'officials': 8150, 'administration’s': 8151, 'brotherhood': 8152, 'pathetically': 8153, 'sympathy': 8154, 'twirl': 8155, 'moustache': 8156, 'donal': 8157, 'óg': 8158, 'cork': 8159, 'dopey': 8160, 'frank': 8161, 'disdain': 8162, 'hairline': 8163, 'expansion': 8164, 'softballs': 8165, 'fallon': 8166, 'ldquo': 8167, 'softballamp': 8168, 'rdquo': 8169, 'furrow': 8170, 'redden': 8171, 'unattractive': 8172, \"wukong's\": 8173, 'fwendz': 8174, 'yalls': 8175, 'chop': 8176, 'discussing': 8177, 'digs': 8178, \"75'\": 8179, 'tierney': 8180, 'defence': 8181, 'backtoreality': 8182, 'pipe': 8183, 'thirst': 8184, 'provoked': 8185, 'dumbed': 8186, 'simplified': 8187, 'complicated': 8188, 'melting': 8189, 'immaturity': 8190, 'terencecruther': 8191, 'ngrasp': 8192, 'cobalt': 8193, 'ignite': 8194, 'hue': 8195, 'directtv': 8196, \"anything'\": 8197, 'develops': 8198, 'ranger': 8199, 'representation': 8200, 'shrug': 8201, 'unresolved': 8202, 'unleashing': 8203, 'cain': 8204, 'tennessee': 8205, 'it1': 8206, 'jayme': 8207, 'controlling': 8208, 'paradise': 8209, 'surah': 8210, 'imran': 8211, '133': 8212, '134': 8213, '1975': 8214, 'antichrist': 8215, 'apologizing': 8216, 'nahhhhhh': 8217, 'bussing': 8218, 'germantownbroncos': 8219, 'lilleague': 8220, 'popwarner': 8221, 'broncos': 8222, 'usafootball': 8223, 'overpowered': 8224, 'nerfed': 8225, '600k': 8226, '450k': 8227, 'juan': 8228, 'ripshawtylo': 8229, 'removes': 8230, 'potentially': 8231, '98': 8232, 'glory': 8233, 'feigned': 8234, 'behave': 8235, 'rum': 8236, 'loudly': 8237, 'trumpism': 8238, 'rests': 8239, 'knowingly': 8240, 'intentionally': 8241, 'gary': 8242, 'sanchez': 8243, 'colorblind': 8244, 'stickers': 8245, 'sj': 8246, 'nhl': 8247, 'ahl': 8248, 'assets': 8249, \"rb's\": 8250, \"wr's\": 8251, 'longterm': 8252, 'utilize': 8253, 'escaping': 8254, 'papercuts': 8255, 'stub': 8256, 'toe': 8257, 'secs': 8258, \"mcdonald's\": 8259, 'megan': 8260, 'rattled': 8261, 'backlash': 8262, 'alexandria': 8263, 'goddard': 8264, \"deric's\": 8265, 'fishin': 8266, 'expedition': 8267, 'covey': 8268, 'whereareugoing': 8269, 'cory': 8270, 'sweeter': 8271, 'archie': 8272, 'vita': 8273, '20au': 8274, 'bargain': 8275, 'ydu': 8276, \"'fire'\": 8277, 'crowded': 8278, 'theater': 8279, 'flames': 8280, 'trick': 8281, 'pricing': 8282, 'disingenuous': 8283, 'craft': 8284, 'gouging': 8285, \"article's\": 8286, 'cactus': 8287, 'dip': 8288, 'youtubegaming': 8289, 'shadow': 8290, 'schneiderlin': 8291, 'fouls': 8292, 'independant': 8293, 'drunkjesus': 8294, 'caller': 8295, 'listens': 8296, 'tractor': 8297, 'bestdayever': 8298, 'magic': 8299, 'erica': 8300, 'joanna': 8301, 'sirli': 8302, 'anja': 8303, 'gc': 8304, 'chara': 8305, 'marshmallows': 8306, 'ninja': 8307, 'turtle': 8308, 'costume': 8309, 'osu': 8310, 'netizen': 8311, \"rules'\": 8312, '–frank': 8313, 'sinatra': 8314, \"o'neill's\": 8315, 'saddens': 8316, 'gazza': 8317, 'remark': 8318, 'nwhere': 8319, 'nby': 8320, \"love's\": 8321, 'n—graham': 8322, 'congreve': 8323, \"lol'ed\": 8324, 'privileged': 8325, 'exasperation': 8326, 'bottled': 8327, 'guide': 8328, 'raids': 8329, 'practitioner': 8330, 'stirring': 8331, 'hers': 8332, 'jogging': 8333, 'puffing': 8334, 'jeez': 8335, 'jasper': 8336, \"best'\": 8337, 'assumptions': 8338, 'venue': 8339, 'causes': 8340, 'scale': 8341, 'tendonitis': 8342, 'itchy': 8343, 'strides': 8344, 'watches': 8345, 'flinches': 8346, 'draws': 8347, 'srry': 8348, 'mosquitoes': 8349, 'dealt': 8350, 'touchy': 8351, 'tas': 8352, 'tay': 8353, 'bibleverse': 8354, '800': 8355, 'cruise': 8356, 'grope': 8357, 'squeezing': 8358, \"'all\": 8359, \"holdin'\": 8360, 'nletting': 8361, 'lizzy': 8362, \"warren's\": 8363, 'jealousy': 8364, 'blush': 8365, 'undress': 8366, '13c': 8367, '2005': 8368, '2007': 8369, 'ehhh': 8370, 'engineered': 8371, 'scientific': 8372, 'yesss': 8373, 'zumba': 8374, 'piyo': 8375, 'hiit': 8376, 'sessions': 8377, 'sooooooo': 8378, 'thoughtfulthursday': 8379, 'cd': 8380, 'rhyme': 8381, 'flow': 8382, 'ghandi': 8383, \"laura's\": 8384, 'chin': 8385, 'purse': 8386, \"'104\": 8387, 'shelter': 8388, 'letgo': 8389, 'chasing': 8390, 'desires': 8391, 'resultin': 8392, 'wolfpack': 8393, 'trons': 8394, 'wore': 8395, 'minding': 8396, 'regarde': 8397, 'tes': 8398, '2k17': 8399, 'ps4': 8400, 'trackdawgt': 8401, 'acount': 8402, '36': 8403, 'sabr': 8404, 'tiangong': 8405, \"china's\": 8406, 'laboratory': 8407, 'decommissioned': 8408, \"sweden's\": 8409, 'bodega': 8410, 'lookd': 8411, 'counter': 8412, 'originally': 8413, 'leveled': 8414, 'facebookisforfamily': 8415, 'plymouth': 8416, \"other's\": 8417, 'intensity': 8418, 'extraordinary': 8419, 'aflfinals': 8420, 'andriaprebles': 8421, 'heatwaves': 8422, 'lattes': 8423, 'batches': 8424, 'meeee': 8425, 'lvl': 8426, '320': 8427, 'dragons': 8428, 'peeped': 8429, 'newenglandpatriots': 8430, 'whack': 8431, 'custom': 8432, '04': 8433, 'abundance': 8434, 'area': 8435, 'hearths': 8436, 'turkey': 8437, 'teamalaska': 8438, 'teamkatya': 8439, 'chemistry': 8440, 'thursdays': 8441, '6pm': 8442, 'vespers': 8443, 'meditation': 8444, 'plainsong': 8445, 'multisensory': 8446, 'psalms': 8447, 'hialeshia': 8448, 'ughhh': 8449, 'aromatherapy': 8450, 'sangria': 8451, 'tantalizing': 8452, 'tapas': 8453, 'flamenco': 8454, 'lolololol': 8455, 'notes': 8456, 'khan': 8457, 'lashes': 8458, 'tomboy': 8459, 'fibromyalgia': 8460, 'perspective': 8461, 'desk': 8462, 'connectivity': 8463, '4g': 8464, 'clearing': 8465, \"harvey's\": 8466, 'belongings': 8467, 'plaster': 8468, 'pajamas': 8469, 'vols': 8470, 'fl': 8471, '£450': 8472, '£5': 8473, 'voucher': 8474, \"only'\": 8475, 'kin': 8476, 'dpt': 8477, 'lament': 8478, 'nsaddened': 8479, 'nyet': 8480, 'ntough': 8481, 'scarred': 8482, 'lonesome': 8483, 'nroad': 8484, 'evaluation': 8485, 'minimally': 8486, 'parcc': 8487, \"over'\": 8488, 'constipated': 8489, 'applications': 8490, \"r's\": 8491, 'dislikes': 8492, 'thingsdie': 8493, 'noflipflops': 8494, 'battles': 8495, 'osler': 8496, 'mono': 8497, 'disheartening': 8498, 'misinformation': 8499, 'groom': 8500, 'glum': 8501, 'maternal': 8502, 'grandmother': 8503, 'sinking': 8504, 'unfollowing': 8505, 'disneyworld': 8506, 'holidayblues': 8507, 'wantogoback': 8508, 'gents': 8509, 'segregation': 8510, 'principles': 8511, 'fortune': 8512, 'bot': 8513, 'intend': 8514, 'baaarissshhhhh': 8515, 'prefect': 8516, 'cardiff': 8517, 'faded': 8518, 'worstenemy': 8519, 'ba6426': 8520, 'passengers': 8521, 'bags': 8522, 'suitcase': 8523, 'mouths': 8524, 'row': 8525, 'toughest': 8526, 'resolute': 8527, 'defences': 8528, 'shambolic': 8529, 'ux': 8530, 'generic': 8531, \"tld's\": 8532, 'compelling': 8533, 'blockade': 8534, 'xt': 8535, 'nova': 8536, 'click': 8537, 'cupcake': 8538, 'vehicles': 8539, 'cigar': 8540, 'congresscritters': 8541, 'diagnosed': 8542, 'haiku': 8543, 'crisp': 8544, 'smokeys': 8545, 'agitate': 8546, 'cull': 8547, 'dented': 8548, 'hail': 8549, 'neighbors': 8550, 'greenville': 8551, 'sobering': 8552, 'cooties': 8553, 'diego': 8554, 'replacements': 8555, 'straightner': 8556, 'fundraisers': 8557, 'underground': 8558, 'waterloo': 8559, 'passerby': 8560, 'slugging': 8561, 'vitamin': 8562, 'handful': 8563, 'mamp': 8564, 'damaged': 8565, 'nojustice': 8566, 'poster': 8567, 'afaik': 8568, '58': 8569, 'developing': 8570, 'yearly': 8571, 'returner': 8572, 'cries': 8573, \"n'oh\": 8574, 'misty': 8575, '11yo': 8576, 'afam': 8577, \"them'\": 8578, 'rewarded': 8579, 'youtubers': 8580, 'endtrumpweek': 8581, 'courting': 8582, 'relatable': 8583, 'holders': 8584, 'earrings': 8585, 'n—': 8586, 'momentarily': 8587, 'disappeared': 8588, 'solemnity': 8589, 'lacing': 8590, \"'juniors'\": 8591, 'ollafest': 8592, 'bra': 8593, 'liam': 8594, 'distant': 8595, 'nooooooooooooooooooooo': 8596, 'winters': 8597, 'ripkara': 8598, \"'it's\": 8599, \"hijacked'\": 8600, \"george's\": 8601, 'instructors': 8602, 'jan': 8603, 'mo': 8604, 'released': 8605, 'looooool': 8606, 'remainer': 8607, 'stall': 8608, 'drooping': 8609, 'mooncup': 8610, 'vegas': 8611, 'prevelant': 8612, 'noh': 8613, \"'failure\": 8614, '16k': 8615, 'rupees': 8616, 'baron': 8617, 'minty': 8618, 'urgh': 8619, 'crystal': 8620, 'portrayed': 8621, 'mamoru': 8622, 'brainwashed': 8623, 'stricken': 8624, 'nail': 8625, 'geelong': 8626, 'nlast': 8627, 'entering': 8628, 'banner': 8629, 'shed': 8630, 'theyve': 8631, 'substituted': 8632, 'hood': 8633, 'badge': 8634, 'indictment': 8635, 'remembrances': 8636, 'shakespeare': 8637, '1564': 8638, '1616': 8639, 'nforge': 8640, 'plummet': 8641, 'presidency': 8642, 'completing': 8643, 'conflicting': 8644, 'mama': 8645, 'ritamarley': 8646, 'mi': 8647, 'selfrejoice': 8648, 'sorrow': 8649, 'turnout': 8650, 'miley': 8651, 'alicia': 8652, 'ahut': 8653, 'skim': 8654, 'unsettling': 8655, 'coat': 8656, 'sunglasses': 8657, 'limb': 8658, 'neach': 8659, 'pierce': 8660, 'armour': 8661, 'numbness': 8662, 'mgla': 8663, 'idgi': 8664, 'dfs': 8665, 'rogerfederershop': 8666, 'doesn´t': 8667, 'roger': 8668, 'federer': 8669, 'tru': 8670, 'conflate': 8671, 'angeles': 8672, 'dublin': 8673, 'luggage': 8674, '60': 8675, 'teampaella': 8676, 'presents': 8677, 'stg': 8678, 'bluff': 8679, 'insanely': 8680, 'unproductive': 8681, 'material': 8682, 'embodiment': 8683, 'fart': 8684, 'unborn': 8685, 'dylon': 8686, 'aunt': 8687, 'blankets': 8688, 'hoody': 8689, 'tabs': 8690, 'detachment': 8691, 'greener': 8692, 'dayz': 8693, 'owning': 8694, 'mortgage': 8695, 'slowness': 8696, 'edgecould': 8697, 'thrown': 8698, 'pulling': 8699, 'knives': 8700, 'forks': 8701, 'gaaaaaaaad': 8702, 'grapefruit': 8703, 'squash': 8704, 'creativity': 8705, 'alcohol': 8706, 'flares': 8707, 'donte': 8708, 'moncrief': 8709, 'stove': 8710, 'baitswitch': 8711, 'fines': 8712, 'levied': 8713, 'benadryl': 8714, 'waits': 8715, 'yang': 8716, 'kittens': 8717, 'hydra': 8718, 'legally': 8719, 'stillwaiting': 8720, 'in2days': 8721, \"dm'd\": 8722, 'rung': 8723, '9times': 8724, 'phrase': 8725, \"be'\": 8726, 'dobetter': 8727, 'carriages': 8728, 'birmingham': 8729, 'hereford': 8730, 'commute': 8731, 'verb': 8732, 'villaseñor': 8733, 'contacts': 8734, 'dishearten': 8735, 'preggy': 8736, 'violation': 8737, 'terrancecrutcher': 8738, 'oppressive': 8739, 'architecture': 8740, 'uninteresting': 8741, 'generosity': 8742, 'poland': 8743, 'untypical': 8744, 'oldest': 8745, 'kennen': 8746, 'senile': 8747, 'xdd': 8748, 'crooked': 8749, 'dimamp': 8750, 'dud': 8751, 'losingamp': 8752, 'nwo': 8753, 'noel': 8754, 'edmonds': 8755, 'reckons': 8756, 'branded': 8757, 'beaten': 8758, 'silvereliteleftbehind': 8759, 'warned': 8760, 'lbvfs': 8761, 'gundlach': 8762, 'rounding': 8763, 'treatment': 8764, 'spacious': 8765, 'autumnal': 8766, 'vacuum': 8767, 'biology': 8768, 'cm': 8769, 'meden': 8770, 'elections': 8771, 'judging': 8772, 'exposing': 8773, 'abortion': 8774, 'protects': 8775, 'context': 8776, \"'come\": 8777, 'unfulfilled': 8778, \"'riots'\": 8779, 'perpetuating': 8780, 'boycott': 8781, 'funereal': 8782, 'casket': 8783, \"'call\": 8784, 'completed': 8785, 'waitress': 8786, 'recognised': 8787, '236': 8788, '416': 8789, 'growth': 8790, 'dame': 8791, 'takeing': 8792, 'gameing': 8793, 'leeds': 8794, 'manufacturer': 8795, 'criminals': 8796, '1pet': 8797, 'therefore': 8798, 'unto': 8799, \"sail'\": 8800, 'kay': 8801, 'gavc': 8802, 'werder': 8803, 'canola': 8804, '464': 8805, 'tonne': 8806, 'investigated': 8807, 'abuse': 8808, 'rehabilitated': 8809, 'jut': 8810, 'ernest': 8811, 'hemingway': 8812, 'vein': 8813, \"'accidentally'\": 8814, '244': 8815, 'streak': 8816, 'infections': 8817, \"nhe's\": 8818, 'mistaken': 8819, 'isolated': 8820, 'tabitha': 8821, \"barb's\": 8822, '“we': 8823, 'scanning': 8824, 'witches': 8825, 'elphie': 8826, 'grimmerie': 8827, 'cureforinsomnia': 8828, 'repeating': 8829, 'gaa': 8830, 'dare': 8831, 'downtrodden': 8832, 'eleven': 8833, 'sooked': 8834, 'airbnb': 8835, 'donuts': 8836, 'linear': 8837, 'err': 8838, 'mio': 8839, 'ratings': 8840, 'foggy': 8841, 'filter': 8842, 'lighting': 8843, 'earpiece': 8844, 'namjoon': 8845, 'nnngh': 8846, 'notif': 8847, 'divine': 8848, 'novelists': 8849, 'rejection': 8850, \"friend's\": 8851, 'gal': 8852, 'vomit': 8853, 'committing': 8854, 'murking': 8855, 'fogo': 8856, 'pe': 8857, 'ploy': 8858, 'tension': 8859, 'unverified': 8860, 'hype': 8861, 'nahh': 8862, 'instrument': 8863, 'sow': 8864, 'sybil': 8865, 'n“she': 8866, 'toilets': 8867, 'oppose': 8868, 'megaproject': 8869, 'nlpoli': 8870, 'sake': 8871, 'substance': 8872, 'rhetoric': 8873, 'sunderland': 8874, 'deed': 8875, \"world'\": 8876, 'roald': 8877, 'dahl': 8878, 'mybrokenfoot': 8879, 'nbreath': 8880, 'trending': 8881, 'syrian': 8882, 'arming': 8883, \"'rebel'\": 8884, 'vinb': 8885, 'differences': 8886, 'ideologies': 8887, 'irrefutable': 8888, \"higginbotham's\": 8889, 'flippant': 8890, 'dismissal': 8891, 'pace': 8892, 'nimble': 8893, 'midfielders': 8894, '815': 8895, 'crashed': 8896, '2004': 8897, 'emoticon': 8898, 'foh': 8899, 'theydontlikeyoueither': 8900, 'jonathan': 8901, 'toews': 8902, 'philanthropy': 8903, 'functional': 8904, 'medallion': 8905, 'steaks': 8906, 'pork': 8907, 'l1': 8908, 'jumps': 8909, 'leopard': 8910, 'spots': 8911, 'managing': 8912, 'idiosyncrasies': 8913, 'analyzing': 8914, 'practices': 8915, 'religion': 8916, 'campaignin': 8917, 'gritty': 8918, 'pretentious': 8919, 'gallery': 8920, 'mischief': 8921, 'remo': 8922, \"'save'\": 8923, 'undesirables': 8924, 'vas': 8925, 'ir': 8926, 'amaity': 8927, 'sitcom': 8928, 'sheldon': 8929, 'leonard': 8930, 'importance': 8931, 'arsene': 8932, 'wenger': 8933, 'tc': 8934, 'benching': 8935, 'ridge': 8936, 'wound': 8937, 'oelrichs': 8938, 'transferring': 8939, 'ig': 8940, \"'ll\": 8941, 'outage': 8942, 'magicalllll': 8943, 'piano': 8944, 'nexttt': 8945, 'cloved': 8946, 'watchin': 8947, 'unide': 8948, 'norffampton': 8949, 'fink': 8950, 'scandal': 8951, 'kingdom': 8952, 'god’s': 8953, 'seated': 8954, 'father’s': 8955, 'tozer': 8956, 'treadlines': 8957, 'deadlines': 8958, 'fellaini': 8959, 'huffing': 8960, 'tar': 8961, \"'there's\": 8962, 'floofel': 8963, 'pastels': 8964, 'cutie': 8965, 'contactless': 8966, 'kart': 8967, 'regarding': 8968, 'xbeujgb': 8969, 'n1': 8970, 'n2fools': 8971, 'n3talk': 8972, 'wesper': 8973, 'n4too': 8974, 'kaz': 8975, 'inej': 8976, 'feelz': 8977, 'bravehearted': 8978, 'twisted': 8979, 'spoony': 8980, 'spikes': 8981, 'spices': 8982, \"'loon\": 8983, \"attic'\": 8984, 'pronunciation': 8985, 'secretly': 8986, 'masculine': 8987, 'morality': 8988, 'pursuits': 8989, 'erykah': 8990, 'badu': 8991, 'obsessed': 8992, 'thankyoucgi': 8993, 'catchy': 8994, 'pedal': 8995, 'nutter': 8996, 'aqw': 8997, 'competition': 8998, 'detailed': 8999, 'soulless': 9000, 'toys': 9001, 'identical': 9002, 'consumerism': 9003, \"franchise'\": 9004, 'hakyeon': 9005, 'perching': 9006, \"wonshik's\": 9007, 'jaehwan': 9008, 'accidentally': 9009, 'chinks': 9010, '85': 9011, 'tribe': 9012, 'soles': 9013, 'constipation': 9014, 'ornaments': 9015, 'spektar': 9016, \"n'don't\": 9017, \"organise'\": 9018, 'jennifer': 9019, 'chestnut': 9020, 'lasting': 9021, 'legacy': 9022, 'cgi2016': 9023, 'thankfulmoment': 9024, 'fumes': 9025, 'sences': 9026, \"cheer'd\": 9027, 'questioned': 9028, 'unnerved': 9029, '349': 9030, 'decoded': 9031, '340': 9032, \"nyou'll\": 9033, \"n'not\": 9034, \"'there\": 9035, 'survivors': 9036, 'saviour': 9037, 'apes': 9038, 'nhear': 9039, 'oaths': 9040, 'sympathetic': 9041, 'hominids': 9042, 'attract': 9043, 'relocate': 9044, 'mediumpurple': 9045, 'pickering': 9046, 'stetson': 9047, 'wallahi': 9048, 'lamp': 9049, 'davina': 9050, 'larh': 9051, 'boston': 9052, 'weds': 9053, 'ncoffee': 9054, 'nthursday': 9055, 'bun': 9056, 'transparency': 9057, 'openness': 9058, 'verbs': 9059, 'securing': 9060, 'craig': 9061, \"gordon's\": 9062, 'nsure': 9063, 'snores': 9064, 'tl': 9065, 'boredom': 9066, 'awarded': 9067, '“f”': 9068, 'autodealerlive': 9069, 'jay': 9070, 'angie': 9071, 'pjs': 9072, 'footage': 9073, 'mix—don’t': 9074, 'meat': 9075, 'approved': 9076, 'lyft': 9077, 'gladly': 9078, 'rex': 9079, 'initial': 9080, 'sta': 9081, 'redheadteen': 9082, 'boldandbeautiful': 9083, '500aday': 9084, 'schkeuditz': 9085, 'diss': 9086, 'rihanna': 9087, \"first'\": 9088, 'fuse': 9089, 'preschoolpolitics': 9090, 'momthings': 9091, 'supine': 9092, 'piano—lips': 9093, 'parted': 9094, 'pax': 9095, 'oligodendroglioma': 9096, 'syfy': 9097, 'jericho': 9098, 'fallenskies': 9099, 'wrestling': 9100, 'alwayshungry': 9101, 'comforted': 9102, 'nehemiah': 9103, 'niv': 9104, 'sliding': 9105, 'plate': 9106, 'continued': 9107, 'lowered': 9108, 'askaman': 9109, 'siyahleka': 9110, 'males': 9111, 'colourful': 9112, 'environment': 9113, 'locke': 9114, 'trees': 9115, 'oddish': 9116, 'candies': 9117, 'vileplume': 9118, 'vampires': 9119, 'es': 9120, 'slowing': 9121, 'pinpoint': 9122, 'strengths': 9123, 'weaknesses': 9124, 'gps': 9125, 'sonicsatam': 9126, 'aosth': 9127, 'toonie': 9128, 'tgif': 9129, 'expects': 9130, 'realist': 9131, 'adjusts': 9132, 'sails': 9133, 'cream': 9134, 'flavoured': 9135, 'naturally': 9136, 'glued': 9137, 'monitor': 9138, '“optimism': 9139, '—alan': 9140, 'cohen': 9141, 'spring': 9142, 'paltry': 9143, 'apple–n': 9144, 'granddesigns': 9145, 'wibbly': 9146, 'wobbly': 9147, 'plantation': 9148, 'accurately': 9149, 'frequency': 9150, 'puts': 9151, 'hungover': 9152, 'twelve': 9153, 'preppy': 9154, 'desert': 9155, 'amateurs': 9156, 'picnic': 9157, 'lunches': 9158, 'bettertogether': 9159, 'nhearing': 9160, 'akame': 9161, 'juvia': 9162, 'battleground': 9163, 'stange': 9164, 'followme': 9165, '24th': 9166, 'rainy': 9167, 'cap': 9168, 'fruits': 9169, 'inexpensive': 9170, 'earning': 9171, 'haddrell': 9172, 'nfri': 9173, '23rd': 9174, 'sep': 9175, '00pm': 9176, 'intermediaries': 9177, 'required': 9178, 'mailed': 9179, 'howland': 9180, 'cultural': 9181, 'beaconny': 9182, 'vickie': 9183, 'raabin': 9184, 'raabe': 9185, '845': 9186, '831': 9187, '4988': 9188, 'nsoul': 9189, 'nmusic': 9190, 'nwith': 9191, 'nxx': 9192, '169': 9193, 'camera': 9194, 'trails': 9195, 'eyepiece': 9196, 'alt': 9197, 'courageous': 9198, 'wherever': 9199, 'mrrobot': 9200, 'ricefodays': 9201, \"butler's\": 9202, 'ngerry': 9203, \"o'driscoll\": 9204, \"moon'\": 9205, 'bluesfest2017': 9206, 'yung': 9207, 'faces': 9208, \"smile'\": 9209, 'cudi': 9210, 'travis': 9211, 'nthose': 9212, 'soar': 9213, 'wings': 9214, 'eagles': 9215, 'eachother': 9216, 'unmatched': 9217, 'luca': 9218, 'obese': 9219, 'selfies': 9220, 'mucho': 9221, 'kate': 9222, 'promo': 9223, 'dewayne': 9224, 'hyatt': 9225, 'hippie': 9226, 'lake': 9227, 'hentai': 9228, 'linc': 9229, 'nfeeling': 9230, 'nropes': 9231, 'curly': 9232, 'tummy': 9233, 'lime': 9234, 'tap': 9235, 'moonshinesociety': 9236, 'loft': 9237, 'housemd': 9238, 'tvshow': 9239, 'bio': 9240, 'wales': 9241, 'brighten': 9242, 'fulford': 9243, 'ntomorrow': 9244, 'bank': 9245, 'tavern': 9246, 'oldham': 9247, 'nnext': 9248, 'trumps': 9249, 'risotto': 9250, 'dwelling': 9251, 'chirpy': 9252, 'springequinox': 9253, 'pensive': 9254, 'autumnequinox': 9255, 'balotelli': 9256, 'tshirt': 9257, 'pedro': 9258, 'nnothing': 9259, 'pollinate': 9260, 'deciduous': 9261, 'selfhelp': 9262, 'ingrained': 9263, 'yeye': 9264, 'coloring': 9265, 'backgrounds': 9266, 'haaa': 9267, 'nell': 9268, 'bronzy': 9269, 'glowy': 9270, 'nude': 9271, 'lans': 9272, 'org': 9273, 'eliza': 9274, 'neals': 9275, 'stunned': 9276, 'creamy': 9277, 'pesto': 9278, 'topped': 9279, 'grilled': 9280, 'dried': 9281, 'tomatoes': 9282, 'asparagus': 9283, 'adj': 9284, 'shared': 9285, \"day'\": 9286, \"jones'\": 9287, 'sparkly': 9288, 'everythings': 9289, 'forego': 9290, 'pointless': 9291, 'happyjinyoungday': 9292, 'got7': 9293, 'transmission': 9294, 'city’s': 9295, \"'muzzle\": 9296, 'flash': 9297, 'blinding': 9298, 'accidental': 9299, 'gemma': 9300, 'simmons': 9301, 'distracted': 9302, 'oi': 9303, 'hahahahahahaha': 9304, 'eas': 9305, 'margaret': 9306, 'thatcher': 9307, 'martin': 9308, 'roth': 9309, 'vamp': 9310, 'foreigners': 9311, 'unwelcome': 9312, 'rollin': 9313, 'folding': 9314, 'meditative': 9315, 'relaxing': 9316, 'korgoth': 9317, 'barbaria': 9318, 'ariel': 9319, 'ninto': 9320, 'nidiot': 9321, 'aria': 9322, 'mikey': 9323, 'hears': 9324, 'katherinemansfield': 9325, 'loosen': 9326, 'burp': 9327, 'reparations': 9328, 'beyourself': 9329, 'lighthearted': 9330, 'cavity': 9331, 'luis': 9332, 'ducked': 9333, 'bartolomeo': 9334, 'rodrigo': 9335, 'duterte': 9336, 'nmake': 9337, \"r'if\": 9338, 'honored': 9339, 'atkins': 9340, 'caring': 9341, 'aimed': 9342, 'continually': 9343, 'mastered': 9344, 'instagramers': 9345, 'grandson': 9346, 'whitfield': 9347, \"18'\": 9348, 'nmichael': 9349, 'fanz': 9350, 'metaphor': 9351, 'jpod': 9352, 'pronouncing': 9353, 'geometry': 9354, 'canning': 9355, \"'pp'\": 9356, 'stringing': 9357, 'performances': 9358, \"shabazz's\": 9359, \"'easy\": 9360, \"beautiful'\": 9361, 'apologize': 9362, 'tribalcouncil': 9363, 'celebration': 9364, 'ian': 9365, 'pavel': 9366, 'cackle': 9367, 'saf': 9368, 'tolerate': 9369, 'teppu': 9370, 'madhouse': 9371, 'decomposing': 9372, 'lungs': 9373, 'insides': 9374, 'counted': 9375, 'jawbone': 9376, 'liver': 9377, 'symmetry': 9378, 'twin': 9379, 'pistols': 9380, 'oii': 9381, 'oiii': 9382, 'x225': 9383, '884': 9384, 'luvvvv': 9385, 'jigaboo': 9386, 'laurel': 9387, 'handshake': 9388, 'smoother': 9389, 'thicker': 9390, 'texture': 9391, 'underlord': 9392, 'accomplished': 9393, 'paradigm': 9394, 'strongman': 9395, 'basset': 9396, 'hound': 9397, 'ydxef': 9398, 'section': 9399, 'poems': 9400, 'spiritually': 9401, 'weighty': 9402, 'counterintuitively': 9403, 'hindsight': 9404, 'sucked': 9405, 'wormhole': 9406, 'sacrifices': 9407, 'nonsense': 9408, 'soros': 9409, 'attempts': 9410, 'western': 9411, 'degenerates': 9412, 'imply': 9413, 'dprk': 9414, 'stoops': 9415, 'devastating': 9416, 'millenials': 9417, 'birthdayyyyyy': 9418, 'niv—the': 9419, 'smelled': 9420, 'aroma': 9421, '“never': 9422, 'i…': 9423, 'lifelong': 9424, 'instructional': 9425, 'powerpoint': 9426, 'presentation': 9427, 'unclebuck': 9428, 'prescription': 9429, 'prohibitionists': 9430, 'rub': 9431, 'cannabis': 9432, 'guilt': 9433, 'ahats': 9434, 'ifiwerepresident': 9435, 'realization': 9436, 'x33': 9437, 'iniesta': 9438, 'idolize': 9439, 'organ': 9440, 'goofiest': 9441, 'natong': 9442, 'duha': 9443, 'pressed': 9444, 'oppressor': 9445, 'bow': 9446, 'bells': 9447, 'nat': 9448, 'ideal': 9449, 'karl': 9450, 'menninger': 9451, 'nicest': 9452, 'whistling': 9453, 'reinvigorated': 9454, 'potter': 9455, 'zales': 9456, 'mischievous': 9457, 'proctor': 9458, 'admittedly': 9459, \"we'd\": 9460, 'jedi': 9461, 'dysfunctional': 9462, 'peacekeepers': 9463, 'ipswich': 9464, 'demonstrating': 9465, 'explaining': 9466, \"jamesjoyce's\": 9467, 'ulysses': 9468, 'endearing': 9469, 'installed': 9470, 'stratagem': 9471, 'audacity': 9472, 'harbour': 9473, 'tower': 9474, 'tenaciously': 9475, 'smoking': 9476, 'weed': 9477, 'actresses': 9478, 'theboss': 9479, 'ninaturner': 9480, 'bernblade': 9481, 'lisavikingstad': 9482, 'spar': 9483, 'hilt': 9484, 'icy': 9485, 'verified': 9486, 'upbeat': 9487, 'arty': 9488, 'docu': 9489, 'trace': 9490, 'sweety': 9491, 'wondrful': 9492, '43': 9493, 'wl': 9494, 'lv': 9495, 'fulfilling': 9496, \"kyle's\": 9497, 'solo': 9498, '9news': 9499, 'lolz': 9500, 'cencerned': 9501, 'siguemeytesigo': 9502, 'manuellynch99': 9503, 'philippplein': 9504, 'londonevents': 9505, 'debuts': 9506, 'backbone': 9507, 'wiki': 9508, 'lovelier': 9509, 'xxxx': 9510, 'eve': 9511, 'izzy': 9512, 'paige': 9513, 'lackeys': 9514, 'bizarre': 9515, 'bribing': 9516, 'giggles': 9517, '96': 9518, 'studentnurse': 9519, 'pampered': 9520, 'applauding': 9521, 'token': 9522, 'glasgowgirls': 9523, 'uproarious': 9524, 'uplifting': 9525, 'wonderstruck': 9526, 'blushing': 9527, 'lipstick': 9528, 'electro': 9529, 'captivating': 9530, 'poetic': 9531, 'possibilities': 9532, 'becca': 9533, 'unplug': 9534, \"'matrix\": 9535, 'sunset': 9536, '72': 9537, 'banger': 9538, 'alias': 9539, 'kzfqr': 9540, 'sg': 9541, 'jasperino': 9542, 'leap': 9543, 'dramatically': 9544, 'plant': 9545, 'gideon': 9546, 'skinny': 9547, 'metaphysics': 9548, 'htt…': 9549, 'worldsapp': 9550, 'appsworld': 9551, 'merci': 9552, 'usernameregenerated': 9553, '29': 9554, 'cronies': 9555, 'gov': 9556, 'academia': 9557, 'fodder': 9558, 'ointment': 9559, 'doth': 9560, 'sweetness': 9561, \"man's\": 9562, 'camshaft': 9563, 'companies': 9564, 'cqhshjsi': 9565, 'revision': 9566, 'countryside': 9567, 'mail': 9568, 'becomes': 9569, 'ahh': 9570, 'nheart': 9571, 'nmore': 9572, 'nof': 9573, 'nkindly': 9574, 'nharry': 9575, 'n—90': 9576, 'whiney': 9577, 'jerkass': 9578, 'guffaw': 9579, 'parent': 9580, 'elicits': 9581, 'infinite': 9582, 'unconceivable': 9583, \"men's\": 9584, 'kjv': 9585, \"n'we'll\": 9586, 'nol': 9587, 'hahahahahaha': 9588, 'wesszzz': 9589, 'devon': 9590, 'ave': 9591, 'nihari': 9592, 'boxers': 9593, 'commando': 9594, 'liberated': 9595, 'jolie': 9596, 'peaceispossible': 9597, 'ondoguber': 9598, 'nov26': 9599, 'brennan': 9600, 'pulpit': 9601, 'surrey': 9602, 'vernon': 9603, 'bellario': 9604, \"interrupt'st\": 9605, 'bravo': 9606, 'beg': 9607, 'enthusiastic': 9608, 'sweetembrace': 9609, 'lucina': 9610, 'goosebumps': 9611, 'hrs': 9612, '5m': 9613, 'scarring': 9614, 'caramel': 9615, 'hovers': 9616, 'anthem': 9617, 'buzzinnnnnn': 9618, 'murphy': 9619, 'eyelashes': 9620, 'statuses': 9621, 'hemmings': 9622, 'x16': 9623, '092': 9624, 'kip': 9625, 'discomfort': 9626, 'render': 9627, 'francoise': 9628, 'motteville': 9629, 'imessage': 9630, 'inmates': 9631, 'arkham': 9632, 'bouquet': 9633, 'enhanced': 9634, 'interrogation': 9635, 'lordderply': 9636, 'yugioh': 9637, 'bsnl': 9638, 'elate': 9639, 'weathers': 9640, 'mucus': 9641, 'chokes': 9642, \"'wrong\": 9643, 'farmhouse': 9644, 'cocktails': 9645, 'traditionalists': 9646, \"'rule'\": 9647, '…\\xa0': 9648, 'adressed': 9649, 'uno': 9650, 'kashmires': 9651, 'wel': 9652, 'demilterization': 9653, 'talkative': 9654, \"akon's\": 9655, 'provided': 9656, 'transpo': 9657, 'bitchass': 9658, '2be': 9659, '30th': 9660, 'amirite': 9661, \"season's\": 9662, 'planning': 9663, 'rast': 9664, 'obfuscated': 9665, 'leaqiwy': 9666, 'injecting': 9667, 'coke': 9668, 'predicts': 9669, 'administrators': 9670, 'pummeling': 9671, 'jauntily': 9672, 'utterly': 9673, 'sidedly': 9674, 'productivityatitsfinest': 9675, 'writes': 9676, 'branch': 9677, 'ironman': 9678, 'participants': 9679, 'reflect': 9680, 'reginald': 9681, 'denny': 9682, 'lobby': 9683, 'renew': 9684, 'zeph': 9685, 'livelife': 9686, 'humbleness': 9687, 'childlike': 9688, 'convos': 9689, 'cows': 9690, 'moo': 9691, 'ensure': 9692, 'squats': 9693, 'youthfulness': 9694, \"leon's\": 9695, 'letters': 9696, 'mario': 9697, 'galaxy': 9698, 'montalvo': 9699, 'entice': 9700, 'plop': 9701, 'discord': 9702, 'menus': 9703, 'yessir': 9704, 'collab': 9705, 'rapping': 9706, 'prolly': 9707, 'widows': 9708, 'staystrong': 9709, 'naivety': 9710, 'companion': 9711, 'monsters': 9712, 'classics': 9713, 'communitysleepcoach': 9714, 'narcoleptic': 9715, 'puppies': 9716, 'positions': 9717, 'newbies': 9718, 'solange': 9719, 'heres': 9720, 'sable': 9721, 'awol': 9722, 'aico': 9723, 'immolation': 9724, 'akt': 9725, 'philippians': 9726, 'midterm': 9727, 'constraints': 9728, 'qmiv': 9729, 'batman': 9730, '“we’ve': 9731, 'demise': 9732, 'li': 9733, 'ward': 9734, 'answered': 9735, 'rep': 9736, 'pastel': 9737, \"'wawa's\": 9738, 'tooooo': 9739, 'squealed': 9740, 'moons': 9741, 'dvlpt': 9742, 'nything': 9743, 'modi': 9744, \"jstor's\": 9745, 'lingua': 9746, 'obscura': 9747, 'ksudsm': 9748, 'ksu': 9749, 'recruiter': 9750, 'instructor': 9751, 'tumble': 9752, \"'elizabeth\": 9753, \"'pleasure\": 9754, 'travelled': 9755, 'jewels': 9756, 'moonlight': 9757, 'yells': 9758, 'surpriiise': 9759, 'chirps': 9760, 'grin': 9761, 'jade': 9762, 'lochte': 9763, 'connie': 9764, 'collapse': 9765, 'nibbles': 9766, 'evolve': 9767, 'toy': 9768, 'lunatic': 9769, 'asylum': 9770, 'flourishes': 9771, 'midst—a': 9772, 'unintentional': 9773, 'necessary': 9774, 'hassle': 9775, 'reynolds': 9776, 'beaut': 9777, 'theaters': 9778, 'served': 9779, 'thehulk': 9780, 'melissa': 9781, 'benoist': 9782, 'grant': 9783, 'gustin': 9784, 'crossover': 9785, 'presentations': 9786, 'propensity': 9787, 'determining': 9788, 'complimentary': 9789, \"'now\": 9790, \"middlesbrough'\": 9791, 'thfc': 9792, 'development': 9793, 'comforting': 9794, 'passionate': 9795, 'rollerblades': 9796, 'skating': 9797, 'profitable': 9798, 'fx': 9799, 'diversity': 9800, 'sunniness': 9801, 'piersgough': 9802, 'imaginative': 9803, 'developers—“sager': 9804, 'challenged': 9805, 'prefer': 9806, 'ps2': 9807, '360': 9808, 'vitriolic': 9809, 'goats': 9810, 'sheet': 9811, 'zaza': 9812, 'photograph': 9813, 'facta': 9814, 'ilofitt': 9815, 'facets': 9816, 'fitlife': 9817, 'elites': 9818, 'cont2': 9819, 'bahahahaha': 9820, 'dean': 9821, 'noodle': 9822, 'woah': 9823, 'lautner': 9824, 'pawpaw': 9825, 'webcast': 9826, \"journey's\": 9827, 'bway': 9828, 'gershwin': 9829, 'nblushing': 9830, 'crossfit': 9831, 'homefolks': 9832, 'proprieties': 9833, 'regimes': 9834, 'ajafue': 9835, 'ruth': 9836, 'cashcow': 9837, 'inglorious': 9838, 'distinguished': 9839, 'touching': 9840, 'vawyzad': 9841, 'curve': 9842, 'sooooo': 9843, 'llnp': 9844, 'yesyesyes': 9845, 'cahracter': 9846, 'crack': 9847, 'smallest': 9848, 'vincent': 9849, 'hattrick': 9850, 'summerof69': 9851, 'japes': 9852, 'daughters': 9853, \"'should\": 9854, \"occasion'\": 9855, \"'fear\": 9856, \"'trepidation'\": 9857, 'meogysdailyvocabenhancment': 9858, 'elation': 9859, 'pixel': 9860, 'falland': 9861, 'nuse': 9862, 'theirs': 9863, 'frighteningly': 9864, 'freshmen': 9865, 'wavy': 9866, 'ihwph': 9867, 'fellowship': 9868, 'learnt': 9869, 'xdressers': 9870, 'roleplayers': 9871, 'confessions': 9872, 'chosen': 9873, 'adopted': 9874, 'itll': 9875, 'lurk': 9876, 'corners': 9877, \"eyepatch's\": 9878, 'raiders': 9879, 'oakland': 9880, 'meets': 9881, 'lott': 9882, 'schaaf': 9883, 'epicurus': 9884, 'bops': 9885, 'bumping': 9886, 'ingest': 9887, 'deviant': 9888, 'enigmatic': 9889, 'bellboy': 9890, 'iwldpe': 9891, 'unfailingly': 9892, 'maker': 9893, 'settled': 9894, \"i'l\": 9895, 'proudlysydney': 9896, 'goswans': 9897, 'lfc': 9898, 'council': 9899, 'taylorlautner': 9900, 'twilight': 9901, 'charm': 9902, 'darren': 9903, 'deepbreathes': 9904, 'perceived': 9905, 'slid': 9906, 'jeep': 9907, 'ontogt': 9908, 'brigetjonesbabys': 9909, 'brigetjonesbaby': 9910, 'granny': 9911, 'soaked': 9912, \"nephew's\": 9913, 'drooling': 9914, 'lawsuit': 9915, '07': 9916, 'losses': 9917, 'gunna': 9918, 'lea': 9919, 'ofalso': 9920, 'ure': 9921, 'grins': 9922, \"steve's\": 9923, 'murmuring': 9924, 'brag': 9925, 'reclaimed': 9926, 'ari': 9927, 'ensues': 9928, 'renown': 9929, 'hsnhzmjsc': 9930, 'howling': 9931, '“well': 9932, 'bezza': 9933, 'halsey': 9934, 'teases': 9935, 'curving': 9936, 'notification': 9937, 'steam': 9938, 'port': 9939, 'billie': 9940, 'soundtrack': 9941, \"n'whoo\": 9942, 'greeted': 9943, 'boggling': 9944, \"disney's\": 9945, '1994': 9946, 'thelionking': 9947, 'influenced': 9948, \"williamshakespeare's\": 9949, 'hamlet': 9950, 'squirrel': 9951, 'plum': 9952, 'mebbe': 9953, 'chapter22': 9954, 'bdaygirl': 9955, 'cowboystwitter': 9956, 'anxietyrelief': 9957, 'particularly': 9958, 'ealingcomedies': 9959, 'infectious': 9960, 'survived': 9961, 'jellylegs': 9962, 'bridesmaid': 9963, 'dresses': 9964, 'carnal': 9965, 'separates': 9966, 'rfpbax': 9967, 'heartfelt': 9968, 'romcoms': 9969, 'uranus': 9970, \"fan's\": 9971, 'vixx': 9972, 'vet': 9973, 'ptsd': 9974, 'fooled': 9975, 'doubles': 9976, 'hawkings': 9977, 'corridors': 9978, 'whu': 9979, 'denser': 9980, 'semores': 9981, 'keepthetradition': 9982, 'swan': 9983, 'nhlnycsweepstakes': 9984, 'meth': 9985, 'glance': 9986, \"'el\": 9987, 'hugging': 9988, 'yapyap': 9989, 'avid': 9990, 'clinging': 9991, 'attachment': 9992, 'overheard': 9993, 'shirt5': 9994, 'distance': 9995, 'meters': 9996, 'ncould': 9997, 'typing': 9998, 'device': 9999, 'pedicure': 10000, 'ticklish': 10001, '4am': 10002, 'mtv': 10003, 'teenmom': 10004, 'preponderance': 10005, 'touché': 10006, 'ecosystem': 10007, 'goings': 10008, 'on–but': 10009, \"inha's\": 10010, \"seol's\": 10011, 'rly': 10012, 'seol': 10013, 'sdr3': 10014, 'fmf': 10015, 'reasoned': 10016, 'disruption': 10017, 'demands': 10018, 'indoor': 10019, 'middleeast': 10020, 'cheryl': 10021, 'janecky': 10022, \"'them'\": 10023, 'cliff': 10024, 'createsyria': 10025, 'lemon': 10026, 'missiles': 10027, 'nindianarmy': 10028, '1977': 10029, 'filmmaker': 10030, 'candidates': 10031, 'decades': 10032, 'remainder': 10033, 'srsly': 10034, 'baldwin': 10035, 'fuuuuuuuck': 10036, 'stageschool': 10037, 'flatters': 10038, 'paranoia': 10039, 'octopus': 10040, 'insignificant': 10041, 'disapproves': 10042, 'customerservicefail': 10043, 'tipo': 10044, 'trvial': 10045, \"'for\": 10046, 'goodafternoon': 10047, 'whn': 10048, \"'age'\": 10049, 'ominous': 10050, 'pangs': 10051, 'trc': 10052, 'wakeup': 10053, 'needstobeadmitted': 10054, 'consistently': 10055, 'tobi': 10056, 'anbu': 10057, 'seafood': 10058, \"'dancing\": 10059, \"own'\": 10060, 'highlighted': 10061, 'regards': 10062, 'himani': 10063, 'mania': 10064, 'hiking': 10065, 'youngsters': 10066, 'targett': 10067, 'jake': 10068, 'hesketh': 10069, 'austin': 10070, 'cardio': 10071, 'malaysian': 10072, 'suspected': 10073, 'links': 10074, 'mesa': 10075, 'zipper': 10076, 'laservista': 10077, 'nelson': 10078, 'mandela': 10079, 'strongwomen': 10080, 'weakmen': 10081, 'consistency': 10082, 'johncarpenter': 10083, 'commit': 10084, 'ahsaftershow': 10085, 'mamasitas': 10086, 'hunks': 10087, 'incorrect': 10088, 'comma': 10089, 'grammar': 10090, 'backtoschool': 10091, '\\xa0': 10092, 'tummies': 10093, 'glizzy': 10094, 'injure': 10095, 'kernel': 10096, 'sneezing': 10097, 'hiccuping': 10098, 'snot': 10099, 'chilli': 10100, 'rear': 10101, 'activated': 10102, 'telford': 10103, '106': 10104, 'patriot': 10105, 'rookie': 10106, 'jacoby': 10107, 'nite': 10108, \"n'been\": 10109, '321073': 10110, '15502922895987': 10111, 'customercare': 10112, 'image': 10113, '2008': 10114, \"earthquake'\": 10115, 'fingernails': 10116, 'prisoned': 10117, 'nohopeforhumanity': 10118, 'sai': 10119, 'manakgupta': 10120, 'precondition': 10121, 'freekashmir': 10122, 'fi…': 10123, 'carl': 10124, 'aarp': 10125, 'ss': 10126, 'belies': 10127, 'cuts': 10128, 'poking': 10129, 'prodding': 10130, 'gawd': 10131, 'needles': 10132, 'settle': 10133, 'globe': 10134, 'wonders': 10135, 'projects': 10136, 'murders': 10137, 'exhausting': 10138, 'eeeeh': 10139, 'fur': 10140, 'liquor': 10141, 'mat': 10142, 'neighbourhood': 10143, 'ngirls': 10144, 'nigt': 10145, 'dreamt': 10146, 'njust': 10147, 'controversies': 10148, 'twinkie': 10149, 'collects': 10150, 'minerva': 10151, 'chew': 10152, 'cape': 10153, 'nhave': 10154, 'nlove': 10155, 'rescue': 10156, 'doj': 10157, 'ferguson': 10158, 'internal': 10159, 'lettin': 10160, 'stoked': 10161, \"'label\": 10162, \"exclusivity'\": 10163, 'creating': 10164, 'label': 10165, 'dismay': 10166, 'popufurs': 10167, \"'opening\": 10168, 'commissions': 10169, 'slot': 10170, \"can'\": 10171, 'demand': 10172, 'harass': 10173, 'mindblown': 10174, 'setback': 10175, 'madashell': 10176, 'hawk': 10177, '7pm': 10178, 'jesusisthesubject': 10179, 'armageddon': 10180, 'usapleasedont': 10181, 'transfer': 10182, 'bejesus': 10183, 'carrie': 10184, 'locator': 10185, 'op': 10186, '95': 10187, 'iraqi': 10188, 'iran': 10189, '99': 10190, 'iranian': 10191, 'morgs': 10192, 'horrors': 10193, 'addict': 10194, 'hedonists': 10195, 'theyre': 10196, 'worldwide': 10197, 'smithrud': 10198, 'islamophobic': 10199, 'indias': 10200, 'secretive': 10201, 'accomplishment': 10202, 'professions': 10203, 'fckd': 10204, 'justiceofpak': 10205, 'pastries': 10206, 'description': 10207, 'superstitious': 10208, 'highway': 10209, '69': 10210, 'pounding': 10211, 'goosebumping': 10212, \"helmann's\": 10213, 'nliterally': 10214, 'puke': 10215, 'lgm': 10216, 'tinder': 10217, 'booty': 10218, 'swift': 10219, 'patterns': 10220, 'adopt': 10221, 'ik': 10222, 'excite': 10223, 'vitale': 10224, 'sleeplessnight': 10225, 'suspended': 10226, 'earthlings': 10227, 'skydive': 10228, 'moisturizing': 10229, 'elbows': 10230, 'hauntedattraction': 10231, 'comparisons': 10232, 'mxima': 10233, 'guarantee': 10234, 'flaw': 10235, 'breaths': 10236, 'varies': 10237, 'vulnerabilities': 10238, 'patched': 10239, 'stanning': 10240, 'shhh': 10241, 'confronted': 10242, 'hostile': 10243, 'skyfall': 10244, 'agenda': 10245, 'awhile': 10246, 'choices': 10247, 'matoma': 10248, 'becky': 10249, 'disclosed': 10250, 'googling': 10251, 'cholroform': 10252, 'aghast': 10253, 'sait': 10254, 'aps': 10255, 'eastpak': 10256, 'dit': 10257, 'aspak': 10258, 'msk': 10259, \"naya'\": 10260, 'nooneunderstands': 10261, 'yr7': 10262, 'assembly': 10263, 'birthdays': 10264, 'booming': 10265, 'oblivious': 10266, 'wt': 10267, 'territory': 10268, 'deranged': 10269, 'typo': 10270, 'harsh': 10271, 'movement': 10272, 'trumppence': 10273, 'fascist': 10274, 'preparedness': 10275, 'heavyheart': 10276, 'ndo': 10277, 'rednecks': 10278, 'intellectually': 10279, 'irontekfit': 10280, 'countdown': 10281, 'pompous': 10282, 'electing': 10283, 'jihadist': 10284, 'sometime': 10285, 'downing': 10286, 'translate': 10287, 'truncating': 10288, 'h3ll': 10289, 'yuk': 10290, 'cooper': 10291, 'khloe': 10292, 'banking': 10293, 'stocks': 10294, 'benchmarks': 10295, 'markets': 10296, 'strategically': 10297, 'medical': 10298, 'internship': 10299, 'persuasion': 10300, 'awkwardly': 10301, 'mea': 10302, 'that’s': 10303, 'journal': 10304, 'steppingstone': 10305, 'oprah': 10306, 'winfrey': 10307, 'deselect': 10308, 'uggh': 10309, 'realizes': 10310, 'downhill': 10311, 'citing': 10312, 'infidels': 10313, 'stoking': 10314, 'dallas': 10315, 'stranger': 10316, 'terrorizes': 10317, 'rocky': 10318, 'remake': 10319, 'snacole': 10320, 'paulsgonnawin': 10321, 'halfamill': 10322, 'shehla': 10323, 'rashid': 10324, 'kaniyah': 10325, 'kumar': 10326, \"'they\": 10327, \"challenge'\": 10328, 'hodgson': 10329, 'shudders': 10330, 'convicts': 10331, 'trp': 10332, 'hogs': 10333, 'tread': 10334, 'indiegames': 10335, '£130': 10336, 'lunacy': 10337, '£20odd': 10338, 'noooooo': 10339, 'maryberry': 10340, 'endofanera': 10341, 'lameduck': 10342, 'sooo': 10343, 'invitadated': 10344, 'invade': 10345, 'disputed': 10346, \"6'4'\": 10347, 'tatoos': 10348, 'athletic': 10349, 'durag': 10350, 'whod': 10351, 'hillarysheath': 10352, 'permission': 10353, 'sb': 10354, 'isa': 10355, 'chattering': 10356, 'trembling': 10357, 'hills': 10358, \"wood's\": 10359, 'esteem': 10360, 'surround': 10361, 'travelfail': 10362, 'virgin': 10363, 'virginaus': 10364, 'etihad': 10365, 'obvs': 10366, 'sarwar': 10367, 'slams': 10368, 'breeding': 10369, 'cooler': 10370, 'flicks': 10371, 'nactually': 10372, 'birtherism': 10373, 'mindset': 10374, 'philosophy': 10375, 'thoughtsbecomethings': 10376, 'lifehacks': 10377, 'stranded': 10378, \"dad's\": 10379, 'maself': 10380, 'gaff': 10381, 'filters': 10382, 'psyched': 10383, 'chapter': 10384, 'dw': 10385, 'marshall': 10386, 'rested': 10387, 'bald': 10388, 'flip': 10389, 'wisconsin': 10390, 'asp': 10391, \"'expects\": 10392, \"play'\": 10393, 'reassuring': 10394, 'haww': 10395, 'kulbhoshan': 10396, 'yadhav': 10397, \"'bubledygook'\": 10398, 'decrying': 10399, 'foyer': 10400, \"'am\": 10401, 'moscow': 10402, 'fortified': 10403, \"'cept\": 10404, \"dem's\": 10405, 'competitors': 10406, 'nyquil': 10407, 'brief': 10408, 'qualifies': 10409, 'mariah': 10410, 'blasting': 10411, 'accusd': 10412, 'hr': 10413, 'refusd': 10414, 'fomenting': 10415, 'mqm': 10416, 'dems': 10417, 'merk': 10418, 'disabledlivesmatter': 10419, 'bashing': 10420, 'hrjdjd': 10421, 'exemplifying': 10422, 'espouse': 10423, 'lamented': 10424, 'arguing': 10425, 'holidog': 10426, 'paw': 10427, 'tailster': 10428, 'dedicate': 10429, 'archangel': 10430, 'beeping': 10431, 'nnurse': 10432, 'vitals': 10433, 'nwalks': 10434, 'nmatt': 10435, 'poundstretcher': 10436, 'defensive': 10437, 'releasing': 10438, 'idinaparty': 10439, 'modestmouse': 10440, 'judgelynntoler': 10441, 'specter': 10442, \"morning's\": 10443, 'préjugés': 10444, 'intolérance': 10445, 'personnalitéautoritaire': 10446, 'timebreakers': 10447, 'mutli': 10448, 'directional': 10449, \"wednesday's\": 10450, 'happiest': 10451, 'peiyophobilia': 10452, 'energetic': 10453, 'xtremly': 10454, 'mirrors': 10455, 'summon': 10456, 'emblem': 10457, 'urge': 10458, 'easyjet': 10459, 'genre': 10460, 'cheesy': 10461, 'pac': 10462, 'voteyourconscience': 10463, 'succumb': 10464, \"'he\": 10465, 'alarmist': 10466, 'patriotact': 10467, 'combat': 10468, 'tools': 10469, 'trade': 10470, 'hh': 10471, 'creaking': 10472, 'creak': 10473, \"uofw's\": 10474, 'poorthings': 10475, 'namp': 10476, 'nhad': 10477, 'concerts': 10478, 'soloist': 10479, 'mild': 10480, 'below': 10481, 'inbound': 10482, 'zidane': 10483, 'unuh': 10484, 'physiatrists': 10485, 'brooke': 10486, 'mackenzie': 10487, 'dontbuythesun': 10488, 'essay': 10489, 'certified': 10490, 'consumate': 10491, 'exec': 10492, 'complaints': 10493, 'rd': 10494, 'rpt': 10495, 'wr': 10496, 'tsd': 10497, 'dn': 10498, 'congis': 10499, 'obliged': 10500, 'hounded': 10501, 'revive': 10502, 'jeff': 10503, 'jeffrey': 10504, 'welp': 10505, 'credits': 10506, 'poses': 10507, 'conditions': 10508, 'kipling': 10509, 'derbyshire': 10510, 'recognise': 10511, 'complexptsd': 10512, 'lthechat': 10513, 'herrera': 10514, 'proved': 10515, 'exercised': 10516, 'afterwards': 10517, 'sacred': 10518, 'bbc': 10519, 'editorially': 10520, 'trumped': 10521, 'davies': 10522, 'bicycle': 10523, 'paths': 10524, 'misogynist': 10525, 'psychopath': 10526, 'newly': 10527, 'engaged': 10528, 'stevie': 10529, 'disguise': 10530, 'wii': 10531, 'proportion': 10532, 'wordvof': 10533, 'pope': 10534, 'ctt': 10535, 'ikaw': 10536, 'talaga': 10537, 'tagagising': 10538, 'ko': 10539, 'shet': 10540, 'thisbhuge': 10541, 'vantage': 10542, 'palms': 10543, 'racing': 10544, 'roanoke': 10545, 'steiner': 10546, 'injuries': 10547, 'disturb': 10548, 'stances': 10549, 'anoint': 10550, 'bernards': 10551, 'fucing': 10552, 'heely': 10553, 'debates2016': 10554, 'asktrumponequestion': 10555, 'begged': 10556, 'mugs': 10557, 'freeloader': 10558, 'beak': 10559, 'iq': 10560, \"'pleased\": 10561, '“winners': 10562, 'concessions': 10563, '£5k': 10564, 'dirt': 10565, 'apology': 10566, 'customerservice': 10567, 'revolves': 10568, 'evrn': 10569, 'tunnels': 10570, 'grimy': 10571, \"big'un\": 10572, 'queensbury': 10573, 'morrisons': 10574, 'festooned': 10575, 'rubbish': 10576, 'eeiry': 10577, \"'tall\": 10578, \"lesbian'\": 10579, 'discriminatory': 10580, 'mandate': 10581, '864': 10582, 'providers': 10583, 'negotiating': 10584, \"la's\": 10585, 'ijb': 10586, 'resources': 10587, 'berniebrocialists': 10588, 'genders': 10589, 'swingish': 10590, \"'supporting'\": 10591, \"everybody's\": 10592, 'participating': 10593, 'noam': 10594, 'chomsky': 10595, 'experiencing': 10596, 'temperment': 10597, 'perilous': 10598, 'entry': 10599, 'pomte': 10600, 'muse': 10601, 'exitaso': 10602, 'supremacists': 10603, 'differing': 10604, 'instills': 10605, 'harvest': 10606, 'contentment': 10607, 'mentality': 10608, 'scrolling': 10609, 'his—': 10610, 'peoples': 10611, 'jamie': 10612, 'biceps': 10613, 'atsu': 10614, 'cherry': 10615, 'uwu': 10616, 'te': 10617, 'gusta': 10618, 'reviews': 10619, 'apologies': 10620, 'submarine': 10621, 'blancos': 10622, 'outfits': 10623, 'lace': 10624, 'diverse': 10625, 'havens': 10626, 'owen': 10627, 'garriott': 10628, '“it': 10629, 'untrusted': 10630, 'iam': 10631, 'awestruck': 10632, 'entrenepuers': 10633, 'ups': 10634, \"sme's\": 10635, 'proactive': 10636, 'accountancy': 10637, 'lowest': 10638, 'insomniacs': 10639, 'sociopath': 10640, 'jeepers': 10641, 'creepers': 10642, 'horrormoviesarebest': 10643, 'horrorfilm': 10644, \"'pledge'\": 10645, 'petulant': 10646, 'postrump': 10647, 'fathomevents': 10648, 'speechless': 10649, 'gump': 10650, 'diets': 10651, 'eng': 10652, 'uhh': 10653, 'rhe': 10654, 'rlike': 10655, 'ronly': 10656, 'sugita': 10657, 'contrasts': 10658, 'camouflage': 10659, 'garments': 10660, 'caroline': 10661, 'adhd': 10662, 'nanyone': 10663, 'significant': 10664, 'breakaway': 10665, 'backpacks': 10666, '5kin26mins': 10667, 'blowjobs': 10668, 'tfb': 10669, 'mack': 10670, 'bewdley': 10671, 'eurythmics': 10672, 'gothic': 10673, 'metal': 10674, 'exits': 10675, 'remotely': 10676, 'waterfall': 10677, \"sister's\": 10678, 'ahole': 10679, 'conspiracy': 10680, 'theories': 10681, 'amyah': 10682, 'unwittingly': 10683, 'ferocious': 10684, \"''em'\": 10685, \"'me'\": 10686, 'greatly': 10687, 'scorning': 10688, 'detention': 10689, 'resettle': 10690, 'asylumseekers': 10691, 'manus': 10692, 'mbc': 10693, 'allo': 10694, 'launching': 10695, 'encryption': 10696, 'default': 10697, 'coffees': 10698, '“competition': 10699, 'motivate': 10700, 'time”': 10701, 'philosopher': 10702, 'dj': 10703, 'kyos': 10704, \"'protesting'\": 10705, 'optics': 10706, 'toussaintromain': 10707, 'ballmer': 10708, 'dyke': 10709, 'rarely': 10710, 'trek': 10711, 'rocket': 10712, 'kikmessage': 10713, 'boredaf': 10714, 'snapchatme': 10715, 'incurring': 10716, \"lily's\": 10717, 'gerard': 10718, 'lmaooooo': 10719, 'tidying': 10720, 'fs': 10721, 'definitive': 10722, 'impotent': 10723, 'stereotype': 10724, 'asians': 10725, 'reporters': 10726, 'broccoli': 10727, 'massexodus': 10728, '50p': 10729, 'earl': 10730, 'progressive': 10731, 'transforming': 10732, 'moral': 10733, 'repeal': 10734, \"'johnson\": 10735, \"amendment'\": 10736, 'map': 10737, 'pursuit': 10738, 'kai': 10739, 'discriminate': 10740, 'generates': 10741, 'refunded': 10742, 'misplaced': 10743, 'cigarettes': 10744, 'factors': 10745, 'bulb': 10746, 'worm': 10747, 'bnqo': 10748, 'scorpio': 10749, '1the': 10750, 'klan': 10751, 'awoke': 10752, 'disgraceful': 10753, 'tyre': 10754, 'differs': 10755, 'fatigue': 10756, 'actin': 10757, 'outweighs': 10758, 'pineapple': 10759, 'classified': 10760, \"comedy's\": 10761, 'torment': 10762, 'philadelphia': 10763, 'getitgirl': 10764, 'girlpower': 10765, 'deleting': 10766, 'brills': 10767, 'ukip': 10768, '‘oh': 10769, 'ocean': 10770, 'lush': 10771, 'gagged': 10772, '£20': 10773, 'creams': 10774, 'glutes': 10775, 'squat': 10776, 'persecutes': 10777, 'patriots': 10778, 'lamest': 10779, 'troye': 10780, 'politicallycorrect': 10781, 'assumption': 10782, \"'visitor'\": 10783, \"…didn't\": 10784, 'ourhouse': 10785, 'onejersey': 10786, 'werealldevilsinside': 10787, 'ndoes': 10788, 'puck': 10789, 'migraines': 10790, 'styled': 10791, 'atl': 10792, 'strip': 10793, 'grayson': 10794, 'nplays': 10795, 'lookin': 10796, 'thumper': 10797, 'mcternan': 10798, 'hipster': 10799, 'trailers': 10800, 'burner': 10801, 'intel': 10802, 'native': 10803, 'behalf': 10804, 'magnified': 10805, 'cmode': 10806, 'grimrail': 10807, 'isn': 10808, 'selfs': 10809, \"adp's\": 10810, 'ezlabor': 10811, 'portal': 10812, 'bil': 10813, 'ours': 10814, 'tonys': 10815, \"server's\": 10816, 'cursing': 10817, \"'just\": 10818, 'hungary': 10819, 'huffed': 10820, 'afr': 10821, 'entitled': 10822, 'justly': 10823, 'webb': 10824, 'craigan': 10825, 'swallowing': 10826, \"kardashians'\": 10827, \"kessel's\": 10828, 'butthurt': 10829, 'awh': 10830, \"fkin'\": 10831, 'wilt': 10832, 'valiant': 10833, 'wrathful': 10834, 'magnanimous': 10835, 'mouse': 10836, 'shakesphere': 10837, 'sparkles': 10838, 'posing': 10839, 'nipples': 10840, 'purposely': 10841, 'flaunting': 10842, 'sexualizing': 10843, 'gallen': 10844, '‘peace’': 10845, 'queensland': 10846, 'playmaker': 10847, 'johnathon': 10848, 'insists': 10849, 'defination': 10850, 'yu': 10851, 'frightening': 10852, 'desperately': 10853, 'notetoself': 10854, 'granted': 10855, 'pathological': 10856, 'memes': 10857, 'designed': 10858, 'uhhhhh': 10859, 'snapme': 10860, 'nudes': 10861, 'punching': 10862, 'synthetic': 10863, 'testosterone': 10864, 'inbreds': 10865, 'forlife': 10866, 'charlotteriots': 10867, 'mourning': 10868, 'stayhome': 10869, 'wiener': 10870, 'splashed': 10871, 'dunk': 10872, 'chusssss': 10873, 'jelly': 10874, 'squirm': 10875, 'pinching': 10876, 'sheets': 10877, '•gt': 10878, 'decade': 10879, 'laureliver': 10880, 'scrap': 10881, 'cooperate': 10882, 'marlboro': 10883, 'saucepan': 10884, 'shaft': 10885, 'brush': 10886, 'letterkenny': 10887, 'district': 10888, 'court': 10889, 'prominent': 10890, 'exasperate': 10891, 'peaked': 10892, 'tgmbnquee': 10893, 'summar': 10894, 'calculated': 10895, 'trample': 10896, 'dignity': 10897, 'confrontations': 10898, 'ceremony': 10899, 'involve': 10900, 'booze': 10901, 'caffeine': 10902, 'vengeance': 10903, 'hffffhj': 10904, 'cordinator': 10905, 'sleepnumber': 10906, 'unimpressive': 10907, 'tp': 10908, 'cancer': 10909, 'thirstythursday': 10910, 'hydration': 10911, '305': 10912, '912': 10913, '4937': 10914, 'elbow': 10915, 'rail': 10916, 'inches': 10917, 'turnovers': 10918, 'concerning': 10919, 'identity': 10920, 'everton': 10921, 'checkin': 10922, 'assigned': 10923, 'controllers': 10924, 'manga': 10925, 'overdone': 10926, 'nlike': 10927, 'backs': 10928, 'cupboards': 10929, 'fancie': 10930, 'batternburg': 10931, 'lag': 10932, 'fixthisgame': 10933, 'sfvrefund': 10934, 'toasting': 10935, 'burned': 10936, 'inferno': 10937, 'brightly': 10938, 'salty…': 10939, 'sickle': 10940, 'pt': 10941, 'jia': 10942, 'beyoncé': 10943, 'obstruction': 10944, 'oncoming': 10945, 'vehs': 10946, 'swerve': 10947, 'redzone': 10948, 'flags': 10949, 'trudeau': 10950, 'endulging': 10951, 'hominem': 10952, 'quanitfying': 10953, 'reluctantly': 10954, 'biiitttccchhhhhh': 10955, 'roght': 10956, 'gargle': 10957, 'vibe': 10958, 'childish': 10959, 'gambino': 10960, 'noting': 10961, 'israeli': 10962, 'behaved': 10963, 'gentleman': 10964, 'chic': 10965, 'fil': 10966, 'clash': 10967, 'mlo': 10968, 'crimewatch': 10969, 'touches': 10970, 'olds': 10971, 'drift': 10972, 'boutta': 10973, 'texts': 10974, \"scorpio's\": 10975, 'withdraw': 10976, 'villa': 10977, 'renewtherivalry': 10978, 'imyourdaddy': 10979, 'cantbeatme': 10980, 'cheats': 10981, 'tio': 10982, 'valle': 10983, 'wnf': 10984, 'tier': 10985, 'nffc': 10986, 'deptch': 10987, 'invalid': 10988, 'glitch': 10989, \"girls'\": 10990, 'tonic': 10991, 'eclectic': 10992, 'barbed': 10993, 'eloquence': 10994, 'reminders': 10995, 'considers': 10996, 'acknowledging': 10997, 'twenty': 10998, 'concur': 10999, 'expiring': 11000, 'xo': 11001, 'commiting': 11002, 'wae': 11003, 'nutt': 11004, 'dain': 11005, 'horoscopes': 11006, 'bon': 11007, 'allume': 11008, 'duck': 11009, 'thewordofgod': 11010, 'correctly': 11011, 'comforttheafflicted': 11012, 'afflictthecomfortable': 11013, 'embarrassment': 11014, 'ntime': 11015, 'moyes': 11016, 'unfollow': 11017, 'trolled': 11018, 'trolling': 11019, 'collateral': 11020, 'ankle': 11021, 'wrist': 11022, 'tapes': 11023, 'include': 11024, 'aidy': 11025, 'physics': 11026, 'naidy': 11027, 'tristan': 11028, \"her'\": 11029, 'dump': 11030, 'gasoline': 11031, 'excel': 11032, 'aaaaarrrrgghhh': 11033, 'iwanttocancel': 11034, 'thunder': 11035, 'gcse': 11036, 'stem': 11037, 'kgb': 11038, 'bitcoin': 11039, 'dividing': 11040, 'pitting': 11041, \"'other'\": 11042, 'ressssst': 11043, 'lightbulb': 11044, 'understandable': 11045, 'moaning': 11046, '7th': 11047, 'voicing': 11048, 'automatically': 11049, 'umbrage': 11050, 'squid': 11051, 'xbox1': 11052, 'rspca': 11053, 'grows': 11054, 'genes': 11055, 'drives': 11056, 'assessed': 11057, 'tenderhearted': 11058, 'guards': 11059, 'invigorate': 11060, 'mechanisms': 11061, \"ni'll\": 11062, 'pander': 11063, 'awaiting': 11064, 'avataar': 11065, 'rowdy': 11066, 'receiving': 11067, 'vegans': 11068, 'fearsome': 11069, 'fawn': 11070, 'industrial': 11071, 'esque': 11072, 'footwear': 11073, 'allstars': 11074, 'rupaul': 11075, \"solo'd\": 11076, \"crota's\": 11077, 'flawlessly': 11078, 'persons': 11079, 'sums': 11080, 'tomourssuck': 11081, 'prayinsnotcancer': 11082, 'mia': 11083, 'reyes': 11084, 'snarled': 11085, 'steel': 11086, 'claws': 11087, 'flexing': 11088, 'dangerously': 11089, 'uttered': 11090, 'damning': 11091, 'petty': 11092, \"'protests\": 11093, \"peace'\": 11094, 'hometowns': 11095, 'preach': 11096, 'sixty': 11097, 'inequality': 11098, 'inter': 11099, 'prejudiced': 11100, 'outsiders': 11101, \"'any\": 11102, 'dragoness': 11103, 'nostrils': 11104, 'nodded': 11105, 'updates': 11106, \"'cybernats'\": 11107, 'smokey': 11108, 'implies': 11109, 'seam': 11110, 'sua': 11111, 'limit': 11112, 'sohurt': 11113, 'lgbtq': 11114, 'entertain': 11115, 'whore': 11116, 'revelations': 11117, 'babes': 11118, 'intending': 11119, 'resulted': 11120, 'sobbing': 11121, 'ranting': 11122, 'finnick': 11123, 'cinema': 11124, 'attachments': 11125, 'apathy': 11126, 'sentimentality': 11127, 'dust': 11128, 'fucker': 11129, 'ji': 11130, 'bigots': 11131, 'resort': 11132, \"'fag'\": 11133, 'bigot': 11134, 'cleaners': 11135, 'adder': 11136, 'tank': 11137, 'creats': 11138, 'rubberbath': 11139, 'tunes': 11140, 'uncomfortable': 11141, 'technician': 11142, \"scorned'\": 11143, 'milton': 11144, 'undifferentiated': 11145, 'patent': 11146, 'braininess': 11147, 'lineman': 11148, 'whyanewg': 11149, 'cognitive': 11150, 'dissonance': 11151, 'incident': 11152, 'separate': 11153, 'pamphlets': 11154, 'normalized': 11155, 'frog': 11156, \"giroud's\": 11157, 'beard': 11158, 'brietbart': 11159, 'indiamissingindira': 11160, 'solve': 11161, 'nchasing': 11162, 'nwrdsmth': 11163, '35': 11164, 'wrongdoing': 11165, 'grrr': 11166, 'emailing': 11167, 'hahah': 11168, 'obnoxiously': 11169, 'asf': 11170, \"robart's\": 11171, 'hc': 11172, 'enrage': 11173, 'keithscott': 11174, 'warrant': 11175, 'charity': 11176, 'reasonably': 11177, 'crudely': 11178, 'tensions': 11179, 'tubers': 11180, 'nliquid': 11181, 'voke': 11182, \"connie's\": 11183, \"'fuck\": 11184, \"vodka'\": 11185, 'hated': 11186, 'showmance': 11187, 'uglycry': 11188, 'bbmichelle': 11189, \"'groovier'\": 11190, 'decency': 11191, 'agrees': 11192, 'interviewed': 11193, 'filmmakers': 11194, 'journalism': 11195, 'poorly': 11196, 'spills': 11197, 'aggravated': 11198, 'gettin': 11199, 'situ': 11200, 'polis': 11201, 'snp': 11202, 'snitch': 11203, 'baku': 11204, 'prevent': 11205, 'armenian': 11206, 'rattatas': 11207, 'a2': 11208, 'isolation': 11209, 'joes': 11210, 'gf': 11211, 'donking': 11212, 'lion': 11213, \"'black\": 11214, 'cavalierly': 11215, 'opioid': 11216, 'pulse': 11217, 'impairment': 11218, 'ist': 11219, 'stacked': 11220, 'usage': 11221, 'ingestion': 11222, 'demo': 11223, 'namely': 11224, 'graham': 11225, 'flake': 11226, 'sasse': 11227, 'hiney': 11228, 'waggled': 11229, 'dint': 11230, 'chose': 11231, 'doggie': 11232, 'landlords': 11233, 'doglover': 11234, 'rescuedog': 11235, 'clicked': 11236, 'parentsofaddicts': 11237, 'wellness': 11238, 'anon': 11239, 'auto': 11240, 'flaming': 11241, 'reject': 11242, 'struggled': 11243, 'eds': 11244, '7y': 11245, 'spectacle': 11246, 'anorexia': 11247, 'deaf': 11248, 'clt': 11249, 'foiled': 11250, 'janice': 11251, 'griffith': 11252, 'cucks': 11253, 'youths': 11254, 'buckynat': 11255, 'clintwanda': 11256, 'terence': 11257, 'stk': 11258, \"i'f\": 11259, 'slim': 11260, 'ftw': 11261, 'motif': 11262, 'talklikeapirate': 11263, 'pirate': 11264, 'minion': 11265, 'authentic': 11266, 'afghan': 11267, 'irritated': 11268, 'makin': 11269, 'bret': 11270, 'cena': 11271, 'balor': 11272, 'cameras': 11273, 'compact': 11274, 'burdened': 11275, 'releases': 11276, 'transmutation': 11277, 'jordy': 11278, \"pereg's\": 11279, 'parris': 11280, 'positively': 11281, 'riteing': 11282, 'wots': 11283, 'happond': 11284, 'plese': 11285, 'deeds': 11286, 'toast': 11287, 'introduce': 11288, 'engulf': 11289, 'sailer': 11290, 'mars': 11291, 'affected': 11292, 'infected': 11293, 'freaks': 11294, 'sherri': 11295, 'martel': 11296, 'loki': 11297, 'maps': 11298, 'yeahs': 11299, 'roids': 11300, 'applied': 11301, 'faggy': 11302, \"nice'\": 11303, 'mcdanno': 11304, 'kenny': 11305, 'washington': 11306, 'nkenny': 11307, 'crossfire': 11308, 'msnbc': 11309, 'wick': 11310, 'annoyance': 11311, 'thebabybombers': 11312, 'yankees': 11313, 'fattening': 11314, 'sandwich': 11315, 'coronary': 11316, 'pereira': 11317, 'belief': 11318, 'addictive': 11319, 'defend': 11320, 'belt': 11321, 'aldo': 11322, 'cod': 11323, 'iranians': 11324, \"byu's\": 11325, 'wvu': 11326, 'gyimah': 11327, 'operating': 11328, 'unforgiving': 11329, 'tokens': 11330, \"hartramsey'suplift\": 11331, 'monsta': 11332, 'teddy': 11333, 'concorde': 11334, 'lounge': 11335, 'terminal': 11336, 'jfk': 11337, 'logging': 11338, 'wonks': 11339, 'proposal': 11340, 'subminimum': 11341, 'wage': 11342, 'chaotic': 11343, 'prettier': 11344, 'lifers': 11345, 'condemning': 11346, 'adoption': 11347, '8th': 11348, 'getthefirelit': 11349, 'verse': 11350, 'existing': 11351, 'april': 11352, '25th': 11353, '2010': 11354, 'lasts': 11355, 'hmmmm': 11356, 'lamination': 11357, 'maturity': 11358, 'tee': 11359, 'surfer': 11360, 'edit': 11361, 'nforget': 11362, 'roaches': 11363, 'wannagetaway': 11364, 'contest': 11365, 'headlines': 11366, 'trend': 11367, 'intensely': 11368, 'plumbers': 11369, 'conundrum': 11370, 'heartbeat': 11371, 'urgent': 11372, \"'magic\": 11373, 'goods': 11374, 'fraudsters': 11375, 'lana': 11376, \"'mystery'\": 11377, 'colada': 11378, 'starburst': 11379, 'batmantelltaleseries': 11380, 'hardy': 11381, 'baal': 11382, 'boosted': 11383, \"graham's\": 11384, \"future'\": 11385, 'darksocial': 11386, 'contributing': 11387, 'warn': 11388, 'lestweforget': 11389, 'trainee': 11390, 'concluded': 11391, 'poll': 11392, 'bethechange': 11393, 'defining': 11394, 'opposition': 11395, 'phenomena': 11396, 'serves': 11397, 'hungergamesmockingjay2': 11398, 'ravenclaw': 11399, 'mlc': 11400, 'hs': 11401, 'knees': 11402, 'readership': 11403, 'premieres': 11404, 'defeats': 11405, '642': 11406, '188': 11407, 'pdf': 11408, 'ahid': 11409, 'comeback': 11410, 'nevery': 11411, \"day's\": 11412, 'devastated': 11413, 'eun': 11414, 'nyall': 11415, 'bojan': 11416, 'muni': 11417, 'nboth': 11418, 'dsp': 11419, 'claims': 11420, 'yters': 11421, 'viewership': 11422, 'capture': 11423, 'gabriel': 11424, 'gaining': 11425, 'conciousness': 11426, 'sailed': 11427, 'uncharted': 11428, 'doorway': 11429, 'identify': 11430, 'buddha': 11431, 'hid': 11432, 'spill': 11433, 'thier': 11434, 'sa': 11435, 'hrmanagement': 11436, 'expediency': 11437, 'encroaching': 11438, 'credible': 11439, 'workplaceviolenceprevention': 11440, 'salaams': 11441, 'nazr': 11442, 'aameen': 11443, 'inclined': 11444, \"'documentary'\": 11445, 'faculties': 11446, 'reusable': 11447, 'shape': 11448, 'hiding': 11449, 'nlong': 11450, 'overdue': 11451, 'vestiges': 11452, 'shoals': 11453, 'tracy': 11454, \"chapman's\": 11455, \"'fast\": 11456, 'dayjob': 11457, 'managed': 11458, 'lasted': 11459, 'stoke': 11460, 'messageboard': 11461, 'bantz': 11462, 'notch': 11463, 'ambe': 11464, 'shitpost': 11465, \"tony's\": 11466, 'hijacked': 11467, 'vaguely': 11468, 'memers': 11469, 'nani': 11470, 'rafael': 11471, 'rvp': 11472, 'sustainability': 11473, 'joel': 11474, 'danishes': 11475, 'porkistan': 11476, 'terribly': 11477, 'intervation': 11478, 'fredsirieix': 11479, 'peckham': 11480, \"london's\": 11481, 'gurubig': 11482, 'voted': 11483, 'gabe': 11484, 'california': 11485, 'sissified': 11486, 'ruling': 11487, 'dispirit': 11488, 'attestative': 11489, 'alphanumeric': 11490, 'wyrdljpyu': 11491, 'dissociating': 11492, 'equals': 11493, 'cptsd': 11494, 'bpd': 11495, 'polluted': 11496, 'syringes': 11497, 'bk': 11498, 'midfield': 11499, 'flair': 11500, 'entertainers': 11501, 'jazzholiday': 11502, 'riesbrothers': 11503, 'removal': 11504, 'lamentable': 11505, 'ajvksk': 11506, 'ancient': 11507, 'permanently': 11508, 'montreal': 11509, 'smutty': 11510, 'twins': 11511, '“my': 11512, 'abhors': 11513, 'blow”': 11514, 'childood': 11515, 'underlie': 11516, 'flee': 11517, 'adversity': 11518, 'chillin': 11519, 'lakes': 11520, \"f'n\": 11521, 'morons': 11522, 'u23': 11523, 'smfh': 11524, 'absence': 11525, 'presence': 11526, 'sanitizer': 11527, \"'juspopmolly'\": 11528, 'mega': 11529, 'autumnalequinox': 11530, 'expectations': 11531, 'therapists': 11532, 'fancam': 11533, 'clan': 11534, 'booth': 11535, 'kickinnnnn': 11536, 'bikes': 11537, 'bbq': 11538, 'traveling': 11539, 'brians': 11540, 'nigella': 11541, 'lawsons': 11542, 'scouts': 11543, \"'d\": 11544, 'gems': 11545, 'colder': 11546, 'lippies': 11547, 'scarves': 11548, 'sweaters': 11549, 'wolfcreek': 11550, 'sponsored': 11551, 'tourist': 11552, \"stitch's\": 11553, 'instrumentals': 11554, \"'may\": 11555, \"not'\": 11556, 'meghan': 11557, 'keyboard': 11558, 'fundamentals': 11559, 'majors': 11560, 'couples': 11561, 'provoking': 11562, 'cube': 11563, 'bowl': 11564, 'processor': 11565, 'judo': 11566, 'tis': 11567, 'nfriend': 11568, 'teenager': 11569, \"shakespeare's\": 11570, 'reincarnation': 11571, 'nim': 11572, 'dumbass': 11573, 'donate': 11574, 'era': 11575, 'spooky': 11576, 'fortwilderness': 11577, 'campground': 11578, 'nconfidence': 11579, 'continual': 11580, 'verge': 11581, 'prioritise': 11582, 'fucken': 11583, \"'n'azi\": 11584, 'havnt': 11585, 'dons': 11586, 'xdddd': 11587, 'tate': 11588, 'willows': 11589, 'raped': 11590, 'barb': 11591, 'consenting': 11592, 'postponed': 11593, \"gilmour's\": 11594, 'gig': 11595, 'crock': 11596, 'nachos': 11597, 'producer': 11598, 'mastering': 11599, 'notebook': 11600, 'mixtape': 11601, 'recession': 11602, 'brightest': 11603, 'html5': 11604, 'webdesign': 11605, 'insightful': 11606, 'teacherly': 11607, 'kickass': 11608, 'somerset': 11609, 'maughm': 11610, 'lauren': 11611, 'jauregui': 11612, 'dissapear': 11613, 'amazes': 11614, 'whines': 11615, 'rave': 11616, 'burton': 11617, 'policies': 11618, 'bls': 11619, 'demetria': 11620, 'fyi': 11621, \"08'\": 11622, 'neg': 11623, 'mh': 11624, 'henderson': 11625, '128': 11626, 'counterfeit': 11627, '\\xa0berl': 11628, 'katznelson': 11629, 'plath': 11630, \"stalin's\": 11631, 'purges': 11632, 'disasters': 11633, 'enzyme': 11634, 'polyphenol': 11635, 'oxidase': 11636, 'reacts': 11637, 'oxygen': 11638, 'applefacts': 11639, 'african': 11640, 'hireling': 11641, 'slave': 11642, 'shares': 11643, 'dami': 11644, 'ponytail': 11645, 'standout': 11646, 'needa': 11647, 'dressed': 11648, 'groceries': 11649, 'isle': 11650, 'wight': 11651, 'weep': 11652, 'reaching': 11653, 'cs': 11654, 'severely': 11655, 'lacking': 11656, \"'being\": 11657, 'panicattacks': 11658, 'lia': 11659, 'nspunky': 11660, 'nplay': 11661, 'bub': 11662, \"difficulty'\": 11663, 'replying': 11664, 'ironing': 11665, 'autograph': 11666, 'shantosh': 11667, 'pussies': 11668, 'gatherp': 11669, 'th': 11670, \"bts'\": 11671, 'trilogy': 11672, 'mv': 11673, 'horseman': 11674, 'shocked': 11675, 'epicfail': 11676, 'drinkin': 11677, 'mcdowell': 11678, 'rocknroll': 11679, 'krusty': 11680, 'krab': 11681, 'crippling': 11682, 'superseptember': 11683, 'jumia': 11684, 'barcelos': 11685, 'nlife': 11686, 'trial': 11687, 'amid': 11688, 'deepening': 11689, 'lampoon': 11690, \"'deteriorada'\": 11691, 'wana': 11692, 'unfortunate': 11693, 'ghanaians': 11694, 'dodges': 11695, 'stones': 11696, \"na'\": 11697, 'speeder': 11698, 'license': 11699, 'inadequacy': 11700, 'slithers': 11701, 'wraps': 11702, 'pleased': 11703, 'lessons': 11704, 'basslessons': 11705, 'rockin': 11706, 'dylan': 11707, \"singin'\": 11708, \"dylan's\": 11709, '115th': 11710, 'lpco': 11711, 'klassic': 11712, \"darius'\": 11713, 'igda': 11714, 'fic': 11715, 'fearless': 11716, 'junior': 11717, 'youarestrong': 11718, 'youarearising': 11719, 'tidbit': 11720, \"women's\": 11721, 'restroom': 11722, 'compliments': 11723, 'ncollege': 11724, 'brazy': 11725, 'joking': 11726, 'buggered': 11727, 'interface': 11728, 'ntrap': 11729, 'overlooks': 11730, 'hijack': 11731, 'shrines': 11732, 'tide': 11733, 'vine': 11734, 'lower': 11735, 'afrikaans': 11736, 'tvgirl': 11737, 'idealize': 11738, 'tranquilizer': 11739, 'worn': 11740, 'primary': 11741, 'prescribe': 11742, 'betterworld': 11743, 'ultimate': 11744, 'frogs': 11745, 'rally': 11746, 'attempting': 11747, 'temperature': 11748, 'doese': 11749, 'escapism': 11750, 'conscious': 11751, 'perseverance': 11752, 'wealthy': 11753, 'socal': 11754, 'recoveryfit': 11755, 'youthful': 11756, 'glorifying': 11757, 'gtfo': 11758, 'furry': 11759, 'ozzie': 11760, 'glands': 11761, 'huuuuuuuge': 11762, 'tilli': 11763, 'salvation': 11764, \"everything'\": 11765, 'hyped': 11766, 'digesting': 11767, 'porridge': 11768, 'entertained': 11769, 'muscled': 11770, 'dive': 11771, 'snaps': 11772, 'cali': 11773, 'sejejs': 11774, 'cibulskis': 11775, 'cuddling': 11776, 'relieves': 11777, 'strengthens': 11778, 'immune': 11779, 'sunlight': 11780, \"you's\": 11781, 'breadrins': 11782, 'sling': 11783, 'loool': 11784, 'fukc': 11785, 'spectacles': 11786, 'savemoney': 11787, 'savelifes': 11788, 'openbar': 11789, 'weddingreception': 11790, 'rode': 11791, 'cassablancas': 11792, 'voidz': 11793, \"srv's\": 11794, \"'voodoo\": 11795, \"child'\": 11796, 'approximately': 11797, '76': 11798, \"jimi's\": 11799, 'stubborn': 11800, 'maw': 11801, \"'ave\": 11802, 'mer': 11803, 'movember': 11804, \"son'\": 11805, 'pan': 11806, 'highlighter': 11807, 'mah': 11808, 'thunk': 11809, 'ott': 11810, 'brighter': 11811, 'nfall': 11812, 'ndream': 11813, \"'one\": 11814, 'hero': 11815, 'grouch': 11816, 'sd': 11817, 'democratic': 11818, 'repub': 11819, 'synth': 11820, 'tracks': 11821, 'brawndo': 11822, 'hammer': 11823, 'modifier': 11824, 'appendix': 11825, 'ion': 11826, 'analysis': 11827, 'ethnic': 11828, 'corpses': 11829, \"l's\": 11830, \"joy's\": 11831, 'madridistas': 11832, 'cules': 11833, 'bain': 11834, 'cash': 11835, 'pound': 11836, 'coins': 11837, 'sunbed': 11838, 'fiddle': 11839, 'debacle': 11840, 'ndeveloping': 11841, 'paddy': 11842, 'mcnair': 11843, 'joint': 11844, 'justlet': 11845, 'techno': 11846, 'retired': 11847, 'circumstantial': 11848, \"'eliminate\": 11849, \"tongue'\": 11850, 'troyler': 11851, 'creeping': 11852, 'sacrifice': 11853, 'packing': 11854, 'staying': 11855, 'cuddled': 11856, 'brendon': 11857, 'relaxed': 11858, 'pondering': 11859, 'shiro': 11860, 'wordpress': 11861, 'plugin': 11862, 'recommendations': 11863, \"'best'\": 11864, \"'least\": 11865, 'premium': 11866, 'neats': 11867, 'whining': 11868, 'jst': 11869, 'nhar': 11870, 'din': 11871, 'rona': 11872, 'dhona': 11873, 'kentphonic': 11874, 'showers': 11875, \"'hanging\": 11876, \"around'\": 11877, \"'sing\": 11878, \"back'\": 11879, 'cashew': 11880, 'hemp': 11881, 'dandelion': 11882, 'messin': 11883, 'promoter': 11884, 'judy': 11885, 'sponsorship': 11886, 'patchy': 11887, 'knocking': 11888, 'surviving': 11889, 'gd': 11890, 'campaigning': 11891, 'predator': 11892, 'heckler': 11893, 'roberts': 11894, 'rake': 11895, 'speakinh': 11896, 'elliot': 11897, 'clueless': 11898, 'kickoff': 11899, 'hostels': 11900, 'frame': 11901, 'hostel': 11902, 'visiting': 11903, 'tenor': 11904, 'sax': 11905, 'hopes': 11906, 'henny': 11907, 'gobsmacked': 11908, 'noob': 11909, \"'pr's\": 11910, 'grid': 11911, \"updating'\": 11912, 'bold': 11913, 'dim': 11914, 'everythin': 11915, 'earphones': 11916, '1000s': 11917, 'hispan': 11918, \"'nah\": 11919, 'crackhead': 11920, 'wal': 11921, 'mart': 11922, 'tinge': 11923, 'bsg': 11924, 'consistent': 11925, 'hues': 11926, 'breasts': 11927, 'gulking': 11928, 'minw': 11929, 'witnesse': 11930, 'accidents': 11931, 'ih': 11932, 'litany': 11933, 'painted': 11934, 'promoting': 11935, 'carnival': 11936, 'chairperson': 11937, 'feminists': 11938, 'titanic': 11939, 'buchanan': 11940, '1939': 11941, 'wembley': 11942, 'five': 11943, 'responsibility': 11944, 'vanre': 11945, 'extradition': 11946, \"pandora's\": 11947, 'jt': 11948, 'guanxi': 11949, 'toad': 11950, 'dada': 11951, \"orion's\": 11952, 'gazed': 11953, 'unboxing': 11954, 'staten': 11955, 'jest': 11956, 'kara': 11957, 'scales': 11958, 'perched': 11959, 'chains': 11960, 'bradford': 11961, 'flybe': 11962, 'travelers': 11963, 'curry': 11964, 'capita': 11965, 'gini': 11966, 'coefficient': 11967, 'ambitions': 11968, 'output': 11969, 'vintage': 11970, 'hackney': 11971, 'winner': 11972, 'barroso': 11973, 'goldman': 11974, 'inflicted': 11975, 'nutella': 11976, 'ivory': 11977, 'redbus': 11978, 'initiate': 11979, 'transaction': 11980, 'afew': 11981, 'affects': 11982, 'tryed': 11983, 'chafford': 11984}\n",
            "[[0. 0. 0. ... 0. 0. 0.]\n",
            " [0. 0. 0. ... 0. 0. 0.]\n",
            " [0. 0. 0. ... 0. 0. 0.]\n",
            " ...\n",
            " [0. 0. 0. ... 0. 0. 0.]\n",
            " [0. 0. 0. ... 0. 0. 0.]\n",
            " [0. 0. 1. ... 0. 0. 0.]]\n",
            "[[1. 0. 0. 0.]\n",
            " [1. 0. 0. 0.]\n",
            " [1. 0. 0. 0.]\n",
            " ...\n",
            " [0. 1. 0. 0.]\n",
            " [0. 1. 0. 0.]\n",
            " [0. 1. 0. 0.]]\n"
          ]
        }
      ],
      "source": [
        "from keras.preprocessing.text import Tokenizer\n",
        "from keras.preprocessing.sequence import pad_sequences\n",
        "\n",
        "texts_new=texts.copy()\n",
        "for i in range(len(texts)):\n",
        "  endstring=\"ENDTOKEN\"\n",
        "  if(not texts[i][len(texts[i])-1]==\" \"):\n",
        "    endstring=\" ENDTOKEN\"\n",
        "  texts_new[i]=\"STARTOKEN \"+texts[i]+endstring;\n",
        "gen_tokenizer=Tokenizer(num_words=10000)\n",
        "gen_tokenizer.fit_on_texts(texts_new);\n",
        "token_sequences=gen_tokenizer.texts_to_sequences(texts_new);\n",
        "token_list_states=[]\n",
        "token_actions=[]\n",
        "gan_list_states=[]\n",
        "gan_classification_onehots=[]\n",
        "gan_actions=[]\n",
        "classification_onehots=[]\n",
        "for token_sequence_index in range(len(token_sequences)):\n",
        "  token_sequence=token_sequences[token_sequence_index]\n",
        "\n",
        "  for i in range(1, len(token_sequence)):\n",
        "    token_list_states.append(token_sequence[:i])\n",
        "    classification_onehots.append(emotions[token_sequence_index])\n",
        "    token_actions.append([token_sequence[i]])\n",
        "    if(i+1>=len(token_sequence)):\n",
        "      gan_list_states.append(token_sequence[:i])\n",
        "     # print(token_sequence)\n",
        "      gan_classification_onehots.append(emotions[token_sequence_index])\n",
        "      gan_actions.append([token_sequence[i]])\n",
        "token_list_states=np.array(pad_sequences(token_list_states, maxlen=64))\n",
        "gan_list_states=np.array(pad_sequences(gan_list_states, maxlen=64))\n",
        "classification_onehots=np.array(classification_onehots)\n",
        "gan_classification_onehots=np.array(gan_classification_onehots)\n",
        "print(gen_tokenizer.word_index)\n",
        "token_actions=to_categorical(np.stack(token_actions, axis=0), num_classes=len(gen_tokenizer.word_index))\n",
        "gan_actions=to_categorical(np.stack(gan_actions, axis=0), num_classes=len(gen_tokenizer.word_index))\n",
        "print(token_actions)\n",
        "print(classification_onehots)\n",
        "\n"
      ]
    },
    {
      "cell_type": "markdown",
      "metadata": {
        "id": "NTQDKmSaub0P"
      },
      "source": [
        "#Classifier Model"
      ]
    },
    {
      "cell_type": "code",
      "source": [
        "x_train=np.array(pad_sequences(token_sequences, maxlen=200))\n",
        "y_train=np.array(emotions)\n",
        "shuffled_indices=np.arange(6755)\n",
        "np.random.shuffle(shuffled_indices)\n",
        "x_train=x_train[shuffled_indices]\n",
        "y_train=y_train[shuffled_indices]"
      ],
      "metadata": {
        "id": "CF0wPmeJiKl6"
      },
      "execution_count": 6,
      "outputs": []
    },
    {
      "cell_type": "code",
      "execution_count": 9,
      "metadata": {
        "id": "8gBWBJtWAmmj",
        "colab": {
          "base_uri": "https://localhost:8080/"
        },
        "outputId": "3131d5ac-99bf-4877-913f-e9631785c410"
      },
      "outputs": [
        {
          "output_type": "stream",
          "name": "stdout",
          "text": [
            "Model: \"sequential_1\"\n",
            "_________________________________________________________________\n",
            " Layer (type)                Output Shape              Param #   \n",
            "=================================================================\n",
            " Embedding (Embedding)       (None, None, 100)         1284400   \n",
            "                                                                 \n",
            " Conv1D (Conv1D)             (None, None, 32)          6432      \n",
            "                                                                 \n",
            " Bidirectional (Bidirectiona  (None, 200)              106400    \n",
            " l)                                                              \n",
            "                                                                 \n",
            " Dense-ReLU (Dense)          (None, 100)               20100     \n",
            "                                                                 \n",
            " Dense-Softmax (Dense)       (None, 4)                 404       \n",
            "                                                                 \n",
            "=================================================================\n",
            "Total params: 1,417,736\n",
            "Trainable params: 1,417,736\n",
            "Non-trainable params: 0\n",
            "_________________________________________________________________\n"
          ]
        }
      ],
      "source": [
        "\n",
        "from keras.models import Sequential\n",
        "from keras.layers import Embedding, Flatten, Dense, Maximum, LSTM, GRU, Conv1D, MaxPooling1D, Bidirectional\n",
        "\n",
        "# print(len(emotionlabels))\n",
        "# print(len(texts))\n",
        "# print(x_train)\n",
        "# print(y_train)\n",
        "# print(x_train.shape)\n",
        "# print(y_train.shape)\n",
        "classifier = Sequential()\n",
        "classifier.add(Embedding(12844, 100, name=\"Embedding\"))\n",
        "classifier.add(Conv1D(32, 2, name=\"Conv1D\")) \n",
        "classifier.add(Bidirectional(LSTM(100, name=\"LSTM\"), name=\"Bidirectional\"))\n",
        "classifier.add(Dense(100, activation='relu', name=\"Dense-ReLU\"))\n",
        "classifier.add(Dense(4, activation='softmax', name=\"Dense-Softmax\"))\n",
        "classifier.summary()\n",
        "classifier.compile(optimizer='rmsprop', loss='categorical_crossentropy',\n",
        "metrics=['acc']) \n",
        "stop_index=int(len(x_train)*.95)\n",
        "# print(stop_index/len(x_train))\n"
      ]
    },
    {
      "cell_type": "code",
      "source": [
        "from keras.utils.vis_utils import plot_model\n",
        "plot_model(classifier, show_layer_activations=True, show_layer_names=False, show_shapes=True, rankdir=\"LR\")"
      ],
      "metadata": {
        "id": "dC7vrICuj_ds"
      },
      "execution_count": null,
      "outputs": []
    },
    {
      "cell_type": "code",
      "execution_count": null,
      "metadata": {
        "id": "absldyDkuMzZ"
      },
      "outputs": [],
      "source": [
        "classifier = Sequential()\n",
        "classifier.add(Embedding(12844, 100))\n",
        "classifier.add(Conv1D(32, 4, padding=\"causal\")) \n",
        "classifier.add(Bidirectional(LSTM(100)))\n",
        "classifier.add(Dense(100, activation='relu'))\n",
        "classifier.add(Dense(4, activation='softmax'))\n",
        "classifier.summary()\n",
        "classifier.compile(optimizer='rmsprop', \n",
        "loss='categorical_crossentropy',\n",
        "metrics=['acc']) "
      ]
    },
    {
      "cell_type": "code",
      "execution_count": 10,
      "metadata": {
        "id": "4H-VWqNTRBq2",
        "colab": {
          "base_uri": "https://localhost:8080/"
        },
        "outputId": "2a355c54-d134-4a44-cc68-c1f759be853a"
      },
      "outputs": [
        {
          "output_type": "stream",
          "name": "stdout",
          "text": [
            "Epoch 1/8\n",
            "191/191 [==============================] - 59s 278ms/step - loss: 1.2030 - acc: 0.4621 - val_loss: 0.8869 - val_acc: 0.6417\n",
            "Epoch 2/8\n",
            "191/191 [==============================] - 51s 269ms/step - loss: 0.6280 - acc: 0.7817 - val_loss: 0.6872 - val_acc: 0.7383\n",
            "Epoch 3/8\n",
            "191/191 [==============================] - 51s 267ms/step - loss: 0.3354 - acc: 0.8878 - val_loss: 0.6168 - val_acc: 0.7975\n",
            "Epoch 4/8\n",
            "191/191 [==============================] - 51s 267ms/step - loss: 0.2436 - acc: 0.9196 - val_loss: 0.5176 - val_acc: 0.8380\n",
            "Epoch 5/8\n",
            "191/191 [==============================] - 51s 267ms/step - loss: 0.1779 - acc: 0.9406 - val_loss: 0.5135 - val_acc: 0.8318\n",
            "Epoch 6/8\n",
            "191/191 [==============================] - 51s 267ms/step - loss: 0.1541 - acc: 0.9454 - val_loss: 0.6611 - val_acc: 0.7913\n",
            "Epoch 7/8\n",
            "191/191 [==============================] - 51s 266ms/step - loss: 0.1436 - acc: 0.9491 - val_loss: 0.5943 - val_acc: 0.8318\n",
            "Epoch 8/8\n",
            "191/191 [==============================] - 51s 267ms/step - loss: 0.1118 - acc: 0.9564 - val_loss: 0.6869 - val_acc: 0.8287\n",
            "11/11 [==============================] - 1s 61ms/step - loss: 0.6940 - acc: 0.8107\n",
            "[0.6939705610275269, 0.8106508851051331]\n"
          ]
        }
      ],
      "source": [
        "history = classifier.fit(x_train[:stop_index], y_train[:stop_index], \n",
        "                         epochs=8, batch_size=32, validation_split=0.05)\n",
        "score=classifier.evaluate(x_train[stop_index:],\n",
        "                          y_train[stop_index:])\n",
        "\n",
        "print(score)"
      ]
    },
    {
      "cell_type": "code",
      "execution_count": null,
      "metadata": {
        "id": "IVJ10TNHa4ur"
      },
      "outputs": [],
      "source": [
        "import matplotlib.pyplot as plt\n",
        "print(history.history.keys())\n",
        "#plt.plot(history.history['acc'])\n",
        "plt.plot([0]+history.history['val_acc'])\n",
        "plt.ylabel(\"Validation Accuracy\")\n",
        "plt.xlabel(\"Number of Epochs\")\n",
        "plt.grid(True)\n",
        "plt.xlim(1, 8)\n",
        "plt.ylim(0.5, 0.9)\n",
        "plt.title(\"Validation Accuracy Over Training Time\")\n",
        "plt.show()"
      ]
    },
    {
      "cell_type": "code",
      "execution_count": null,
      "metadata": {
        "id": "ShKrOkXX-g-P"
      },
      "outputs": [],
      "source": [
        "from keras.models import save_model\n",
        "classifier.save(\"/content/drive/MyDrive/Saved_Models/classifier_model\")"
      ]
    },
    {
      "cell_type": "code",
      "execution_count": null,
      "metadata": {
        "id": "zg2tYfOz_Q34"
      },
      "outputs": [],
      "source": [
        "from keras.models import load_model\n",
        "classifier=load_model(\"/content/drive/MyDrive/Saved_Models/classifier_model\")"
      ]
    },
    {
      "cell_type": "code",
      "execution_count": null,
      "metadata": {
        "colab": {
          "base_uri": "https://localhost:8080/",
          "height": 242
        },
        "id": "48uGVTyQtXkq",
        "outputId": "bebdfe6a-43a4-4cb6-b40b-a3898556a258"
      },
      "outputs": [
        {
          "ename": "NameError",
          "evalue": "ignored",
          "output_type": "error",
          "traceback": [
            "\u001b[0;31m---------------------------------------------------------------------------\u001b[0m",
            "\u001b[0;31mNameError\u001b[0m                                 Traceback (most recent call last)",
            "\u001b[0;32m<ipython-input-6-c5c5ec4f06e7>\u001b[0m in \u001b[0;36m<module>\u001b[0;34m()\u001b[0m\n\u001b[1;32m     16\u001b[0m \u001b[0mxx\u001b[0m\u001b[0;34m=\u001b[0m\u001b[0mx_train\u001b[0m\u001b[0;34m[\u001b[0m\u001b[0mstop_index\u001b[0m\u001b[0;34m:\u001b[0m\u001b[0;34m]\u001b[0m\u001b[0;34m\u001b[0m\u001b[0;34m\u001b[0m\u001b[0m\n\u001b[1;32m     17\u001b[0m \u001b[0myy\u001b[0m\u001b[0;34m=\u001b[0m\u001b[0my_train\u001b[0m\u001b[0;34m[\u001b[0m\u001b[0mstop_index\u001b[0m\u001b[0;34m:\u001b[0m\u001b[0;34m]\u001b[0m\u001b[0;34m\u001b[0m\u001b[0;34m\u001b[0m\u001b[0m\n\u001b[0;32m---> 18\u001b[0;31m \u001b[0mo\u001b[0m\u001b[0;34m=\u001b[0m\u001b[0mmodel\u001b[0m\u001b[0;34m.\u001b[0m\u001b[0mpredict\u001b[0m\u001b[0;34m(\u001b[0m\u001b[0mxx\u001b[0m\u001b[0;34m)\u001b[0m\u001b[0;34m\u001b[0m\u001b[0;34m\u001b[0m\u001b[0m\n\u001b[0m\u001b[1;32m     19\u001b[0m \u001b[0mjoy\u001b[0m\u001b[0;34m=\u001b[0m\u001b[0;34m[\u001b[0m\u001b[0;36m0\u001b[0m\u001b[0;34m,\u001b[0m \u001b[0;36m0\u001b[0m\u001b[0;34m]\u001b[0m\u001b[0;34m\u001b[0m\u001b[0;34m\u001b[0m\u001b[0m\n\u001b[1;32m     20\u001b[0m \u001b[0manger\u001b[0m\u001b[0;34m=\u001b[0m\u001b[0;34m[\u001b[0m\u001b[0;36m0\u001b[0m\u001b[0;34m,\u001b[0m \u001b[0;36m0\u001b[0m\u001b[0;34m]\u001b[0m\u001b[0;34m\u001b[0m\u001b[0;34m\u001b[0m\u001b[0m\n",
            "\u001b[0;31mNameError\u001b[0m: name 'model' is not defined"
          ]
        }
      ],
      "source": [
        "def classify_text(text):\n",
        "  text=[text]\n",
        "  text=tokenizer.texts_to_sequences(text)\n",
        "  text=pad_sequences(text, maxlen=maxlen)\n",
        "  return emotionlist[classifier.predict(text).argmax()]\n",
        "def text_probs(text):\n",
        "  text=[text]\n",
        "  text=tokenizer.texts_to_sequences(text)\n",
        "  text=pad_sequences(text, maxlen=maxlen)\n",
        "  return model.predict(text)\n",
        "def classify_texts(texts):\n",
        "  texts=tokenizer.texts_to_sequences(texts)\n",
        "  texts=pad_sequences(texts, maxlen=maxlen)\n",
        "  return classifier.predict(texts)\n",
        "#classify_text(\"Put something here\")\n",
        "xx=x_train[stop_index:]\n",
        "yy=y_train[stop_index:]\n",
        "o=model.predict(xx)\n",
        "joy=[0, 0]\n",
        "anger=[0, 0]\n",
        "sadness=[0, 0]\n",
        "fear=[0, 0]\n",
        "emdict={\"joy\":joy, \"anger\":anger, \"sadness\":sadness, \"fear\":fear}\n",
        "for i in range(len(o)):\n",
        "  emdict[emotionlist[yy[i].argmax(axis=0)]][0]=emdict[emotionlist[yy[i].argmax(axis=0)]][0]+1\n",
        "  if(o[i].argmax(axis=0)==yy[i].argmax(axis=0)):\n",
        "    emdict[emotionlist[yy[i].argmax(axis=0)]][1]=emdict[emotionlist[yy[i].argmax(axis=0)]][1]+1\n",
        "print(\"joy: {}%\\nanger: {}%\\nsadness: {}%\\nfear: {}%\".format(joy[1]/joy[0], anger[1]/anger[0], sadness[1]/sadness[0], fear[1]/fear[0]))\n"
      ]
    },
    {
      "cell_type": "code",
      "execution_count": null,
      "metadata": {
        "id": "8jOOe5KKzESW"
      },
      "outputs": [],
      "source": [
        ""
      ]
    },
    {
      "cell_type": "code",
      "execution_count": null,
      "metadata": {
        "colab": {
          "base_uri": "https://localhost:8080/"
        },
        "id": "chBzr0bfPyFC",
        "outputId": "6e96d739-b096-4fb1-f8a4-dfa30cc5c280"
      },
      "outputs": [
        {
          "name": "stdout",
          "output_type": "stream",
          "text": [
            "anger\n"
          ]
        }
      ],
      "source": [
        "print(classify_text(\"I hate you\"))"
      ]
    },
    {
      "cell_type": "code",
      "execution_count": null,
      "metadata": {
        "colab": {
          "base_uri": "https://localhost:8080/"
        },
        "id": "VIrXVIwuy6-m",
        "outputId": "4c2ef186-891d-4c77-faa0-6313704a1177"
      },
      "outputs": [
        {
          "name": "stdout",
          "output_type": "stream",
          "text": [
            "fear\n"
          ]
        }
      ],
      "source": [
        "print(classify_text(\"He was large and menacing\"))"
      ]
    },
    {
      "cell_type": "code",
      "execution_count": null,
      "metadata": {
        "colab": {
          "base_uri": "https://localhost:8080/"
        },
        "id": "L_V_zn3ly-YZ",
        "outputId": "b6447b69-d3c9-4262-b56a-c823b3f20411"
      },
      "outputs": [
        {
          "name": "stdout",
          "output_type": "stream",
          "text": [
            "sadness\n"
          ]
        }
      ],
      "source": [
        "print(classify_text(\"Life feels meaningless at the moment\"))"
      ]
    },
    {
      "cell_type": "code",
      "execution_count": null,
      "metadata": {
        "colab": {
          "base_uri": "https://localhost:8080/"
        },
        "id": "1x0z68uz1C1o",
        "outputId": "f3e343d5-3964-4254-a6a9-8308f93cb94b"
      },
      "outputs": [
        {
          "name": "stdout",
          "output_type": "stream",
          "text": [
            "joy\n"
          ]
        }
      ],
      "source": [
        "print(classify_text(\"Today is a beautiful day\"))"
      ]
    },
    {
      "cell_type": "markdown",
      "metadata": {
        "id": "GNtRJUPg1pnJ"
      },
      "source": [
        "# Re-tokenize and format data for the generator"
      ]
    },
    {
      "cell_type": "code",
      "execution_count": null,
      "metadata": {
        "id": "c_Ke5dNR_tkA"
      },
      "outputs": [],
      "source": [
        "texts_new=texts.copy()\n",
        "for i in range(len(texts)):\n",
        "  endstring=\"ENDTOKEN\"\n",
        "  if(not texts[i][len(texts[i])-1]==\" \"):\n",
        "    endstring=\" ENDTOKEN\"\n",
        "  texts_new[i]=\"STARTOKEN \"+texts[i]+endstring;\n",
        "gen_tokenizer=Tokenizer(num_words=10000)\n",
        "gen_tokenizer.fit_on_texts(texts_new);\n",
        "token_sequences=gen_tokenizer.texts_to_sequences(texts_new);\n",
        "token_list_states=[]\n",
        "token_actions=[]\n",
        "gan_list_states=[]\n",
        "gan_classification_onehots=[]\n",
        "gan_actions=[]\n",
        "classification_onehots=[]\n",
        "for token_sequence_index in range(len(token_sequences)):\n",
        "  token_sequence=token_sequences[token_sequence_index]\n",
        "\n",
        "  for i in range(1, len(token_sequence)):\n",
        "    token_list_states.append(token_sequence[:i])\n",
        "    classification_onehots.append(emotions[token_sequence_index])\n",
        "    token_actions.append([token_sequence[i]])\n",
        "    if(i+1>=len(token_sequence)):\n",
        "      gan_list_states.append(token_sequence[:i])\n",
        "     # print(token_sequence)\n",
        "      gan_classification_onehots.append(emotions[token_sequence_index])\n",
        "      gan_actions.append([token_sequence[i]])\n",
        "token_list_states=np.array(pad_sequences(token_list_states, maxlen=64))\n",
        "gan_list_states=np.array(pad_sequences(gan_list_states, maxlen=64))\n",
        "classification_onehots=np.array(classification_onehots)\n",
        "gan_classification_onehots=np.array(gan_classification_onehots)\n",
        "print(gen_tokenizer.word_index)\n",
        "token_actions=to_categorical(np.stack(token_actions, axis=0), num_classes=len(gen_tokenizer.word_index))\n",
        "gan_actions=to_categorical(np.stack(gan_actions, axis=0), num_classes=len(gen_tokenizer.word_index))\n",
        "print(token_actions)\n",
        "print(classification_onehots)\n",
        "\n"
      ]
    },
    {
      "cell_type": "markdown",
      "metadata": {
        "id": "y0J_-F-2umOw"
      },
      "source": [
        "#Generator Model"
      ]
    },
    {
      "cell_type": "code",
      "execution_count": null,
      "metadata": {
        "id": "TBq2nsVbx-T8"
      },
      "outputs": [],
      "source": [
        "from keras.layers import *"
      ]
    },
    {
      "cell_type": "code",
      "execution_count": null,
      "metadata": {
        "id": "_sAM3r7JjohT"
      },
      "outputs": [],
      "source": [
        "\n",
        "from keras import Model\n",
        "classification_label=Input(shape=(4,), name=\"labels\")\n",
        "classification_result=Dense(64)(classification_label)\n",
        "token_input=Input(shape=(64,), name=\"sequences\")\n",
        "token_result=Embedding(len(gen_tokenizer.word_index), 100)(token_input)\n",
        "token_result=Conv1D(32, 2)(token_result)\n",
        "token_result=Reshape((63, 32))(token_result)\n",
        "token_result=GRU(64)(token_result)\n",
        "concatenated_inputs=Concatenate(axis=1)([classification_result, token_result])\n",
        "concatenated_inputs=Dense(len(gen_tokenizer.word_index), activation=\"softmax\")(concatenated_inputs)\n",
        "generator_model=Model(inputs=[classification_label, token_input], outputs=concatenated_inputs)\n",
        "generator_model.compile(optimizer=\"adam\", loss=\"categorical_crossentropy\", metrics=[\"acc\"])\n",
        "\n",
        "#generator_model.fit(x={\"labels\":classification_onehots, \"sequences\":token_list_states}, y=token_actions, validation_split=0.05)"
      ]
    },
    {
      "cell_type": "code",
      "source": [
        "generator_model.fit(x={\"labels\":classification_onehots, \"sequences\":token_list_states}, y=token_actions, validation_split=0.05)"
      ],
      "metadata": {
        "id": "OGctzqELjfs1"
      },
      "execution_count": null,
      "outputs": []
    },
    {
      "cell_type": "code",
      "source": [
        "plot_model(generator_model, show_layer_activations=True, show_layer_names=False, show_shapes=True, rankdir=\"LR\")"
      ],
      "metadata": {
        "id": "AZnxLBnCjnaP"
      },
      "execution_count": null,
      "outputs": []
    },
    {
      "cell_type": "code",
      "source": [
        "generator_model.load_weights(\"/content/drive/MyDrive/Saved_Models/Feb 28/generator_weights.h5\")"
      ],
      "metadata": {
        "id": "DqxXgPqh7fAu"
      },
      "execution_count": null,
      "outputs": []
    },
    {
      "cell_type": "code",
      "source": [
        ""
      ],
      "metadata": {
        "id": "fG599C1B7pHM"
      },
      "execution_count": null,
      "outputs": []
    },
    {
      "cell_type": "code",
      "execution_count": null,
      "metadata": {
        "id": "uaVNkKGr_a16"
      },
      "outputs": [],
      "source": [
        "from keras.models import save_model\n",
        "generator_model.save(\"/content/drive/MyDrive/Saved_Models/generator_model\")"
      ]
    },
    {
      "cell_type": "code",
      "execution_count": null,
      "metadata": {
        "id": "L-nDZjbt_kWi"
      },
      "outputs": [],
      "source": [
        "from keras.models import load_model\n",
        "generator_model=load_model(\"/content/drive/MyDrive/Saved_Models/generator_model\")"
      ]
    },
    {
      "cell_type": "code",
      "execution_count": null,
      "metadata": {
        "colab": {
          "base_uri": "https://localhost:8080/"
        },
        "id": "sb80vxie9C-N",
        "outputId": "ba09a166-00a7-48e4-b1f3-550ea018674e"
      },
      "outputs": [
        {
          "name": "stdout",
          "output_type": "stream",
          "text": [
            "hi\n"
          ]
        }
      ],
      "source": [
        "print(gen_tokenizer)"
      ]
    },
    {
      "cell_type": "code",
      "execution_count": null,
      "metadata": {
        "colab": {
          "base_uri": "https://localhost:8080/"
        },
        "id": "GLRf35tnFQPS",
        "outputId": "a63e2c7c-e578-49ef-9e24-29038bbc82fa"
      },
      "outputs": [
        {
          "name": "stdout",
          "output_type": "stream",
          "text": [
            "Emil is  serious get are less its ever provocation saying and she course do we to 1n on look barely it name\n"
          ]
        }
      ],
      "source": [
        "s=\"Emil is \"\n",
        "for i in range(20):\n",
        "   s+=\" \"+list(gen_tokenizer.word_index.keys())[roll_index(generator_model.predict(x={\"labels\":np.array([[0, 0.6, 0.4, 0]]), \n",
        "                                  \"sequences\":pad_sequences(gen_tokenizer.texts_to_sequences([s]), \n",
        "                                                            maxlen=64)})[0])]\n",
        "print(s)\n"
      ]
    },
    {
      "cell_type": "markdown",
      "metadata": {
        "id": "SuOXtQ5_L8RV"
      },
      "source": [
        "#Define Classes"
      ]
    },
    {
      "cell_type": "markdown",
      "metadata": {
        "id": "pQtqQdcat4lt"
      },
      "source": [
        "##Generator Class"
      ]
    },
    {
      "cell_type": "code",
      "execution_count": null,
      "metadata": {
        "id": "XmJABGbmL7WX"
      },
      "outputs": [],
      "source": [
        "class Generator():\n",
        "  def __init__(self, generator_model, generator_loss_function, generator_optimizer):\n",
        "    self.generator_model=generator_model;\n",
        "    self.generator_loss_function=generator_loss_function;\n",
        "    self.generator_optimizer=generator_optimizer;\n",
        "  def pre_train(self, x_data, classification_target, y_data, g_epochs):\n",
        "    self.generator_model.fit([classification_target, x_data], y_data, epochs=g_epochs)\n",
        "  def computePolicyGradient(self, states, classification_targets, aprobs, rewards, learning_rate):\n",
        "    with tf.GradientTape() as tape:\n",
        "      newaprobs=self.generator_model([classification_targets, states])\n",
        "      generator_loss=self.generator_loss_function(aprobs*rewards, newaprobs)\n",
        "      generator_loss+=self.generator_model.losses\n",
        "    generator_gradient=tape.gradient(generator_loss, self.generator_model.trainable_weights)\n",
        "    self.generator_optimizer.apply_gradients(zip(generator_gradient, self.generator_model.trainable_weights))\n",
        "  def getScore(self, classification_targets, sequence_data, y_data):\n",
        "    return self.generator_model.evaluate({\"labels\":classification_targets, \"sequences\":sequence_data}, y_data)\n",
        "  def generateBatch(self, amount, seed_set=None, g_targets=None):\n",
        "    seeds=seed_set;\n",
        "    if(seed_set==None):\n",
        "      basic_seed=np.zeros(64)\n",
        "      basic_seed[63]=1;\n",
        "      basic_seed=np.array([basic_seed])\n",
        "      seeds=np.repeat(basic_seed, amount, axis=0)\n",
        "    generator_targets=g_targets\n",
        "    if(g_targets==None):\n",
        "      generator_targets=[]\n",
        "      for i in range(amount):\n",
        "        generator_targets.append(getRandomProbabilityVector(4));\n",
        "      generator_targets=np.array(generator_targets)\n",
        "    #print(seeds.shape)\n",
        "    #print(generator_targets.shape)\n",
        "    generator_results=[]\n",
        "    for i in range(len(seeds)):\n",
        "      print(i)\n",
        "      seed=seeds[i] \n",
        "      c=0;\n",
        "      current_sequence=seed[seed!=0]\n",
        "      \n",
        "      while c<20:\n",
        "        generated_token=roll_index(self.generator_model.predict_on_batch({\"labels\": np.array([generator_targets[i]]), \"sequences\": pad_sequences([current_sequence], maxlen=64)})[0])\n",
        "        #print(generated_token)\n",
        "        if(c>=19):\n",
        "          generated_token=2\n",
        "        current_sequence=np.append(current_sequence, generated_token)\n",
        "        if(generated_token==2):\n",
        "          break;\n",
        "        c+=1;\n",
        "      generator_results.append(current_sequence)\n",
        "    #print(generator_results)\n",
        "    generator_results=pad_sequences(np.array(generator_results), maxlen=64)\n",
        "    return generator_results, generator_targets"
      ]
    },
    {
      "cell_type": "markdown",
      "metadata": {
        "id": "E9zv5Lmlt-Wi"
      },
      "source": [
        "##Discriminator Class"
      ]
    },
    {
      "cell_type": "code",
      "execution_count": null,
      "metadata": {
        "id": "mqOaLaUdQCts"
      },
      "outputs": [],
      "source": [
        "import random\n",
        "class Discriminator():\n",
        "  def __init__(self, discriminator_model, discriminator_loss_function, discriminator_optimizer):\n",
        "    self.discriminator_model=discriminator_model;\n",
        "\n",
        "    self.discrimnator_loss_function=discriminator_loss_function;\n",
        "    self.discriminator_optimizer=discriminator_optimizer\n",
        "  def train(self, real_x, real_y, generator, d_split, d_epochs=1):\n",
        "    y_tokens=[]\n",
        "    for i in (real_y):\n",
        "       y_tokens.append(roll_index(i))\n",
        "    y_tokens=np.array([y_tokens]).T\n",
        "    x_data_real=np.concatenate((real_x[1], y_tokens), axis=1)\n",
        "    x_data_real=np.delete(x_data_real, 0, axis=1)\n",
        "    x_data_fake=generator.generateBatch(real_x[1].shape[0])[0]\n",
        "    for i in range(d_epochs):\n",
        "      real_variance=[]\n",
        "      fake_variance=[]\n",
        "      for i in range(int(x_data_real.shape[0])):\n",
        "        real_variance.append(random.randint(0, 20)/100)\n",
        "        fake_variance.append(random.randint(0, 20)/100)\n",
        "      np.random.shuffle(real_variance)\n",
        "      np.random.shuffle(fake_variance) \n",
        "      y_data_real, y_data_fake=np.ones(x_data_real.shape[0])-real_variance, np.zeros(x_data_fake.shape[0])+fake_variance\n",
        "      current_index=0\n",
        "      length_fraction_real=int(x_data_real.shape[0]/d_split)\n",
        "      length_fraction_fake=int(x_data_fake.shape[0]/d_split)\n",
        "      index_real_previous=0\n",
        "      index_fake_previous=0\n",
        "      for i in range(d_split+1):\n",
        "        index_real=(i*length_fraction_real)+random.randint(0, length_fraction_real)\n",
        "        index_fake=(i*length_fraction_real)+random.randint(0, length_fraction_fake)\n",
        "        if(i>=d_split):      \n",
        "          self.discriminator_model.train_on_batch(x_data_real[index_real_previous:], y_data_real[index_real_previous:])\n",
        "          self.discriminator_model.train_on_batch(x_data_fake[index_fake_previous:], y_data_fake[index_fake_previous:])\n",
        "        self.discriminator_model.train_on_batch(x_data_real[index_real_previous:index_real], y_data_real[index_real_previous:index_real])\n",
        "        self.discriminator_model.train_on_batch(x_data_fake[index_fake_previous:index_fake], y_data_fake[index_fake_previous:index_fake])\n",
        "  def evaluate_discriminator(self, real_states, real_actions, generator):\n",
        "    action_tokens=[]\n",
        "    for i in (real_actions):\n",
        "       action_tokens.append(roll_index(i))\n",
        "    action_tokens=np.array([action_tokens]).T\n",
        "    x_data_real=np.concatenate((real_states, action_tokens), axis=1)\n",
        "    x_data_real=np.delete(x_data_real, 0, axis=1)\n",
        "    x_data_fake=generator.generateBatch(x_data_real.shape[0])[0]\n",
        "    real_variance=pad_sequences([np.ones(int(x_data_real.shape[0]/5))/100], maxlen=x_data_fake.shape[0])[0]\n",
        "    fake_variance=pad_sequences([np.ones(int(x_data_fake.shape[0]/5))/100], maxlen=x_data_real.shape[0])[0]\n",
        "    np.random.shuffle(real_variance)\n",
        "    np.random.shuffle(fake_variance) \n",
        "    y_data_real, y_data_fake=np.ones(x_data_real.shape[0])-real_variance, np.zeros(x_data_fake.shape[0])+fake_variance\n",
        "    y_data=np.concatenate((y_data_real, y_data_fake), axis=0)\n",
        "    x_data=np.concatenate((x_data_real, x_data_fake), axis=0)\n",
        "    return self.discriminator_model.evaluate(x_data, y_data);\n",
        "  def compute_reward(self, sequence):\n",
        "    print(self.discriminator_model.predict(np.array([sequence]))[0])\n",
        "    return self.discriminator_model.predict(np.array([sequence]))"
      ]
    },
    {
      "cell_type": "markdown",
      "metadata": {
        "id": "4VBpTZ3zzIlO"
      },
      "source": [
        "#Define Discriminator Model\n"
      ]
    },
    {
      "cell_type": "code",
      "execution_count": null,
      "metadata": {
        "id": "4EXrrnSzdEu5"
      },
      "outputs": [],
      "source": [
        "#Createas discriminator model\n",
        "from keras import layers\n",
        "from keras.models import Sequential\n",
        "from keras.optimizers import adam_v2\n",
        "discriminator=Sequential()\n",
        "discriminator.add(Input(64,))\n",
        "discriminator.add(layers.Embedding(len(gen_tokenizer.word_index), 100))\n",
        "discriminator.add(layers.Conv1D(32, 2))\n",
        "discriminator.add(layers.LSTM(32))\n",
        "discriminator.add(layers.Dense(32, activation='relu'))\n",
        "discriminator.add(layers.Dense(1, activation='sigmoid'))\n",
        "\n",
        "discriminator.compile(optimizer=\"adam\", loss=\"binary_crossentropy\", metrics=[\"acc\"])\n"
      ]
    },
    {
      "cell_type": "code",
      "execution_count": null,
      "metadata": {
        "id": "SImFGB1ww2h7"
      },
      "outputs": [],
      "source": [
        "#Createas discriminator model\n",
        "from keras import layers\n",
        "from keras.layers import Input\n",
        "from keras.models import Sequential\n",
        "from keras.optimizers import adam_v2\n",
        "discriminator=Sequential()\n",
        "discriminator.add(Input(64,))\n",
        "discriminator.add(layers.Embedding(12844, 100))\n",
        "discriminator.add(layers.LSTM(32, return_sequences=True))\n",
        "discriminator.add(layers.Conv1D(32, 2))\n",
        "discriminator.add(layers.Conv1D(32, 2))\n",
        "discriminator.add(layers.Conv1D(32, 2))\n",
        "discriminator.add(layers.Conv1D(32, 2))\n",
        "discriminator.add(layers.Conv1D(32, 2))\n",
        "discriminator.add(layers.Conv1D(32, 2))\n",
        "discriminator.add(layers.Conv1D(32, 2))\n",
        "discriminator.add(layers.Conv1D(32, 2))\n",
        "discriminator.add(layers.Conv1D(32, 2))\n",
        "discriminator.add(layers.Conv1D(32, 2))\n",
        "discriminator.add(layers.Conv1D(32, 2))\n",
        "discriminator.add(layers.Conv1D(32, 2))\n",
        "discriminator.add(layers.Bidirectional(layers.LSTM(32)))\n",
        "discriminator.add(layers.Dense(32, activation='relu'))\n",
        "discriminator.add(layers.Dense(1, activation='sigmoid'))\n",
        "\n",
        "discriminator.compile(optimizer=\"adam\", loss=\"binary_crossentropy\", metrics=[\"acc\"])\n"
      ]
    },
    {
      "cell_type": "code",
      "source": [
        "plot_model(discriminator, show_layer_activations=True, show_layer_names=False, show_shapes=True, rankdir=\"LR\")"
      ],
      "metadata": {
        "id": "R0GLPvAlkBPH"
      },
      "execution_count": null,
      "outputs": []
    },
    {
      "cell_type": "code",
      "source": [
        "plot_model(discriminator)"
      ],
      "metadata": {
        "id": "OnoeL-hynP3Z"
      },
      "execution_count": null,
      "outputs": []
    },
    {
      "cell_type": "code",
      "execution_count": null,
      "metadata": {
        "id": "rnZaREf70XYP"
      },
      "outputs": [],
      "source": [
        "from keras.utils.vis_utils import plot_model\n",
        "plot_model(classifier, show_shapes=True, show_dtype=False, show_layer_activations=False)"
      ]
    },
    {
      "cell_type": "markdown",
      "metadata": {
        "id": "gHrO1E2uteM6"
      },
      "source": [
        "\n",
        "#Utility functions"
      ]
    },
    {
      "cell_type": "code",
      "execution_count": null,
      "metadata": {
        "id": "cugEqTOptd8i"
      },
      "outputs": [],
      "source": [
        "import random\n",
        "\n",
        "def getRandomProbabilityVector(length):\n",
        "  probabilityVector=[]\n",
        "  r=0\n",
        "  for i in range(length):\n",
        "    r_increase=random.random();\n",
        "    r+=r_increase\n",
        "    probabilityVector.append(r_increase)\n",
        "  probabilityVector=np.array(probabilityVector)/r\n",
        "  return probabilityVector\n",
        "  "
      ]
    },
    {
      "cell_type": "code",
      "execution_count": null,
      "metadata": {
        "id": "UDtb7ESDMYDf"
      },
      "outputs": [],
      "source": [
        "import math\n",
        "def classifier_loss(classifier_output, classifier_target, weight=1):\n",
        "  current_output_total=0;\n",
        "  current_target_total=0;\n",
        "  total_loss=0;\n",
        "  weight_total=0\n",
        "  for i in range(len(classifier_output)):\n",
        "    if(current_output_total==1): current_output_total-=0.01;\n",
        "    if current_target_total==1: current_target_total-=0.01;\n",
        "    #print(current_output_total)\n",
        "    #print(classifier_output[i])\n",
        "    #print(abs((classifier_output[i]/(1-current_output_total))-(classifier_target[i]/(1-current_target_total))))\n",
        "    total_loss+=(weight**i)*abs((classifier_output[i]/(1-current_output_total))-(classifier_target[i]/(1-current_target_total)))\n",
        "    weight_total+=(weight**i)\n",
        "    current_output_total+=classifier_output[i];\n",
        "    current_target_total+=classifier_target[i];\n",
        "  \n",
        "  print(\"Total Loss: {}\".format(total_loss))\n",
        "\n",
        "  total_loss=total_loss*(len(classifier_output)/weight_total)\n",
        "  \n",
        "  return total_loss\n",
        "\n"
      ]
    },
    {
      "cell_type": "code",
      "execution_count": null,
      "metadata": {
        "id": "iDNtPQ_EDZ7F"
      },
      "outputs": [],
      "source": [
        "for i in range(100):\n",
        "  x=getRandomProbabilityVector(4)\n",
        "  y=getRandomProbabilityVector(4)\n",
        "  z=classifier_loss(x,y)\n",
        "  if(z>1 or z<0):\n",
        "    print(x)\n",
        "    print(y)\n",
        "    print(classifier_loss(x, y))"
      ]
    },
    {
      "cell_type": "code",
      "execution_count": null,
      "metadata": {
        "id": "MzrZ_FwWMmAc"
      },
      "outputs": [],
      "source": [
        "import random\n",
        "def roll_index(prob_list):\n",
        "  r=random.random()\n",
        "  sum=0\n",
        "  for i in range(len(prob_list)):\n",
        "    sum+=prob_list[i]\n",
        "    if(sum>=r):\n",
        "      return i;\n",
        "  return 0\n"
      ]
    },
    {
      "cell_type": "markdown",
      "metadata": {
        "id": "LX1BtTmQLr7U"
      },
      "source": [
        "#GAN class"
      ]
    },
    {
      "cell_type": "code",
      "execution_count": null,
      "metadata": {
        "id": "8zSaTquOtGR8"
      },
      "outputs": [],
      "source": [
        "from tensorflow.python.eager.context import get_executor\n",
        "import math\n",
        "class GAN():\n",
        "  def __init__(self, generator, discriminator, classifier, classifier_loss):\n",
        "    self.generator=generator\n",
        "    self.discriminator=discriminator\n",
        "    self.classifier=classifier\n",
        "    self.classifier_loss=classifier_loss\n",
        "  def pre_train_gen(self, g_x, g_y, g_epochs):\n",
        "    self.generator.pre_train(g_x, g_y, g_epochs);\n",
        "  def train_disc(self, g_x, g_targets, g_y, d_split, d_epochs=5):\n",
        "    self.discriminator.train([g_targets, g_x], g_y, self.generator, d_split, d_epochs);\n",
        "  def train_gen(self, g_x, g_classifier_targets, g_y, g_epochs, state_num, mc_num, end_token, max_seq_len=100, reward_constant=1):\n",
        "    print(\"Beginning training\")\n",
        "\n",
        "    aprobs=self.generator.generator_model.predict_on_batch({\"labels\":g_classifier_targets, \"sequences\":g_x});\n",
        "  \n",
        "    final_rewards=[]\n",
        "    for i in range(min(len(g_x), state_num)):\n",
        "      print(\"Action probabilities generated\")\n",
        "      g_x_mc=g_x[np.random.shuffle(np.arange(len(g_x)))][0]\n",
        "      rewards=np.ones(len(aprobs[0]))\n",
        "      states=[]\n",
        "      actions=[]\n",
        "      generator_targets=[]\n",
        "      rewards_=[] \n",
        "      print(\"Beginning monte carlo search\")     \n",
        "      print(\"Starting state\")\n",
        "      print(g_x_mc)\n",
        "      current_start_sequence=g_x_mc[i]\n",
        "      current_start_sequence=current_start_sequence[current_start_sequence!=0]\n",
        "      for seed in range(1, len(current_start_sequence)):\n",
        "        print(\"Starting seed\")\n",
        "        current_seed_sequence=current_start_sequence[:(seed)]\n",
        "        states.append(current_seed_sequence)\n",
        "        print(len(aprobs))\n",
        "        aprob=np.zeros(len(aprobs[0]));\n",
        "        aprobi=current_start_sequence[seed]\n",
        "        aprob[aprobi]=1;\n",
        "        actions.append(aprob)\n",
        "        generator_target=getRandomProbabilityVector(4);\n",
        "        generator_targets.append(generator_target);\n",
        "        if(seed==(len(current_start_sequence)-1)):\n",
        "          print(\"Computing reward\")\n",
        "          rewards[current_start_sequence[seed]]+=self.get_reward_value(np.array(pad_sequences([current_start_sequence], maxlen=64)), generator_target)\n",
        "          rewards_.append(self.get_reward_value(np.array(pad_sequences([current_start_sequence], maxlen=64)), generator_target))\n",
        "          continue;\n",
        "        current_rewards=[]\n",
        "        for j in range(mc_num):\n",
        "          print(\"Starting mc search\")\n",
        "          current_sequence=current_seed_sequence;\n",
        "          generator_probability_distribution=[]\n",
        "          generated_len=0;\n",
        "          while True:\n",
        "            generator_probability_distribution=self.generator.generator_model.predict_on_batch({\"labels\":np.array([generator_target]), \"sequences\":np.array(pad_sequences([current_sequence], maxlen=64))});            \n",
        "            generated_token=roll_index(generator_probability_distribution[0])\n",
        "            current_sequence=np.append(current_sequence, [generated_token])\n",
        "            generated_len+=1;\n",
        "            if(generated_token==end_token or generated_len>=max_seq_len):\n",
        "              break;\n",
        "          print(\"exited while loop\")\n",
        "          reward_value=self.get_reward_value(np.array(pad_sequences([current_sequence], maxlen=64)), generator_target)\n",
        "          current_rewards.append(reward_value)\n",
        "          final_rewards.append(reward_value)\n",
        "        print(\"Computing reward\")\n",
        "        rewards[current_start_sequence[seed]]+=sum(current_rewards)/len(current_rewards)\n",
        "        rewards_.append(sum(current_rewards)/len(current_rewards))\n",
        "      rewards=rewards/(sum(rewards)/len(rewards))   \n",
        "      print(\"Computing policy gradient\")     \n",
        "      print(np.array(states))\n",
        "      self.generator.computePolicyGradient(pad_sequences(np.array(states), maxlen=64).astype('float32'), \n",
        "                                          np.array(generator_targets).astype('float32'), \n",
        "                                          np.array(actions).astype('float32'), \n",
        "                                          np.array(rewards).astype('float32'), 3)\n",
        "\n",
        "      return final_rewards\n",
        "  def get_reward_value(self,sequence,classifier_targets):\n",
        "    z=np.array([sequence]).reshape(64,)\n",
        "    print(z)\n",
        "    y=self.discriminator.compute_reward(z)\n",
        "    y2=self.classifier(sequence)[0].numpy()\n",
        "    print(y2)\n",
        "    print(classifier_targets)\n",
        "    y1=(1-self.classifier_loss(y2, classifier_targets).numpy())\n",
        "    print(\"Reward from discriminator: {}\".format(y))\n",
        "    print(\"Reward from classifier: {}\".format(y1))\n",
        "    return (((1/self.classifier_loss(self.classifier(sequence)[0], classifier_targets).numpy(), 10))*(y)**(1/2)))-0.5;\n",
        "  def get_average_score(self, sequences, classifier_targets):\n",
        "    reward_sum=0;\n",
        "    for i in range(len(sequences)):\n",
        "      x=self.get_reward_value(np.array([sequences[i]]), classifier_targets[i])\n",
        "      reward_sum+=x\n",
        "      \n",
        "     \n",
        "    return (reward_sum/len(sequences))\n"
      ]
    },
    {
      "cell_type": "markdown",
      "metadata": {
        "id": "TtEcEk3cr_op"
      },
      "source": [
        "#Pre-Training"
      ]
    },
    {
      "cell_type": "markdown",
      "metadata": {
        "id": "LXw_frU_tg06"
      },
      "source": [
        "##Define Objects"
      ]
    },
    {
      "cell_type": "code",
      "source": [
        "from keras.losses import BinaryCrossentropy, CategoricalCrossentropy\n",
        "from keras.optimizers import adam_v2\n",
        "generator_object=Generator(generator_model, CategoricalCrossentropy(), adam_v2.Adam(lr=0.1))"
      ],
      "metadata": {
        "colab": {
          "base_uri": "https://localhost:8080/"
        },
        "id": "0J0aZpos7tkt",
        "outputId": "37b61eac-f42a-46f0-a72f-68b9d36b1362"
      },
      "execution_count": null,
      "outputs": [
        {
          "output_type": "stream",
          "name": "stderr",
          "text": [
            "/usr/local/lib/python3.7/dist-packages/keras/optimizer_v2/adam.py:105: UserWarning: The `lr` argument is deprecated, use `learning_rate` instead.\n",
            "  super(Adam, self).__init__(name, **kwargs)\n"
          ]
        }
      ]
    },
    {
      "cell_type": "code",
      "source": [
        "import random\n",
        "def roll_index_modified(prob_list):\n",
        "  r=random.random()\n",
        "  sum=0\n",
        "  for i in range(len(prob_list)):\n",
        "    sum+=(prob_list[i]*1.1)\n",
        "    if(sum>=r):\n",
        "      return i;\n",
        "  return 0"
      ],
      "metadata": {
        "id": "jdtmaQqRK5gx"
      },
      "execution_count": null,
      "outputs": []
    },
    {
      "cell_type": "code",
      "source": [
        "test=[0.3, 0.5, 0.15, 0.05]\n",
        "numeach=[0, 0, 0, 0]\n",
        "for i in range(10000):\n",
        "  numeach[roll_index(test)]+=1\n",
        "print(numeach)"
      ],
      "metadata": {
        "colab": {
          "base_uri": "https://localhost:8080/"
        },
        "id": "RKJXo12wJEqF",
        "outputId": "61daa87d-b378-4aa0-945b-a9fa34d8109f"
      },
      "execution_count": null,
      "outputs": [
        {
          "output_type": "stream",
          "name": "stdout",
          "text": [
            "[3030, 5044, 1441, 485]\n"
          ]
        }
      ]
    },
    {
      "cell_type": "code",
      "source": [
        "x=generator_object.generateBatch(10)[0]\n",
        "\n",
        "for i in x:\n",
        "  #print(i)\n",
        "  sequence=i[i!=0]\n",
        "  #print(sequence)\n",
        "  sentence=\"\"\n",
        "  for j in sequence:\n",
        "    sentence=sentence+\" \"+list(gen_tokenizer.word_index.keys())[j]\n",
        "  print(sentence)"
      ],
      "metadata": {
        "colab": {
          "base_uri": "https://localhost:8080/",
          "height": 532
        },
        "id": "WoyIusUB773J",
        "outputId": "b209cabd-3c0e-43e5-fa6a-5d2ae0543ae7"
      },
      "execution_count": null,
      "outputs": [
        {
          "output_type": "stream",
          "name": "stdout",
          "text": [
            "0\n",
            "1\n",
            "2\n",
            "3\n",
            "4\n",
            "5\n",
            "6\n"
          ]
        },
        {
          "output_type": "error",
          "ename": "KeyboardInterrupt",
          "evalue": "ignored",
          "traceback": [
            "\u001b[0;31m---------------------------------------------------------------------------\u001b[0m",
            "\u001b[0;31mKeyboardInterrupt\u001b[0m                         Traceback (most recent call last)",
            "\u001b[0;32m<ipython-input-41-dac73eea97d0>\u001b[0m in \u001b[0;36m<module>\u001b[0;34m()\u001b[0m\n\u001b[0;32m----> 1\u001b[0;31m \u001b[0mx\u001b[0m\u001b[0;34m=\u001b[0m\u001b[0mgenerator_object\u001b[0m\u001b[0;34m.\u001b[0m\u001b[0mgenerateBatch\u001b[0m\u001b[0;34m(\u001b[0m\u001b[0;36m10\u001b[0m\u001b[0;34m)\u001b[0m\u001b[0;34m[\u001b[0m\u001b[0;36m0\u001b[0m\u001b[0;34m]\u001b[0m\u001b[0;34m\u001b[0m\u001b[0;34m\u001b[0m\u001b[0m\n\u001b[0m\u001b[1;32m      2\u001b[0m \u001b[0;34m\u001b[0m\u001b[0m\n\u001b[1;32m      3\u001b[0m \u001b[0;32mfor\u001b[0m \u001b[0mi\u001b[0m \u001b[0;32min\u001b[0m \u001b[0mx\u001b[0m\u001b[0;34m:\u001b[0m\u001b[0;34m\u001b[0m\u001b[0;34m\u001b[0m\u001b[0m\n\u001b[1;32m      4\u001b[0m   \u001b[0;31m#print(i)\u001b[0m\u001b[0;34m\u001b[0m\u001b[0;34m\u001b[0m\u001b[0;34m\u001b[0m\u001b[0m\n\u001b[1;32m      5\u001b[0m   \u001b[0msequence\u001b[0m\u001b[0;34m=\u001b[0m\u001b[0mi\u001b[0m\u001b[0;34m[\u001b[0m\u001b[0mi\u001b[0m\u001b[0;34m!=\u001b[0m\u001b[0;36m0\u001b[0m\u001b[0;34m]\u001b[0m\u001b[0;34m\u001b[0m\u001b[0;34m\u001b[0m\u001b[0m\n",
            "\u001b[0;32m<ipython-input-23-c07555c5c524>\u001b[0m in \u001b[0;36mgenerateBatch\u001b[0;34m(self, amount, seed_set, g_targets)\u001b[0m\n\u001b[1;32m     38\u001b[0m \u001b[0;34m\u001b[0m\u001b[0m\n\u001b[1;32m     39\u001b[0m       \u001b[0;32mwhile\u001b[0m \u001b[0mc\u001b[0m\u001b[0;34m<\u001b[0m\u001b[0;36m20\u001b[0m\u001b[0;34m:\u001b[0m\u001b[0;34m\u001b[0m\u001b[0;34m\u001b[0m\u001b[0m\n\u001b[0;32m---> 40\u001b[0;31m         \u001b[0mgenerated_token\u001b[0m\u001b[0;34m=\u001b[0m\u001b[0mroll_index\u001b[0m\u001b[0;34m(\u001b[0m\u001b[0mself\u001b[0m\u001b[0;34m.\u001b[0m\u001b[0mgenerator_model\u001b[0m\u001b[0;34m.\u001b[0m\u001b[0mpredict_on_batch\u001b[0m\u001b[0;34m(\u001b[0m\u001b[0;34m{\u001b[0m\u001b[0;34m\"labels\"\u001b[0m\u001b[0;34m:\u001b[0m \u001b[0mnp\u001b[0m\u001b[0;34m.\u001b[0m\u001b[0marray\u001b[0m\u001b[0;34m(\u001b[0m\u001b[0;34m[\u001b[0m\u001b[0mgenerator_targets\u001b[0m\u001b[0;34m[\u001b[0m\u001b[0mi\u001b[0m\u001b[0;34m]\u001b[0m\u001b[0;34m]\u001b[0m\u001b[0;34m)\u001b[0m\u001b[0;34m,\u001b[0m \u001b[0;34m\"sequences\"\u001b[0m\u001b[0;34m:\u001b[0m \u001b[0mpad_sequences\u001b[0m\u001b[0;34m(\u001b[0m\u001b[0;34m[\u001b[0m\u001b[0mcurrent_sequence\u001b[0m\u001b[0;34m]\u001b[0m\u001b[0;34m,\u001b[0m \u001b[0mmaxlen\u001b[0m\u001b[0;34m=\u001b[0m\u001b[0;36m64\u001b[0m\u001b[0;34m)\u001b[0m\u001b[0;34m}\u001b[0m\u001b[0;34m)\u001b[0m\u001b[0;34m[\u001b[0m\u001b[0;36m0\u001b[0m\u001b[0;34m]\u001b[0m\u001b[0;34m)\u001b[0m\u001b[0;34m\u001b[0m\u001b[0;34m\u001b[0m\u001b[0m\n\u001b[0m\u001b[1;32m     41\u001b[0m         \u001b[0;31m#print(generated_token)\u001b[0m\u001b[0;34m\u001b[0m\u001b[0;34m\u001b[0m\u001b[0;34m\u001b[0m\u001b[0m\n\u001b[1;32m     42\u001b[0m         \u001b[0;32mif\u001b[0m\u001b[0;34m(\u001b[0m\u001b[0mc\u001b[0m\u001b[0;34m>=\u001b[0m\u001b[0;36m19\u001b[0m\u001b[0;34m)\u001b[0m\u001b[0;34m:\u001b[0m\u001b[0;34m\u001b[0m\u001b[0;34m\u001b[0m\u001b[0m\n",
            "\u001b[0;32m/usr/local/lib/python3.7/dist-packages/keras/engine/training.py\u001b[0m in \u001b[0;36mpredict_on_batch\u001b[0;34m(self, x)\u001b[0m\n\u001b[1;32m   2177\u001b[0m       \u001b[0miterator\u001b[0m \u001b[0;34m=\u001b[0m \u001b[0mdata_adapter\u001b[0m\u001b[0;34m.\u001b[0m\u001b[0msingle_batch_iterator\u001b[0m\u001b[0;34m(\u001b[0m\u001b[0mself\u001b[0m\u001b[0;34m.\u001b[0m\u001b[0mdistribute_strategy\u001b[0m\u001b[0;34m,\u001b[0m \u001b[0mx\u001b[0m\u001b[0;34m)\u001b[0m\u001b[0;34m\u001b[0m\u001b[0;34m\u001b[0m\u001b[0m\n\u001b[1;32m   2178\u001b[0m       \u001b[0mself\u001b[0m\u001b[0;34m.\u001b[0m\u001b[0mpredict_function\u001b[0m \u001b[0;34m=\u001b[0m \u001b[0mself\u001b[0m\u001b[0;34m.\u001b[0m\u001b[0mmake_predict_function\u001b[0m\u001b[0;34m(\u001b[0m\u001b[0;34m)\u001b[0m\u001b[0;34m\u001b[0m\u001b[0;34m\u001b[0m\u001b[0m\n\u001b[0;32m-> 2179\u001b[0;31m       \u001b[0moutputs\u001b[0m \u001b[0;34m=\u001b[0m \u001b[0mself\u001b[0m\u001b[0;34m.\u001b[0m\u001b[0mpredict_function\u001b[0m\u001b[0;34m(\u001b[0m\u001b[0miterator\u001b[0m\u001b[0;34m)\u001b[0m\u001b[0;34m\u001b[0m\u001b[0;34m\u001b[0m\u001b[0m\n\u001b[0m\u001b[1;32m   2180\u001b[0m     \u001b[0;32mreturn\u001b[0m \u001b[0mtf_utils\u001b[0m\u001b[0;34m.\u001b[0m\u001b[0msync_to_numpy_or_python_type\u001b[0m\u001b[0;34m(\u001b[0m\u001b[0moutputs\u001b[0m\u001b[0;34m)\u001b[0m\u001b[0;34m\u001b[0m\u001b[0;34m\u001b[0m\u001b[0m\n\u001b[1;32m   2181\u001b[0m \u001b[0;34m\u001b[0m\u001b[0m\n",
            "\u001b[0;32m/usr/local/lib/python3.7/dist-packages/tensorflow/python/util/traceback_utils.py\u001b[0m in \u001b[0;36merror_handler\u001b[0;34m(*args, **kwargs)\u001b[0m\n\u001b[1;32m    148\u001b[0m     \u001b[0mfiltered_tb\u001b[0m \u001b[0;34m=\u001b[0m \u001b[0;32mNone\u001b[0m\u001b[0;34m\u001b[0m\u001b[0;34m\u001b[0m\u001b[0m\n\u001b[1;32m    149\u001b[0m     \u001b[0;32mtry\u001b[0m\u001b[0;34m:\u001b[0m\u001b[0;34m\u001b[0m\u001b[0;34m\u001b[0m\u001b[0m\n\u001b[0;32m--> 150\u001b[0;31m       \u001b[0;32mreturn\u001b[0m \u001b[0mfn\u001b[0m\u001b[0;34m(\u001b[0m\u001b[0;34m*\u001b[0m\u001b[0margs\u001b[0m\u001b[0;34m,\u001b[0m \u001b[0;34m**\u001b[0m\u001b[0mkwargs\u001b[0m\u001b[0;34m)\u001b[0m\u001b[0;34m\u001b[0m\u001b[0;34m\u001b[0m\u001b[0m\n\u001b[0m\u001b[1;32m    151\u001b[0m     \u001b[0;32mexcept\u001b[0m \u001b[0mException\u001b[0m \u001b[0;32mas\u001b[0m \u001b[0me\u001b[0m\u001b[0;34m:\u001b[0m\u001b[0;34m\u001b[0m\u001b[0;34m\u001b[0m\u001b[0m\n\u001b[1;32m    152\u001b[0m       \u001b[0mfiltered_tb\u001b[0m \u001b[0;34m=\u001b[0m \u001b[0m_process_traceback_frames\u001b[0m\u001b[0;34m(\u001b[0m\u001b[0me\u001b[0m\u001b[0;34m.\u001b[0m\u001b[0m__traceback__\u001b[0m\u001b[0;34m)\u001b[0m\u001b[0;34m\u001b[0m\u001b[0;34m\u001b[0m\u001b[0m\n",
            "\u001b[0;32m/usr/local/lib/python3.7/dist-packages/tensorflow/python/eager/def_function.py\u001b[0m in \u001b[0;36m__call__\u001b[0;34m(self, *args, **kwds)\u001b[0m\n\u001b[1;32m    913\u001b[0m \u001b[0;34m\u001b[0m\u001b[0m\n\u001b[1;32m    914\u001b[0m       \u001b[0;32mwith\u001b[0m \u001b[0mOptionalXlaContext\u001b[0m\u001b[0;34m(\u001b[0m\u001b[0mself\u001b[0m\u001b[0;34m.\u001b[0m\u001b[0m_jit_compile\u001b[0m\u001b[0;34m)\u001b[0m\u001b[0;34m:\u001b[0m\u001b[0;34m\u001b[0m\u001b[0;34m\u001b[0m\u001b[0m\n\u001b[0;32m--> 915\u001b[0;31m         \u001b[0mresult\u001b[0m \u001b[0;34m=\u001b[0m \u001b[0mself\u001b[0m\u001b[0;34m.\u001b[0m\u001b[0m_call\u001b[0m\u001b[0;34m(\u001b[0m\u001b[0;34m*\u001b[0m\u001b[0margs\u001b[0m\u001b[0;34m,\u001b[0m \u001b[0;34m**\u001b[0m\u001b[0mkwds\u001b[0m\u001b[0;34m)\u001b[0m\u001b[0;34m\u001b[0m\u001b[0;34m\u001b[0m\u001b[0m\n\u001b[0m\u001b[1;32m    916\u001b[0m \u001b[0;34m\u001b[0m\u001b[0m\n\u001b[1;32m    917\u001b[0m       \u001b[0mnew_tracing_count\u001b[0m \u001b[0;34m=\u001b[0m \u001b[0mself\u001b[0m\u001b[0;34m.\u001b[0m\u001b[0mexperimental_get_tracing_count\u001b[0m\u001b[0;34m(\u001b[0m\u001b[0;34m)\u001b[0m\u001b[0;34m\u001b[0m\u001b[0;34m\u001b[0m\u001b[0m\n",
            "\u001b[0;32m/usr/local/lib/python3.7/dist-packages/tensorflow/python/eager/def_function.py\u001b[0m in \u001b[0;36m_call\u001b[0;34m(self, *args, **kwds)\u001b[0m\n\u001b[1;32m    952\u001b[0m       \u001b[0;31m# In this case we have not created variables on the first call. So we can\u001b[0m\u001b[0;34m\u001b[0m\u001b[0;34m\u001b[0m\u001b[0;34m\u001b[0m\u001b[0m\n\u001b[1;32m    953\u001b[0m       \u001b[0;31m# run the first trace but we should fail if variables are created.\u001b[0m\u001b[0;34m\u001b[0m\u001b[0;34m\u001b[0m\u001b[0;34m\u001b[0m\u001b[0m\n\u001b[0;32m--> 954\u001b[0;31m       \u001b[0mresults\u001b[0m \u001b[0;34m=\u001b[0m \u001b[0mself\u001b[0m\u001b[0;34m.\u001b[0m\u001b[0m_stateful_fn\u001b[0m\u001b[0;34m(\u001b[0m\u001b[0;34m*\u001b[0m\u001b[0margs\u001b[0m\u001b[0;34m,\u001b[0m \u001b[0;34m**\u001b[0m\u001b[0mkwds\u001b[0m\u001b[0;34m)\u001b[0m\u001b[0;34m\u001b[0m\u001b[0;34m\u001b[0m\u001b[0m\n\u001b[0m\u001b[1;32m    955\u001b[0m       \u001b[0;32mif\u001b[0m \u001b[0mself\u001b[0m\u001b[0;34m.\u001b[0m\u001b[0m_created_variables\u001b[0m \u001b[0;32mand\u001b[0m \u001b[0;32mnot\u001b[0m \u001b[0mALLOW_DYNAMIC_VARIABLE_CREATION\u001b[0m\u001b[0;34m:\u001b[0m\u001b[0;34m\u001b[0m\u001b[0;34m\u001b[0m\u001b[0m\n\u001b[1;32m    956\u001b[0m         raise ValueError(\"Creating variables on a non-first call to a function\"\n",
            "\u001b[0;32m/usr/local/lib/python3.7/dist-packages/tensorflow/python/eager/function.py\u001b[0m in \u001b[0;36m__call__\u001b[0;34m(self, *args, **kwargs)\u001b[0m\n\u001b[1;32m   2955\u001b[0m        filtered_flat_args) = self._maybe_define_function(args, kwargs)\n\u001b[1;32m   2956\u001b[0m     return graph_function._call_flat(\n\u001b[0;32m-> 2957\u001b[0;31m         filtered_flat_args, captured_inputs=graph_function.captured_inputs)  # pylint: disable=protected-access\n\u001b[0m\u001b[1;32m   2958\u001b[0m \u001b[0;34m\u001b[0m\u001b[0m\n\u001b[1;32m   2959\u001b[0m   \u001b[0;34m@\u001b[0m\u001b[0mproperty\u001b[0m\u001b[0;34m\u001b[0m\u001b[0;34m\u001b[0m\u001b[0m\n",
            "\u001b[0;32m/usr/local/lib/python3.7/dist-packages/tensorflow/python/eager/function.py\u001b[0m in \u001b[0;36m_call_flat\u001b[0;34m(self, args, captured_inputs, cancellation_manager)\u001b[0m\n\u001b[1;32m   1852\u001b[0m       \u001b[0;31m# No tape is watching; skip to running the function.\u001b[0m\u001b[0;34m\u001b[0m\u001b[0;34m\u001b[0m\u001b[0;34m\u001b[0m\u001b[0m\n\u001b[1;32m   1853\u001b[0m       return self._build_call_outputs(self._inference_function.call(\n\u001b[0;32m-> 1854\u001b[0;31m           ctx, args, cancellation_manager=cancellation_manager))\n\u001b[0m\u001b[1;32m   1855\u001b[0m     forward_backward = self._select_forward_and_backward_functions(\n\u001b[1;32m   1856\u001b[0m         \u001b[0margs\u001b[0m\u001b[0;34m,\u001b[0m\u001b[0;34m\u001b[0m\u001b[0;34m\u001b[0m\u001b[0m\n",
            "\u001b[0;32m/usr/local/lib/python3.7/dist-packages/tensorflow/python/eager/function.py\u001b[0m in \u001b[0;36mcall\u001b[0;34m(self, ctx, args, cancellation_manager)\u001b[0m\n\u001b[1;32m    502\u001b[0m               \u001b[0minputs\u001b[0m\u001b[0;34m=\u001b[0m\u001b[0margs\u001b[0m\u001b[0;34m,\u001b[0m\u001b[0;34m\u001b[0m\u001b[0;34m\u001b[0m\u001b[0m\n\u001b[1;32m    503\u001b[0m               \u001b[0mattrs\u001b[0m\u001b[0;34m=\u001b[0m\u001b[0mattrs\u001b[0m\u001b[0;34m,\u001b[0m\u001b[0;34m\u001b[0m\u001b[0;34m\u001b[0m\u001b[0m\n\u001b[0;32m--> 504\u001b[0;31m               ctx=ctx)\n\u001b[0m\u001b[1;32m    505\u001b[0m         \u001b[0;32melse\u001b[0m\u001b[0;34m:\u001b[0m\u001b[0;34m\u001b[0m\u001b[0;34m\u001b[0m\u001b[0m\n\u001b[1;32m    506\u001b[0m           outputs = execute.execute_with_cancellation(\n",
            "\u001b[0;32m/usr/local/lib/python3.7/dist-packages/tensorflow/python/eager/execute.py\u001b[0m in \u001b[0;36mquick_execute\u001b[0;34m(op_name, num_outputs, inputs, attrs, ctx, name)\u001b[0m\n\u001b[1;32m     53\u001b[0m     \u001b[0mctx\u001b[0m\u001b[0;34m.\u001b[0m\u001b[0mensure_initialized\u001b[0m\u001b[0;34m(\u001b[0m\u001b[0;34m)\u001b[0m\u001b[0;34m\u001b[0m\u001b[0;34m\u001b[0m\u001b[0m\n\u001b[1;32m     54\u001b[0m     tensors = pywrap_tfe.TFE_Py_Execute(ctx._handle, device_name, op_name,\n\u001b[0;32m---> 55\u001b[0;31m                                         inputs, attrs, num_outputs)\n\u001b[0m\u001b[1;32m     56\u001b[0m   \u001b[0;32mexcept\u001b[0m \u001b[0mcore\u001b[0m\u001b[0;34m.\u001b[0m\u001b[0m_NotOkStatusException\u001b[0m \u001b[0;32mas\u001b[0m \u001b[0me\u001b[0m\u001b[0;34m:\u001b[0m\u001b[0;34m\u001b[0m\u001b[0;34m\u001b[0m\u001b[0m\n\u001b[1;32m     57\u001b[0m     \u001b[0;32mif\u001b[0m \u001b[0mname\u001b[0m \u001b[0;32mis\u001b[0m \u001b[0;32mnot\u001b[0m \u001b[0;32mNone\u001b[0m\u001b[0;34m:\u001b[0m\u001b[0;34m\u001b[0m\u001b[0;34m\u001b[0m\u001b[0m\n",
            "\u001b[0;31mKeyboardInterrupt\u001b[0m: "
          ]
        }
      ]
    },
    {
      "cell_type": "code",
      "source": [
        "s=\"I know this is going to be one of those nights\"\n",
        "for i in range(20):\n",
        "   s+=\" \"+list(gen_tokenizer.word_index.keys())[roll_index_modified(generator_model.predict(x={\"labels\":np.array([[0, 0, 0, 1]]), \n",
        "                                  \"sequences\":pad_sequences(gen_tokenizer.texts_to_sequences([s]), \n",
        "                                                            maxlen=64)})[0])]\n",
        "print(s)"
      ],
      "metadata": {
        "colab": {
          "base_uri": "https://localhost:8080/"
        },
        "id": "-oqVhWAY9o7v",
        "outputId": "c9cb6dc0-15a2-411b-bff1-7a220f0bb11d"
      },
      "execution_count": null,
      "outputs": [
        {
          "output_type": "stream",
          "name": "stdout",
          "text": [
            "I know this is going to be one of those nights as up the bones is your between could everything the job play i from my smile the two rude want\n"
          ]
        }
      ]
    },
    {
      "cell_type": "code",
      "execution_count": null,
      "metadata": {
        "colab": {
          "base_uri": "https://localhost:8080/"
        },
        "id": "vM7G1fwY-iSw",
        "outputId": "19393b17-90e9-4377-992f-2a0373fa27c8"
      },
      "outputs": [
        {
          "output_type": "stream",
          "name": "stderr",
          "text": [
            "/usr/local/lib/python3.7/dist-packages/keras/optimizer_v2/adam.py:105: UserWarning: The `lr` argument is deprecated, use `learning_rate` instead.\n",
            "  super(Adam, self).__init__(name, **kwargs)\n"
          ]
        }
      ],
      "source": [
        "from keras.backend import binary_crossentropy\n",
        "from keras.losses import BinaryCrossentropy, CategoricalCrossentropy\n",
        "from keras.optimizers import adam_v2\n",
        "discriminator_object=Discriminator(discriminator, BinaryCrossentropy(), adam_v2.Adam())\n",
        "generator_object=Generator(generator_model, CategoricalCrossentropy(), adam_v2.Adam(lr=0.1))\n",
        "gan_object=GAN(generator_object, discriminator_object, classifier, CategoricalCrossentropy())\n",
        "\n"
      ]
    },
    {
      "cell_type": "markdown",
      "metadata": {
        "id": "2CSz_Nextn0o"
      },
      "source": [
        "##Pretrain discriminator"
      ]
    },
    {
      "cell_type": "code",
      "execution_count": null,
      "metadata": {
        "colab": {
          "base_uri": "https://localhost:8080/"
        },
        "id": "Yrbr-FQjBKws",
        "outputId": "ee7d6829-1ef3-4c6e-d09a-1fe44ce1425f"
      },
      "outputs": [
        {
          "name": "stdout",
          "output_type": "stream",
          "text": [
            "[[2]\n",
            " [2]\n",
            " [2]\n",
            " [2]\n",
            " [2]\n",
            " [2]\n",
            " [2]\n",
            " [2]\n",
            " [2]\n",
            " [2]\n",
            " [2]\n",
            " [2]\n",
            " [2]\n",
            " [2]\n",
            " [2]\n",
            " [2]\n",
            " [2]\n",
            " [2]\n",
            " [2]\n",
            " [2]\n",
            " [2]\n",
            " [2]\n",
            " [2]\n",
            " [2]\n",
            " [2]\n",
            " [2]\n",
            " [2]\n",
            " [2]\n",
            " [2]\n",
            " [2]\n",
            " [2]\n",
            " [2]\n",
            " [2]\n",
            " [2]\n",
            " [2]\n",
            " [2]\n",
            " [2]\n",
            " [2]\n",
            " [2]\n",
            " [2]\n",
            " [2]\n",
            " [2]\n",
            " [2]\n",
            " [2]\n",
            " [2]\n",
            " [2]\n",
            " [2]\n",
            " [2]\n",
            " [2]\n",
            " [2]\n",
            " [2]\n",
            " [2]\n",
            " [2]\n",
            " [2]\n",
            " [2]\n",
            " [2]\n",
            " [2]\n",
            " [2]\n",
            " [2]\n",
            " [2]\n",
            " [2]\n",
            " [2]\n",
            " [2]\n",
            " [2]\n",
            " [2]\n",
            " [2]\n",
            " [2]\n",
            " [2]\n",
            " [2]\n",
            " [2]\n",
            " [2]\n",
            " [2]\n",
            " [2]\n",
            " [2]\n",
            " [2]\n",
            " [2]\n",
            " [2]\n",
            " [2]\n",
            " [2]\n",
            " [2]\n",
            " [2]\n",
            " [2]\n",
            " [2]\n",
            " [2]\n",
            " [2]\n",
            " [2]\n",
            " [2]\n",
            " [2]\n",
            " [2]\n",
            " [2]\n",
            " [2]\n",
            " [2]\n",
            " [2]\n",
            " [2]\n",
            " [2]\n",
            " [2]\n",
            " [2]\n",
            " [2]\n",
            " [2]\n",
            " [2]]\n",
            "[[   0    0    0 ...   18  114    2]\n",
            " [   0    0    0 ...  209   62    2]\n",
            " [   0    0    0 ...  333  657    2]\n",
            " ...\n",
            " [   0    0    0 ...   13    8    2]\n",
            " [   0    0    0 ...   89 6080    2]\n",
            " [   0    0    0 ...    8  157    2]]\n",
            "0\n",
            "1\n",
            "2\n",
            "3\n",
            "4\n",
            "5\n",
            "6\n",
            "7\n",
            "8\n",
            "9\n",
            "10\n",
            "11\n",
            "12\n",
            "13\n",
            "14\n",
            "15\n",
            "16\n",
            "17\n",
            "18\n",
            "19\n",
            "20\n",
            "21\n",
            "22\n",
            "23\n",
            "24\n",
            "25\n",
            "26\n",
            "27\n",
            "28\n",
            "29\n",
            "30\n",
            "31\n",
            "32\n",
            "33\n",
            "34\n",
            "35\n",
            "36\n",
            "37\n",
            "38\n",
            "39\n",
            "40\n",
            "41\n",
            "42\n",
            "43\n",
            "44\n",
            "45\n",
            "46\n",
            "47\n",
            "48\n",
            "49\n",
            "50\n",
            "51\n",
            "52\n",
            "53\n",
            "54\n",
            "55\n",
            "56\n",
            "57\n",
            "58\n",
            "59\n",
            "60\n",
            "61\n",
            "62\n",
            "63\n",
            "64\n",
            "65\n",
            "66\n",
            "67\n",
            "68\n",
            "69\n",
            "70\n",
            "71\n",
            "72\n",
            "73\n",
            "74\n",
            "75\n",
            "76\n",
            "77\n",
            "78\n",
            "79\n",
            "80\n",
            "81\n",
            "82\n",
            "83\n",
            "84\n",
            "85\n",
            "86\n",
            "87\n",
            "88\n",
            "89\n",
            "90\n",
            "91\n",
            "92\n",
            "93\n",
            "94\n",
            "95\n",
            "96\n",
            "97\n",
            "98\n",
            "99\n",
            "[[   0    0    0 ...   18  114    2]\n",
            " [   0    0    0 ...  209   62    2]\n",
            " [   0    0    0 ...  333  657    2]\n",
            " ...\n",
            " [   0    0    0 ...   13    8    2]\n",
            " [   0    0    0 ...   89 6080    2]\n",
            " [   0    0    0 ...    8  157    2]]\n",
            "[[   0    0    0 ...    4 3142    2]\n",
            " [   0    0    0 ...    3 5886    2]\n",
            " [   0    0    0 ...  391  461    2]\n",
            " ...\n",
            " [   0    0    0 ...   11    3    2]\n",
            " [   0    0    0 ...    5 2017    2]\n",
            " [   0    0    0 ...  391  259    2]]\n",
            "[0.89 0.88 0.99 0.93 0.94 0.81 0.99 0.87 0.84 0.84 0.94 0.88 0.89 0.98\n",
            " 0.86 1.   0.88 0.82 0.9  0.97 0.99 0.96 0.81 0.87 0.8  0.94 0.81 0.89\n",
            " 0.85 0.82 0.98 0.82 0.89 0.94 0.87 0.84 0.92 0.93 0.95 0.97 0.92 0.85\n",
            " 0.99 0.87 0.84 0.95 0.88 0.92 1.   1.   0.8  0.99 0.83 0.96 0.83 0.84\n",
            " 0.85 0.99 0.94 0.82 0.91 1.   0.91 0.96 0.85 0.94 0.86 0.82 0.91 0.82\n",
            " 0.8  0.88 0.9  1.   0.85 0.89 0.92 0.83 0.87 0.9  0.86 0.96 0.99 0.97\n",
            " 1.   0.95 0.83 0.8  0.96 0.83 0.9  0.84 0.9  0.88 0.88 0.92 0.87 0.83\n",
            " 0.99 0.89]\n",
            "[0.12 0.   0.03 0.02 0.07 0.12 0.19 0.19 0.17 0.2  0.19 0.19 0.08 0.2\n",
            " 0.01 0.17 0.01 0.09 0.17 0.04 0.02 0.08 0.17 0.14 0.09 0.   0.04 0.02\n",
            " 0.04 0.18 0.01 0.19 0.1  0.05 0.15 0.12 0.   0.03 0.04 0.18 0.16 0.14\n",
            " 0.08 0.11 0.   0.13 0.03 0.02 0.11 0.15 0.1  0.06 0.17 0.04 0.06 0.18\n",
            " 0.15 0.11 0.1  0.   0.06 0.07 0.03 0.02 0.12 0.2  0.15 0.1  0.13 0.04\n",
            " 0.12 0.08 0.01 0.14 0.1  0.2  0.16 0.01 0.06 0.01 0.11 0.08 0.07 0.12\n",
            " 0.02 0.05 0.17 0.11 0.19 0.2  0.16 0.17 0.18 0.15 0.13 0.17 0.06 0.14\n",
            " 0.09 0.19]\n"
          ]
        },
        {
          "name": "stderr",
          "output_type": "stream",
          "text": [
            "/usr/local/lib/python3.7/dist-packages/ipykernel_launcher.py:50: VisibleDeprecationWarning: Creating an ndarray from ragged nested sequences (which is a list-or-tuple of lists-or-tuples-or ndarrays with different lengths or shapes) is deprecated. If you meant to do this, you must specify 'dtype=object' when creating the ndarray.\n"
          ]
        },
        {
          "name": "stdout",
          "output_type": "stream",
          "text": [
            "[[   0    0    0 ...   18  114    2]\n",
            " [   0    0    0 ...  209   62    2]\n",
            " [   0    0    0 ...  333  657    2]\n",
            " ...\n",
            " [   0    0    0 ...   13    8    2]\n",
            " [   0    0    0 ...   89 6080    2]\n",
            " [   0    0    0 ...    8  157    2]]\n",
            "[[   0    0    0 ...    4 3142    2]\n",
            " [   0    0    0 ...    3 5886    2]\n",
            " [   0    0    0 ...  391  461    2]\n",
            " ...\n",
            " [   0    0    0 ...   11    3    2]\n",
            " [   0    0    0 ...    5 2017    2]\n",
            " [   0    0    0 ...  391  259    2]]\n",
            "[0.99 0.94 0.88 0.93 0.84 0.9  0.8  0.94 0.83 1.   0.93 0.8  0.92 0.83\n",
            " 0.86 0.91 0.93 0.87 0.94 0.94 0.81 0.95 0.93 0.89 0.95 0.89 0.87 0.84\n",
            " 0.85 0.81 0.87 0.88 0.91 0.81 0.99 0.85 0.98 0.92 0.85 0.82 0.97 0.8\n",
            " 0.99 0.92 0.93 0.82 0.96 0.88 0.91 1.   0.81 0.8  0.91 0.86 0.99 0.81\n",
            " 0.99 1.   0.87 0.94 1.   0.87 0.99 0.83 0.81 0.84 0.93 0.84 0.85 0.86\n",
            " 0.97 0.95 0.83 0.8  0.83 0.9  0.99 0.82 0.84 0.91 0.97 0.95 0.89 0.98\n",
            " 0.84 0.96 0.94 0.87 0.81 0.93 0.93 0.81 0.9  0.89 0.98 0.95 0.92 0.94\n",
            " 0.92 0.85]\n",
            "[0.06 0.07 0.03 0.14 0.19 0.16 0.07 0.03 0.01 0.18 0.14 0.15 0.2  0.19\n",
            " 0.17 0.06 0.14 0.14 0.03 0.12 0.13 0.01 0.17 0.16 0.09 0.18 0.08 0.05\n",
            " 0.15 0.13 0.17 0.05 0.03 0.2  0.08 0.02 0.06 0.14 0.03 0.04 0.01 0.02\n",
            " 0.07 0.03 0.17 0.09 0.05 0.15 0.09 0.07 0.17 0.04 0.11 0.16 0.12 0.18\n",
            " 0.12 0.19 0.12 0.16 0.19 0.13 0.06 0.08 0.2  0.06 0.07 0.13 0.16 0.17\n",
            " 0.18 0.11 0.04 0.2  0.17 0.2  0.18 0.12 0.16 0.05 0.2  0.17 0.03 0.15\n",
            " 0.   0.05 0.01 0.06 0.14 0.13 0.14 0.03 0.16 0.2  0.04 0.1  0.09 0.2\n",
            " 0.08 0.09]\n",
            "[[   0    0    0 ...   18  114    2]\n",
            " [   0    0    0 ...  209   62    2]\n",
            " [   0    0    0 ...  333  657    2]\n",
            " ...\n",
            " [   0    0    0 ...   13    8    2]\n",
            " [   0    0    0 ...   89 6080    2]\n",
            " [   0    0    0 ...    8  157    2]]\n",
            "[[   0    0    0 ...    4 3142    2]\n",
            " [   0    0    0 ...    3 5886    2]\n",
            " [   0    0    0 ...  391  461    2]\n",
            " ...\n",
            " [   0    0    0 ...   11    3    2]\n",
            " [   0    0    0 ...    5 2017    2]\n",
            " [   0    0    0 ...  391  259    2]]\n",
            "[0.92 0.97 0.96 0.94 1.   0.82 0.87 0.89 0.9  0.8  0.8  0.82 0.95 0.86\n",
            " 1.   0.81 0.84 0.82 0.84 0.82 0.82 0.98 0.86 0.91 0.84 0.85 0.99 0.84\n",
            " 0.82 0.98 0.94 0.8  0.97 0.87 0.91 0.99 0.97 0.83 0.85 0.99 0.89 0.96\n",
            " 0.88 0.82 0.85 0.91 0.83 0.8  0.83 0.94 1.   0.92 0.92 0.81 0.83 0.95\n",
            " 0.97 0.94 0.82 0.85 1.   0.99 0.91 0.88 0.8  0.98 0.8  0.9  0.96 0.86\n",
            " 0.87 0.84 1.   0.95 0.98 1.   0.84 0.94 0.94 0.81 0.92 1.   0.86 0.99\n",
            " 0.85 0.87 0.87 0.87 0.98 0.84 0.89 0.8  0.95 0.8  0.97 0.9  0.97 0.94\n",
            " 0.98 0.94]\n",
            "[0.11 0.1  0.12 0.06 0.02 0.01 0.11 0.05 0.1  0.1  0.2  0.01 0.03 0.1\n",
            " 0.15 0.13 0.   0.07 0.   0.08 0.17 0.05 0.11 0.09 0.18 0.03 0.11 0.\n",
            " 0.02 0.03 0.09 0.04 0.03 0.05 0.14 0.18 0.12 0.03 0.2  0.02 0.2  0.1\n",
            " 0.15 0.07 0.19 0.13 0.02 0.1  0.03 0.1  0.14 0.   0.06 0.18 0.16 0.09\n",
            " 0.02 0.07 0.   0.07 0.   0.19 0.17 0.14 0.17 0.1  0.01 0.14 0.19 0.02\n",
            " 0.13 0.   0.   0.2  0.18 0.02 0.17 0.2  0.14 0.12 0.09 0.   0.15 0.1\n",
            " 0.02 0.18 0.08 0.12 0.15 0.14 0.09 0.18 0.16 0.11 0.18 0.19 0.   0.18\n",
            " 0.01 0.19]\n",
            "[[   0    0    0 ...   18  114    2]\n",
            " [   0    0    0 ...  209   62    2]\n",
            " [   0    0    0 ...  333  657    2]\n",
            " ...\n",
            " [   0    0    0 ...   13    8    2]\n",
            " [   0    0    0 ...   89 6080    2]\n",
            " [   0    0    0 ...    8  157    2]]\n",
            "[[   0    0    0 ...    4 3142    2]\n",
            " [   0    0    0 ...    3 5886    2]\n",
            " [   0    0    0 ...  391  461    2]\n",
            " ...\n",
            " [   0    0    0 ...   11    3    2]\n",
            " [   0    0    0 ...    5 2017    2]\n",
            " [   0    0    0 ...  391  259    2]]\n",
            "[0.92 0.87 0.84 0.94 0.81 0.82 1.   0.86 0.82 0.98 0.84 0.89 0.81 0.83\n",
            " 0.81 0.89 0.89 0.85 0.84 0.89 0.88 0.98 0.81 0.86 0.8  0.96 0.87 0.9\n",
            " 0.95 0.86 0.81 0.8  0.99 0.93 0.93 0.8  0.88 0.98 0.9  0.86 0.92 0.98\n",
            " 0.9  0.81 0.84 0.93 0.99 0.84 0.98 0.91 0.87 0.84 0.93 0.93 0.97 0.99\n",
            " 0.86 0.84 0.88 0.84 1.   0.98 0.99 0.93 0.92 0.94 0.96 0.95 0.99 0.81\n",
            " 0.84 0.98 0.98 0.9  0.93 0.87 1.   0.87 0.87 0.93 0.91 0.99 0.98 0.99\n",
            " 0.83 0.98 0.9  0.95 0.96 0.94 0.81 1.   0.97 0.81 0.9  0.99 0.91 0.81\n",
            " 0.92 0.85]\n",
            "[0.14 0.04 0.03 0.19 0.04 0.03 0.12 0.2  0.01 0.05 0.14 0.05 0.11 0.17\n",
            " 0.19 0.11 0.15 0.01 0.12 0.05 0.13 0.04 0.05 0.09 0.14 0.01 0.08 0.07\n",
            " 0.18 0.11 0.15 0.14 0.01 0.09 0.08 0.19 0.06 0.1  0.18 0.18 0.04 0.05\n",
            " 0.   0.08 0.18 0.06 0.05 0.12 0.18 0.19 0.05 0.06 0.19 0.1  0.02 0.09\n",
            " 0.05 0.11 0.04 0.15 0.   0.15 0.11 0.13 0.1  0.08 0.05 0.15 0.18 0.17\n",
            " 0.11 0.12 0.   0.2  0.19 0.07 0.19 0.08 0.19 0.17 0.15 0.   0.01 0.01\n",
            " 0.07 0.16 0.14 0.12 0.04 0.09 0.17 0.12 0.2  0.11 0.01 0.03 0.06 0.17\n",
            " 0.18 0.08]\n",
            "[[   0    0    0 ...   18  114    2]\n",
            " [   0    0    0 ...  209   62    2]\n",
            " [   0    0    0 ...  333  657    2]\n",
            " ...\n",
            " [   0    0    0 ...   13    8    2]\n",
            " [   0    0    0 ...   89 6080    2]\n",
            " [   0    0    0 ...    8  157    2]]\n",
            "[[   0    0    0 ...    4 3142    2]\n",
            " [   0    0    0 ...    3 5886    2]\n",
            " [   0    0    0 ...  391  461    2]\n",
            " ...\n",
            " [   0    0    0 ...   11    3    2]\n",
            " [   0    0    0 ...    5 2017    2]\n",
            " [   0    0    0 ...  391  259    2]]\n",
            "[0.83 0.82 0.84 0.94 0.9  0.83 0.99 0.89 0.88 0.97 0.95 0.86 0.95 0.96\n",
            " 0.86 0.89 0.83 0.85 0.91 0.95 0.92 0.8  0.86 0.87 0.82 0.9  0.99 0.81\n",
            " 0.92 0.91 0.95 0.98 0.9  0.93 0.8  0.89 0.96 0.85 0.9  0.89 0.89 0.81\n",
            " 0.95 0.88 0.91 0.89 0.8  0.84 0.87 0.97 0.89 0.94 0.95 0.81 0.81 0.97\n",
            " 0.87 0.89 0.89 0.94 0.85 0.96 0.98 0.82 0.98 0.83 0.92 0.87 0.83 0.86\n",
            " 0.97 0.96 1.   0.81 0.99 0.99 0.96 0.86 0.99 0.98 0.88 0.85 0.96 0.82\n",
            " 0.8  0.88 0.95 0.87 0.88 0.81 0.8  0.82 0.99 0.94 0.84 0.93 0.91 0.88\n",
            " 0.98 0.99]\n",
            "[0.04 0.13 0.11 0.04 0.16 0.09 0.18 0.01 0.13 0.17 0.   0.16 0.09 0.18\n",
            " 0.04 0.19 0.08 0.04 0.08 0.17 0.   0.17 0.01 0.03 0.12 0.01 0.16 0.14\n",
            " 0.16 0.16 0.16 0.16 0.01 0.05 0.08 0.03 0.14 0.19 0.14 0.09 0.11 0.12\n",
            " 0.14 0.15 0.04 0.15 0.18 0.14 0.16 0.   0.14 0.17 0.03 0.18 0.09 0.13\n",
            " 0.11 0.17 0.13 0.1  0.09 0.02 0.17 0.19 0.1  0.2  0.19 0.11 0.14 0.03\n",
            " 0.12 0.2  0.12 0.08 0.1  0.14 0.06 0.2  0.03 0.   0.19 0.19 0.16 0.07\n",
            " 0.16 0.12 0.1  0.11 0.   0.01 0.13 0.11 0.17 0.   0.14 0.09 0.17 0.18\n",
            " 0.15 0.16]\n",
            "[0.04 0.13 0.11 0.04 0.16 0.09 0.18 0.01 0.13 0.17 0.   0.16 0.09 0.18\n",
            " 0.04 0.19 0.08 0.04 0.08 0.17 0.   0.17 0.01 0.03 0.12 0.01 0.16 0.14\n",
            " 0.16 0.16 0.16 0.16 0.01 0.05 0.08 0.03 0.14 0.19 0.14 0.09 0.11 0.12\n",
            " 0.14 0.15 0.04 0.15 0.18 0.14 0.16 0.   0.14 0.17 0.03 0.18 0.09 0.13\n",
            " 0.11 0.17 0.13 0.1  0.09 0.02 0.17 0.19 0.1  0.2  0.19 0.11 0.14 0.03\n",
            " 0.12 0.2  0.12 0.08 0.1  0.14 0.06 0.2  0.03 0.   0.19 0.19 0.16 0.07\n",
            " 0.16 0.12 0.1  0.11 0.   0.01 0.13 0.11 0.17 0.   0.14 0.09 0.17 0.18\n",
            " 0.15 0.16]\n"
          ]
        }
      ],
      "source": [
        "gan_object.train_disc(gan_list_states[0:100], gan_classification_onehots[0:100], gan_actions[0:100], 5, d_epochs=5)"
      ]
    },
    {
      "cell_type": "code",
      "execution_count": null,
      "metadata": {
        "colab": {
          "base_uri": "https://localhost:8080/"
        },
        "id": "ultiAQQuNRQK",
        "outputId": "57768c81-f437-4a34-a88d-4141402d7c75"
      },
      "outputs": [
        {
          "name": "stdout",
          "output_type": "stream",
          "text": [
            "0\n",
            "1\n",
            "2\n",
            "3\n",
            "4\n",
            "5\n",
            "6\n",
            "7\n",
            "8\n",
            "9\n",
            "10\n",
            "11\n",
            "12\n",
            "13\n",
            "14\n",
            "15\n",
            "16\n",
            "17\n",
            "18\n",
            "19\n",
            "20\n",
            "21\n",
            "22\n",
            "23\n",
            "24\n",
            "25\n",
            "26\n",
            "27\n",
            "28\n",
            "29\n",
            "30\n",
            "31\n",
            "32\n",
            "33\n",
            "34\n",
            "35\n",
            "36\n",
            "37\n",
            "38\n",
            "39\n",
            "40\n",
            "41\n",
            "42\n",
            "43\n",
            "44\n",
            "45\n",
            "46\n",
            "47\n",
            "48\n",
            "49\n",
            "50\n",
            "51\n",
            "52\n",
            "53\n",
            "54\n",
            "55\n",
            "56\n",
            "57\n",
            "58\n",
            "59\n",
            "60\n",
            "61\n",
            "62\n",
            "63\n",
            "64\n",
            "65\n",
            "66\n",
            "67\n",
            "68\n",
            "69\n",
            "70\n",
            "71\n",
            "72\n",
            "73\n",
            "74\n",
            "75\n",
            "76\n",
            "77\n",
            "78\n",
            "79\n",
            "80\n",
            "81\n",
            "82\n",
            "83\n",
            "84\n",
            "85\n",
            "86\n",
            "87\n",
            "88\n",
            "89\n",
            "90\n",
            "91\n",
            "92\n",
            "93\n",
            "94\n",
            "95\n",
            "96\n",
            "97\n",
            "98\n",
            "99\n"
          ]
        },
        {
          "name": "stderr",
          "output_type": "stream",
          "text": [
            "/usr/local/lib/python3.7/dist-packages/ipykernel_launcher.py:50: VisibleDeprecationWarning: Creating an ndarray from ragged nested sequences (which is a list-or-tuple of lists-or-tuples-or ndarrays with different lengths or shapes) is deprecated. If you meant to do this, you must specify 'dtype=object' when creating the ndarray.\n"
          ]
        },
        {
          "name": "stdout",
          "output_type": "stream",
          "text": [
            "7/7 [==============================] - 1s 16ms/step - loss: 0.6973 - acc: 0.6750\n"
          ]
        },
        {
          "data": {
            "text/plain": [
              "[0.6973187923431396, 0.675000011920929]"
            ]
          },
          "execution_count": 119,
          "metadata": {},
          "output_type": "execute_result"
        }
      ],
      "source": [
        "discriminator_object.evaluate_discriminator(gan_list_states[3100:3200], gan_actions[3100:3200], generator_object)"
      ]
    },
    {
      "cell_type": "markdown",
      "metadata": {
        "id": "sIWb47sItspp"
      },
      "source": [
        "##Generate a batch of text and evaluate the reward"
      ]
    },
    {
      "cell_type": "code",
      "execution_count": null,
      "metadata": {
        "colab": {
          "base_uri": "https://localhost:8080/"
        },
        "id": "e0Ck6DF6tbH3",
        "outputId": "b8ac7021-d2de-4c30-db60-607b28d0e2ec"
      },
      "outputs": [
        {
          "name": "stdout",
          "output_type": "stream",
          "text": [
            "(100, 64)\n",
            "(100, 4)\n",
            "0\n",
            "1\n",
            "2\n",
            "3\n",
            "4\n",
            "5\n",
            "6\n",
            "7\n",
            "8\n",
            "9\n",
            "10\n",
            "11\n",
            "12\n",
            "13\n",
            "14\n",
            "15\n",
            "16\n",
            "17\n",
            "18\n",
            "19\n",
            "20\n",
            "21\n",
            "22\n",
            "23\n",
            "24\n",
            "25\n",
            "26\n",
            "27\n",
            "28\n",
            "29\n",
            "30\n",
            "31\n",
            "32\n",
            "33\n",
            "34\n",
            "35\n",
            "36\n",
            "37\n",
            "38\n",
            "39\n",
            "40\n",
            "41\n",
            "42\n",
            "43\n",
            "44\n",
            "45\n",
            "46\n",
            "47\n",
            "48\n",
            "49\n",
            "50\n",
            "51\n",
            "52\n",
            "53\n",
            "54\n",
            "55\n",
            "56\n",
            "57\n",
            "58\n",
            "59\n",
            "60\n",
            "61\n",
            "62\n",
            "63\n",
            "64\n",
            "65\n",
            "66\n",
            "67\n",
            "68\n",
            "69\n",
            "70\n",
            "71\n",
            "72\n",
            "73\n",
            "74\n",
            "75\n",
            "76\n",
            "77\n",
            "78\n",
            "79\n",
            "80\n",
            "81\n",
            "82\n",
            "83\n",
            "84\n",
            "85\n",
            "86\n",
            "87\n",
            "88\n",
            "89\n",
            "90\n",
            "91\n",
            "92\n",
            "93\n",
            "94\n",
            "95\n",
            "96\n",
            "97\n",
            "98\n",
            "99\n"
          ]
        }
      ],
      "source": [
        "generated_values=generator_object.generateBatch(100);"
      ]
    },
    {
      "cell_type": "code",
      "execution_count": null,
      "metadata": {
        "colab": {
          "base_uri": "https://localhost:8080/",
          "height": 644
        },
        "id": "2a6fIsJ-vuI7",
        "outputId": "1e0d3157-9ac2-48a6-8fc2-d0f4529dd3e7"
      },
      "outputs": [
        {
          "data": {
            "image/png": "[encoded data removed]",
            "text/plain": [
              "<IPython.core.display.Image object>"
            ]
          },
          "execution_count": 166,
          "metadata": {},
          "output_type": "execute_result"
        }
      ],
      "source": [
        "from keras.utils.vis_utils import plot_model\n",
        "plot_model(classifier, to_file=\"classifer.png\", show_shapes=True, show_layer_names=True, show_layer_activations=True)"
      ]
    },
    {
      "cell_type": "code",
      "execution_count": null,
      "metadata": {
        "colab": {
          "base_uri": "https://localhost:8080/",
          "height": 218
        },
        "id": "ySR1CA2KBNaR",
        "outputId": "5a26fdb4-0db2-4e17-8adb-3ba99d8a5582"
      },
      "outputs": [
        {
          "ename": "NameError",
          "evalue": "ignored",
          "output_type": "error",
          "traceback": [
            "\u001b[0;31m---------------------------------------------------------------------------\u001b[0m",
            "\u001b[0;31mNameError\u001b[0m                                 Traceback (most recent call last)",
            "\u001b[0;32m<ipython-input-53-24cc89b25722>\u001b[0m in \u001b[0;36m<module>\u001b[0;34m()\u001b[0m\n\u001b[1;32m      1\u001b[0m \u001b[0;31m#print(generator_object.generator_model.evaluate({\"labels\": classification_onehots[1000:2000],\"sequences\":token_list_states[1000:2000]}, token_actions[1000:2000]))\u001b[0m\u001b[0;34m\u001b[0m\u001b[0;34m\u001b[0m\u001b[0;34m\u001b[0m\u001b[0m\n\u001b[1;32m      2\u001b[0m \u001b[0;34m\u001b[0m\u001b[0m\n\u001b[0;32m----> 3\u001b[0;31m \u001b[0mprint\u001b[0m\u001b[0;34m(\u001b[0m\u001b[0mgan_object\u001b[0m\u001b[0;34m.\u001b[0m\u001b[0mget_average_score\u001b[0m\u001b[0;34m(\u001b[0m\u001b[0mgenerated_values\u001b[0m\u001b[0;34m[\u001b[0m\u001b[0;36m0\u001b[0m\u001b[0;34m]\u001b[0m\u001b[0;34m,\u001b[0m \u001b[0mgenerated_values\u001b[0m\u001b[0;34m[\u001b[0m\u001b[0;36m1\u001b[0m\u001b[0;34m]\u001b[0m\u001b[0;34m)\u001b[0m\u001b[0;34m)\u001b[0m\u001b[0;34m\u001b[0m\u001b[0;34m\u001b[0m\u001b[0m\n\u001b[0m",
            "\u001b[0;31mNameError\u001b[0m: name 'generated_values' is not defined"
          ]
        }
      ],
      "source": [
        "#print(generator_object.generator_model.evaluate({\"labels\": classification_onehots[1000:2000],\"sequences\":token_list_states[1000:2000]}, token_actions[1000:2000]))\n",
        "\n",
        "print(gan_object.get_average_score(generated_values[0], generated_values[1]))"
      ]
    },
    {
      "cell_type": "markdown",
      "metadata": {
        "id": "71dKffR5rWtY"
      },
      "source": [
        "#Define the Award list and train the generator"
      ]
    },
    {
      "cell_type": "code",
      "execution_count": null,
      "metadata": {
        "id": "YMNVr3zvhnqD"
      },
      "outputs": [],
      "source": [
        "reward_arr=[]"
      ]
    },
    {
      "cell_type": "code",
      "execution_count": null,
      "metadata": {
        "id": "gnrAPVfvUORQ"
      },
      "outputs": [],
      "source": [
        "print(len(gan_list_states))\n",
        "for i in range(30, 67): \n",
        "  for j in range(2):\n",
        "    reward_arr_one=gan_object.train_gen(gan_list_states[(100*i):100*(i+1)], gan_classification_onehots[(100*i):100*(i+1)], gan_actions[(100*i):100*(i+1)], 10, 5, 5, gen_tokenizer.word_index[\"endtoken\"], 20,  1)\n",
        "    gan_object.train_disc(gan_list_states[(100*i):100*(i+1)], gan_classification_onehots[(100*i):100*(i+1)], gan_actions[(100*i):100*(i+1)], 2)\n",
        "    generated_values=generator_object.generateBatch(100)\n",
        "    reward_arr.append(gan_object.get_average_score(generated_values[0], generated_values[1]))"
      ]
    },
    {
      "cell_type": "markdown",
      "metadata": {
        "id": "9dG5ZpXmm9Kb"
      },
      "source": [
        "#Evaluate generator"
      ]
    },
    {
      "cell_type": "code",
      "execution_count": null,
      "metadata": {
        "id": "T6TqklFLP9mU"
      },
      "outputs": [],
      "source": [
        ""
      ]
    },
    {
      "cell_type": "code",
      "execution_count": null,
      "metadata": {
        "id": "_IAmXfF_xC_C"
      },
      "outputs": [],
      "source": [
        "to_plot=[]\n",
        "c=0\n",
        "for i in reward_arr:\n",
        "\n",
        "  to_plot.append(i[0][0])\n",
        "  c+=1\n",
        "print(to_plot)"
      ]
    },
    {
      "cell_type": "code",
      "execution_count": null,
      "metadata": {
        "id": "m-ySvUUdbHCu"
      },
      "outputs": [],
      "source": [
        "discriminator_object.evaluate_discriminator(gan_list_states[1100:1400], gan_actions[1100:1400], generator_object)"
      ]
    },
    {
      "cell_type": "code",
      "execution_count": null,
      "metadata": {
        "id": "NSqnqU9NasT3"
      },
      "outputs": [],
      "source": [
        "import matplotlib.pyplot as plt\n",
        "plt.xlabel(\"Amount of Training Iterations\")\n",
        "plt.ylabel(\"Reward value\")\n",
        "plt.grid(True)\n",
        "plt.plot(to_plot)\n",
        "plt.show()"
      ]
    },
    {
      "cell_type": "code",
      "execution_count": null,
      "metadata": {
        "id": "sUQCLBnOn3Jn"
      },
      "outputs": [],
      "source": [
        "print(discriminator.evaluate())"
      ]
    },
    {
      "cell_type": "code",
      "execution_count": null,
      "metadata": {
        "id": "lKf77fKIdgw0"
      },
      "outputs": [],
      "source": [
        "from nltk.translate.bleu_score import sentence_bleu"
      ]
    },
    {
      "cell_type": "code",
      "execution_count": null,
      "metadata": {
        "id": "KkGiDsameGkT"
      },
      "outputs": [],
      "source": [
        "def total_bleu(g_object, x_data, classifier):\n",
        "  all_bleus=[]\n",
        "  for i in range(64):\n",
        "      all_bleus.append([])\n",
        "  for token_sequence in x_data:\n",
        "    print(token_sequence)\n",
        "    \n",
        "    \n",
        "    sequence_classification=classifier.predict_on_batch(np.array([token_sequence]))[0]\n",
        "    print(\"classifier\")\n",
        "    token_sequence_unpadded=token_sequence[token_sequence!=0]\n",
        "    reference_sentence=[]\n",
        "    for token in token_sequence_unpadded:\n",
        "          reference_sentence.append(list(gen_tokenizer.word_index.keys())[token])\n",
        "    reference_sentence=reference_sentence[1:]\n",
        "    for seed in range(1, len(token_sequence_unpadded)):\n",
        "        current_sequence=token_sequence_unpadded[:seed]\n",
        "        generator_probability_distribution=[]\n",
        "        generated_len=0;\n",
        "        while True:\n",
        "        # print(np.array(pad_sequences([current_sequence], maxlen=64)))\n",
        "          generator_probability_distribution=g_object.generator_model.predict_on_batch({\"labels\":np.array([sequence_classification]), \"sequences\":np.array(pad_sequences([current_sequence], maxlen=64))});\n",
        "          \n",
        "          generated_token=roll_index(generator_probability_distribution[0])\n",
        "          current_sequence=np.append(current_sequence, [generated_token])\n",
        "        # print(current_sequence)\n",
        "          \n",
        "          generated_len+=1;\n",
        "          if(generated_token==2 or generated_len>=30):\n",
        "            break;\n",
        "        sentence=[]\n",
        "        for token in current_sequence:\n",
        "          sentence.append(list(gen_tokenizer.word_index.keys())[token])\n",
        "        sentence=sentence[1:]\n",
        "        all_bleus[seed].append(sentence_bleu([sentence], reference_sentence))\n",
        "        #print(all_bleus)\n",
        "      \n",
        " \n",
        "  return all_bleus\n",
        "\n",
        "    \n",
        "         \n",
        "  "
      ]
    },
    {
      "cell_type": "code",
      "execution_count": null,
      "metadata": {
        "id": "LOwBmZ9cmgb-"
      },
      "outputs": [],
      "source": [
        "generator_object.generator_model.save_weights(\"/content/drive/MyDrive/Saved_Models/generator_weights.h5\")\n",
        "discriminator_object.discriminator_model.save_weights(\"/content/drive/MyDrive/Saved_Models/discriminator_weights.h5\")"
      ]
    },
    {
      "cell_type": "code",
      "execution_count": null,
      "metadata": {
        "colab": {
          "base_uri": "https://localhost:8080/"
        },
        "id": "BQciZ9UjjJ_S",
        "outputId": "04a583d0-28c1-4684-d03a-18f01fdfc96e"
      },
      "outputs": [
        {
          "name": "stdout",
          "output_type": "stream",
          "text": [
            "[   0    0    0    0    0    0    0    0    0    0    0    0    0    0\n",
            "    0    0    0    0    0    0    0    0    0    0    0    0    0    0\n",
            "    0    0    0    0    0    0    0    0    0    0    0    0    0    0\n",
            "    0    0    0    0    0    0    0    0    0    0    0    0    0    0\n",
            "    0    0    0    0    0    0    0    0    0    0    0    0    0    0\n",
            "    0    0    0    0    0    0    0    0    0    0    0    0    0    0\n",
            "    0    0    0    0    0    0    0    0    0    0    0    0    0    0\n",
            "    0    0    0    0    0    0    0    0    0    0    0    0    0    0\n",
            "    0    0    0    0    0    0    0    0    0    0    0    0    0    0\n",
            "    0    0    0    0    0    0    0    0    0    0    0    0    0    0\n",
            "    0    0    0    0    0    0    0    0    0    0    0    0    0    0\n",
            "    0    0    0    0    0    0    0    0    0    0    0    0    0    0\n",
            "    0    0    0    0    0    0    0    0    0    0    0    0    0    0\n",
            "    0    0    0    0    0    0    0    0    0    1 4957  325 2290   17\n",
            "  229  309  336    2]\n",
            "classifier\n"
          ]
        },
        {
          "name": "stderr",
          "output_type": "stream",
          "text": [
            "/usr/local/lib/python3.7/dist-packages/nltk/translate/bleu_score.py:490: UserWarning: \n",
            "Corpus/Sentence contains 0 counts of 2-gram overlaps.\n",
            "BLEU scores might be undesirable; use SmoothingFunction().\n",
            "  warnings.warn(_msg)\n",
            "/usr/local/lib/python3.7/dist-packages/nltk/translate/bleu_score.py:490: UserWarning: \n",
            "Corpus/Sentence contains 0 counts of 3-gram overlaps.\n",
            "BLEU scores might be undesirable; use SmoothingFunction().\n",
            "  warnings.warn(_msg)\n",
            "/usr/local/lib/python3.7/dist-packages/nltk/translate/bleu_score.py:490: UserWarning: \n",
            "Corpus/Sentence contains 0 counts of 4-gram overlaps.\n",
            "BLEU scores might be undesirable; use SmoothingFunction().\n",
            "  warnings.warn(_msg)\n"
          ]
        },
        {
          "name": "stdout",
          "output_type": "stream",
          "text": [
            "[   0    0    0    0    0    0    0    0    0    0    0    0    0    0\n",
            "    0    0    0    0    0    0    0    0    0    0    0    0    0    0\n",
            "    0    0    0    0    0    0    0    0    0    0    0    0    0    0\n",
            "    0    0    0    0    0    0    0    0    0    0    0    0    0    0\n",
            "    0    0    0    0    0    0    0    0    0    0    0    0    0    0\n",
            "    0    0    0    0    0    0    0    0    0    0    0    0    0    0\n",
            "    0    0    0    0    0    0    0    0    0    0    0    0    0    0\n",
            "    0    0    0    0    0    0    0    0    0    0    0    0    0    0\n",
            "    0    0    0    0    0    0    0    0    0    0    0    0    0    0\n",
            "    0    0    0    0    0    0    0    0    0    0    0    0    0    0\n",
            "    0    0    0    0    0    0    0    0    0    0    0    0    0    0\n",
            "    0    0    0    0    0    0    0    0    0    0    0    0    0    0\n",
            "    0    0    0    0    0    0    0    0    1  548  135   29   10 2134\n",
            "   82 1379  135  140   10   25  449   45  320   82   79  870   11    3\n",
            " 1360  369 2760    2]\n",
            "classifier\n",
            "[   0    0    0    0    0    0    0    0    0    0    0    0    0    0\n",
            "    0    0    0    0    0    0    0    0    0    0    0    0    0    0\n",
            "    0    0    0    0    0    0    0    0    0    0    0    0    0    0\n",
            "    0    0    0    0    0    0    0    0    0    0    0    0    0    0\n",
            "    0    0    0    0    0    0    0    0    0    0    0    0    0    0\n",
            "    0    0    0    0    0    0    0    0    0    0    0    0    0    0\n",
            "    0    0    0    0    0    0    0    0    0    0    0    0    0    0\n",
            "    0    0    0    0    0    0    0    0    0    0    0    0    0    0\n",
            "    0    0    0    0    0    0    0    0    0    0    0    0    0    0\n",
            "    0    0    0    0    0    0    0    0    0    0    0    0    0    0\n",
            "    0    0    0    0    0    0    0    0    0    0    0    0    0    0\n",
            "    0    0    0    0    0    0    0    0    0    0    0    0    0    0\n",
            "    0    0    0    0    0    0    0    0    0    0    0    0    0    0\n",
            "    0    0    0    1  187   75   87  107    4  208   30    3   62  177\n",
            "   16   12 3290    2]\n",
            "classifier\n",
            "[   0    0    0    0    0    0    0    0    0    0    0    0    0    0\n",
            "    0    0    0    0    0    0    0    0    0    0    0    0    0    0\n",
            "    0    0    0    0    0    0    0    0    0    0    0    0    0    0\n",
            "    0    0    0    0    0    0    0    0    0    0    0    0    0    0\n",
            "    0    0    0    0    0    0    0    0    0    0    0    0    0    0\n",
            "    0    0    0    0    0    0    0    0    0    0    0    0    0    0\n",
            "    0    0    0    0    0    0    0    0    0    0    0    0    0    0\n",
            "    0    0    0    0    0    0    0    0    0    0    0    0    0    0\n",
            "    0    0    0    0    0    0    0    0    0    0    0    0    0    0\n",
            "    0    0    0    0    0    0    0    0    0    0    0    0    0    0\n",
            "    0    0    0    0    0    0    0    0    0    0    0    0    0    0\n",
            "    0    0    0    0    0    0    0    0    0    0    0    0    0    0\n",
            "    0    0    0    0    0    0    0    0    0    0    0    0    0    0\n",
            "    0    0    0    0    0    0    0    0    1  279  136  182  161    5\n",
            " 1807  411   11    2]\n",
            "classifier\n",
            "[   0    0    0    0    0    0    0    0    0    0    0    0    0    0\n",
            "    0    0    0    0    0    0    0    0    0    0    0    0    0    0\n",
            "    0    0    0    0    0    0    0    0    0    0    0    0    0    0\n",
            "    0    0    0    0    0    0    0    0    0    0    0    0    0    0\n",
            "    0    0    0    0    0    0    0    0    0    0    0    0    0    0\n",
            "    0    0    0    0    0    0    0    0    0    0    0    0    0    0\n",
            "    0    0    0    0    0    0    0    0    0    0    0    0    0    0\n",
            "    0    0    0    0    0    0    0    0    0    0    0    0    0    0\n",
            "    0    0    0    0    0    0    0    0    0    0    0    0    0    0\n",
            "    0    0    0    0    0    0    0    0    0    0    0    0    0    0\n",
            "    0    0    0    0    0    0    0    0    0    0    0    0    0    0\n",
            "    0    0    0    0    0    0    0    0    0    0    0    0    0    0\n",
            "    0    0    0    0    0    0    1   79 1263   10   40   16  311   78\n",
            "   10   86    4  230  919   73   18 4138   44 2423   21  583 1259  176\n",
            "  132   19  160    2]\n",
            "classifier\n",
            "[   0    0    0    0    0    0    0    0    0    0    0    0    0    0\n",
            "    0    0    0    0    0    0    0    0    0    0    0    0    0    0\n",
            "    0    0    0    0    0    0    0    0    0    0    0    0    0    0\n",
            "    0    0    0    0    0    0    0    0    0    0    0    0    0    0\n",
            "    0    0    0    0    0    0    0    0    0    0    0    0    0    0\n",
            "    0    0    0    0    0    0    0    0    0    0    0    0    0    0\n",
            "    0    0    0    0    0    0    0    0    0    0    0    0    0    0\n",
            "    0    0    0    0    0    0    0    0    0    0    0    0    0    0\n",
            "    0    0    0    0    0    0    0    0    0    0    0    0    0    0\n",
            "    0    0    0    0    0    0    0    0    0    0    0    0    0    0\n",
            "    0    0    0    0    0    0    0    0    0    0    0    0    0    0\n",
            "    0    0    0    0    0    0    0    0    0    0    0    0    0    0\n",
            "    0    0    0    0    0    0    0    0    0    0    0    0    0    1\n",
            "   35   80   22  535   11   14  140  503 1507  200  532  140   18  777\n",
            "    7  505  191    2]\n",
            "classifier\n",
            "[   0    0    0    0    0    0    0    0    0    0    0    0    0    0\n",
            "    0    0    0    0    0    0    0    0    0    0    0    0    0    0\n",
            "    0    0    0    0    0    0    0    0    0    0    0    0    0    0\n",
            "    0    0    0    0    0    0    0    0    0    0    0    0    0    0\n",
            "    0    0    0    0    0    0    0    0    0    0    0    0    0    0\n",
            "    0    0    0    0    0    0    0    0    0    0    0    0    0    0\n",
            "    0    0    0    0    0    0    0    0    0    0    0    0    0    0\n",
            "    0    0    0    0    0    0    0    0    0    0    0    0    0    0\n",
            "    0    0    0    0    0    0    0    0    0    0    0    0    0    0\n",
            "    0    0    0    0    0    0    0    0    0    0    0    0    0    0\n",
            "    0    0    0    0    0    0    0    0    0    0    0    0    0    0\n",
            "    0    0    0    0    0    0    0    0    0    0    0    0    0    0\n",
            "    0    0    0    0    0    0    0    0    0    1    5   60  120    5\n",
            "   97    6    9    3  178  248  597   35 5288   49  431   81    3  249\n",
            "  411  117  695    2]\n",
            "classifier\n",
            "[  0   0   0   0   0   0   0   0   0   0   0   0   0   0   0   0   0   0\n",
            "   0   0   0   0   0   0   0   0   0   0   0   0   0   0   0   0   0   0\n",
            "   0   0   0   0   0   0   0   0   0   0   0   0   0   0   0   0   0   0\n",
            "   0   0   0   0   0   0   0   0   0   0   0   0   0   0   0   0   0   0\n",
            "   0   0   0   0   0   0   0   0   0   0   0   0   0   0   0   0   0   0\n",
            "   0   0   0   0   0   0   0   0   0   0   0   0   0   0   0   0   0   0\n",
            "   0   0   0   0   0   0   0   0   0   0   0   0   0   0   0   0   0   0\n",
            "   0   0   0   0   0   0   0   0   0   0   0   0   0   0   0   0   0   0\n",
            "   0   0   0   0   0   0   0   0   0   0   0   0   0   0   0   0   0   0\n",
            "   0   0   0   0   0   0   0   0   0   0   0   0   0   0   0   0   0   0\n",
            "   0   0   0   0   0   0   0   0   0   0   0   1 889 171 771 171 771 134\n",
            " 231   2]\n",
            "classifier\n",
            "[   0    0    0    0    0    0    0    0    0    0    0    0    0    0\n",
            "    0    0    0    0    0    0    0    0    0    0    0    0    0    0\n",
            "    0    0    0    0    0    0    0    0    0    0    0    0    0    0\n",
            "    0    0    0    0    0    0    0    0    0    0    0    0    0    0\n",
            "    0    0    0    0    0    0    0    0    0    0    0    0    0    0\n",
            "    0    0    0    0    0    0    0    0    0    0    0    0    0    0\n",
            "    0    0    0    0    0    0    0    0    0    0    0    0    0    0\n",
            "    0    0    0    0    0    0    0    0    0    0    0    0    0    0\n",
            "    0    0    0    0    0    0    0    0    0    0    0    0    0    0\n",
            "    0    0    0    0    0    0    0    0    0    0    0    0    0    0\n",
            "    0    0    0    0    0    0    0    0    0    0    0    0    0    0\n",
            "    0    0    0    0    0    0    0    0    0    0    0    0    0    0\n",
            "    0    0    0    0    0    0    0    0    0    1   64 3202  800  732\n",
            "   23  169  677  325   45   64  828 1749   83    3   50   97   73   26\n",
            " 4789   17  618    2]\n",
            "classifier\n",
            "[   0    0    0    0    0    0    0    0    0    0    0    0    0    0\n",
            "    0    0    0    0    0    0    0    0    0    0    0    0    0    0\n",
            "    0    0    0    0    0    0    0    0    0    0    0    0    0    0\n",
            "    0    0    0    0    0    0    0    0    0    0    0    0    0    0\n",
            "    0    0    0    0    0    0    0    0    0    0    0    0    0    0\n",
            "    0    0    0    0    0    0    0    0    0    0    0    0    0    0\n",
            "    0    0    0    0    0    0    0    0    0    0    0    0    0    0\n",
            "    0    0    0    0    0    0    0    0    0    0    0    0    0    0\n",
            "    0    0    0    0    0    0    0    0    0    0    0    0    0    0\n",
            "    0    0    0    0    0    0    0    0    0    0    0    0    0    0\n",
            "    0    0    0    0    0    0    0    0    0    0    0    0    0    0\n",
            "    0    0    0    0    0    0    0    0    0    0    0    0    0    0\n",
            "    0    0    0    0    0    0    0    0    0    0    0    1  296  389\n",
            "    9   27    7    6  874 1029   17   32 3377 3260   32  535   21 1790\n",
            "   19  803  496    2]\n",
            "classifier\n",
            "[   0    0    0    0    0    0    0    0    0    0    0    0    0    0\n",
            "    0    0    0    0    0    0    0    0    0    0    0    0    0    0\n",
            "    0    0    0    0    0    0    0    0    0    0    0    0    0    0\n",
            "    0    0    0    0    0    0    0    0    0    0    0    0    0    0\n",
            "    0    0    0    0    0    0    0    0    0    0    0    0    0    0\n",
            "    0    0    0    0    0    0    0    0    0    0    0    0    0    0\n",
            "    0    0    0    0    0    0    0    0    0    0    0    0    0    0\n",
            "    0    0    0    0    0    0    0    0    0    0    0    0    0    0\n",
            "    0    0    0    0    0    0    0    0    0    0    0    0    0    0\n",
            "    0    0    0    0    0    0    0    0    0    0    0    0    0    0\n",
            "    0    0    0    0    0    0    0    0    0    0    0    0    0    0\n",
            "    0    0    0    0    0    0    0    0    0    0    0    0    0    0\n",
            "    0    0    0    0    0    0    0    0    0    0    0    0    0    0\n",
            "    0    0    0    0    0    0    0    0    0    0    1    6    9  614\n",
            " 1080   54  429    2]\n",
            "classifier\n",
            "[  0   0   0   0   0   0   0   0   0   0   0   0   0   0   0   0   0   0\n",
            "   0   0   0   0   0   0   0   0   0   0   0   0   0   0   0   0   0   0\n",
            "   0   0   0   0   0   0   0   0   0   0   0   0   0   0   0   0   0   0\n",
            "   0   0   0   0   0   0   0   0   0   0   0   0   0   0   0   0   0   0\n",
            "   0   0   0   0   0   0   0   0   0   0   0   0   0   0   0   0   0   0\n",
            "   0   0   0   0   0   0   0   0   0   0   0   0   0   0   0   0   0   0\n",
            "   0   0   0   0   0   0   0   0   0   0   0   0   0   0   0   0   0   0\n",
            "   0   0   0   0   0   0   0   0   0   0   0   0   0   0   0   0   0   0\n",
            "   0   0   0   0   0   0   0   0   0   0   0   0   0   0   0   0   0   0\n",
            "   0   0   0   0   0   0   0   0   0   0   0   0   0   0   0   0   0   0\n",
            "   0   0   0   0   0   0   1 121  54  10 127   6 390 121  54  10 684   3\n",
            " 249   2]\n",
            "classifier\n",
            "[   0    0    0    0    0    0    0    0    0    0    0    0    0    0\n",
            "    0    0    0    0    0    0    0    0    0    0    0    0    0    0\n",
            "    0    0    0    0    0    0    0    0    0    0    0    0    0    0\n",
            "    0    0    0    0    0    0    0    0    0    0    0    0    0    0\n",
            "    0    0    0    0    0    0    0    0    0    0    0    0    0    0\n",
            "    0    0    0    0    0    0    0    0    0    0    0    0    0    0\n",
            "    0    0    0    0    0    0    0    0    0    0    0    0    0    0\n",
            "    0    0    0    0    0    0    0    0    0    0    0    0    0    0\n",
            "    0    0    0    0    0    0    0    0    0    0    0    0    0    0\n",
            "    0    0    0    0    0    0    0    0    0    0    0    0    0    0\n",
            "    0    0    0    0    0    0    0    0    0    0    0    0    0    0\n",
            "    0    0    0    0    0    0    0    0    0    0    0    0    0    0\n",
            "    0    0    0    0    0    0    0    0    0    0    0    1    5  167\n",
            "  149  256  131   39    3  638  157  967   74  326   79  130  146   17\n",
            "  230    9 4224    2]\n",
            "classifier\n",
            "[   0    0    0    0    0    0    0    0    0    0    0    0    0    0\n",
            "    0    0    0    0    0    0    0    0    0    0    0    0    0    0\n",
            "    0    0    0    0    0    0    0    0    0    0    0    0    0    0\n",
            "    0    0    0    0    0    0    0    0    0    0    0    0    0    0\n",
            "    0    0    0    0    0    0    0    0    0    0    0    0    0    0\n",
            "    0    0    0    0    0    0    0    0    0    0    0    0    0    0\n",
            "    0    0    0    0    0    0    0    0    0    0    0    0    0    0\n",
            "    0    0    0    0    0    0    0    0    0    0    0    0    0    0\n",
            "    0    0    0    0    0    0    0    0    0    0    0    0    0    0\n",
            "    0    0    0    0    0    0    0    0    0    0    0    0    0    0\n",
            "    0    0    0    0    0    0    0    0    0    0    0    0    0    0\n",
            "    0    0    0    0    0    0    0    0    0    0    0    0    0    0\n",
            "    0    0    0    0    0    0    0    0    0    1    5   60  119  643\n",
            "    6  410 1199    9   28 1948   21   34   10 1027  868  156   44   43\n",
            "  274 1881  586    2]\n",
            "classifier\n",
            "[  0   0   0   0   0   0   0   0   0   0   0   0   0   0   0   0   0   0\n",
            "   0   0   0   0   0   0   0   0   0   0   0   0   0   0   0   0   0   0\n",
            "   0   0   0   0   0   0   0   0   0   0   0   0   0   0   0   0   0   0\n",
            "   0   0   0   0   0   0   0   0   0   0   0   0   0   0   0   0   0   0\n",
            "   0   0   0   0   0   0   0   0   0   0   0   0   0   0   0   0   0   0\n",
            "   0   0   0   0   0   0   0   0   0   0   0   0   0   0   0   0   0   0\n",
            "   0   0   0   0   0   0   0   0   0   0   0   0   0   0   0   0   0   0\n",
            "   0   0   0   0   0   0   0   0   0   0   0   0   0   0   0   0   0   0\n",
            "   0   0   0   0   0   0   0   0   0   0   0   0   0   0   0   0   0   0\n",
            "   0   0   0   0   0   0   0   0   0   0   0   0   0   0   0   0   0   0\n",
            "   0   0   0   0   0   1   5 570 100 225 813 418   9  12 849   7  35 253\n",
            " 376   2]\n",
            "classifier\n",
            "[   0    0    0    0    0    0    0    0    0    0    0    0    0    0\n",
            "    0    0    0    0    0    0    0    0    0    0    0    0    0    0\n",
            "    0    0    0    0    0    0    0    0    0    0    0    0    0    0\n",
            "    0    0    0    0    0    0    0    0    0    0    0    0    0    0\n",
            "    0    0    0    0    0    0    0    0    0    0    0    0    0    0\n",
            "    0    0    0    0    0    0    0    0    0    0    0    0    0    0\n",
            "    0    0    0    0    0    0    0    0    0    0    0    0    0    0\n",
            "    0    0    0    0    0    0    0    0    0    0    0    0    0    0\n",
            "    0    0    0    0    0    0    0    0    0    0    0    0    0    0\n",
            "    0    0    0    0    0    0    0    0    0    0    0    0    0    0\n",
            "    0    0    0    0    0    0    0    0    0    0    0    0    0    0\n",
            "    0    0    0    0    0    0    0    0    0    0    0    0    0    0\n",
            "    0    0    0    0    0    0    0    0    0    0    0    0    0    0\n",
            "    0    0    0    1  597    3  443 2482   31   18 1911   92    3 3447\n",
            "  932  253  905    2]\n",
            "classifier\n",
            "[   0    0    0    0    0    0    0    0    0    0    0    0    0    0\n",
            "    0    0    0    0    0    0    0    0    0    0    0    0    0    0\n",
            "    0    0    0    0    0    0    0    0    0    0    0    0    0    0\n",
            "    0    0    0    0    0    0    0    0    0    0    0    0    0    0\n",
            "    0    0    0    0    0    0    0    0    0    0    0    0    0    0\n",
            "    0    0    0    0    0    0    0    0    0    0    0    0    0    0\n",
            "    0    0    0    0    0    0    0    0    0    0    0    0    0    0\n",
            "    0    0    0    0    0    0    0    0    0    0    0    0    0    0\n",
            "    0    0    0    0    0    0    0    0    0    0    0    0    0    0\n",
            "    0    0    0    0    0    0    0    0    0    0    0    0    0    0\n",
            "    0    0    0    0    0    0    0    0    0    0    0    0    0    0\n",
            "    0    0    0    0    0    0    0    0    0    0    0    0    0    0\n",
            "    0    0    0    0    0    0    0    0    0    0    0    0    0    0\n",
            "    1  135  646 3343    8    5   77   69  107    4   19    3  224  471\n",
            "   95 1194  225    2]\n",
            "classifier\n",
            "[   0    0    0    0    0    0    0    0    0    0    0    0    0    0\n",
            "    0    0    0    0    0    0    0    0    0    0    0    0    0    0\n",
            "    0    0    0    0    0    0    0    0    0    0    0    0    0    0\n",
            "    0    0    0    0    0    0    0    0    0    0    0    0    0    0\n",
            "    0    0    0    0    0    0    0    0    0    0    0    0    0    0\n",
            "    0    0    0    0    0    0    0    0    0    0    0    0    0    0\n",
            "    0    0    0    0    0    0    0    0    0    0    0    0    0    0\n",
            "    0    0    0    0    0    0    0    0    0    0    0    0    0    0\n",
            "    0    0    0    0    0    0    0    0    0    0    0    0    0    0\n",
            "    0    0    0    0    0    0    0    0    0    0    0    0    0    0\n",
            "    0    0    0    0    0    0    0    0    0    0    0    0    0    0\n",
            "    0    0    0    0    0    0    0    0    0    0    0    0    0    0\n",
            "    0    0    0    0    0    1  115  712 1409   70  310   18  388    7\n",
            "   70   52 1240   67   11   93  796    8   13  608 1281   52   29  722\n",
            "    6 1082  210    2]\n",
            "classifier\n",
            "[   0    0    0    0    0    0    0    0    0    0    0    0    0    0\n",
            "    0    0    0    0    0    0    0    0    0    0    0    0    0    0\n",
            "    0    0    0    0    0    0    0    0    0    0    0    0    0    0\n",
            "    0    0    0    0    0    0    0    0    0    0    0    0    0    0\n",
            "    0    0    0    0    0    0    0    0    0    0    0    0    0    0\n",
            "    0    0    0    0    0    0    0    0    0    0    0    0    0    0\n",
            "    0    0    0    0    0    0    0    0    0    0    0    0    0    0\n",
            "    0    0    0    0    0    0    0    0    0    0    0    0    0    0\n",
            "    0    0    0    0    0    0    0    0    0    0    0    0    0    0\n",
            "    0    0    0    0    0    0    0    0    0    0    0    0    0    0\n",
            "    0    0    0    0    0    0    0    0    0    0    0    0    0    0\n",
            "    0    0    0    0    0    0    0    0    0    0    0    0    0    0\n",
            "    0    0    0    0    0    0    0    0    0    0    0    0    0    0\n",
            "    0    0    0    0    0    0    1  103    8  229  164 1839   34  301\n",
            "  659  103   67    2]\n",
            "classifier\n",
            "[   0    0    0    0    0    0    0    0    0    0    0    0    0    0\n",
            "    0    0    0    0    0    0    0    0    0    0    0    0    0    0\n",
            "    0    0    0    0    0    0    0    0    0    0    0    0    0    0\n",
            "    0    0    0    0    0    0    0    0    0    0    0    0    0    0\n",
            "    0    0    0    0    0    0    0    0    0    0    0    0    0    0\n",
            "    0    0    0    0    0    0    0    0    0    0    0    0    0    0\n",
            "    0    0    0    0    0    0    0    0    0    0    0    0    0    0\n",
            "    0    0    0    0    0    0    0    0    0    0    0    0    0    0\n",
            "    0    0    0    0    0    0    0    0    0    0    0    0    0    0\n",
            "    0    0    0    0    0    0    0    0    0    0    0    0    0    0\n",
            "    0    0    0    0    0    0    0    0    0    0    0    0    0    0\n",
            "    0    0    0    0    0    0    0    0    0    0    0    0    0    0\n",
            "    0    0    0    0    0    0    0    0    0    0    0    0    0    0\n",
            "    0    0    0    0    0    0    0    0    1  103    8  229  164 1839\n",
            "   34  301  659    2]\n",
            "classifier\n",
            "[   0    0    0    0    0    0    0    0    0    0    0    0    0    0\n",
            "    0    0    0    0    0    0    0    0    0    0    0    0    0    0\n",
            "    0    0    0    0    0    0    0    0    0    0    0    0    0    0\n",
            "    0    0    0    0    0    0    0    0    0    0    0    0    0    0\n",
            "    0    0    0    0    0    0    0    0    0    0    0    0    0    0\n",
            "    0    0    0    0    0    0    0    0    0    0    0    0    0    0\n",
            "    0    0    0    0    0    0    0    0    0    0    0    0    0    0\n",
            "    0    0    0    0    0    0    0    0    0    0    0    0    0    0\n",
            "    0    0    0    0    0    0    0    0    0    0    0    0    0    0\n",
            "    0    0    0    0    0    0    0    0    0    0    0    0    0    0\n",
            "    0    0    0    0    0    0    0    0    0    0    0    0    0    0\n",
            "    0    0    0    0    0    0    0    0    0    0    0    0    0    0\n",
            "    0    0    0    0    0    0    0    0    0    0    0    0    0    0\n",
            "    0    0    0    0    0    0    1  618   46   24  236  237   28  157\n",
            " 4065  437    3    2]\n",
            "classifier\n",
            "[  0   0   0   0   0   0   0   0   0   0   0   0   0   0   0   0   0   0\n",
            "   0   0   0   0   0   0   0   0   0   0   0   0   0   0   0   0   0   0\n",
            "   0   0   0   0   0   0   0   0   0   0   0   0   0   0   0   0   0   0\n",
            "   0   0   0   0   0   0   0   0   0   0   0   0   0   0   0   0   0   0\n",
            "   0   0   0   0   0   0   0   0   0   0   0   0   0   0   0   0   0   0\n",
            "   0   0   0   0   0   0   0   0   0   0   0   0   0   0   0   0   0   0\n",
            "   0   0   0   0   0   0   0   0   0   0   0   0   0   0   0   0   0   0\n",
            "   0   0   0   0   0   0   0   0   0   0   0   0   0   0   0   0   0   0\n",
            "   0   0   0   0   0   0   0   0   0   0   0   0   0   0   0   0   0   0\n",
            "   0   0   0   0   0   0   0   0   0   0   0   0   0   0   0   0   0   0\n",
            "   0   0   0   0   0   0   0   0   0   0   0   1   5  95 933  14  75 610\n",
            " 803   2]\n",
            "classifier\n",
            "[   0    0    0    0    0    0    0    0    0    0    0    0    0    0\n",
            "    0    0    0    0    0    0    0    0    0    0    0    0    0    0\n",
            "    0    0    0    0    0    0    0    0    0    0    0    0    0    0\n",
            "    0    0    0    0    0    0    0    0    0    0    0    0    0    0\n",
            "    0    0    0    0    0    0    0    0    0    0    0    0    0    0\n",
            "    0    0    0    0    0    0    0    0    0    0    0    0    0    0\n",
            "    0    0    0    0    0    0    0    0    0    0    0    0    0    0\n",
            "    0    0    0    0    0    0    0    0    0    0    0    0    0    0\n",
            "    0    0    0    0    0    0    0    0    0    0    0    0    0    0\n",
            "    0    0    0    0    0    0    0    0    0    0    0    0    0    0\n",
            "    0    0    0    0    0    0    0    0    0    0    0    0    0    0\n",
            "    0    0    0    0    0    0    0    0    0    0    0    0    0    0\n",
            "    0    0    0    0    0    0    0    0    0    0    0    0    0    0\n",
            "    0    0    0    0    0    0    0    0    1   81  399 3331 1268   16\n",
            "   20   63   11    2]\n",
            "classifier\n",
            "[   0    0    0    0    0    0    0    0    0    0    0    0    0    0\n",
            "    0    0    0    0    0    0    0    0    0    0    0    0    0    0\n",
            "    0    0    0    0    0    0    0    0    0    0    0    0    0    0\n",
            "    0    0    0    0    0    0    0    0    0    0    0    0    0    0\n",
            "    0    0    0    0    0    0    0    0    0    0    0    0    0    0\n",
            "    0    0    0    0    0    0    0    0    0    0    0    0    0    0\n",
            "    0    0    0    0    0    0    0    0    0    0    0    0    0    0\n",
            "    0    0    0    0    0    0    0    0    0    0    0    0    0    0\n",
            "    0    0    0    0    0    0    0    0    0    0    0    0    0    0\n",
            "    0    0    0    0    0    0    0    0    0    0    0    0    0    0\n",
            "    0    0    0    0    0    0    0    0    0    0    0    0    0    0\n",
            "    0    0    0    0    0    0    0    0    0    0    0    0    0    0\n",
            "    0    0    0    0    0    0    0    1 2760  325   44   29   96  190\n",
            " 1083  203   49  182 6025 5955    5   67  169  203  238   98   16  289\n",
            "   26  190  276    2]\n",
            "classifier\n",
            "[   0    0    0    0    0    0    0    0    0    0    0    0    0    0\n",
            "    0    0    0    0    0    0    0    0    0    0    0    0    0    0\n",
            "    0    0    0    0    0    0    0    0    0    0    0    0    0    0\n",
            "    0    0    0    0    0    0    0    0    0    0    0    0    0    0\n",
            "    0    0    0    0    0    0    0    0    0    0    0    0    0    0\n",
            "    0    0    0    0    0    0    0    0    0    0    0    0    0    0\n",
            "    0    0    0    0    0    0    0    0    0    0    0    0    0    0\n",
            "    0    0    0    0    0    0    0    0    0    0    0    0    0    0\n",
            "    0    0    0    0    0    0    0    0    0    0    0    0    0    0\n",
            "    0    0    0    0    0    0    0    0    0    0    0    0    0    0\n",
            "    0    0    0    0    0    0    0    0    0    0    0    0    0    0\n",
            "    0    0    0    0    0    0    0    0    0    0    0    0    0    0\n",
            "    0    0    0    0    0    0    0    0    0    0    0    0    0    0\n",
            "    0    0    0    0    0    1 4099  923    6 1902 1384    9  433  302\n",
            "  243 1267  656    2]\n",
            "classifier\n",
            "[   0    0    0    0    0    0    0    0    0    0    0    0    0    0\n",
            "    0    0    0    0    0    0    0    0    0    0    0    0    0    0\n",
            "    0    0    0    0    0    0    0    0    0    0    0    0    0    0\n",
            "    0    0    0    0    0    0    0    0    0    0    0    0    0    0\n",
            "    0    0    0    0    0    0    0    0    0    0    0    0    0    0\n",
            "    0    0    0    0    0    0    0    0    0    0    0    0    0    0\n",
            "    0    0    0    0    0    0    0    0    0    0    0    0    0    0\n",
            "    0    0    0    0    0    0    0    0    0    0    0    0    0    0\n",
            "    0    0    0    0    0    0    0    0    0    0    0    0    0    0\n",
            "    0    0    0    0    0    0    0    0    0    0    0    0    0    0\n",
            "    0    0    0    0    0    0    0    0    0    0    0    0    0    0\n",
            "    0    0    0    0    0    0    0    0    0    0    0    0    0    0\n",
            "    0    0    0    0    0    0    0    0    0    0    0    1   16    3\n",
            " 4528   45   44  935 1907    7  749 2558    9 2601   45 5080   23    6\n",
            "  429   11  103    2]\n",
            "classifier\n",
            "[   0    0    0    0    0    0    0    0    0    0    0    0    0    0\n",
            "    0    0    0    0    0    0    0    0    0    0    0    0    0    0\n",
            "    0    0    0    0    0    0    0    0    0    0    0    0    0    0\n",
            "    0    0    0    0    0    0    0    0    0    0    0    0    0    0\n",
            "    0    0    0    0    0    0    0    0    0    0    0    0    0    0\n",
            "    0    0    0    0    0    0    0    0    0    0    0    0    0    0\n",
            "    0    0    0    0    0    0    0    0    0    0    0    0    0    0\n",
            "    0    0    0    0    0    0    0    0    0    0    0    0    0    0\n",
            "    0    0    0    0    0    0    0    0    0    0    0    0    0    0\n",
            "    0    0    0    0    0    0    0    0    0    0    0    0    0    0\n",
            "    0    0    0    0    0    0    0    0    0    0    0    0    0    0\n",
            "    0    0    0    0    0    0    0    0    0    0    0    0    0    0\n",
            "    0    0    0    0    0    0    0    0    0    0    0    0    0    0\n",
            "    0    0    0    0    0    0    0    0    0    1  163   58   29   14\n",
            "  529    7 1841    2]\n",
            "classifier\n",
            "[   0    0    0    0    0    0    0    0    0    0    0    0    0    0\n",
            "    0    0    0    0    0    0    0    0    0    0    0    0    0    0\n",
            "    0    0    0    0    0    0    0    0    0    0    0    0    0    0\n",
            "    0    0    0    0    0    0    0    0    0    0    0    0    0    0\n",
            "    0    0    0    0    0    0    0    0    0    0    0    0    0    0\n",
            "    0    0    0    0    0    0    0    0    0    0    0    0    0    0\n",
            "    0    0    0    0    0    0    0    0    0    0    0    0    0    0\n",
            "    0    0    0    0    0    0    0    0    0    0    0    0    0    0\n",
            "    0    0    0    0    0    0    0    0    0    0    0    0    0    0\n",
            "    0    0    0    0    0    0    0    0    0    0    0    0    0    0\n",
            "    0    0    0    0    0    0    0    0    0    0    0    0    0    0\n",
            "    0    0    0    0    0    0    0    0    0    0    0    0    0    0\n",
            "    0    0    0    0    0    0    0    0    0    0    0    0    0    1\n",
            "   20  273  339  386  145    6 2080   72   41  810   39   14 2161 1823\n",
            "   11 2993  556    2]\n",
            "classifier\n",
            "[   0    0    0    0    0    0    0    0    0    0    0    0    0    0\n",
            "    0    0    0    0    0    0    0    0    0    0    0    0    0    0\n",
            "    0    0    0    0    0    0    0    0    0    0    0    0    0    0\n",
            "    0    0    0    0    0    0    0    0    0    0    0    0    0    0\n",
            "    0    0    0    0    0    0    0    0    0    0    0    0    0    0\n",
            "    0    0    0    0    0    0    0    0    0    0    0    0    0    0\n",
            "    0    0    0    0    0    0    0    0    0    0    0    0    0    0\n",
            "    0    0    0    0    0    0    0    0    0    0    0    0    0    0\n",
            "    0    0    0    0    0    0    0    0    0    0    0    0    0    0\n",
            "    0    0    0    0    0    0    0    0    0    0    0    0    0    0\n",
            "    0    0    0    0    0    0    0    0    0    0    0    0    0    0\n",
            "    0    0    0    0    0    0    0    0    0    0    0    0    0    0\n",
            "    0    0    0    0    0    0    0    0    0    1  717 6026   45   50\n",
            "  142   26    3  335 1811  847  325 1351    6 5640  116 1451  970   61\n",
            " 3129  495  104    2]\n",
            "classifier\n",
            "[   0    0    0    0    0    0    0    0    0    0    0    0    0    0\n",
            "    0    0    0    0    0    0    0    0    0    0    0    0    0    0\n",
            "    0    0    0    0    0    0    0    0    0    0    0    0    0    0\n",
            "    0    0    0    0    0    0    0    0    0    0    0    0    0    0\n",
            "    0    0    0    0    0    0    0    0    0    0    0    0    0    0\n",
            "    0    0    0    0    0    0    0    0    0    0    0    0    0    0\n",
            "    0    0    0    0    0    0    0    0    0    0    0    0    0    0\n",
            "    0    0    0    0    0    0    0    0    0    0    0    0    0    0\n",
            "    0    0    0    0    0    0    0    0    0    0    0    0    0    0\n",
            "    0    0    0    0    0    0    0    0    0    0    0    0    0    0\n",
            "    0    0    0    0    0    0    0    0    0    0    0    0    0    0\n",
            "    0    0    0    0    0    0    0    0    0    0    0    0    0    0\n",
            "    0    0    0    0    0    0    0    0    1  144    5  436   19  236\n",
            "    6    9    3 1532  464  720   16   12 1346  377 2082  373  223   10\n",
            " 2445 1985  896    2]\n",
            "classifier\n",
            "[   0    0    0    0    0    0    0    0    0    0    0    0    0    0\n",
            "    0    0    0    0    0    0    0    0    0    0    0    0    0    0\n",
            "    0    0    0    0    0    0    0    0    0    0    0    0    0    0\n",
            "    0    0    0    0    0    0    0    0    0    0    0    0    0    0\n",
            "    0    0    0    0    0    0    0    0    0    0    0    0    0    0\n",
            "    0    0    0    0    0    0    0    0    0    0    0    0    0    0\n",
            "    0    0    0    0    0    0    0    0    0    0    0    0    0    0\n",
            "    0    0    0    0    0    0    0    0    0    0    0    0    0    0\n",
            "    0    0    0    0    0    0    0    0    0    0    0    0    0    0\n",
            "    0    0    0    0    0    0    0    0    0    0    0    0    0    0\n",
            "    0    0    0    0    0    0    0    0    0    0    0    0    0    0\n",
            "    0    0    0    0    0    0    0    0    0    0    0    0    0    0\n",
            "    0    0    0    0    0    0    0    0    0    0    0    0    0    0\n",
            "    0    0    0    0    1  119   94   73 2810    9  181  292  717  377\n",
            "  503   20 1299    2]\n",
            "classifier\n",
            "[   0    0    0    0    0    0    0    0    0    0    0    0    0    0\n",
            "    0    0    0    0    0    0    0    0    0    0    0    0    0    0\n",
            "    0    0    0    0    0    0    0    0    0    0    0    0    0    0\n",
            "    0    0    0    0    0    0    0    0    0    0    0    0    0    0\n",
            "    0    0    0    0    0    0    0    0    0    0    0    0    0    0\n",
            "    0    0    0    0    0    0    0    0    0    0    0    0    0    0\n",
            "    0    0    0    0    0    0    0    0    0    0    0    0    0    0\n",
            "    0    0    0    0    0    0    0    0    0    0    0    0    0    0\n",
            "    0    0    0    0    0    0    0    0    0    0    0    0    0    0\n",
            "    0    0    0    0    0    0    0    0    0    0    0    0    0    0\n",
            "    0    0    0    0    0    0    0    0    0    0    0    0    0    0\n",
            "    0    0    0    0    0    0    0    0    0    0    0    0    0    0\n",
            "    0    0    0    0    0    0    0    0    0    0    0    0    0    0\n",
            "    0    0    0    0    0    1 1434 2698   92  338  274   18 1620   44\n",
            "   40 1032  144    2]\n",
            "classifier\n",
            "[   0    0    0    0    0    0    0    0    0    0    0    0    0    0\n",
            "    0    0    0    0    0    0    0    0    0    0    0    0    0    0\n",
            "    0    0    0    0    0    0    0    0    0    0    0    0    0    0\n",
            "    0    0    0    0    0    0    0    0    0    0    0    0    0    0\n",
            "    0    0    0    0    0    0    0    0    0    0    0    0    0    0\n",
            "    0    0    0    0    0    0    0    0    0    0    0    0    0    0\n",
            "    0    0    0    0    0    0    0    0    0    0    0    0    0    0\n",
            "    0    0    0    0    0    0    0    0    0    0    0    0    0    0\n",
            "    0    0    0    0    0    0    0    0    0    0    0    0    0    0\n",
            "    0    0    0    0    0    0    0    0    0    0    0    0    0    0\n",
            "    0    0    0    0    0    0    0    0    0    0    0    0    0    0\n",
            "    0    0    0    0    0    0    0    0    0    0    0    0    0    0\n",
            "    0    0    0    0    0    0    0    0    0    0    0    0    0    0\n",
            "    0    0    0    1  296 1012    5   77   13   31    6  461 3285    7\n",
            "   52 2182   36    2]\n",
            "classifier\n",
            "[   0    0    0    0    0    0    0    0    0    0    0    0    0    0\n",
            "    0    0    0    0    0    0    0    0    0    0    0    0    0    0\n",
            "    0    0    0    0    0    0    0    0    0    0    0    0    0    0\n",
            "    0    0    0    0    0    0    0    0    0    0    0    0    0    0\n",
            "    0    0    0    0    0    0    0    0    0    0    0    0    0    0\n",
            "    0    0    0    0    0    0    0    0    0    0    0    0    0    0\n",
            "    0    0    0    0    0    0    0    0    0    0    0    0    0    0\n",
            "    0    0    0    0    0    0    0    0    0    0    0    0    0    0\n",
            "    0    0    0    0    0    0    0    0    0    0    0    0    0    0\n",
            "    0    0    0    0    0    0    0    0    0    0    0    0    0    0\n",
            "    0    0    0    0    0    0    0    0    0    0    0    0    0    0\n",
            "    0    0    0    0    0    0    0    0    0    0    0    0    0    0\n",
            "    0    0    0    0    0    0    0    0    0    0    0    0    0    0\n",
            "    0    0    0    1  296 1012    5   77   13   31    6  461 3285    7\n",
            "   52 2182   36    2]\n",
            "classifier\n",
            "[   0    0    0    0    0    0    0    0    0    0    0    0    0    0\n",
            "    0    0    0    0    0    0    0    0    0    0    0    0    0    0\n",
            "    0    0    0    0    0    0    0    0    0    0    0    0    0    0\n",
            "    0    0    0    0    0    0    0    0    0    0    0    0    0    0\n",
            "    0    0    0    0    0    0    0    0    0    0    0    0    0    0\n",
            "    0    0    0    0    0    0    0    0    0    0    0    0    0    0\n",
            "    0    0    0    0    0    0    0    0    0    0    0    0    0    0\n",
            "    0    0    0    0    0    0    0    0    0    0    0    0    0    0\n",
            "    0    0    0    0    0    0    0    0    0    0    0    0    0    0\n",
            "    0    0    0    0    0    0    0    0    0    0    0    0    0    0\n",
            "    0    0    0    0    0    0    0    0    0    0    0    0    0    0\n",
            "    0    0    0    0    0    0    0    0    0    0    0    0    0    0\n",
            "    0    0    0    0    0    0    0    0    0    0    0    1    3  167\n",
            " 1589  675   64  677  325  130 6026   11   16 5888   32    6 3603   34\n",
            "   61 1547  371    2]\n",
            "classifier\n",
            "[   0    0    0    0    0    0    0    0    0    0    0    0    0    0\n",
            "    0    0    0    0    0    0    0    0    0    0    0    0    0    0\n",
            "    0    0    0    0    0    0    0    0    0    0    0    0    0    0\n",
            "    0    0    0    0    0    0    0    0    0    0    0    0    0    0\n",
            "    0    0    0    0    0    0    0    0    0    0    0    0    0    0\n",
            "    0    0    0    0    0    0    0    0    0    0    0    0    0    0\n",
            "    0    0    0    0    0    0    0    0    0    0    0    0    0    0\n",
            "    0    0    0    0    0    0    0    0    0    0    0    0    0    0\n",
            "    0    0    0    0    0    0    0    0    0    0    0    0    0    0\n",
            "    0    0    0    0    0    0    0    0    0    0    0    0    0    0\n",
            "    0    0    0    0    0    0    0    0    0    0    0    0    0    0\n",
            "    0    0    0    0    0    0    0    0    0    0    0    0    0    0\n",
            "    0    0    0    0    0    0    0    0    0    0    0    0    0    0\n",
            "    0    0    0    0    0    0    0    0    1  330    3  530 1147    8\n",
            " 1761    3 2152    2]\n",
            "classifier\n",
            "[   0    0    0    0    0    0    0    0    0    0    0    0    0    0\n",
            "    0    0    0    0    0    0    0    0    0    0    0    0    0    0\n",
            "    0    0    0    0    0    0    0    0    0    0    0    0    0    0\n",
            "    0    0    0    0    0    0    0    0    0    0    0    0    0    0\n",
            "    0    0    0    0    0    0    0    0    0    0    0    0    0    0\n",
            "    0    0    0    0    0    0    0    0    0    0    0    0    0    0\n",
            "    0    0    0    0    0    0    0    0    0    0    0    0    0    0\n",
            "    0    0    0    0    0    0    0    0    0    0    0    0    0    0\n",
            "    0    0    0    0    0    0    0    0    0    0    0    0    0    0\n",
            "    0    0    0    0    0    0    0    0    0    0    0    0    0    0\n",
            "    0    0    0    0    0    0    0    0    0    0    0    0    0    0\n",
            "    0    0    0    0    0    0    0    0    0    0    0    0    0    0\n",
            "    0    0    0    0    0    0    0    0    0    1  709 5039    9    5\n",
            "   27 1225   14   27 1053  362  117 5176  361    8   20   57 1065   10\n",
            "   29 2558    9    2]\n",
            "classifier\n",
            "[   0    0    0    0    0    0    0    0    0    0    0    0    0    0\n",
            "    0    0    0    0    0    0    0    0    0    0    0    0    0    0\n",
            "    0    0    0    0    0    0    0    0    0    0    0    0    0    0\n",
            "    0    0    0    0    0    0    0    0    0    0    0    0    0    0\n",
            "    0    0    0    0    0    0    0    0    0    0    0    0    0    0\n",
            "    0    0    0    0    0    0    0    0    0    0    0    0    0    0\n",
            "    0    0    0    0    0    0    0    0    0    0    0    0    0    0\n",
            "    0    0    0    0    0    0    0    0    0    0    0    0    0    0\n",
            "    0    0    0    0    0    0    0    0    0    0    0    0    0    0\n",
            "    0    0    0    0    0    0    0    0    0    0    0    0    0    0\n",
            "    0    0    0    0    0    0    0    0    0    0    0    0    0    0\n",
            "    0    0    0    0    0    0    0    0    0    0    0    0    0    0\n",
            "    0    1    5  671  169 1050 1519   37   37 1970   32    6 1720 1051\n",
            "   11    3  161 1124   14    5 1371   16   83   37   37   83  136  406\n",
            "   37   37  845    2]\n",
            "classifier\n",
            "[   0    0    0    0    0    0    0    0    0    0    0    0    0    0\n",
            "    0    0    0    0    0    0    0    0    0    0    0    0    0    0\n",
            "    0    0    0    0    0    0    0    0    0    0    0    0    0    0\n",
            "    0    0    0    0    0    0    0    0    0    0    0    0    0    0\n",
            "    0    0    0    0    0    0    0    0    0    0    0    0    0    0\n",
            "    0    0    0    0    0    0    0    0    0    0    0    0    0    0\n",
            "    0    0    0    0    0    0    0    0    0    0    0    0    0    0\n",
            "    0    0    0    0    0    0    0    0    0    0    0    0    0    0\n",
            "    0    0    0    0    0    0    0    0    0    0    0    0    0    0\n",
            "    0    0    0    0    0    0    0    0    0    0    0    0    0    0\n",
            "    0    0    0    0    0    0    0    0    0    0    0    0    0    0\n",
            "    0    0    0    0    0    0    0    0    0    0    0    0    0    0\n",
            "    1  604  171  604   90 5968 5969    8 1633   21   41  895   54  407\n",
            "    5   95    5   47  873   13  517    4  241    3  143   16 5970  218\n",
            "   49    6  281    2]\n",
            "classifier\n",
            "[   0    0    0    0    0    0    0    0    0    0    0    0    0    0\n",
            "    0    0    0    0    0    0    0    0    0    0    0    0    0    0\n",
            "    0    0    0    0    0    0    0    0    0    0    0    0    0    0\n",
            "    0    0    0    0    0    0    0    0    0    0    0    0    0    0\n",
            "    0    0    0    0    0    0    0    0    0    0    0    0    0    0\n",
            "    0    0    0    0    0    0    0    0    0    0    0    0    0    0\n",
            "    0    0    0    0    0    0    0    0    0    0    0    0    0    0\n",
            "    0    0    0    0    0    0    0    0    0    0    0    0    0    0\n",
            "    0    0    0    0    0    0    0    0    0    0    0    0    0    0\n",
            "    0    0    0    0    0    0    0    0    0    0    0    0    0    0\n",
            "    0    0    0    0    0    0    0    0    0    0    0    0    0    0\n",
            "    0    0    0    0    0    0    0    0    0    0    0    0    0    0\n",
            "    0    0    0    0    0    0    0    0    0    0    0    0    0    0\n",
            "    0    0    0    0    0    0    0    0    1  267   19   16   14 1569\n",
            " 3723   11 1932    2]\n",
            "classifier\n",
            "[   0    0    0    0    0    0    0    0    0    0    0    0    0    0\n",
            "    0    0    0    0    0    0    0    0    0    0    0    0    0    0\n",
            "    0    0    0    0    0    0    0    0    0    0    0    0    0    0\n",
            "    0    0    0    0    0    0    0    0    0    0    0    0    0    0\n",
            "    0    0    0    0    0    0    0    0    0    0    0    0    0    0\n",
            "    0    0    0    0    0    0    0    0    0    0    0    0    0    0\n",
            "    0    0    0    0    0    0    0    0    0    0    0    0    0    0\n",
            "    0    0    0    0    0    0    0    0    0    0    0    0    0    0\n",
            "    0    0    0    0    0    0    0    0    0    0    0    0    0    0\n",
            "    0    0    0    0    0    0    0    0    0    0    0    0    0    0\n",
            "    0    0    0    0    0    0    0    0    0    0    0    0    0    0\n",
            "    0    0    0    0    0    0    0    0    0    0    0    0    0    0\n",
            "    0    0    0    0    0    0    0    0    0    0    0    0    0    1\n",
            "  206 1496    3 1314    4 2124   26 1295   21   22  196  116   68 5783\n",
            "   15  246  388    2]\n",
            "classifier\n",
            "[   0    0    0    0    0    0    0    0    0    0    0    0    0    0\n",
            "    0    0    0    0    0    0    0    0    0    0    0    0    0    0\n",
            "    0    0    0    0    0    0    0    0    0    0    0    0    0    0\n",
            "    0    0    0    0    0    0    0    0    0    0    0    0    0    0\n",
            "    0    0    0    0    0    0    0    0    0    0    0    0    0    0\n",
            "    0    0    0    0    0    0    0    0    0    0    0    0    0    0\n",
            "    0    0    0    0    0    0    0    0    0    0    0    0    0    0\n",
            "    0    0    0    0    0    0    0    0    0    0    0    0    0    0\n",
            "    0    0    0    0    0    0    0    0    0    0    0    0    0    0\n",
            "    0    0    0    0    0    0    0    0    0    0    0    0    0    0\n",
            "    0    0    0    0    0    0    0    0    0    0    0    0    0    0\n",
            "    0    0    0    0    0    0    0    0    0    0    0    0    0    0\n",
            "    0    0    0    0    0    0    0    0    0    0    0    0    0    0\n",
            "    0    0    0    1   70    3  293  187   12 2018   86   17    4  349\n",
            " 4384   11    3    2]\n",
            "classifier\n",
            "[   0    0    0    0    0    0    0    0    0    0    0    0    0    0\n",
            "    0    0    0    0    0    0    0    0    0    0    0    0    0    0\n",
            "    0    0    0    0    0    0    0    0    0    0    0    0    0    0\n",
            "    0    0    0    0    0    0    0    0    0    0    0    0    0    0\n",
            "    0    0    0    0    0    0    0    0    0    0    0    0    0    0\n",
            "    0    0    0    0    0    0    0    0    0    0    0    0    0    0\n",
            "    0    0    0    0    0    0    0    0    0    0    0    0    0    0\n",
            "    0    0    0    0    0    0    0    0    0    0    0    0    0    0\n",
            "    0    0    0    0    0    0    0    0    0    0    0    0    0    0\n",
            "    0    0    0    0    0    0    0    0    0    0    0    0    0    0\n",
            "    0    0    0    0    0    0    0    0    0    0    0    0    0    0\n",
            "    0    0    0    0    0    0    0    0    0    0    0    0    0    0\n",
            "    0    0    0    0    0    0    0    0    0    0    0    0    0    0\n",
            "    0    1   28 1721 5915    8  509  178   32  124    8  159  905   29\n",
            "  449   21 1141    2]\n",
            "classifier\n",
            "[   0    0    0    0    0    0    0    0    0    0    0    0    0    0\n",
            "    0    0    0    0    0    0    0    0    0    0    0    0    0    0\n",
            "    0    0    0    0    0    0    0    0    0    0    0    0    0    0\n",
            "    0    0    0    0    0    0    0    0    0    0    0    0    0    0\n",
            "    0    0    0    0    0    0    0    0    0    0    0    0    0    0\n",
            "    0    0    0    0    0    0    0    0    0    0    0    0    0    0\n",
            "    0    0    0    0    0    0    0    0    0    0    0    0    0    0\n",
            "    0    0    0    0    0    0    0    0    0    0    0    0    0    0\n",
            "    0    0    0    0    0    0    0    0    0    0    0    0    0    0\n",
            "    0    0    0    0    0    0    0    0    0    0    0    0    0    0\n",
            "    0    0    0    0    0    0    0    0    0    0    0    0    0    0\n",
            "    0    0    0    0    0    0    0    0    0    0    0    0    0    0\n",
            "    0    0    0    0    0    0    0    0    0    0    1  232  392  558\n",
            "    4  348   26 1179 5281   11   20  656   40   85  627   45  221   19\n",
            "   16   26 2170    2]\n",
            "classifier\n",
            "[0 0 0 0 0 0 0 0 0 0 0 0 0 0 0 0 0 0 0 0 0 0 0 0 0 0 0 0 0 0 0 0 0 0 0 0 0\n",
            " 0 0 0 0 0 0 0 0 0 0 0 0 0 0 0 0 0 0 0 0 0 0 0 0 0 0 0 0 0 0 0 0 0 0 0 0 0\n",
            " 0 0 0 0 0 0 0 0 0 0 0 0 0 0 0 0 0 0 0 0 0 0 0 0 0 0 0 0 0 0 0 0 0 0 0 0 0\n",
            " 0 0 0 0 0 0 0 0 0 0 0 0 0 0 0 0 0 0 0 0 0 0 0 0 0 0 0 0 0 0 0 0 0 0 0 0 0\n",
            " 0 0 0 0 0 0 0 0 0 0 0 0 0 0 0 0 0 0 0 0 0 0 0 0 0 0 0 0 0 0 0 0 0 0 0 0 0\n",
            " 0 0 0 0 0 0 0 0 0 0 0 0 0 1 2]\n",
            "classifier\n",
            "[  0   0   0   0   0   0   0   0   0   0   0   0   0   0   0   0   0   0\n",
            "   0   0   0   0   0   0   0   0   0   0   0   0   0   0   0   0   0   0\n",
            "   0   0   0   0   0   0   0   0   0   0   0   0   0   0   0   0   0   0\n",
            "   0   0   0   0   0   0   0   0   0   0   0   0   0   0   0   0   0   0\n",
            "   0   0   0   0   0   0   0   0   0   0   0   0   0   0   0   0   0   0\n",
            "   0   0   0   0   0   0   0   0   0   0   0   0   0   0   0   0   0   0\n",
            "   0   0   0   0   0   0   0   0   0   0   0   0   0   0   0   0   0   0\n",
            "   0   0   0   0   0   0   0   0   0   0   0   0   0   0   0   0   0   0\n",
            "   0   0   0   0   0   0   0   0   0   0   0   0   0   0   0   0   0   0\n",
            "   0   0   0   0   0   0   0   0   0   0   0   0   0   0   0   0   0   0\n",
            "   0   0   0   0   0   1 479  88   4   7  20   3   8 177   6 159 224 554\n",
            " 546   2]\n",
            "classifier\n",
            "[   0    0    0    0    0    0    0    0    0    0    0    0    0    0\n",
            "    0    0    0    0    0    0    0    0    0    0    0    0    0    0\n",
            "    0    0    0    0    0    0    0    0    0    0    0    0    0    0\n",
            "    0    0    0    0    0    0    0    0    0    0    0    0    0    0\n",
            "    0    0    0    0    0    0    0    0    0    0    0    0    0    0\n",
            "    0    0    0    0    0    0    0    0    0    0    0    0    0    0\n",
            "    0    0    0    0    0    0    0    0    0    0    0    0    0    0\n",
            "    0    0    0    0    0    0    0    0    0    0    0    0    0    0\n",
            "    0    0    0    0    0    0    0    0    0    0    0    0    0    0\n",
            "    0    0    0    0    0    0    0    0    0    0    0    0    0    0\n",
            "    0    0    0    0    0    0    0    0    0    0    0    0    0    0\n",
            "    0    0    0    0    0    0    0    0    0    0    0    0    0    0\n",
            "    0    0    0    0    0    0    0    0    0    0    0    0    0    0\n",
            "    0    1    5   74  179   12 2507    3 1085  206  126    5   74  112\n",
            "   71    3 1263    2]\n",
            "classifier\n",
            "[   0    0    0    0    0    0    0    0    0    0    0    0    0    0\n",
            "    0    0    0    0    0    0    0    0    0    0    0    0    0    0\n",
            "    0    0    0    0    0    0    0    0    0    0    0    0    0    0\n",
            "    0    0    0    0    0    0    0    0    0    0    0    0    0    0\n",
            "    0    0    0    0    0    0    0    0    0    0    0    0    0    0\n",
            "    0    0    0    0    0    0    0    0    0    0    0    0    0    0\n",
            "    0    0    0    0    0    0    0    0    0    0    0    0    0    0\n",
            "    0    0    0    0    0    0    0    0    0    0    0    0    0    0\n",
            "    0    0    0    0    0    0    0    0    0    0    0    0    0    0\n",
            "    0    0    0    0    0    0    0    0    0    0    0    0    0    0\n",
            "    0    0    0    0    0    0    0    0    0    0    0    0    0    0\n",
            "    0    0    0    0    0    0    0    0    0    0    0    0    0    0\n",
            "    0    0    0    0    0    0    0    0    0    0    0    0    0    0\n",
            "    0    0    0    0    0    0    1    8  482  970  754   17 5147   29\n",
            " 4830    8  158    2]\n",
            "classifier\n",
            "[  0   0   0   0   0   0   0   0   0   0   0   0   0   0   0   0   0   0\n",
            "   0   0   0   0   0   0   0   0   0   0   0   0   0   0   0   0   0   0\n",
            "   0   0   0   0   0   0   0   0   0   0   0   0   0   0   0   0   0   0\n",
            "   0   0   0   0   0   0   0   0   0   0   0   0   0   0   0   0   0   0\n",
            "   0   0   0   0   0   0   0   0   0   0   0   0   0   0   0   0   0   0\n",
            "   0   0   0   0   0   0   0   0   0   0   0   0   0   0   0   0   0   0\n",
            "   0   0   0   0   0   0   0   0   0   0   0   0   0   0   0   0   0   0\n",
            "   0   0   0   0   0   0   0   0   0   0   0   0   0   0   0   0   0   0\n",
            "   0   0   0   0   0   0   0   0   0   0   0   0   0   0   0   0   0   0\n",
            "   0   0   0   0   0   0   0   0   0   0   0   0   0   0   0   0   0   0\n",
            "   0   0   0   0   0   0   0   0   0   0   0   1   5  31  22 193  15  20\n",
            " 174   2]\n",
            "classifier\n",
            "[   0    0    0    0    0    0    0    0    0    0    0    0    0    0\n",
            "    0    0    0    0    0    0    0    0    0    0    0    0    0    0\n",
            "    0    0    0    0    0    0    0    0    0    0    0    0    0    0\n",
            "    0    0    0    0    0    0    0    0    0    0    0    0    0    0\n",
            "    0    0    0    0    0    0    0    0    0    0    0    0    0    0\n",
            "    0    0    0    0    0    0    0    0    0    0    0    0    0    0\n",
            "    0    0    0    0    0    0    0    0    0    0    0    0    0    0\n",
            "    0    0    0    0    0    0    0    0    0    0    0    0    0    0\n",
            "    0    0    0    0    0    0    0    0    0    0    0    0    0    0\n",
            "    0    0    0    0    0    0    0    0    0    0    0    0    0    0\n",
            "    0    0    0    0    0    0    0    0    0    0    0    0    0    0\n",
            "    0    0    0    0    0    0    0    0    0    0    0    0    0    0\n",
            "    0    0    0    0    0    0    0    0    0    0    0    0    0    0\n",
            "    0    1   75  395    4   19  378   21   75 3080   64  103  106  790\n",
            " 1627  545 1507    2]\n",
            "classifier\n",
            "[   0    0    0    0    0    0    0    0    0    0    0    0    0    0\n",
            "    0    0    0    0    0    0    0    0    0    0    0    0    0    0\n",
            "    0    0    0    0    0    0    0    0    0    0    0    0    0    0\n",
            "    0    0    0    0    0    0    0    0    0    0    0    0    0    0\n",
            "    0    0    0    0    0    0    0    0    0    0    0    0    0    0\n",
            "    0    0    0    0    0    0    0    0    0    0    0    0    0    0\n",
            "    0    0    0    0    0    0    0    0    0    0    0    0    0    0\n",
            "    0    0    0    0    0    0    0    0    0    0    0    0    0    0\n",
            "    0    0    0    0    0    0    0    0    0    0    0    0    0    0\n",
            "    0    0    0    0    0    0    0    0    0    0    0    0    0    0\n",
            "    0    0    0    0    0    0    0    0    0    0    0    0    0    0\n",
            "    0    0    0    0    0    0    0    0    0    0    0    0    0    0\n",
            "    0    0    0    0    0    0    0    0    0    0    0    0    0    0\n",
            "    0    0    0    0    0    0    0    0    0    0    1   70  187  901\n",
            " 1300  208  742    2]\n",
            "classifier\n",
            "[   0    0    0    0    0    0    0    0    0    0    0    0    0    0\n",
            "    0    0    0    0    0    0    0    0    0    0    0    0    0    0\n",
            "    0    0    0    0    0    0    0    0    0    0    0    0    0    0\n",
            "    0    0    0    0    0    0    0    0    0    0    0    0    0    0\n",
            "    0    0    0    0    0    0    0    0    0    0    0    0    0    0\n",
            "    0    0    0    0    0    0    0    0    0    0    0    0    0    0\n",
            "    0    0    0    0    0    0    0    0    0    0    0    0    0    0\n",
            "    0    0    0    0    0    0    0    0    0    0    0    0    0    0\n",
            "    0    0    0    0    0    0    0    0    0    0    0    0    0    0\n",
            "    0    0    0    0    0    0    0    0    0    0    0    0    0    0\n",
            "    0    0    0    0    0    0    0    0    0    0    0    0    0    0\n",
            "    0    0    0    0    0    0    0    0    0    0    0    0    0    0\n",
            "    0    0    0    0    0    0    0    0    0    0    0    0    1  388\n",
            "   23 6025   33    5 1934   23   99  162    6  204   80   52  167    3\n",
            " 1449    9    3    2]\n",
            "classifier\n",
            "[   0    0    0    0    0    0    0    0    0    0    0    0    0    0\n",
            "    0    0    0    0    0    0    0    0    0    0    0    0    0    0\n",
            "    0    0    0    0    0    0    0    0    0    0    0    0    0    0\n",
            "    0    0    0    0    0    0    0    0    0    0    0    0    0    0\n",
            "    0    0    0    0    0    0    0    0    0    0    0    0    0    0\n",
            "    0    0    0    0    0    0    0    0    0    0    0    0    0    0\n",
            "    0    0    0    0    0    0    0    0    0    0    0    0    0    0\n",
            "    0    0    0    0    0    0    0    0    0    0    0    0    0    0\n",
            "    0    0    0    0    0    0    0    0    0    0    0    0    0    0\n",
            "    0    0    0    0    0    0    0    0    0    0    0    0    0    0\n",
            "    0    0    0    0    0    0    0    0    0    0    0    0    0    0\n",
            "    0    0    0    0    0    0    0    0    0    0    0    0    0    0\n",
            "    0    0    0    0    0    0    0    0    0    1   41 1282  104  526\n",
            "  611  373 5509   41  210 3701   53  667  471    5  679   13   16   12\n",
            "  282    7  251    2]\n",
            "classifier\n",
            "[   0    0    0    0    0    0    0    0    0    0    0    0    0    0\n",
            "    0    0    0    0    0    0    0    0    0    0    0    0    0    0\n",
            "    0    0    0    0    0    0    0    0    0    0    0    0    0    0\n",
            "    0    0    0    0    0    0    0    0    0    0    0    0    0    0\n",
            "    0    0    0    0    0    0    0    0    0    0    0    0    0    0\n",
            "    0    0    0    0    0    0    0    0    0    0    0    0    0    0\n",
            "    0    0    0    0    0    0    0    0    0    0    0    0    0    0\n",
            "    0    0    0    0    0    0    0    0    0    0    0    0    0    0\n",
            "    0    0    0    0    0    0    0    0    0    0    0    0    0    0\n",
            "    0    0    0    0    0    0    0    0    0    0    0    0    0    0\n",
            "    0    0    0    0    0    0    0    0    0    0    0    0    0    0\n",
            "    0    0    0    0    0    0    0    0    0    0    0    0    0    0\n",
            "    0    0    0    0    0    0    0    0    0    0    0    0    0    0\n",
            "    0    1   24 1656 2164 5087    7   24 5914   54  224    8   13    4\n",
            "  699 5031 1482    2]\n",
            "classifier\n",
            "[   0    0    0    0    0    0    0    0    0    0    0    0    0    0\n",
            "    0    0    0    0    0    0    0    0    0    0    0    0    0    0\n",
            "    0    0    0    0    0    0    0    0    0    0    0    0    0    0\n",
            "    0    0    0    0    0    0    0    0    0    0    0    0    0    0\n",
            "    0    0    0    0    0    0    0    0    0    0    0    0    0    0\n",
            "    0    0    0    0    0    0    0    0    0    0    0    0    0    0\n",
            "    0    0    0    0    0    0    0    0    0    0    0    0    0    0\n",
            "    0    0    0    0    0    0    0    0    0    0    0    0    0    0\n",
            "    0    0    0    0    0    0    0    0    0    0    0    0    0    0\n",
            "    0    0    0    0    0    0    0    0    0    0    0    0    0    0\n",
            "    0    0    0    0    0    0    0    0    0    0    0    0    0    0\n",
            "    0    0    0    0    0    0    0    0    0    0    0    0    0    0\n",
            "    0    0    0    0    0    0    0    0    0    0    1  132   10  712\n",
            "   28 3513  911    4  386   16   93  448 2094 1917    6  352  908  166\n",
            "  292  945  220    2]\n",
            "classifier\n"
          ]
        }
      ],
      "source": [
        "all_bleus=total_bleu(generator_object, np.array(pad_sequences(token_sequences, maxlen=200))[6700:6755], classifier)"
      ]
    },
    {
      "cell_type": "code",
      "execution_count": null,
      "metadata": {
        "id": "hxcHWCSRdRcn"
      },
      "outputs": [],
      "source": [
        ""
      ]
    },
    {
      "cell_type": "code",
      "execution_count": null,
      "metadata": {
        "colab": {
          "base_uri": "https://localhost:8080/"
        },
        "id": "MhC-ISCarQ9M",
        "outputId": "d7272857-c73a-486f-c74f-3d931b917858"
      },
      "outputs": [
        {
          "name": "stdout",
          "output_type": "stream",
          "text": [
            "[[], [0.07101526781433859, 0.4566337854967312, 0.6147881529512643, 0.055986791750361996, 0.5318295896944989, 0.41368954504257255, 0.5491004867761125, 0.4630777161991027, 0.5491004867761125, 0.5349156151337846, 0.11071861994616217, 0.5266403878479265, 0.4728708045015879, 0.6076795808137692, 0.6147881529512643, 0.5169731539571706, 0.7707713836060629, 0.5266403878479265, 0.29059130342609063, 0.46230595512422085, 0.36720562698935927, 0.7071067811865476, 0.35250657096759425, 0.537284965911771, 0.3542000795248998, 0.5623413251903491, 0.17035677145427366, 0.5773502691896257, 0.4578141331660858, 0.4566337854967312, 0.5266403878479265, 0.2335030836430423, 0.6147881529512643, 0.5724063666159062, 0.4728708045015879, 0.2652496231798079, 0.5257115691768948, 0.42728700639623407, 0.5577503997480662, 0.09757988314632338, 0.3280443278078623, 0.5169731539571706, 0.38940039153570244, 0.4671379777282001, 0.0009118819655545162, 0.6147881529512643, 0.5946035575013605, 0.15247837784575483, 0.11708438258996623, 0.5585783491121418, 0.260899397956404, 0.6303647413359293, 0.38170386946328344, 0.2743106355428877, 0.3043119239482219], [0.178784592746002, 0.5430321466633391, 0.4962064288956292, 0.09888045683729116, 0.5318295896944989, 0.5773502691896257, 0.6529942057256104, 0.7071067811865476, 0.4036534967857103, 0.5755901146501323, 0.25802943589457794, 0.6385789877043504, 0.4056114983537769, 0.5491004867761125, 0.28873264657905134, 0.3232482483806194, 0.5206571060403834, 0.5828233954152654, 0.29115146319999335, 0.6799308458396492, 0.4539249573898065, 0.178784592746002, 0.2822651961477009, 0.537284965911771, 0.5066641486392106, 0.5623413251903491, 0.2878812203517012, 0.5773502691896257, 0.6076795808137692, 0.645777692487244, 0.460407711864358, 0.6389431042462724, 0.5900922157527742, 0.476273899703797, 0.5789300674674098, 0.1603801045486562, 0.5022873295485114, 0.6179960577189474, 0.5993418090318328, 0.2822651961477009, 0.5773502691896257, 0.6147881529512643, 0.49294366294228187, 0.5555238068023582, 0.5329462628216854, 0.399119619653364, 0.0891303266137489, 0.178784592746002, 0.49294366294228187, 0.08577326781337878, 0.36019306418532926, 0.433753910521355, 0.35555561857798457, 0.4405149609594086], [0.12164055536768957, 0.2981792160679168, 0.17540910089249057, 0.4042892997911646, 0.2659147948472494, 0.3146660996956415, 0.30503839273089395, 0.1378368071450871, 0.28387021048806443, 0.32030896835479866, 0.5169731539571706, 0.37239098949398236, 0.18587454258639524, 0.16281350371912626, 0.23341903010091, 0.35831291876413535, 0.24467656027436208, 0.28008294138571455, 0.12464504749378168, 0.16620830006469267, 0.4063798282013443, 0.2575130577341738, 0.1857409447054636, 0.3085018208266527, 0.17639884744227644, 0.30468731563055257, 0.48109772909788073, 0.3381307292971254, 0.2161105010162864, 0.21318839150164356, 0.08634974813517356, 0.1687426101633623, 0.35831291876413535, 0.35831291876413535, 0.2980810823649563, 0.36177396082048563, 0.21427462120248603, 0.2603965252496297, 0.25609096738931525, 0.38875142041440197, 0.22546811280806064, 0.25082507126185216, 0.3141116890623593, 0.3303164318013807, 0.18839664168322964, 0.1685875208057536, 0.30937712035549253, 0.3746792881553041, 0.22089591134157885, 0.5169731539571706, 0.24826022748410984, 0.30503839273089395, 0.2628725038569865, 0.29071536848410967], [0.11254328175995797, 0.1751489536280261, 0.12935107085385286, 0.1724279912751363, 0.15516820105019535, 0.20105373454060027, 0.18137691349228668, 0.392814650900513, 0.18983545113550937, 0.1849304691034943, 0.2162755020550042, 0.14931812795519048, 0.11281686040576565, 0.17153569400222504, 0.1121315846322249, 0.2601278440403792, 0.1758522876148296, 0.15911783110981517, 0.05329895374061839, 0.11684642739955092, 0.2998221389342337, 0.30592435772324006, 0.2036526897728483, 0.16939849998723203, 0.07154940081894108, 0.1849304691034943, 0.2699772981159411, 0.15229119284848538, 0.10404165764743398, 0.16564565321939204, 0.1307608591256286, 0.256707056599418, 0.11553930210780547, 0.16945743755925002, 0.1849304691034943, 0.14592352870481634, 0.18137691349228668, 0.14897932098423514, 0.14523626605098836, 0.37531192687516973, 0.21258844131063828, 0.11856471531416818, 0.22089591134157885, 0.19692215902857166, 0.2460137257692754, 0.22089591134157885, 0.2998221389342337, 0.07734979095357068, 0.22089591134157885, 0.038949555226044937, 0.11175433948166832, 0.17153569400222504, 0.24446151121745052, 0.15551651614706796], [0.0719820913119245, 0.11408424519986968, 0.19674979811155635, 0.22613617379612147, 0.10435185733665414, 0.1487964117124549, 0.1196655750514248, 0.0494725196236385, 0.1196655750514248, 0.09826775284173832, 0.18448373350246097, 0.21401603033752975, 0.12673718536830808, 0.1196655750514248, 0.19674979811155635, 0.18798317647335086, 0.1268945766876337, 0.11556647985416685, 0.03848457390863301, 0.20235553926673694, 0.13128944200370593, 0.2512421854739509, 0.3155984539112945, 0.09581728117191181, 0.22416933501922293, 0.1378592993183041, 0.11867840505544883, 0.11270809310278253, 0.11433361115787453, 0.1090009697802911, 0.2044800736021839, 0.20624574461560563, 0.15366213219840438, 0.10010151457754103, 0.07312099506640193, 0.07444244270339301, 0.10926672229378483, 0.08218074077265651, 0.07939087147543496, 0.25271148634948987, 0.14216645907653844, 0.16295846120958615, 0.16943571815930883, 0.12021577610863723, 0.18798317647335086, 0.16943571815930883, 0.25526076207555654, 0.2979714705451885, 0.13420832028958926, 0.0903124730600574, 0.1457684614972261, 0.1196655750514248, 0.1760928267911618, 0.11439193249072527], [0.22555664749005536, 0.1676784955078518, 0.27824623288353134, 0.05879467140281305, 0.15337404749451009, 0.1122831269684487, 0.15346132816663713, 0.09402599962461784, 0.17588181044237433, 0.18759202316167214, 0.23671529472186087, 0.3026643726685863, 0.18759202316167214, 0.15346132816663713, 0.27824623288353134, 0.27824623288353134, 0.2240750868020436, 0.10405944531227626, 0.041434082910848664, 0.21461525035625467, 0.2128244052505896, 0.12073177334748134, 0.1430136552966546, 0.16020720994064927, 0.06811669738534676, 0.18759202316167214, 0.4288819424803534, 0.14022465612251944, 0.16923267918690046, 0.11067701292855962, 0.3026643726685863, 0.33180774028439425, 0.11808014564767552, 0.12271950012016351, 0.16504035723901964, 0.3740548510898886, 0.17588181044237433, 0.1264203703898735, 0.13351899845512327, 0.11018714353836671, 0.21042990347620458, 0.16884791493709808, 0.23961829057131984, 0.17793925745339384, 0.2334010940134804, 0.24903286388467735, 0.1126295146554254, 0.1550226655799497, 0.09988776455947207, 0.10045554323637397, 0.11334054664461944, 0.1301912445451415, 0.23961829057131984, 0.150696445959691], [0.10843833698468708, 0.1332478047576137, 0.2205483189378608, 0.0764400489330497, 0.19285765456537524, 0.22020099177578792, 0.22115966812339868, 0.08445186175863517, 0.22115966812339868, 0.24515235346013312, 0.30934850332660563, 0.07528719139864569, 0.24515235346013312, 0.17619867499439812, 0.363622704650007, 0.363622704650007, 0.32014060615821366, 0.1912481314888403, 0.30459617442860765, 0.2509731932400272, 0.4000998551310186, 0.07452850641949799, 0.280467329188767, 0.20828838183973028, 0.20482706926412, 0.12331085889673297, 0.3784869858133765, 0.20373343848349418, 0.22115966812339868, 0.2108445456905127, 0.19793271926032294, 0.2419745911119211, 0.2934863381371198, 0.08639634843697311, 0.24515235346013312, 0.14888488540678602, 0.22866722231574907, 0.15896519992112562, 0.15878174295086994, 0.08542321229824419, 0.17245663242540396, 0.24491916662698757, 0.3334477432809602, 0.22925075288505725, 0.24491916662698757, 0.31314224813827346, 0.07112518023538587, 0.2601300475114444, 0.31314224813827346, 0.0418657673165284, 0.25427516951475904, 0.22115966812339868, 0.0927623088219416, 0.23253775401768095], [0.17120323028183237, 0.26699675743024226, 0.2912596155533506, 0.20377513191847432, 0.23713320246552005, 0.319857965106966, 0.2625473275125986, 0.4653786298485943, 0.2719326877457978, 0.3014335251508215, 0.23828313880553298, 0.3014335251508215, 0.32211359732229744, 0.312824894198799, 0.460462862587273, 0.30766448634881455, 0.23423016820418144, 0.4492029123095655, 0.14177453288134922, 0.16525251635302732, 0.5975579891089116, 0.27613908384762936, 0.24769802565621082, 0.4152312948102932, 0.3014335251508215, 0.1510863204361943, 0.34823528327578535, 0.2719326877457978, 0.1655007363919269, 0.07424480526891895, 0.3233824575540097, 0.44710186192584195, 0.44710186192584195, 0.3014335251508215, 0.4306730037763717, 0.280059007786574, 0.20130088157694537, 0.1996574716097466, 0.7506238537503395, 0.3381307292971254, 0.33598689692895195, 0.20471383668394255, 0.28592291256793106, 0.44710186192584195, 0.39653842879131873, 0.5900468726392808, 0.08087067970635527, 0.21938478506118753, 0.31973409848615325, 0.2719326877457978, 0.153383394020349, 0.28592291256793106], [0.3070898761263382, 0.42745560682225475, 0.795637166192145, 0.280892413206789, 0.2714813408287837, 0.32211359732229744, 0.32211359732229744, 0.16471872894669373, 0.29597845050972593, 0.3665882729601239, 0.32211359732229744, 0.38044188232179016, 0.3450070063231997, 0.21617076687427345, 0.28326302347195154, 0.058297573486583536, 1.0, 0.18350748375546516, 0.4084937416616268, 0.22105121399132177, 0.18094360493407421, 0.19137585970894727, 0.40052744847255717, 0.17839410558119825, 0.25368397143990856, 0.21192961455617854, 0.2525271432858626, 0.4086103435932962, 0.24139192752635075, 0.35705835125873997, 0.2619181759498073, 0.32211359732229744, 0.23770841795864286, 0.22963869978965587, 0.2926985560739963, 0.40052744847255717, 0.42745560682225475, 0.33367814924973754, 0.24267876415600487, 0.3450070063231997, 0.4132352454218328, 0.5827355625822049, 0.20238602799613387, 0.37754323999245865, 0.32211359732229744, 0.456083954535194, 0.339549782211764], [0.35459684529390034, 0.6115380576901023, 0.3243466207565264, 0.4624892603869298, 0.38091370416670794, 0.35541664913701326, 0.412295470431275, 0.33288182817485085, 0.3921875830625929, 0.3719447442473343, 0.2249722789181041, 0.4935832193308872, 0.4924790605054523, 0.3185810079932844, 0.3251549415415017, 0.8070557274927981, 0.2384664555465004, 0.40695113249699555, 0.412295470431275, 0.4624892603869298, 0.3719447442473343, 0.35459684529390034, 0.6652049901111008, 0.22709303454424667, 0.27873538867508246, 0.42787638452549265, 0.243609808183518, 0.3719447442473343, 0.2798142763845818, 0.27031514980979016, 0.4624892603869298, 0.1859576613164073, 0.5266403878479265, 0.391080327529236, 0.42787638452549265, 0.34002459037142735, 0.7369231628533763, 0.5266403878479265, 0.21137705374414678, 0.3892904392414698, 0.19374017157980686, 0.391080327529236], [0.41072675483179805, 0.5594114771766143, 0.367604114419895, 0.49584411959515695, 0.4215503093673728, 0.4308206906207312, 0.4021938054408549, 0.6464157787429168, 0.467282535374382, 0.4215503093673728, 0.1661015890187151, 0.5594114771766143, 0.526274129398712, 0.20577462643385888, 0.5805878289293418, 0.19502582731117016, 0.3839817133079349, 0.5922251790846559, 0.467282535374382, 0.2691181469603626, 0.37590194925806086, 0.40188875403207, 0.11019066107173411, 0.5013077911152323, 0.6930977286178778, 0.45151093110774565, 0.1719036379827024, 0.24342126872278574, 0.30300203366197276, 0.2991528889155786, 0.5241705759002533, 0.31590979882076403, 0.5267424722224364, 0.3028248002140946, 0.6930977286178778, 0.3853730251079268, 1.0, 0.5968774175634496, 0.4940911248125205, 0.39338268119500863, 0.39384782583306915, 0.38423319974256065], [0.4666756931662376, 0.43731948747045085, 0.4107267548317981, 0.5856596027429395, 0.4006359676226201, 0.4710012314144844, 0.5220981806658138, 0.36142581458883133, 0.5220981806658138, 0.19431324087191063, 0.5418286106246784, 0.22993734935998283, 0.46472679631721997, 0.3939566089383957, 0.42902556537105646, 0.11498578509679001, 0.41482897741633634, 0.44361672618859704, 0.4710012314144844, 0.4299283807502901, 0.3903250610908716, 0.5601148467600306, 0.40717189762297645, 0.17279269687394624, 0.5220981806658138, 0.4805212179017457, 0.3385463794109318, 0.32705341718250747, 0.5856596027429395, 0.40717189762297645, 0.6668954865619205, 0.4952330116157305, 0.7210179410842105, 0.49777293475833434, 0.626490331607617, 0.5520516129306315, 0.4109604873817822, 0.6668954865619205, 0.4952330116157305], [0.4960719660230828, 0.27283291063670595, 0.38666252068319856, 0.647010710077099, 0.5203412353479889, 0.5065166854354501, 0.5767908748024404, 0.3423503955179092, 0.5767908748024404, 0.5203412353479889, 0.7416367431893484, 0.44982542311376433, 0.6889656775362827, 0.42660315701277735, 0.47396838435140404, 0.4272971895765954, 0.46360343204682175, 0.4419486193028158, 0.4960719660230828, 1.0, 0.6905103676445132, 0.5189028619179192, 0.5767908748024404, 0.5203412353479889, 0.37401099941127647, 0.36807054405190703, 0.4900880505827622, 0.4266474296479959, 0.650185334030003, 0.43925681717805126, 0.7416367431893484, 0.20551780292762556, 0.7367565054628357, 0.5592124689089096, 0.5203412353479889, 0.2246980389019403, 0.5471114295717522], [0.3278898102481478, 0.7037688239435663, 0.4967067363118649, 0.5769965888431362, 0.5695988432761473, 0.5695988432761473, 0.6313922341364886, 0.6313922341364886, 0.5695988432761473, 0.4584624993895363, 0.6552529574899278, 0.41880426881399685, 0.48467786813863123, 0.518836150464752, 0.6313922341364886, 0.7082593633017147, 0.5695988432761473, 0.47662677274011694, 0.6100816400098541, 1.0, 0.6005988715118721, 0.5537570218095741, 0.4094163947909039, 0.40894389960706096, 0.7082593633017147, 0.6100816400098541, 0.5900486332124781, 0.5989032124636781, 0.7037688239435663, 0.4595303375960901, 0.7576374421266845, 0.2926145222649262, 0.4028419025315822, 0.7117345100103962, 0.5989032124636781], [0.5408009505436672, 0.539605905312277, 0.7694297399066489, 0.5650207874463253, 0.6187934993051338, 0.6859238121837058, 0.6859238121837058, 0.6187934993051338, 0.3196740169148406, 0.5175341674292826, 0.563646574957034, 0.3825660013330618, 0.6513082134183167, 0.6187934993051338, 0.5899323115480382, 0.6859238121837058, 0.6187934993051338, 0.45201105278481896, 0.42967728103447583, 0.7694297399066489, 0.6823510398891234, 0.6506288047460378, 0.6021726791775291, 0.49921868521087603, 0.5574621193620891, 0.5650207874463253, 0.8761560783209453, 0.6506288047460378], [0.6367855537743938, 0.5824621545691198, 0.1823522319586232, 0.46431369665527406, 0.6382577587619772, 0.6470010132307997, 0.4271741199160653, 0.3871228994886089, 0.7413203153134947, 0.5586374486571748, 0.41815515983182755, 0.6190176267019257, 0.4765245445681183, 0.5827936166982728, 0.6367855537743938, 0.7404008324993688, 0.6679389370841881, 0.4801013112818033, 0.4638028465161199, 0.8305389167974837, 0.5736212820263836, 0.7023026466283672, 0.6499980683744063, 0.8884420215438181, 0.7540827948141416, 0.6679389370841881, 0.6919193420918675, 0.7023026466283672], [0.550035976305539, 0.6252841934548046, 0.8915993127600096, 0.7170451440930211, 0.7170451440930211, 0.4424924277325393, 0.6190176267019257, 0.5978384812791946, 0.3293173608221757, 0.5997079188357801, 0.6531420255892322, 0.6190176267019257, 0.6043345539318117, 0.6851818350309566, 0.6836013949954282, 0.7191958755546909, 0.7170451440930211, 0.5153978826718986, 0.4979011709703445, 0.7978381199023284, 0.6535697968961118, 0.840435017870011, 0.36260736845186875, 0.7539352394200598], [0.7303869312694913, 0.3666492615785621, 1.0, 0.6387544217039587, 0.6995443222349896, 0.7309413273806202, 0.345272235070725, 0.7661195635495952, 0.570924835289032, 0.6978429290017016, 0.6291270307752193, 0.6456950842081368, 0.6684586965591056, 0.7303869312694913, 0.48996462421912856, 0.7661195635495952, 0.5506716057974674, 0.5319774228122346, 0.3916338653979656, 0.8055344092731546, 0.7667987216244994, 0.5088978641813353, 0.8055344092731546], [0.7124243447820263, 0.5591744555321616, 0.4313977068364381, 0.49442429963001444, 0.7777374520206574, 0.8595328138714847, 0.5666589881928004, 0.6817738389003571, 0.6831514128689002, 0.9036020036098448, 0.8151678595510183, 0.7124243447820263, 0.6367575697898235, 0.8151678595510183, 0.4198347201326044, 0.5660355350725144, 0.33068980010258775, 0.7343729420743097, 0.6494470622499222, 0.8571061116877262], [0.6923702907900133, 0.4853475451712057, 0.5241604121175459, 0.8641944207171431, 0.352409099328084, 0.7460500691320114, 0.8641944207171431, 0.7227776964772765, 0.694681570812229, 0.5526874847538493, 0.7540314900323473, 0.8238874726594148, 0.9112276121634242, 0.6081119205479346, 0.581105015329495, 0.6074428598213804, 0.8261095122056145, 0.31791936055690095, 0.6828335704817795], [0.8706099548745285, 0.765114371259979, 0.8338460406940424, 0.9132027013286009, 0.8338460406940424, 0.7637662649284205, 0.7041187406885273, 0.6348073132260317, 0.8706099548745285, 0.7275517608645787, 0.6563920592619769, 0.6341088815264422, 0.9155330820749252, 0.8338460406940424, 1.0], [0.7380875843108748, 0.8390623881636138, 0.9194384135170949, 0.7665844602602923, 0.8785813620820895, 0.8047418499398723, 0.7734595784281304, 0.5328865331548738, 0.7708861955334005, 0.2694789652541891, 0.6916070849317106, 0.6755947094698659, 1.0], [0.8101272766229768, 0.6402992687296212, 0.753544095984042, 0.9210589320522863, 1.0, 0.7268125534680258, 0.7021387429293126], [0.8533983579304791, 0.7039404008333108, 0.7840567947854852, 0.7620097727769574, 0.6264891611638882], [0.8928087844800474, 0.8265201478480724, 0.7710645030917821, 0.7701365065543356], [0.8968367582748276, 0.8323835993176476, 0.7299540692086708], [0.7343752587301342, 0.7608034440830012], [0.7390971013201285, 0.8720892095953972], [0.7939188326011336, 0.7711014825996004], [1.0, 0.881303218718655], [0.943085631039478], [], [], [], [], [], [], [], [], [], [], [], [], [], [], [], [], [], [], [], [], [], [], [], [], [], [], [], [], [], [], [], []]\n"
          ]
        }
      ],
      "source": [
        "print(all_bleus)"
      ]
    },
    {
      "cell_type": "code",
      "execution_count": null,
      "metadata": {
        "colab": {
          "base_uri": "https://localhost:8080/",
          "height": 279
        },
        "id": "jTh22E1brD5l",
        "outputId": "0803fb19-bac3-409b-f2f6-941f35d11ae0"
      },
      "outputs": [
        {
          "data": {
            "image/png": "[encoded data removed]",
            "text/plain": [
              "<Figure size 432x288 with 1 Axes>"
            ]
          },
          "metadata": {},
          "output_type": "display_data"
        }
      ],
      "source": [
        "bleu_averages=[]\n",
        "for i in all_bleus:\n",
        "  if(len(i)!=0):\n",
        "    bleu_averages.append(sum(i)/len(i))\n",
        "\n",
        "plt.plot(bleu_averages)\n",
        "plt.xlabel(\"Amount of seed words provided to the generator\")\n",
        "plt.ylabel(\"Average bleu score\")\n",
        "plt.grid(True)"
      ]
    },
    {
      "cell_type": "code",
      "execution_count": null,
      "metadata": {
        "colab": {
          "base_uri": "https://localhost:8080/"
        },
        "id": "a6CdG5Ebl3Y_",
        "outputId": "c459d6c8-edee-48ae-dffb-23d248f6b4bf"
      },
      "outputs": [
        {
          "name": "stdout",
          "output_type": "stream",
          "text": [
            "0.4944216922964856\n"
          ]
        }
      ],
      "source": [
        "print(sum(all_bleus)/len(all_bleus))"
      ]
    },
    {
      "cell_type": "code",
      "execution_count": null,
      "metadata": {
        "colab": {
          "base_uri": "https://localhost:8080/",
          "height": 1000
        },
        "id": "urYq2lvfaQwf",
        "outputId": "c4a35f0b-04c3-4088-adc0-c5cd7b44bdc9"
      },
      "outputs": [
        {
          "name": "stdout",
          "output_type": "stream",
          "text": [
            "[   0    0    0    0    0    0    0    0    0    0    0    0    0    0\n",
            "    0    0    0    0    0    0    0    0    0    0    0    0    0    0\n",
            "    0    0    0    0    0    0    0    0    0    0    0    0    0    0\n",
            "    0    0    1  864  261  177  122  300    6  178  176   18   71    9\n",
            "   10  371 2194 2156  303   24 7654    2]\n",
            "[0.5087934]\n",
            "[6.7085057e-05 1.3285288e-02 1.8763097e-04 9.8645997e-01]\n",
            "[0.36366562 0.2660087  0.18103762 0.18928806]\n",
            "Reward from discriminator: [[0.5087934]]\n",
            "Reward from classifier: -0.6599293947219849\n",
            "[   0    0    0    0    0    0    0    0    0    0    0    0    0    0\n",
            "    0    0    0    0    0    0    0    0    0    0    0    0    0    0\n",
            "    0    0    0    0    0    0    0    0    0    0    0    0    0    0\n",
            "    0    0    0    0    0    0    0    0    0    1   79  302 2176 8246\n",
            " 7275   34   10  168  597   56 2344    2]\n",
            "[0.5087934]\n",
            "[1.7826087e-04 9.8705238e-01 2.8236783e-03 9.9457046e-03]\n",
            "[0.39621561 0.09091148 0.51165125 0.00122166]\n",
            "Reward from discriminator: [[0.5087934]]\n",
            "Reward from classifier: -1.4355907440185547\n",
            "[   0    0    0    0    0    0    0    0    0    0    0    0    0    0\n",
            "    0    0    0    0    0    0    0    0    0    0    0    0    0    0\n",
            "    0    0    0    0    0    0    0    0    0    0    0    0    0    0\n",
            "    0    1    4 5583 1741  599  206    3 3991 2842    3  137 7659   24\n",
            " 1114 9072 1456 2250 3629   13 5311    2]\n",
            "[0.5087934]\n",
            "[0.2658564  0.3588198  0.01923888 0.35608494]\n",
            "[0.24534677 0.18291723 0.24218487 0.32955112]\n",
            "Reward from discriminator: [[0.5087934]]\n",
            "Reward from classifier: -0.40562963485717773\n",
            "[   0    0    0    0    0    0    0    0    0    0    0    0    0    0\n",
            "    0    0    0    0    0    0    0    0    0    0    0    0    0    0\n",
            "    0    0    0    0    0    0    0    0    0    0    0    0    0    0\n",
            "    0    0    0    0    0    1   24   29   72  714    3  920  190   11\n",
            " 3419   73 2941  209  178 5329   23    2]\n",
            "[0.5087934]\n",
            "[0.01944297 0.834334   0.05638569 0.08983722]\n",
            "[0.28374689 0.10728908 0.32710057 0.28186346]\n",
            "Reward from discriminator: [[0.5087934]]\n",
            "Reward from classifier: -1.063689947128296\n",
            "[   0    0    0    0    0    0    0    0    0    0    0    0    0    0\n",
            "    0    0    0    0    0    0    0    0    0    0    0    0    0    0\n",
            "    0    0    0    0    0    0    0    0    0    0    0    0    0    0\n",
            "    0    0    0    0    0    0    0    0    0    0    0    0    0    0\n",
            "    0    0    0    0    1    5 1557    2]\n",
            "[0.5087934]\n",
            "[0.00583091 0.39783165 0.54138    0.05495737]\n",
            "[0.43897227 0.42642638 0.06253845 0.07206289]\n",
            "Reward from discriminator: [[0.5087934]]\n",
            "Reward from classifier: -0.9891196489334106\n",
            "[   0    0    0    0    0    0    0    0    0    0    0    0    0    0\n",
            "    0    0    0    0    0    0    0    0    0    0    0    0    0    0\n",
            "    0    0    0    0    0    0    0    0    0    0    0    0    0    0\n",
            "    0    0    0    0    0    1  222 1273  117  235   35   17    5   60\n",
            "   19 3272    4   19   37 3036   13    2]\n",
            "[0.5087934]\n",
            "[9.8347751e-05 2.2344855e-03 9.9479347e-01 2.8736014e-03]\n",
            "[0.20777287 0.23202451 0.2881262  0.27207642]\n",
            "Reward from discriminator: [[0.5087934]]\n",
            "Reward from classifier: -0.24503731727600098\n",
            "[   0    0    0    0    0    0    0    0    0    0    0    0    0    0\n",
            "    0    0    0    0    0    0    0    0    0    0    0    0    0    0\n",
            "    0    0    0    0    0    0    0    0    0    0    0    0    0    0\n",
            "    0    0    1   31  181   14    6 5541 8970 3140   13 1497   36 1283\n",
            " 3625   11 3409 7714 3111    9   73    2]\n",
            "[0.5087934]\n",
            "[0.95350283 0.01937727 0.00527601 0.02184381]\n",
            "[0.14799666 0.27529045 0.18948669 0.3872262 ]\n",
            "Reward from discriminator: [[0.5087934]]\n",
            "Reward from classifier: -0.8762255907058716\n",
            "[   0    0    0    0    0    0    0    0    0    0    0    0    0    0\n",
            "    0    0    0    0    0    0    0    0    0    0    0    0    0    0\n",
            "    0    0    0    0    0    0    0    0    0    0    0    0    0    0\n",
            "    0    0    0    0    0    0    0    1  349   12 1470 2464   44   47\n",
            "   88    4  350 7286   36   17   11    2]\n",
            "[0.5087934]\n",
            "[0.58771217 0.3092773  0.05739993 0.04561057]\n",
            "[0.1216793  0.15720681 0.43335665 0.28775724]\n",
            "Reward from discriminator: [[0.5087934]]\n",
            "Reward from classifier: -0.9149715900421143\n",
            "[  0   0   0   0   0   0   0   0   0   0   0   0   0   0   0   0   0   0\n",
            "   0   0   0   0   0   0   0   0   0   0   0   0   0   0   0   0   0   0\n",
            "   0   0   0   0   0   0   0   0   0   0   0   0   0   0   0   0   1 713\n",
            " 590   8 192  24 904   7  10 106  13   2]\n",
            "[0.5087934]\n",
            "[1.03959195e-04 9.91287768e-01 1.19774754e-03 7.41042756e-03]\n",
            "[0.27239981 0.25698089 0.10717744 0.36344186]\n",
            "Reward from discriminator: [[0.5087934]]\n",
            "Reward from classifier: -0.35722625255584717\n",
            "[   0    0    0    0    0    0    0    0    0    0    0    0    0    0\n",
            "    0    0    0    0    0    0    0    0    0    0    0    0    0    0\n",
            "    0    0    0    0    0    0    0    0    0    0    0    0    0    0\n",
            "    0    1    5 6705   13   34  102    3 3125    4    3  461 4481    4\n",
            " 2473    7    5  467 1598  364 1082    2]\n",
            "[0.5087934]\n"
          ]
        },
        {
          "ename": "KeyboardInterrupt",
          "evalue": "ignored",
          "output_type": "error",
          "traceback": [
            "\u001b[0;31m---------------------------------------------------------------------------\u001b[0m",
            "\u001b[0;31mKeyboardInterrupt\u001b[0m                         Traceback (most recent call last)",
            "\u001b[0;32m<ipython-input-178-9a3bdd3be38c>\u001b[0m in \u001b[0;36m<module>\u001b[0;34m()\u001b[0m\n\u001b[1;32m      1\u001b[0m \u001b[0;31m#print(generator_object.generator_model.evaluate({\"labels\": classification_onehots[1000:2000],\"sequences\":token_list_states[:1000]}, token_actions[1000:2000]))\u001b[0m\u001b[0;34m\u001b[0m\u001b[0;34m\u001b[0m\u001b[0;34m\u001b[0m\u001b[0m\n\u001b[0;32m----> 2\u001b[0;31m \u001b[0mprint\u001b[0m\u001b[0;34m(\u001b[0m\u001b[0mgan_object\u001b[0m\u001b[0;34m.\u001b[0m\u001b[0mget_average_score\u001b[0m\u001b[0;34m(\u001b[0m\u001b[0mgenerated_values\u001b[0m\u001b[0;34m[\u001b[0m\u001b[0;36m0\u001b[0m\u001b[0;34m]\u001b[0m\u001b[0;34m,\u001b[0m \u001b[0mgenerated_values\u001b[0m\u001b[0;34m[\u001b[0m\u001b[0;36m1\u001b[0m\u001b[0;34m]\u001b[0m\u001b[0;34m)\u001b[0m\u001b[0;34m)\u001b[0m\u001b[0;34m\u001b[0m\u001b[0;34m\u001b[0m\u001b[0m\n\u001b[0m",
            "\u001b[0;32m<ipython-input-58-17a3b62164d1>\u001b[0m in \u001b[0;36mget_average_score\u001b[0;34m(self, sequences, classifier_targets)\u001b[0m\n\u001b[1;32m     94\u001b[0m     \u001b[0mreward_sum\u001b[0m\u001b[0;34m=\u001b[0m\u001b[0;36m0\u001b[0m\u001b[0;34m;\u001b[0m\u001b[0;34m\u001b[0m\u001b[0;34m\u001b[0m\u001b[0m\n\u001b[1;32m     95\u001b[0m     \u001b[0;32mfor\u001b[0m \u001b[0mi\u001b[0m \u001b[0;32min\u001b[0m \u001b[0mrange\u001b[0m\u001b[0;34m(\u001b[0m\u001b[0mlen\u001b[0m\u001b[0;34m(\u001b[0m\u001b[0msequences\u001b[0m\u001b[0;34m)\u001b[0m\u001b[0;34m)\u001b[0m\u001b[0;34m:\u001b[0m\u001b[0;34m\u001b[0m\u001b[0;34m\u001b[0m\u001b[0m\n\u001b[0;32m---> 96\u001b[0;31m       \u001b[0mx\u001b[0m\u001b[0;34m=\u001b[0m\u001b[0mself\u001b[0m\u001b[0;34m.\u001b[0m\u001b[0mget_reward_value\u001b[0m\u001b[0;34m(\u001b[0m\u001b[0mnp\u001b[0m\u001b[0;34m.\u001b[0m\u001b[0marray\u001b[0m\u001b[0;34m(\u001b[0m\u001b[0;34m[\u001b[0m\u001b[0msequences\u001b[0m\u001b[0;34m[\u001b[0m\u001b[0mi\u001b[0m\u001b[0;34m]\u001b[0m\u001b[0;34m]\u001b[0m\u001b[0;34m)\u001b[0m\u001b[0;34m,\u001b[0m \u001b[0mclassifier_targets\u001b[0m\u001b[0;34m[\u001b[0m\u001b[0mi\u001b[0m\u001b[0;34m]\u001b[0m\u001b[0;34m)\u001b[0m\u001b[0;34m\u001b[0m\u001b[0;34m\u001b[0m\u001b[0m\n\u001b[0m\u001b[1;32m     97\u001b[0m       \u001b[0mreward_sum\u001b[0m\u001b[0;34m+=\u001b[0m\u001b[0mx\u001b[0m\u001b[0;34m\u001b[0m\u001b[0;34m\u001b[0m\u001b[0m\n\u001b[1;32m     98\u001b[0m \u001b[0;34m\u001b[0m\u001b[0m\n",
            "\u001b[0;32m<ipython-input-58-17a3b62164d1>\u001b[0m in \u001b[0;36mget_reward_value\u001b[0;34m(self, sequence, classifier_targets)\u001b[0m\n\u001b[1;32m     83\u001b[0m     \u001b[0mz\u001b[0m\u001b[0;34m=\u001b[0m\u001b[0mnp\u001b[0m\u001b[0;34m.\u001b[0m\u001b[0marray\u001b[0m\u001b[0;34m(\u001b[0m\u001b[0;34m[\u001b[0m\u001b[0msequence\u001b[0m\u001b[0;34m]\u001b[0m\u001b[0;34m)\u001b[0m\u001b[0;34m.\u001b[0m\u001b[0mreshape\u001b[0m\u001b[0;34m(\u001b[0m\u001b[0;36m64\u001b[0m\u001b[0;34m,\u001b[0m\u001b[0;34m)\u001b[0m\u001b[0;34m\u001b[0m\u001b[0;34m\u001b[0m\u001b[0m\n\u001b[1;32m     84\u001b[0m     \u001b[0mprint\u001b[0m\u001b[0;34m(\u001b[0m\u001b[0mz\u001b[0m\u001b[0;34m)\u001b[0m\u001b[0;34m\u001b[0m\u001b[0;34m\u001b[0m\u001b[0m\n\u001b[0;32m---> 85\u001b[0;31m     \u001b[0my\u001b[0m\u001b[0;34m=\u001b[0m\u001b[0mself\u001b[0m\u001b[0;34m.\u001b[0m\u001b[0mdiscriminator\u001b[0m\u001b[0;34m.\u001b[0m\u001b[0mcompute_reward\u001b[0m\u001b[0;34m(\u001b[0m\u001b[0mz\u001b[0m\u001b[0;34m)\u001b[0m\u001b[0;34m\u001b[0m\u001b[0;34m\u001b[0m\u001b[0m\n\u001b[0m\u001b[1;32m     86\u001b[0m     \u001b[0my2\u001b[0m\u001b[0;34m=\u001b[0m\u001b[0mself\u001b[0m\u001b[0;34m.\u001b[0m\u001b[0mclassifier\u001b[0m\u001b[0;34m(\u001b[0m\u001b[0msequence\u001b[0m\u001b[0;34m)\u001b[0m\u001b[0;34m[\u001b[0m\u001b[0;36m0\u001b[0m\u001b[0;34m]\u001b[0m\u001b[0;34m.\u001b[0m\u001b[0mnumpy\u001b[0m\u001b[0;34m(\u001b[0m\u001b[0;34m)\u001b[0m\u001b[0;34m\u001b[0m\u001b[0;34m\u001b[0m\u001b[0m\n\u001b[1;32m     87\u001b[0m     \u001b[0mprint\u001b[0m\u001b[0;34m(\u001b[0m\u001b[0my2\u001b[0m\u001b[0;34m)\u001b[0m\u001b[0;34m\u001b[0m\u001b[0;34m\u001b[0m\u001b[0m\n",
            "\u001b[0;32m<ipython-input-55-c0a5a677d16b>\u001b[0m in \u001b[0;36mcompute_reward\u001b[0;34m(self, sequence)\u001b[0m\n\u001b[1;32m     97\u001b[0m   \u001b[0;32mdef\u001b[0m \u001b[0mcompute_reward\u001b[0m\u001b[0;34m(\u001b[0m\u001b[0mself\u001b[0m\u001b[0;34m,\u001b[0m \u001b[0msequence\u001b[0m\u001b[0;34m)\u001b[0m\u001b[0;34m:\u001b[0m\u001b[0;34m\u001b[0m\u001b[0;34m\u001b[0m\u001b[0m\n\u001b[1;32m     98\u001b[0m     \u001b[0mprint\u001b[0m\u001b[0;34m(\u001b[0m\u001b[0mself\u001b[0m\u001b[0;34m.\u001b[0m\u001b[0mdiscriminator_model\u001b[0m\u001b[0;34m.\u001b[0m\u001b[0mpredict\u001b[0m\u001b[0;34m(\u001b[0m\u001b[0mnp\u001b[0m\u001b[0;34m.\u001b[0m\u001b[0marray\u001b[0m\u001b[0;34m(\u001b[0m\u001b[0;34m[\u001b[0m\u001b[0msequence\u001b[0m\u001b[0;34m]\u001b[0m\u001b[0;34m)\u001b[0m\u001b[0;34m)\u001b[0m\u001b[0;34m[\u001b[0m\u001b[0;36m0\u001b[0m\u001b[0;34m]\u001b[0m\u001b[0;34m)\u001b[0m\u001b[0;34m\u001b[0m\u001b[0;34m\u001b[0m\u001b[0m\n\u001b[0;32m---> 99\u001b[0;31m     \u001b[0;32mreturn\u001b[0m \u001b[0mself\u001b[0m\u001b[0;34m.\u001b[0m\u001b[0mdiscriminator_model\u001b[0m\u001b[0;34m.\u001b[0m\u001b[0mpredict\u001b[0m\u001b[0;34m(\u001b[0m\u001b[0mnp\u001b[0m\u001b[0;34m.\u001b[0m\u001b[0marray\u001b[0m\u001b[0;34m(\u001b[0m\u001b[0;34m[\u001b[0m\u001b[0msequence\u001b[0m\u001b[0;34m]\u001b[0m\u001b[0;34m)\u001b[0m\u001b[0;34m)\u001b[0m\u001b[0;34m\u001b[0m\u001b[0;34m\u001b[0m\u001b[0m\n\u001b[0m",
            "\u001b[0;32m/usr/local/lib/python3.7/dist-packages/keras/utils/traceback_utils.py\u001b[0m in \u001b[0;36merror_handler\u001b[0;34m(*args, **kwargs)\u001b[0m\n\u001b[1;32m     62\u001b[0m     \u001b[0mfiltered_tb\u001b[0m \u001b[0;34m=\u001b[0m \u001b[0;32mNone\u001b[0m\u001b[0;34m\u001b[0m\u001b[0;34m\u001b[0m\u001b[0m\n\u001b[1;32m     63\u001b[0m     \u001b[0;32mtry\u001b[0m\u001b[0;34m:\u001b[0m\u001b[0;34m\u001b[0m\u001b[0;34m\u001b[0m\u001b[0m\n\u001b[0;32m---> 64\u001b[0;31m       \u001b[0;32mreturn\u001b[0m \u001b[0mfn\u001b[0m\u001b[0;34m(\u001b[0m\u001b[0;34m*\u001b[0m\u001b[0margs\u001b[0m\u001b[0;34m,\u001b[0m \u001b[0;34m**\u001b[0m\u001b[0mkwargs\u001b[0m\u001b[0;34m)\u001b[0m\u001b[0;34m\u001b[0m\u001b[0;34m\u001b[0m\u001b[0m\n\u001b[0m\u001b[1;32m     65\u001b[0m     \u001b[0;32mexcept\u001b[0m \u001b[0mException\u001b[0m \u001b[0;32mas\u001b[0m \u001b[0me\u001b[0m\u001b[0;34m:\u001b[0m  \u001b[0;31m# pylint: disable=broad-except\u001b[0m\u001b[0;34m\u001b[0m\u001b[0;34m\u001b[0m\u001b[0m\n\u001b[1;32m     66\u001b[0m       \u001b[0mfiltered_tb\u001b[0m \u001b[0;34m=\u001b[0m \u001b[0m_process_traceback_frames\u001b[0m\u001b[0;34m(\u001b[0m\u001b[0me\u001b[0m\u001b[0;34m.\u001b[0m\u001b[0m__traceback__\u001b[0m\u001b[0;34m)\u001b[0m\u001b[0;34m\u001b[0m\u001b[0;34m\u001b[0m\u001b[0m\n",
            "\u001b[0;32m/usr/local/lib/python3.7/dist-packages/keras/engine/training.py\u001b[0m in \u001b[0;36mpredict\u001b[0;34m(self, x, batch_size, verbose, steps, callbacks, max_queue_size, workers, use_multiprocessing)\u001b[0m\n\u001b[1;32m   1980\u001b[0m           \u001b[0;32mfor\u001b[0m \u001b[0mstep\u001b[0m \u001b[0;32min\u001b[0m \u001b[0mdata_handler\u001b[0m\u001b[0;34m.\u001b[0m\u001b[0msteps\u001b[0m\u001b[0;34m(\u001b[0m\u001b[0;34m)\u001b[0m\u001b[0;34m:\u001b[0m\u001b[0;34m\u001b[0m\u001b[0;34m\u001b[0m\u001b[0m\n\u001b[1;32m   1981\u001b[0m             \u001b[0mcallbacks\u001b[0m\u001b[0;34m.\u001b[0m\u001b[0mon_predict_batch_begin\u001b[0m\u001b[0;34m(\u001b[0m\u001b[0mstep\u001b[0m\u001b[0;34m)\u001b[0m\u001b[0;34m\u001b[0m\u001b[0;34m\u001b[0m\u001b[0m\n\u001b[0;32m-> 1982\u001b[0;31m             \u001b[0mtmp_batch_outputs\u001b[0m \u001b[0;34m=\u001b[0m \u001b[0mself\u001b[0m\u001b[0;34m.\u001b[0m\u001b[0mpredict_function\u001b[0m\u001b[0;34m(\u001b[0m\u001b[0miterator\u001b[0m\u001b[0;34m)\u001b[0m\u001b[0;34m\u001b[0m\u001b[0;34m\u001b[0m\u001b[0m\n\u001b[0m\u001b[1;32m   1983\u001b[0m             \u001b[0;32mif\u001b[0m \u001b[0mdata_handler\u001b[0m\u001b[0;34m.\u001b[0m\u001b[0mshould_sync\u001b[0m\u001b[0;34m:\u001b[0m\u001b[0;34m\u001b[0m\u001b[0;34m\u001b[0m\u001b[0m\n\u001b[1;32m   1984\u001b[0m               \u001b[0mcontext\u001b[0m\u001b[0;34m.\u001b[0m\u001b[0masync_wait\u001b[0m\u001b[0;34m(\u001b[0m\u001b[0;34m)\u001b[0m\u001b[0;34m\u001b[0m\u001b[0;34m\u001b[0m\u001b[0m\n",
            "\u001b[0;32m/usr/local/lib/python3.7/dist-packages/tensorflow/python/util/traceback_utils.py\u001b[0m in \u001b[0;36merror_handler\u001b[0;34m(*args, **kwargs)\u001b[0m\n\u001b[1;32m    148\u001b[0m     \u001b[0mfiltered_tb\u001b[0m \u001b[0;34m=\u001b[0m \u001b[0;32mNone\u001b[0m\u001b[0;34m\u001b[0m\u001b[0;34m\u001b[0m\u001b[0m\n\u001b[1;32m    149\u001b[0m     \u001b[0;32mtry\u001b[0m\u001b[0;34m:\u001b[0m\u001b[0;34m\u001b[0m\u001b[0;34m\u001b[0m\u001b[0m\n\u001b[0;32m--> 150\u001b[0;31m       \u001b[0;32mreturn\u001b[0m \u001b[0mfn\u001b[0m\u001b[0;34m(\u001b[0m\u001b[0;34m*\u001b[0m\u001b[0margs\u001b[0m\u001b[0;34m,\u001b[0m \u001b[0;34m**\u001b[0m\u001b[0mkwargs\u001b[0m\u001b[0;34m)\u001b[0m\u001b[0;34m\u001b[0m\u001b[0;34m\u001b[0m\u001b[0m\n\u001b[0m\u001b[1;32m    151\u001b[0m     \u001b[0;32mexcept\u001b[0m \u001b[0mException\u001b[0m \u001b[0;32mas\u001b[0m \u001b[0me\u001b[0m\u001b[0;34m:\u001b[0m\u001b[0;34m\u001b[0m\u001b[0;34m\u001b[0m\u001b[0m\n\u001b[1;32m    152\u001b[0m       \u001b[0mfiltered_tb\u001b[0m \u001b[0;34m=\u001b[0m \u001b[0m_process_traceback_frames\u001b[0m\u001b[0;34m(\u001b[0m\u001b[0me\u001b[0m\u001b[0;34m.\u001b[0m\u001b[0m__traceback__\u001b[0m\u001b[0;34m)\u001b[0m\u001b[0;34m\u001b[0m\u001b[0;34m\u001b[0m\u001b[0m\n",
            "\u001b[0;32m/usr/local/lib/python3.7/dist-packages/tensorflow/python/eager/def_function.py\u001b[0m in \u001b[0;36m__call__\u001b[0;34m(self, *args, **kwds)\u001b[0m\n\u001b[1;32m    913\u001b[0m \u001b[0;34m\u001b[0m\u001b[0m\n\u001b[1;32m    914\u001b[0m       \u001b[0;32mwith\u001b[0m \u001b[0mOptionalXlaContext\u001b[0m\u001b[0;34m(\u001b[0m\u001b[0mself\u001b[0m\u001b[0;34m.\u001b[0m\u001b[0m_jit_compile\u001b[0m\u001b[0;34m)\u001b[0m\u001b[0;34m:\u001b[0m\u001b[0;34m\u001b[0m\u001b[0;34m\u001b[0m\u001b[0m\n\u001b[0;32m--> 915\u001b[0;31m         \u001b[0mresult\u001b[0m \u001b[0;34m=\u001b[0m \u001b[0mself\u001b[0m\u001b[0;34m.\u001b[0m\u001b[0m_call\u001b[0m\u001b[0;34m(\u001b[0m\u001b[0;34m*\u001b[0m\u001b[0margs\u001b[0m\u001b[0;34m,\u001b[0m \u001b[0;34m**\u001b[0m\u001b[0mkwds\u001b[0m\u001b[0;34m)\u001b[0m\u001b[0;34m\u001b[0m\u001b[0;34m\u001b[0m\u001b[0m\n\u001b[0m\u001b[1;32m    916\u001b[0m \u001b[0;34m\u001b[0m\u001b[0m\n\u001b[1;32m    917\u001b[0m       \u001b[0mnew_tracing_count\u001b[0m \u001b[0;34m=\u001b[0m \u001b[0mself\u001b[0m\u001b[0;34m.\u001b[0m\u001b[0mexperimental_get_tracing_count\u001b[0m\u001b[0;34m(\u001b[0m\u001b[0;34m)\u001b[0m\u001b[0;34m\u001b[0m\u001b[0;34m\u001b[0m\u001b[0m\n",
            "\u001b[0;32m/usr/local/lib/python3.7/dist-packages/tensorflow/python/eager/def_function.py\u001b[0m in \u001b[0;36m_call\u001b[0;34m(self, *args, **kwds)\u001b[0m\n\u001b[1;32m    952\u001b[0m       \u001b[0;31m# In this case we have not created variables on the first call. So we can\u001b[0m\u001b[0;34m\u001b[0m\u001b[0;34m\u001b[0m\u001b[0;34m\u001b[0m\u001b[0m\n\u001b[1;32m    953\u001b[0m       \u001b[0;31m# run the first trace but we should fail if variables are created.\u001b[0m\u001b[0;34m\u001b[0m\u001b[0;34m\u001b[0m\u001b[0;34m\u001b[0m\u001b[0m\n\u001b[0;32m--> 954\u001b[0;31m       \u001b[0mresults\u001b[0m \u001b[0;34m=\u001b[0m \u001b[0mself\u001b[0m\u001b[0;34m.\u001b[0m\u001b[0m_stateful_fn\u001b[0m\u001b[0;34m(\u001b[0m\u001b[0;34m*\u001b[0m\u001b[0margs\u001b[0m\u001b[0;34m,\u001b[0m \u001b[0;34m**\u001b[0m\u001b[0mkwds\u001b[0m\u001b[0;34m)\u001b[0m\u001b[0;34m\u001b[0m\u001b[0;34m\u001b[0m\u001b[0m\n\u001b[0m\u001b[1;32m    955\u001b[0m       \u001b[0;32mif\u001b[0m \u001b[0mself\u001b[0m\u001b[0;34m.\u001b[0m\u001b[0m_created_variables\u001b[0m \u001b[0;32mand\u001b[0m \u001b[0;32mnot\u001b[0m \u001b[0mALLOW_DYNAMIC_VARIABLE_CREATION\u001b[0m\u001b[0;34m:\u001b[0m\u001b[0;34m\u001b[0m\u001b[0;34m\u001b[0m\u001b[0m\n\u001b[1;32m    956\u001b[0m         raise ValueError(\"Creating variables on a non-first call to a function\"\n",
            "\u001b[0;32m/usr/local/lib/python3.7/dist-packages/tensorflow/python/eager/function.py\u001b[0m in \u001b[0;36m__call__\u001b[0;34m(self, *args, **kwargs)\u001b[0m\n\u001b[1;32m   2955\u001b[0m        filtered_flat_args) = self._maybe_define_function(args, kwargs)\n\u001b[1;32m   2956\u001b[0m     return graph_function._call_flat(\n\u001b[0;32m-> 2957\u001b[0;31m         filtered_flat_args, captured_inputs=graph_function.captured_inputs)  # pylint: disable=protected-access\n\u001b[0m\u001b[1;32m   2958\u001b[0m \u001b[0;34m\u001b[0m\u001b[0m\n\u001b[1;32m   2959\u001b[0m   \u001b[0;34m@\u001b[0m\u001b[0mproperty\u001b[0m\u001b[0;34m\u001b[0m\u001b[0;34m\u001b[0m\u001b[0m\n",
            "\u001b[0;32m/usr/local/lib/python3.7/dist-packages/tensorflow/python/eager/function.py\u001b[0m in \u001b[0;36m_call_flat\u001b[0;34m(self, args, captured_inputs, cancellation_manager)\u001b[0m\n\u001b[1;32m   1852\u001b[0m       \u001b[0;31m# No tape is watching; skip to running the function.\u001b[0m\u001b[0;34m\u001b[0m\u001b[0;34m\u001b[0m\u001b[0;34m\u001b[0m\u001b[0m\n\u001b[1;32m   1853\u001b[0m       return self._build_call_outputs(self._inference_function.call(\n\u001b[0;32m-> 1854\u001b[0;31m           ctx, args, cancellation_manager=cancellation_manager))\n\u001b[0m\u001b[1;32m   1855\u001b[0m     forward_backward = self._select_forward_and_backward_functions(\n\u001b[1;32m   1856\u001b[0m         \u001b[0margs\u001b[0m\u001b[0;34m,\u001b[0m\u001b[0;34m\u001b[0m\u001b[0;34m\u001b[0m\u001b[0m\n",
            "\u001b[0;32m/usr/local/lib/python3.7/dist-packages/tensorflow/python/eager/function.py\u001b[0m in \u001b[0;36mcall\u001b[0;34m(self, ctx, args, cancellation_manager)\u001b[0m\n\u001b[1;32m    502\u001b[0m               \u001b[0minputs\u001b[0m\u001b[0;34m=\u001b[0m\u001b[0margs\u001b[0m\u001b[0;34m,\u001b[0m\u001b[0;34m\u001b[0m\u001b[0;34m\u001b[0m\u001b[0m\n\u001b[1;32m    503\u001b[0m               \u001b[0mattrs\u001b[0m\u001b[0;34m=\u001b[0m\u001b[0mattrs\u001b[0m\u001b[0;34m,\u001b[0m\u001b[0;34m\u001b[0m\u001b[0;34m\u001b[0m\u001b[0m\n\u001b[0;32m--> 504\u001b[0;31m               ctx=ctx)\n\u001b[0m\u001b[1;32m    505\u001b[0m         \u001b[0;32melse\u001b[0m\u001b[0;34m:\u001b[0m\u001b[0;34m\u001b[0m\u001b[0;34m\u001b[0m\u001b[0m\n\u001b[1;32m    506\u001b[0m           outputs = execute.execute_with_cancellation(\n",
            "\u001b[0;32m/usr/local/lib/python3.7/dist-packages/tensorflow/python/eager/execute.py\u001b[0m in \u001b[0;36mquick_execute\u001b[0;34m(op_name, num_outputs, inputs, attrs, ctx, name)\u001b[0m\n\u001b[1;32m     53\u001b[0m     \u001b[0mctx\u001b[0m\u001b[0;34m.\u001b[0m\u001b[0mensure_initialized\u001b[0m\u001b[0;34m(\u001b[0m\u001b[0;34m)\u001b[0m\u001b[0;34m\u001b[0m\u001b[0;34m\u001b[0m\u001b[0m\n\u001b[1;32m     54\u001b[0m     tensors = pywrap_tfe.TFE_Py_Execute(ctx._handle, device_name, op_name,\n\u001b[0;32m---> 55\u001b[0;31m                                         inputs, attrs, num_outputs)\n\u001b[0m\u001b[1;32m     56\u001b[0m   \u001b[0;32mexcept\u001b[0m \u001b[0mcore\u001b[0m\u001b[0;34m.\u001b[0m\u001b[0m_NotOkStatusException\u001b[0m \u001b[0;32mas\u001b[0m \u001b[0me\u001b[0m\u001b[0;34m:\u001b[0m\u001b[0;34m\u001b[0m\u001b[0;34m\u001b[0m\u001b[0m\n\u001b[1;32m     57\u001b[0m     \u001b[0;32mif\u001b[0m \u001b[0mname\u001b[0m \u001b[0;32mis\u001b[0m \u001b[0;32mnot\u001b[0m \u001b[0;32mNone\u001b[0m\u001b[0;34m:\u001b[0m\u001b[0;34m\u001b[0m\u001b[0;34m\u001b[0m\u001b[0m\n",
            "\u001b[0;31mKeyboardInterrupt\u001b[0m: "
          ]
        }
      ],
      "source": [
        "#print(generator_object.generator_model.evaluate({\"labels\": classification_onehots[1000:2000],\"sequences\":token_list_states[:1000]}, token_actions[1000:2000]))\n",
        "print(gan_object.get_average_score(generated_values[0], generated_values[1]))"
      ]
    },
    {
      "cell_type": "markdown",
      "metadata": {
        "id": "BRUMyn_YKRal"
      },
      "source": [
        ""
      ]
    },
    {
      "cell_type": "code",
      "execution_count": null,
      "metadata": {
        "colab": {
          "base_uri": "https://localhost:8080/"
        },
        "id": "il9_nF4HBXgC",
        "outputId": "fb43380e-eb95-497f-e990-81d4a0b1f0f1"
      },
      "outputs": [
        {
          "name": "stdout",
          "output_type": "stream",
          "text": [
            "Archive:  tweet_emotions.csv.zip\n",
            "  inflating: tweet_emotions.csv      \n"
          ]
        }
      ],
      "source": [
        "!unzip tweet_emotions.csv.zip"
      ]
    },
    {
      "cell_type": "code",
      "execution_count": null,
      "metadata": {
        "colab": {
          "base_uri": "https://localhost:8080/"
        },
        "id": "iIbDlTAbylDR",
        "outputId": "76adfb93-5dea-48cf-ea7a-08e01f03b7b0"
      },
      "outputs": [
        {
          "name": "stdout",
          "output_type": "stream",
          "text": [
            "Archive:  archive.zip\n",
            "  inflating: emotion-labels-test.csv  \n",
            "  inflating: emotion-labels-train.csv  \n",
            "  inflating: emotion-labels-val.csv  \n"
          ]
        }
      ],
      "source": [
        "!unzip archive.zip"
      ]
    }
  ],
  "metadata": {
    "colab": {
      "collapsed_sections": [],
      "name": "ResearchProject.ipynb",
      "provenance": [],
      "mount_file_id": "1u5ixrIEMlYhW8BpZXjeNiNUkllfTaV_3",
      "authorship_tag": "ABX9TyN46zHc7Fj9M3EjyO8RKDbX",
      "include_colab_link": true
    },
    "kernelspec": {
      "display_name": "Python 3",
      "name": "python3"
    },
    "language_info": {
      "name": "python"
    }
  },
  "nbformat": 4,
  "nbformat_minor": 0
}