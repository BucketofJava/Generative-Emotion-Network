{
  "cells": [
    {
      "cell_type": "markdown",
      "metadata": {
        "id": "view-in-github",
        "colab_type": "text"
      },
      "source": [
        "<a href=\"https://colab.research.google.com/github/BucketofJava/Generative-Emotion-Network/blob/main/ResearchProject.ipynb\" target=\"_parent\"><img src=\"https://colab.research.google.com/assets/colab-badge.svg\" alt=\"Open In Colab\"/></a>"
      ]
    },
    {
      "cell_type": "code",
      "execution_count": null,
      "metadata": {
        "id": "3LsI1CSx-a1v"
      },
      "outputs": [],
      "source": [
        "import os\n",
        "import numpy as np"
      ]
    },
    {
      "cell_type": "code",
      "source": [
        "import pandas as pd\n",
        "pd.set_option('display.width', 17000)\n",
        "df=pd.read_csv(\"emotion-labels-train.csv\");\n",
        "df=df.sample(n=8)\n",
        "\n",
        "df.head(n=8)\n"
      ],
      "metadata": {
        "id": "oowsJNliLzdM"
      },
      "execution_count": null,
      "outputs": []
    },
    {
      "cell_type": "markdown",
      "metadata": {
        "id": "7Pvg2Vye0MvG"
      },
      "source": [
        "# Import and format text and emotion data"
      ]
    },
    {
      "cell_type": "code",
      "execution_count": null,
      "metadata": {
        "id": "aieGiMB8SGyf"
      },
      "outputs": [],
      "source": [
        "whitelistchars=['\\n', ' ', '!', '\"', \"'\", ',', '-', '.', '/', '0', '1', '2', '3', '4', '5', '6', '7', '8', '9', ':', ';', '=', '?', '\\\\', '`', 'a', 'b', 'c', 'd', 'e', 'f', 'g', 'h', 'i', 'j', 'k', 'l', \n",
        "                'm', 'n', 'o', 'p', 'q', 'r', 's', 't', 'u', 'v', 'w', 'x', 'y', 'z', '|', '~', '\\xa0', '£', '´', '»', 'é', 'ñ', 'ó','–', '—', '―', '‘', '’', '“', '”', '•', '…', '‼', '™']"
      ]
    },
    {
      "cell_type": "code",
      "execution_count": null,
      "metadata": {
        "id": "lo1Bg_DKsBgp"
      },
      "outputs": [],
      "source": [
        "texts=[]\n",
        "emotions=[]\n",
        "emotionlabels=[]\n",
        "emotionlist=[\"joy\", \"sadness\", \"anger\", \"fear\"]\n",
        "f=open(\"/content/emotion-labels-train.csv\", \"r\")\n",
        "current_line=f.readline()\n",
        "def processtweet(tweet):\n",
        "  twot=tweet.split(\" \")\n",
        "  toremove=[]\n",
        "  hashtags=[]\n",
        "  for i in range(len(twot)):\n",
        "    blacklistedchars=\"#$%^&*()_+{}[]\"\n",
        "    if(\"@\" in twot[i]):\n",
        "      toremove.append(i)\n",
        "    if(\"#\" in twot[i]):\n",
        "      hashtags.append(i)\n",
        "    else:\n",
        "      hashtags=[]\n",
        "    for j in twot[i]:\n",
        "      if(not j.lower() in whitelistchars):\n",
        "        blacklistedchars=blacklistedchars+j\n",
        "    for j in blacklistedchars:\n",
        "      twot[i]=twot[i].replace(j, '')\n",
        "  toremove=toremove+hashtags\n",
        "  for i in range(len(toremove)):\n",
        "    twot.pop(toremove[i]-i)\n",
        "  return \" \".join(twot)\n",
        "while(\",\" in current_line):\n",
        "  row=current_line.split(\",\")\n",
        "  labelname=row[len(row)-1].lower().replace(\" \", \"\").replace(\"\\n\", \"\")\n",
        "  if(not labelname in emotionlist):\n",
        "    current_line=f.readline()\n",
        "    continue\n",
        "  texts.append(processtweet(\",\".join(row[:len(row)-1])))\n",
        "  emotionlabels.append(row[len(row)-1].lower().replace(\" \", \"\").replace(\"\\n\", \"\"))\n",
        "  emotions.append(emotionlist.index(row[len(row)-1].lower().replace(\" \", \"\").replace(\"\\n\", \"\")))\n",
        "  current_line=f.readline()\n",
        "f.close()\n",
        "f=open(\"/content/emotion-labels-test.csv\")\n",
        "current_line=f.readline()\n",
        "while(\",\" in current_line):\n",
        "  row=current_line.split(\",\")\n",
        "  labelname=row[len(row)-1].lower().replace(\" \", \"\").replace(\"\\n\", \"\")\n",
        "  if(not labelname in emotionlist):\n",
        "    current_line=f.readline()\n",
        "    continue\n",
        "  texts.append(processtweet(\",\".join(row[:len(row)-1])))\n",
        "  emotionlabels.append(row[len(row)-1].lower().replace(\" \", \"\").replace(\"\\n\", \"\"))\n",
        "  emotions.append(emotionlist.index(row[len(row)-1].lower().replace(\" \", \"\").replace(\"\\n\", \"\")))\n",
        "  current_line=f.readline()\n",
        "f.close()                                                                                                                                                                                                                                                                                                                                                                    \n",
        "#index=int(len(texts)*.8)\n",
        "print(len(emotions))\n",
        "from keras.utils.np_utils import to_categorical\n",
        "emotions = to_categorical(emotions)"
      ]
    },
    {
      "cell_type": "code",
      "execution_count": null,
      "metadata": {
        "id": "SjUWNHS5lzyp"
      },
      "outputs": [],
      "source": [
        "from keras.preprocessing.text import Tokenizer\n",
        "from keras.preprocessing.sequence import pad_sequences\n",
        "\n",
        "texts_new=texts.copy()\n",
        "for i in range(len(texts)):\n",
        "  endstring=\"ENDTOKEN\"\n",
        "  if(not texts[i][len(texts[i])-1]==\" \"):\n",
        "    endstring=\" ENDTOKEN\"\n",
        "  texts_new[i]=\"STARTOKEN \"+texts[i]+endstring;\n",
        "gen_tokenizer=Tokenizer(num_words=10000)\n",
        "gen_tokenizer.fit_on_texts(texts_new);\n",
        "token_sequences=gen_tokenizer.texts_to_sequences(texts_new);\n",
        "token_list_states=[]\n",
        "token_actions=[]\n",
        "gan_list_states=[]\n",
        "gan_classification_onehots=[]\n",
        "gan_actions=[]\n",
        "classification_onehots=[]\n",
        "for token_sequence_index in range(len(token_sequences)):\n",
        "  token_sequence=token_sequences[token_sequence_index]\n",
        "\n",
        "  for i in range(1, len(token_sequence)):\n",
        "    token_list_states.append(token_sequence[:i])\n",
        "    classification_onehots.append(emotions[token_sequence_index])\n",
        "    token_actions.append([token_sequence[i]])\n",
        "    if(i+1>=len(token_sequence)):\n",
        "      gan_list_states.append(token_sequence[:i])\n",
        "     # print(token_sequence)\n",
        "      gan_classification_onehots.append(emotions[token_sequence_index])\n",
        "      gan_actions.append([token_sequence[i]])\n",
        "token_list_states=np.array(pad_sequences(token_list_states, maxlen=64))\n",
        "gan_list_states=np.array(pad_sequences(gan_list_states, maxlen=64))\n",
        "classification_onehots=np.array(classification_onehots)\n",
        "gan_classification_onehots=np.array(gan_classification_onehots)\n",
        "print(gen_tokenizer.word_index)\n",
        "token_actions=to_categorical(np.stack(token_actions, axis=0), num_classes=len(gen_tokenizer.word_index))\n",
        "gan_actions=to_categorical(np.stack(gan_actions, axis=0), num_classes=len(gen_tokenizer.word_index))\n",
        "print(token_actions)\n",
        "print(classification_onehots)\n",
        "\n"
      ]
    },
    {
      "cell_type": "markdown",
      "metadata": {
        "id": "NTQDKmSaub0P"
      },
      "source": [
        "#Classifier Model"
      ]
    },
    {
      "cell_type": "code",
      "source": [
        "x_train=np.array(pad_sequences(token_sequences, maxlen=200))\n",
        "y_train=np.array(emotions)\n",
        "shuffled_indices=np.arange(6755)\n",
        "np.random.shuffle(shuffled_indices)\n",
        "x_train=x_train[shuffled_indices]\n",
        "y_train=y_train[shuffled_indices]"
      ],
      "metadata": {
        "id": "CF0wPmeJiKl6"
      },
      "execution_count": null,
      "outputs": []
    },
    {
      "cell_type": "code",
      "execution_count": null,
      "metadata": {
        "id": "8gBWBJtWAmmj"
      },
      "outputs": [],
      "source": [
        "\n",
        "from keras.models import Sequential\n",
        "from keras.layers import Embedding, Flatten, Dense, Maximum, LSTM, GRU, Conv1D, MaxPooling1D, Bidirectional\n",
        "\n",
        "# print(len(emotionlabels))\n",
        "# print(len(texts))\n",
        "# print(x_train)\n",
        "# print(y_train)\n",
        "# print(x_train.shape)\n",
        "# print(y_train.shape)\n",
        "classifier = Sequential()\n",
        "classifier.add(Embedding(12844, 100, name=\"Embedding\"))\n",
        "classifier.add(Conv1D(32, 2, name=\"Conv1D\")) \n",
        "classifier.add(Bidirectional(LSTM(100, name=\"LSTM\"), name=\"Bidirectional\"))\n",
        "classifier.add(Dense(100, activation='relu', name=\"Dense-ReLU\"))\n",
        "classifier.add(Dense(4, activation='softmax', name=\"Dense-Softmax\"))\n",
        "classifier.summary()\n",
        "classifier.compile(optimizer='rmsprop', loss='categorical_crossentropy',\n",
        "metrics=['acc']) \n",
        "stop_index=int(len(x_train)*.95)\n",
        "# print(stop_index/len(x_train))\n"
      ]
    },
    {
      "cell_type": "code",
      "source": [
        "from keras.utils.vis_utils import plot_model\n",
        "plot_model(classifier, show_layer_activations=True, show_layer_names=False, show_shapes=True, rankdir=\"LR\")"
      ],
      "metadata": {
        "id": "dC7vrICuj_ds"
      },
      "execution_count": null,
      "outputs": []
    },
    {
      "cell_type": "code",
      "execution_count": null,
      "metadata": {
        "id": "absldyDkuMzZ"
      },
      "outputs": [],
      "source": [
        "classifier = Sequential()\n",
        "classifier.add(Embedding(12844, 100))\n",
        "classifier.add(Conv1D(32, 4, padding=\"causal\")) \n",
        "classifier.add(Bidirectional(LSTM(100)))\n",
        "classifier.add(Dense(100, activation='relu'))\n",
        "classifier.add(Dense(4, activation='softmax'))\n",
        "classifier.summary()\n",
        "classifier.compile(optimizer='rmsprop', \n",
        "loss='categorical_crossentropy',\n",
        "metrics=['acc']) "
      ]
    },
    {
      "cell_type": "code",
      "execution_count": null,
      "metadata": {
        "id": "4H-VWqNTRBq2"
      },
      "outputs": [],
      "source": [
        "history = classifier.fit(x_train[:stop_index], y_train[:stop_index], \n",
        "                         epochs=8, batch_size=32, validation_split=0.05)\n",
        "score=classifier.evaluate(x_train[stop_index:],\n",
        "                          y_train[stop_index:])\n",
        "\n",
        "print(score)"
      ]
    },
    {
      "cell_type": "code",
      "execution_count": null,
      "metadata": {
        "id": "IVJ10TNHa4ur"
      },
      "outputs": [],
      "source": [
        "import matplotlib.pyplot as plt\n",
        "print(history.history.keys())\n",
        "#plt.plot(history.history['acc'])\n",
        "plt.plot([0]+history.history['val_acc'])\n",
        "plt.ylabel(\"Validation Accuracy\")\n",
        "plt.xlabel(\"Number of Epochs\")\n",
        "plt.grid(True)\n",
        "plt.xlim(1, 8)\n",
        "plt.ylim(0.5, 0.9)\n",
        "plt.title(\"Validation Accuracy Over Training Time\")\n",
        "plt.show()"
      ]
    },
    {
      "cell_type": "code",
      "execution_count": null,
      "metadata": {
        "id": "ShKrOkXX-g-P"
      },
      "outputs": [],
      "source": [
        "from keras.models import save_model\n",
        "classifier.save(\"/content/drive/MyDrive/Saved_Models/classifier_model\")"
      ]
    },
    {
      "cell_type": "code",
      "execution_count": null,
      "metadata": {
        "id": "zg2tYfOz_Q34"
      },
      "outputs": [],
      "source": [
        "from keras.models import load_model\n",
        "classifier=load_model(\"/content/drive/MyDrive/Saved_Models/classifier_model\")"
      ]
    },
    {
      "cell_type": "code",
      "execution_count": null,
      "metadata": {
        "id": "48uGVTyQtXkq"
      },
      "outputs": [],
      "source": [
        "def classify_text(text):\n",
        "  text=[text]\n",
        "  text=tokenizer.texts_to_sequences(text)\n",
        "  text=pad_sequences(text, maxlen=maxlen)\n",
        "  return emotionlist[classifier.predict(text).argmax()]\n",
        "def text_probs(text):\n",
        "  text=[text]\n",
        "  text=tokenizer.texts_to_sequences(text)\n",
        "  text=pad_sequences(text, maxlen=maxlen)\n",
        "  return model.predict(text)\n",
        "def classify_texts(texts):\n",
        "  texts=tokenizer.texts_to_sequences(texts)\n",
        "  texts=pad_sequences(texts, maxlen=maxlen)\n",
        "  return classifier.predict(texts)\n",
        "#classify_text(\"Put something here\")\n",
        "xx=x_train[stop_index:]\n",
        "yy=y_train[stop_index:]\n",
        "o=model.predict(xx)\n",
        "joy=[0, 0]\n",
        "anger=[0, 0]\n",
        "sadness=[0, 0]\n",
        "fear=[0, 0]\n",
        "emdict={\"joy\":joy, \"anger\":anger, \"sadness\":sadness, \"fear\":fear}\n",
        "for i in range(len(o)):\n",
        "  emdict[emotionlist[yy[i].argmax(axis=0)]][0]=emdict[emotionlist[yy[i].argmax(axis=0)]][0]+1\n",
        "  if(o[i].argmax(axis=0)==yy[i].argmax(axis=0)):\n",
        "    emdict[emotionlist[yy[i].argmax(axis=0)]][1]=emdict[emotionlist[yy[i].argmax(axis=0)]][1]+1\n",
        "print(\"joy: {}%\\nanger: {}%\\nsadness: {}%\\nfear: {}%\".format(joy[1]/joy[0], anger[1]/anger[0], sadness[1]/sadness[0], fear[1]/fear[0]))\n"
      ]
    },
    {
      "cell_type": "code",
      "execution_count": null,
      "metadata": {
        "id": "8jOOe5KKzESW"
      },
      "outputs": [],
      "source": [
        ""
      ]
    },
    {
      "cell_type": "code",
      "execution_count": null,
      "metadata": {
        "colab": {
          "base_uri": "https://localhost:8080/"
        },
        "id": "chBzr0bfPyFC",
        "outputId": "6e96d739-b096-4fb1-f8a4-dfa30cc5c280"
      },
      "outputs": [
        {
          "name": "stdout",
          "output_type": "stream",
          "text": [
            "anger\n"
          ]
        }
      ],
      "source": [
        "print(classify_text(\"I hate you\"))"
      ]
    },
    {
      "cell_type": "code",
      "execution_count": null,
      "metadata": {
        "colab": {
          "base_uri": "https://localhost:8080/"
        },
        "id": "VIrXVIwuy6-m",
        "outputId": "4c2ef186-891d-4c77-faa0-6313704a1177"
      },
      "outputs": [
        {
          "name": "stdout",
          "output_type": "stream",
          "text": [
            "fear\n"
          ]
        }
      ],
      "source": [
        "print(classify_text(\"He was large and menacing\"))"
      ]
    },
    {
      "cell_type": "code",
      "execution_count": null,
      "metadata": {
        "colab": {
          "base_uri": "https://localhost:8080/"
        },
        "id": "L_V_zn3ly-YZ",
        "outputId": "b6447b69-d3c9-4262-b56a-c823b3f20411"
      },
      "outputs": [
        {
          "name": "stdout",
          "output_type": "stream",
          "text": [
            "sadness\n"
          ]
        }
      ],
      "source": [
        "print(classify_text(\"Life feels meaningless at the moment\"))"
      ]
    },
    {
      "cell_type": "code",
      "execution_count": null,
      "metadata": {
        "colab": {
          "base_uri": "https://localhost:8080/"
        },
        "id": "1x0z68uz1C1o",
        "outputId": "f3e343d5-3964-4254-a6a9-8308f93cb94b"
      },
      "outputs": [
        {
          "name": "stdout",
          "output_type": "stream",
          "text": [
            "joy\n"
          ]
        }
      ],
      "source": [
        "print(classify_text(\"Today is a beautiful day\"))"
      ]
    },
    {
      "cell_type": "markdown",
      "metadata": {
        "id": "GNtRJUPg1pnJ"
      },
      "source": [
        "# Re-tokenize and format data for the generator"
      ]
    },
    {
      "cell_type": "code",
      "execution_count": null,
      "metadata": {
        "id": "c_Ke5dNR_tkA"
      },
      "outputs": [],
      "source": [
        "texts_new=texts.copy()\n",
        "for i in range(len(texts)):\n",
        "  endstring=\"ENDTOKEN\"\n",
        "  if(not texts[i][len(texts[i])-1]==\" \"):\n",
        "    endstring=\" ENDTOKEN\"\n",
        "  texts_new[i]=\"STARTOKEN \"+texts[i]+endstring;\n",
        "gen_tokenizer=Tokenizer(num_words=10000)\n",
        "gen_tokenizer.fit_on_texts(texts_new);\n",
        "token_sequences=gen_tokenizer.texts_to_sequences(texts_new);\n",
        "token_list_states=[]\n",
        "token_actions=[]\n",
        "gan_list_states=[]\n",
        "gan_classification_onehots=[]\n",
        "gan_actions=[]\n",
        "classification_onehots=[]\n",
        "for token_sequence_index in range(len(token_sequences)):\n",
        "  token_sequence=token_sequences[token_sequence_index]\n",
        "\n",
        "  for i in range(1, len(token_sequence)):\n",
        "    token_list_states.append(token_sequence[:i])\n",
        "    classification_onehots.append(emotions[token_sequence_index])\n",
        "    token_actions.append([token_sequence[i]])\n",
        "    if(i+1>=len(token_sequence)):\n",
        "      gan_list_states.append(token_sequence[:i])\n",
        "     # print(token_sequence)\n",
        "      gan_classification_onehots.append(emotions[token_sequence_index])\n",
        "      gan_actions.append([token_sequence[i]])\n",
        "token_list_states=np.array(pad_sequences(token_list_states, maxlen=64))\n",
        "gan_list_states=np.array(pad_sequences(gan_list_states, maxlen=64))\n",
        "classification_onehots=np.array(classification_onehots)\n",
        "gan_classification_onehots=np.array(gan_classification_onehots)\n",
        "print(gen_tokenizer.word_index)\n",
        "token_actions=to_categorical(np.stack(token_actions, axis=0), num_classes=len(gen_tokenizer.word_index))\n",
        "gan_actions=to_categorical(np.stack(gan_actions, axis=0), num_classes=len(gen_tokenizer.word_index))\n",
        "print(token_actions)\n",
        "print(classification_onehots)\n",
        "\n"
      ]
    },
    {
      "cell_type": "markdown",
      "metadata": {
        "id": "y0J_-F-2umOw"
      },
      "source": [
        "#Generator Model"
      ]
    },
    {
      "cell_type": "code",
      "execution_count": null,
      "metadata": {
        "id": "TBq2nsVbx-T8"
      },
      "outputs": [],
      "source": [
        "from keras.layers import *"
      ]
    },
    {
      "cell_type": "code",
      "execution_count": null,
      "metadata": {
        "id": "_sAM3r7JjohT"
      },
      "outputs": [],
      "source": [
        "\n",
        "from keras import Model\n",
        "classification_label=Input(shape=(4,), name=\"labels\")\n",
        "classification_result=Dense(64)(classification_label)\n",
        "token_input=Input(shape=(64,), name=\"sequences\")\n",
        "token_result=Embedding(len(gen_tokenizer.word_index), 100)(token_input)\n",
        "token_result=Conv1D(32, 2)(token_result)\n",
        "token_result=Reshape((63, 32))(token_result)\n",
        "token_result=GRU(64)(token_result)\n",
        "concatenated_inputs=Concatenate(axis=1)([classification_result, token_result])\n",
        "concatenated_inputs=Dense(len(gen_tokenizer.word_index), activation=\"softmax\")(concatenated_inputs)\n",
        "generator_model=Model(inputs=[classification_label, token_input], outputs=concatenated_inputs)\n",
        "generator_model.compile(optimizer=\"adam\", loss=\"categorical_crossentropy\", metrics=[\"acc\"])\n",
        "\n",
        "#generator_model.fit(x={\"labels\":classification_onehots, \"sequences\":token_list_states}, y=token_actions, validation_split=0.05)"
      ]
    },
    {
      "cell_type": "code",
      "source": [
        "generator_model.fit(x={\"labels\":classification_onehots, \"sequences\":token_list_states}, y=token_actions, validation_split=0.05)"
      ],
      "metadata": {
        "id": "OGctzqELjfs1",
        "colab": {
          "base_uri": "https://localhost:8080/"
        },
        "outputId": "47e827ff-9aad-4ded-c8d6-6697eb623760"
      },
      "execution_count": null,
      "outputs": [
        {
          "output_type": "stream",
          "name": "stdout",
          "text": [
            "3110/3110 [==============================] - 227s 72ms/step - loss: 6.8605 - acc: 0.0790 - val_loss: 6.3212 - val_acc: 0.0911\n"
          ]
        },
        {
          "output_type": "execute_result",
          "data": {
            "text/plain": [
              "<keras.callbacks.History at 0x7f5c9a85cdd0>"
            ]
          },
          "metadata": {},
          "execution_count": 13
        }
      ]
    },
    {
      "cell_type": "code",
      "source": [
        "plot_model(generator_model, show_layer_activations=True, show_layer_names=False, show_shapes=True, rankdir=\"LR\")"
      ],
      "metadata": {
        "id": "AZnxLBnCjnaP"
      },
      "execution_count": null,
      "outputs": []
    },
    {
      "cell_type": "code",
      "source": [
        "generator_model.load_weights(\"/content/drive/MyDrive/Saved_Models/Feb 28/generator_weights.h5\")"
      ],
      "metadata": {
        "id": "DqxXgPqh7fAu"
      },
      "execution_count": null,
      "outputs": []
    },
    {
      "cell_type": "code",
      "source": [
        ""
      ],
      "metadata": {
        "id": "fG599C1B7pHM"
      },
      "execution_count": null,
      "outputs": []
    },
    {
      "cell_type": "code",
      "execution_count": null,
      "metadata": {
        "id": "uaVNkKGr_a16"
      },
      "outputs": [],
      "source": [
        "from keras.models import save_model\n",
        "generator_model.save(\"/content/drive/MyDrive/Saved_Models/generator_model\")"
      ]
    },
    {
      "cell_type": "code",
      "execution_count": null,
      "metadata": {
        "id": "L-nDZjbt_kWi"
      },
      "outputs": [],
      "source": [
        "from keras.models import load_model\n",
        "generator_model=load_model(\"/content/drive/MyDrive/Saved_Models/generator_model\")"
      ]
    },
    {
      "cell_type": "code",
      "execution_count": null,
      "metadata": {
        "id": "sb80vxie9C-N"
      },
      "outputs": [],
      "source": [
        "print(gen_tokenizer)"
      ]
    },
    {
      "cell_type": "code",
      "execution_count": null,
      "metadata": {
        "id": "GLRf35tnFQPS"
      },
      "outputs": [],
      "source": [
        "s=\"Emil is \"\n",
        "for i in range(20):\n",
        "   s+=\" \"+list(gen_tokenizer.word_index.keys())[roll_index(generator_model.predict(x={\"labels\":np.array([[0, 0.6, 0.4, 0]]), \n",
        "                                  \"sequences\":pad_sequences(gen_tokenizer.texts_to_sequences([s]), \n",
        "                                                            maxlen=64)})[0])]\n",
        "print(s)\n"
      ]
    },
    {
      "cell_type": "markdown",
      "metadata": {
        "id": "SuOXtQ5_L8RV"
      },
      "source": [
        "#Define Classes"
      ]
    },
    {
      "cell_type": "markdown",
      "metadata": {
        "id": "pQtqQdcat4lt"
      },
      "source": [
        "##Generator Class"
      ]
    },
    {
      "cell_type": "code",
      "execution_count": null,
      "metadata": {
        "id": "XmJABGbmL7WX"
      },
      "outputs": [],
      "source": [
        "class Generator():\n",
        "  def __init__(self, generator_model, generator_loss_function, generator_optimizer):\n",
        "    self.generator_model=generator_model;\n",
        "    self.generator_loss_function=generator_loss_function;\n",
        "    self.generator_optimizer=generator_optimizer;\n",
        "  def pre_train(self, x_data, classification_target, y_data, g_epochs):\n",
        "    self.generator_model.fit([classification_target, x_data], y_data, epochs=g_epochs)\n",
        "  def computePolicyGradient(self, states, classification_targets, aprobs, rewards, learning_rate):\n",
        "    with tf.GradientTape() as tape:\n",
        "      newaprobs=self.generator_model([classification_targets, states])\n",
        "      generator_loss=self.generator_loss_function(aprobs*rewards, newaprobs)\n",
        "      generator_loss+=self.generator_model.losses\n",
        "    generator_gradient=tape.gradient(generator_loss, self.generator_model.trainable_weights)\n",
        "    self.generator_optimizer.apply_gradients(zip(generator_gradient, self.generator_model.trainable_weights))\n",
        "  def getScore(self, classification_targets, sequence_data, y_data):\n",
        "    return self.generator_model.evaluate({\"labels\":classification_targets, \"sequences\":sequence_data}, y_data)\n",
        "  def generateBatch(self, amount, seed_set=None, g_targets=None):\n",
        "    seeds=seed_set;\n",
        "    if(seed_set==None):\n",
        "      basic_seed=np.zeros(64)\n",
        "      basic_seed[63]=1;\n",
        "      basic_seed=np.array([basic_seed])\n",
        "      seeds=np.repeat(basic_seed, amount, axis=0)\n",
        "    generator_targets=g_targets\n",
        "    if(g_targets==None):\n",
        "      generator_targets=[]\n",
        "      for i in range(amount):\n",
        "        generator_targets.append(getRandomProbabilityVector(4));\n",
        "      generator_targets=np.array(generator_targets)\n",
        "    #print(seeds.shape)\n",
        "    #print(generator_targets.shape)\n",
        "    generator_results=[]\n",
        "    for i in range(len(seeds)):\n",
        "      print(i)\n",
        "      seed=seeds[i] \n",
        "      c=0;\n",
        "      current_sequence=seed[seed!=0]\n",
        "      \n",
        "      while c<20:\n",
        "        generated_token=roll_index(self.generator_model.predict_on_batch({\"labels\": np.array([generator_targets[i]]), \"sequences\": pad_sequences([current_sequence], maxlen=64)})[0])\n",
        "        #print(generated_token)\n",
        "        if(c>=19):\n",
        "          generated_token=2\n",
        "        current_sequence=np.append(current_sequence, generated_token)\n",
        "        if(generated_token==2):\n",
        "          break;\n",
        "        c+=1;\n",
        "      generator_results.append(current_sequence)\n",
        "    #print(generator_results)\n",
        "    generator_results=pad_sequences(np.array(generator_results), maxlen=64)\n",
        "    return generator_results, generator_targets"
      ]
    },
    {
      "cell_type": "markdown",
      "metadata": {
        "id": "E9zv5Lmlt-Wi"
      },
      "source": [
        "##Discriminator Class"
      ]
    },
    {
      "cell_type": "code",
      "execution_count": null,
      "metadata": {
        "id": "mqOaLaUdQCts"
      },
      "outputs": [],
      "source": [
        "import random\n",
        "class Discriminator():\n",
        "  def __init__(self, discriminator_model, discriminator_loss_function, discriminator_optimizer):\n",
        "    self.discriminator_model=discriminator_model;\n",
        "\n",
        "    self.discrimnator_loss_function=discriminator_loss_function;\n",
        "    self.discriminator_optimizer=discriminator_optimizer\n",
        "  def train(self, real_x, real_y, generator, d_split, d_epochs=1):\n",
        "    y_tokens=[]\n",
        "    for i in (real_y):\n",
        "       y_tokens.append(roll_index(i))\n",
        "    y_tokens=np.array([y_tokens]).T\n",
        "    x_data_real=np.concatenate((real_x[1], y_tokens), axis=1)\n",
        "    x_data_real=np.delete(x_data_real, 0, axis=1)\n",
        "    x_data_fake=generator.generateBatch(real_x[1].shape[0])[0]\n",
        "    for i in range(d_epochs):\n",
        "      real_variance=[]\n",
        "      fake_variance=[]\n",
        "      for i in range(int(x_data_real.shape[0])):\n",
        "        real_variance.append(random.randint(0, 20)/100)\n",
        "        fake_variance.append(random.randint(0, 20)/100)\n",
        "      np.random.shuffle(real_variance)\n",
        "      np.random.shuffle(fake_variance) \n",
        "      y_data_real, y_data_fake=np.ones(x_data_real.shape[0])-real_variance, np.zeros(x_data_fake.shape[0])+fake_variance\n",
        "      current_index=0\n",
        "      length_fraction_real=int(x_data_real.shape[0]/d_split)\n",
        "      length_fraction_fake=int(x_data_fake.shape[0]/d_split)\n",
        "      index_real_previous=0\n",
        "      index_fake_previous=0\n",
        "      for i in range(d_split+1):\n",
        "        index_real=(i*length_fraction_real)+random.randint(0, length_fraction_real)\n",
        "        index_fake=(i*length_fraction_real)+random.randint(0, length_fraction_fake)\n",
        "        if(i>=d_split):      \n",
        "          self.discriminator_model.train_on_batch(x_data_real[index_real_previous:], y_data_real[index_real_previous:])\n",
        "          self.discriminator_model.train_on_batch(x_data_fake[index_fake_previous:], y_data_fake[index_fake_previous:])\n",
        "        self.discriminator_model.train_on_batch(x_data_real[index_real_previous:index_real], y_data_real[index_real_previous:index_real])\n",
        "        self.discriminator_model.train_on_batch(x_data_fake[index_fake_previous:index_fake], y_data_fake[index_fake_previous:index_fake])\n",
        "  def evaluate_discriminator(self, real_states, real_actions, generator):\n",
        "    action_tokens=[]\n",
        "    for i in (real_actions):\n",
        "       action_tokens.append(roll_index(i))\n",
        "    action_tokens=np.array([action_tokens]).T\n",
        "    x_data_real=np.concatenate((real_states, action_tokens), axis=1)\n",
        "    x_data_real=np.delete(x_data_real, 0, axis=1)\n",
        "    x_data_fake=generator.generateBatch(x_data_real.shape[0])[0]\n",
        "    real_variance=pad_sequences([np.ones(int(x_data_real.shape[0]/5))/100], maxlen=x_data_fake.shape[0])[0]\n",
        "    fake_variance=pad_sequences([np.ones(int(x_data_fake.shape[0]/5))/100], maxlen=x_data_real.shape[0])[0]\n",
        "    np.random.shuffle(real_variance)\n",
        "    np.random.shuffle(fake_variance) \n",
        "    y_data_real, y_data_fake=np.ones(x_data_real.shape[0])-real_variance, np.zeros(x_data_fake.shape[0])+fake_variance\n",
        "    y_data=np.concatenate((y_data_real, y_data_fake), axis=0)\n",
        "    x_data=np.concatenate((x_data_real, x_data_fake), axis=0)\n",
        "    return self.discriminator_model.evaluate(x_data, y_data);\n",
        "  def compute_reward(self, sequence):\n",
        "    print(self.discriminator_model.predict(np.array([sequence]))[0])\n",
        "    return self.discriminator_model.predict(np.array([sequence]))"
      ]
    },
    {
      "cell_type": "markdown",
      "metadata": {
        "id": "4VBpTZ3zzIlO"
      },
      "source": [
        "#Define Discriminator Model\n"
      ]
    },
    {
      "cell_type": "code",
      "execution_count": null,
      "metadata": {
        "id": "4EXrrnSzdEu5"
      },
      "outputs": [],
      "source": [
        "#Createas discriminator model\n",
        "from keras import layers\n",
        "from keras.models import Sequential\n",
        "from keras.optimizers import adam_v2\n",
        "discriminator=Sequential()\n",
        "discriminator.add(Input(64,))\n",
        "discriminator.add(layers.Embedding(len(gen_tokenizer.word_index), 100))\n",
        "discriminator.add(layers.Conv1D(32, 2))\n",
        "discriminator.add(layers.LSTM(32))\n",
        "discriminator.add(layers.Dense(32, activation='relu'))\n",
        "discriminator.add(layers.Dense(1, activation='sigmoid'))\n",
        "\n",
        "discriminator.compile(optimizer=\"adam\", loss=\"binary_crossentropy\", metrics=[\"acc\"])\n"
      ]
    },
    {
      "cell_type": "code",
      "execution_count": null,
      "metadata": {
        "id": "SImFGB1ww2h7"
      },
      "outputs": [],
      "source": [
        "#Createas discriminator model\n",
        "from keras import layers\n",
        "from keras.layers import Input\n",
        "from keras.models import Sequential\n",
        "from keras.optimizers import adam_v2\n",
        "discriminator=Sequential()\n",
        "discriminator.add(Input(64,))\n",
        "discriminator.add(layers.Embedding(12844, 100))\n",
        "discriminator.add(layers.LSTM(32, return_sequences=True))\n",
        "discriminator.add(layers.Conv1D(32, 2))\n",
        "discriminator.add(layers.Conv1D(32, 2))\n",
        "discriminator.add(layers.Conv1D(32, 2))\n",
        "discriminator.add(layers.Conv1D(32, 2))\n",
        "discriminator.add(layers.Conv1D(32, 2))\n",
        "discriminator.add(layers.Conv1D(32, 2))\n",
        "discriminator.add(layers.Conv1D(32, 2))\n",
        "discriminator.add(layers.Conv1D(32, 2))\n",
        "discriminator.add(layers.Conv1D(32, 2))\n",
        "discriminator.add(layers.Conv1D(32, 2))\n",
        "discriminator.add(layers.Conv1D(32, 2))\n",
        "discriminator.add(layers.Conv1D(32, 2))\n",
        "discriminator.add(layers.Bidirectional(layers.LSTM(32)))\n",
        "discriminator.add(layers.Dense(32, activation='relu'))\n",
        "discriminator.add(layers.Dense(1, activation='sigmoid'))\n",
        "\n",
        "discriminator.compile(optimizer=\"adam\", loss=\"binary_crossentropy\", metrics=[\"acc\"])\n"
      ]
    },
    {
      "cell_type": "code",
      "source": [
        "plot_model(discriminator, show_layer_activations=True, show_layer_names=False, show_shapes=True, rankdir=\"LR\")"
      ],
      "metadata": {
        "id": "R0GLPvAlkBPH"
      },
      "execution_count": null,
      "outputs": []
    },
    {
      "cell_type": "code",
      "source": [
        "plot_model(discriminator)"
      ],
      "metadata": {
        "id": "OnoeL-hynP3Z"
      },
      "execution_count": null,
      "outputs": []
    },
    {
      "cell_type": "code",
      "execution_count": null,
      "metadata": {
        "id": "rnZaREf70XYP"
      },
      "outputs": [],
      "source": [
        "from keras.utils.vis_utils import plot_model\n",
        "plot_model(classifier, show_shapes=True, show_dtype=False, show_layer_activations=False)"
      ]
    },
    {
      "cell_type": "markdown",
      "metadata": {
        "id": "gHrO1E2uteM6"
      },
      "source": [
        "\n",
        "#Utility functions"
      ]
    },
    {
      "cell_type": "code",
      "execution_count": null,
      "metadata": {
        "id": "cugEqTOptd8i"
      },
      "outputs": [],
      "source": [
        "import random\n",
        "\n",
        "def getRandomProbabilityVector(length):\n",
        "  probabilityVector=[]\n",
        "  r=0\n",
        "  for i in range(length):\n",
        "    r_increase=random.random();\n",
        "    r+=r_increase\n",
        "    probabilityVector.append(r_increase)\n",
        "  probabilityVector=np.array(probabilityVector)/r\n",
        "  return probabilityVector\n",
        "  "
      ]
    },
    {
      "cell_type": "code",
      "execution_count": null,
      "metadata": {
        "id": "UDtb7ESDMYDf"
      },
      "outputs": [],
      "source": [
        "import math\n",
        "def classifier_loss(classifier_output, classifier_target, weight=1):\n",
        "  current_output_total=0;\n",
        "  current_target_total=0;\n",
        "  total_loss=0;\n",
        "  weight_total=0\n",
        "  for i in range(len(classifier_output)):\n",
        "    if(current_output_total==1): current_output_total-=0.01;\n",
        "    if current_target_total==1: current_target_total-=0.01;\n",
        "    #print(current_output_total)\n",
        "    #print(classifier_output[i])\n",
        "    #print(abs((classifier_output[i]/(1-current_output_total))-(classifier_target[i]/(1-current_target_total))))\n",
        "    total_loss+=(weight**i)*abs((classifier_output[i]/(1-current_output_total))-(classifier_target[i]/(1-current_target_total)))\n",
        "    weight_total+=(weight**i)\n",
        "    current_output_total+=classifier_output[i];\n",
        "    current_target_total+=classifier_target[i];\n",
        "  \n",
        "  print(\"Total Loss: {}\".format(total_loss))\n",
        "\n",
        "  total_loss=total_loss*(len(classifier_output)/weight_total)\n",
        "  \n",
        "  return total_loss\n",
        "\n"
      ]
    },
    {
      "cell_type": "code",
      "execution_count": null,
      "metadata": {
        "id": "iDNtPQ_EDZ7F"
      },
      "outputs": [],
      "source": [
        "for i in range(100):\n",
        "  x=getRandomProbabilityVector(4)\n",
        "  y=getRandomProbabilityVector(4)\n",
        "  z=classifier_loss(x,y)\n",
        "  if(z>1 or z<0):\n",
        "    print(x)\n",
        "    print(y)\n",
        "    print(classifier_loss(x, y))"
      ]
    },
    {
      "cell_type": "code",
      "execution_count": null,
      "metadata": {
        "id": "MzrZ_FwWMmAc"
      },
      "outputs": [],
      "source": [
        "import random\n",
        "def roll_index(prob_list):\n",
        "  r=random.random()\n",
        "  sum=0\n",
        "  for i in range(len(prob_list)):\n",
        "    sum+=prob_list[i]\n",
        "    if(sum>=r):\n",
        "      return i;\n",
        "  return 0\n"
      ]
    },
    {
      "cell_type": "markdown",
      "metadata": {
        "id": "LX1BtTmQLr7U"
      },
      "source": [
        "#GAN class"
      ]
    },
    {
      "cell_type": "code",
      "execution_count": null,
      "metadata": {
        "id": "8zSaTquOtGR8"
      },
      "outputs": [],
      "source": [
        "from tensorflow.python.eager.context import get_executor\n",
        "import math\n",
        "class GAN():\n",
        "  def __init__(self, generator, discriminator, classifier, classifier_loss):\n",
        "    self.generator=generator\n",
        "    self.discriminator=discriminator\n",
        "    self.classifier=classifier\n",
        "    self.classifier_loss=classifier_loss\n",
        "  def pre_train_gen(self, g_x, g_y, g_epochs):\n",
        "    self.generator.pre_train(g_x, g_y, g_epochs);\n",
        "  def train_disc(self, g_x, g_targets, g_y, d_split, d_epochs=5):\n",
        "    self.discriminator.train([g_targets, g_x], g_y, self.generator, d_split, d_epochs);\n",
        "  def train_gen(self, g_x, g_classifier_targets, g_y, g_epochs, state_num, mc_num, end_token, max_seq_len=100, reward_constant=1):\n",
        "    print(\"Beginning training\")\n",
        "\n",
        "    aprobs=self.generator.generator_model.predict_on_batch({\"labels\":g_classifier_targets, \"sequences\":g_x});\n",
        "  \n",
        "    final_rewards=[]\n",
        "    for i in range(min(len(g_x), state_num)):\n",
        "      print(\"Action probabilities generated\")\n",
        "      g_x_mc=g_x[np.random.shuffle(np.arange(len(g_x)))][0]\n",
        "      rewards=np.ones(len(aprobs[0]))\n",
        "      states=[]\n",
        "      actions=[]\n",
        "      generator_targets=[]\n",
        "      rewards_=[] \n",
        "      print(\"Beginning monte carlo search\")     \n",
        "      print(\"Starting state\")\n",
        "      print(g_x_mc)\n",
        "      current_start_sequence=g_x_mc[i]\n",
        "      current_start_sequence=current_start_sequence[current_start_sequence!=0]\n",
        "      for seed in range(1, len(current_start_sequence)):\n",
        "        print(\"Starting seed\")\n",
        "        current_seed_sequence=current_start_sequence[:(seed)]\n",
        "        states.append(current_seed_sequence)\n",
        "        print(len(aprobs))\n",
        "        aprob=np.zeros(len(aprobs[0]));\n",
        "        aprobi=current_start_sequence[seed]\n",
        "        aprob[aprobi]=1;\n",
        "        actions.append(aprob)\n",
        "        generator_target=getRandomProbabilityVector(4);\n",
        "        generator_targets.append(generator_target);\n",
        "        if(seed==(len(current_start_sequence)-1)):\n",
        "          print(\"Computing reward\")\n",
        "          rewards[current_start_sequence[seed]]+=self.get_reward_value(np.array(pad_sequences([current_start_sequence], maxlen=64)), generator_target)\n",
        "          rewards_.append(self.get_reward_value(np.array(pad_sequences([current_start_sequence], maxlen=64)), generator_target))\n",
        "          continue;\n",
        "        current_rewards=[]\n",
        "        for j in range(mc_num):\n",
        "          print(\"Starting mc search\")\n",
        "          current_sequence=current_seed_sequence;\n",
        "          generator_probability_distribution=[]\n",
        "          generated_len=0;\n",
        "          while True:\n",
        "            generator_probability_distribution=self.generator.generator_model.predict_on_batch({\"labels\":np.array([generator_target]), \"sequences\":np.array(pad_sequences([current_sequence], maxlen=64))});            \n",
        "            generated_token=roll_index(generator_probability_distribution[0])\n",
        "            current_sequence=np.append(current_sequence, [generated_token])\n",
        "            generated_len+=1;\n",
        "            if(generated_token==end_token or generated_len>=max_seq_len):\n",
        "              break;\n",
        "          print(\"exited while loop\")\n",
        "          reward_value=self.get_reward_value(np.array(pad_sequences([current_sequence], maxlen=64)), generator_target)\n",
        "          current_rewards.append(reward_value)\n",
        "          final_rewards.append(reward_value)\n",
        "        print(\"Computing reward\")\n",
        "        rewards[current_start_sequence[seed]]+=sum(current_rewards)/len(current_rewards)\n",
        "        rewards_.append(sum(current_rewards)/len(current_rewards))\n",
        "      rewards=rewards/(sum(rewards)/len(rewards))   \n",
        "      print(\"Computing policy gradient\")     \n",
        "      print(np.array(states))\n",
        "      self.generator.computePolicyGradient(pad_sequences(np.array(states), maxlen=64).astype('float32'), \n",
        "                                          np.array(generator_targets).astype('float32'), \n",
        "                                          np.array(actions).astype('float32'), \n",
        "                                          np.array(rewards).astype('float32'), 3)\n",
        "\n",
        "      return final_rewards\n",
        "  def train_gen_without_using_seed_data(self, g_x, g_classifier_targets, g_y, g_epochs, state_num, mc_num, end_token, max_seq_len=100, reward_constant=1):\n",
        "    aprobs=self.generator.generator_model.predict_on_batch({\"labels\":g_classifier_targets, \"sequences\":g_x});\n",
        "    final_rewards=[]\n",
        "    for i in range(state_num):\n",
        "      print(\"Action probabilities generated\")\n",
        "      g_x_mc=g_x[np.random.shuffle(np.arange(len(g_x)))][0]\n",
        "      rewards=np.ones(len(aprobs[0]))\n",
        "      states=[]\n",
        "      actions=[]\n",
        "      generator_targets=[]\n",
        "      rewards_=[] \n",
        "      print(\"Beginning monte carlo search\")     \n",
        "      print(\"Starting state\")\n",
        "      print(g_x_mc)\n",
        "      current_start_sequence=g_x_mc[i]\n",
        "      current_start_sequence=current_start_sequence[current_start_sequence!=0]\n",
        "    for seed in range(1, len(current_start_sequence)):\n",
        "      print(\"Starting seed\")\n",
        "      current_seed_sequence=current_start_sequence[:(seed)]\n",
        "      states.append(current_seed_sequence)\n",
        "      print(len(aprobs))\n",
        "      aprob=np.zeros(len(aprobs[0]));\n",
        "      aprobi=current_start_sequence[seed]\n",
        "      aprob[aprobi]=1;\n",
        "      actions.append(aprob)\n",
        "      generator_target=getRandomProbabilityVector(4);\n",
        "      generator_targets.append(generator_target);\n",
        "      if(seed==(len(current_start_sequence)-1)):\n",
        "        print(\"Computing reward\")\n",
        "        rewards[current_start_sequence[seed]]+=self.get_reward_value(np.array(pad_sequences([current_start_sequence], maxlen=64)), generator_target)\n",
        "        rewards_.append(self.get_reward_value(np.array(pad_sequences([current_start_sequence], maxlen=64)), generator_target))\n",
        "        continue;\n",
        "      current_rewards=[]\n",
        "      for j in range(mc_num):\n",
        "        print(\"Starting mc search\")\n",
        "        current_sequence=current_seed_sequence;\n",
        "        generator_probability_distribution=[]\n",
        "        generated_len=0;\n",
        "        while True:\n",
        "          generator_probability_distribution=self.generator.generator_model.predict_on_batch({\"labels\":np.array([generator_target]), \"sequences\":np.array(pad_sequences([current_sequence], maxlen=64))});            \n",
        "          generated_token=roll_index(generator_probability_distribution[0])\n",
        "          current_sequence=np.append(current_sequence, [generated_token])\n",
        "          generated_len+=1;\n",
        "          if(generated_token==end_token or generated_len>=max_seq_len):\n",
        "            break;\n",
        "        print(\"exited while loop\")\n",
        "        reward_value=self.get_reward_value(np.array(pad_sequences([current_sequence], maxlen=64)), generator_target)\n",
        "        current_rewards.append(reward_value)\n",
        "        final_rewards.append(reward_value)\n",
        "      print(\"Computing reward\")\n",
        "      rewards[current_start_sequence[seed]]+=sum(current_rewards)/len(current_rewards)\n",
        "      rewards_.append(sum(current_rewards)/len(current_rewards))\n",
        "      rewards=rewards/(sum(rewards)/len(rewards))   \n",
        "      print(\"Computing policy gradient\")     \n",
        "      print(np.array(states))\n",
        "      self.generator.computePolicyGradient(pad_sequences(np.array(states), maxlen=64).astype('float32'), \n",
        "                                          np.array(generator_targets).astype('float32'), \n",
        "                                          np.array(actions).astype('float32'), \n",
        "                                          np.array(rewards).astype('float32'), 3)\n",
        "\n",
        "      return final_rewards\n",
        "  def get_reward_value(self,sequence,classifier_targets):\n",
        "    z=np.array([sequence]).reshape(64,)\n",
        "    print(z)\n",
        "    y=self.discriminator.compute_reward(z)\n",
        "    y2=self.classifier(sequence)[0].numpy()\n",
        "    print(y2)\n",
        "    print(classifier_targets)\n",
        "    y1=(1-self.classifier_loss(y2, classifier_targets).numpy())\n",
        "    print(\"Reward from discriminator: {}\".format(y))\n",
        "    print(\"Reward from classifier: {}\".format(y1))\n",
        "    return (((1-math.log(self.classifier_loss(self.classifier(sequence)[0], classifier_targets).numpy(), 10))*(y)**(1/2)))-0.5;\n",
        "  def get_average_score(self, sequences, classifier_targets):\n",
        "    reward_sum=0;\n",
        "    for i in range(len(sequences)):\n",
        "      x=self.get_reward_value(np.array([sequences[i]]), classifier_targets[i])\n",
        "      reward_sum+=x\n",
        "      \n",
        "     \n",
        "    return (reward_sum/len(sequences))\n"
      ]
    },
    {
      "cell_type": "markdown",
      "metadata": {
        "id": "TtEcEk3cr_op"
      },
      "source": [
        "#Pre-Training"
      ]
    },
    {
      "cell_type": "markdown",
      "metadata": {
        "id": "LXw_frU_tg06"
      },
      "source": [
        "##Define Objects"
      ]
    },
    {
      "cell_type": "code",
      "source": [
        "from keras.losses import BinaryCrossentropy, CategoricalCrossentropy\n",
        "from keras.optimizers import adam_v2\n",
        "generator_object=Generator(generator_model, CategoricalCrossentropy(), adam_v2.Adam(lr=0.1))"
      ],
      "metadata": {
        "id": "0J0aZpos7tkt"
      },
      "execution_count": null,
      "outputs": []
    },
    {
      "cell_type": "code",
      "source": [
        "import random\n",
        "def roll_index_modified(prob_list):\n",
        "  r=random.random()\n",
        "  sum=0\n",
        "  for i in range(len(prob_list)):\n",
        "    sum+=(prob_list[i]*1.1)\n",
        "    if(sum>=r):\n",
        "      return i;\n",
        "  return 0"
      ],
      "metadata": {
        "id": "jdtmaQqRK5gx"
      },
      "execution_count": null,
      "outputs": []
    },
    {
      "cell_type": "code",
      "source": [
        "test=[0.3, 0.5, 0.15, 0.05]\n",
        "numeach=[0, 0, 0, 0]\n",
        "for i in range(10000):\n",
        "  numeach[roll_index(test)]+=1\n",
        "print(numeach)"
      ],
      "metadata": {
        "id": "RKJXo12wJEqF"
      },
      "execution_count": null,
      "outputs": []
    },
    {
      "cell_type": "code",
      "source": [
        "x=generator_object.generateBatch(10)[0]\n",
        "\n",
        "for i in x:\n",
        "  #print(i)\n",
        "  sequence=i[i!=0]\n",
        "  #print(sequence)\n",
        "  sentence=\"\"\n",
        "  for j in sequence:\n",
        "    sentence=sentence+\" \"+list(gen_tokenizer.word_index.keys())[j]\n",
        "  print(sentence)"
      ],
      "metadata": {
        "id": "WoyIusUB773J"
      },
      "execution_count": null,
      "outputs": []
    },
    {
      "cell_type": "code",
      "source": [
        "s=\"I know this is going to be one of those nights\"\n",
        "for i in range(20):\n",
        "   s+=\" \"+list(gen_tokenizer.word_index.keys())[roll_index_modified(generator_model.predict(x={\"labels\":np.array([[0, 0, 0, 1]]), \n",
        "                                  \"sequences\":pad_sequences(gen_tokenizer.texts_to_sequences([s]), \n",
        "                                                            maxlen=64)})[0])]\n",
        "print(s)"
      ],
      "metadata": {
        "id": "-oqVhWAY9o7v"
      },
      "execution_count": null,
      "outputs": []
    },
    {
      "cell_type": "code",
      "execution_count": null,
      "metadata": {
        "id": "vM7G1fwY-iSw"
      },
      "outputs": [],
      "source": [
        "from keras.backend import binary_crossentropy\n",
        "from keras.losses import BinaryCrossentropy, CategoricalCrossentropy\n",
        "from keras.optimizers import adam_v2\n",
        "discriminator_object=Discriminator(discriminator, BinaryCrossentropy(), adam_v2.Adam())\n",
        "generator_object=Generator(generator_model, CategoricalCrossentropy(), adam_v2.Adam(lr=0.1))\n",
        "gan_object=GAN(generator_object, discriminator_object, classifier, CategoricalCrossentropy())\n",
        "\n"
      ]
    },
    {
      "cell_type": "markdown",
      "metadata": {
        "id": "2CSz_Nextn0o"
      },
      "source": [
        "##Pretrain discriminator"
      ]
    },
    {
      "cell_type": "code",
      "execution_count": null,
      "metadata": {
        "id": "Yrbr-FQjBKws"
      },
      "outputs": [],
      "source": [
        "gan_object.train_disc(gan_list_states[0:100], gan_classification_onehots[0:100], gan_actions[0:100], 5, d_epochs=5)"
      ]
    },
    {
      "cell_type": "code",
      "execution_count": null,
      "metadata": {
        "id": "ultiAQQuNRQK"
      },
      "outputs": [],
      "source": [
        "discriminator_object.evaluate_discriminator(gan_list_states[3100:3200], gan_actions[3100:3200], generator_object)"
      ]
    },
    {
      "cell_type": "markdown",
      "metadata": {
        "id": "sIWb47sItspp"
      },
      "source": [
        "##Generate a batch of text and evaluate the reward"
      ]
    },
    {
      "cell_type": "code",
      "execution_count": null,
      "metadata": {
        "id": "e0Ck6DF6tbH3"
      },
      "outputs": [],
      "source": [
        "generated_values=generator_object.generateBatch(100);"
      ]
    },
    {
      "cell_type": "code",
      "execution_count": null,
      "metadata": {
        "id": "2a6fIsJ-vuI7"
      },
      "outputs": [],
      "source": [
        "from keras.utils.vis_utils import plot_model\n",
        "plot_model(classifier, to_file=\"classifer.png\", show_shapes=True, show_layer_names=True, show_layer_activations=True)"
      ]
    },
    {
      "cell_type": "code",
      "execution_count": null,
      "metadata": {
        "id": "ySR1CA2KBNaR"
      },
      "outputs": [],
      "source": [
        "#print(generator_object.generator_model.evaluate({\"labels\": classification_onehots[1000:2000],\"sequences\":token_list_states[1000:2000]}, token_actions[1000:2000]))\n",
        "\n",
        "print(gan_object.get_average_score(generated_values[0], generated_values[1]))"
      ]
    },
    {
      "cell_type": "markdown",
      "metadata": {
        "id": "71dKffR5rWtY"
      },
      "source": [
        "#Define the Award list and train the generator"
      ]
    },
    {
      "cell_type": "code",
      "execution_count": null,
      "metadata": {
        "id": "YMNVr3zvhnqD"
      },
      "outputs": [],
      "source": [
        "reward_arr=[]"
      ]
    },
    {
      "cell_type": "code",
      "execution_count": null,
      "metadata": {
        "id": "gnrAPVfvUORQ"
      },
      "outputs": [],
      "source": [
        "print(len(gan_list_states))\n",
        "for i in range(30, 67): \n",
        "  for j in range(2):\n",
        "    reward_arr_one=gan_object.train_gen(gan_list_states[(100*i):100*(i+1)], gan_classification_onehots[(100*i):100*(i+1)], gan_actions[(100*i):100*(i+1)], 10, 5, 5, gen_tokenizer.word_index[\"endtoken\"], 20,  1)\n",
        "    gan_object.train_disc(gan_list_states[(100*i):100*(i+1)], gan_classification_onehots[(100*i):100*(i+1)], gan_actions[(100*i):100*(i+1)], 2)\n",
        "    generated_values=generator_object.generateBatch(100)\n",
        "    reward_arr.append(gan_object.get_average_score(generated_values[0], generated_values[1]))"
      ]
    },
    {
      "cell_type": "markdown",
      "metadata": {
        "id": "9dG5ZpXmm9Kb"
      },
      "source": [
        "#Evaluate generator"
      ]
    },
    {
      "cell_type": "code",
      "execution_count": null,
      "metadata": {
        "id": "T6TqklFLP9mU"
      },
      "outputs": [],
      "source": [
        ""
      ]
    },
    {
      "cell_type": "code",
      "execution_count": null,
      "metadata": {
        "id": "_IAmXfF_xC_C"
      },
      "outputs": [],
      "source": [
        "to_plot=[]\n",
        "c=0\n",
        "for i in reward_arr:\n",
        "\n",
        "  to_plot.append(i[0][0])\n",
        "  c+=1\n",
        "print(to_plot)"
      ]
    },
    {
      "cell_type": "code",
      "execution_count": null,
      "metadata": {
        "id": "m-ySvUUdbHCu"
      },
      "outputs": [],
      "source": [
        "discriminator_object.evaluate_discriminator(gan_list_states[1100:1400], gan_actions[1100:1400], generator_object)"
      ]
    },
    {
      "cell_type": "code",
      "execution_count": null,
      "metadata": {
        "id": "NSqnqU9NasT3"
      },
      "outputs": [],
      "source": [
        "import matplotlib.pyplot as plt\n",
        "plt.xlabel(\"Amount of Training Iterations\")\n",
        "plt.ylabel(\"Reward value\")\n",
        "plt.grid(True)\n",
        "plt.plot(to_plot)\n",
        "plt.show()"
      ]
    },
    {
      "cell_type": "code",
      "execution_count": null,
      "metadata": {
        "id": "sUQCLBnOn3Jn"
      },
      "outputs": [],
      "source": [
        "print(discriminator.evaluate())"
      ]
    },
    {
      "cell_type": "code",
      "execution_count": null,
      "metadata": {
        "id": "lKf77fKIdgw0"
      },
      "outputs": [],
      "source": [
        "from nltk.translate.bleu_score import sentence_bleu"
      ]
    },
    {
      "cell_type": "code",
      "execution_count": null,
      "metadata": {
        "id": "KkGiDsameGkT"
      },
      "outputs": [],
      "source": [
        "def total_bleu(g_object, x_data, classifier):\n",
        "  all_bleus=[]\n",
        "  for i in range(64):\n",
        "      all_bleus.append([])\n",
        "  for token_sequence in x_data:\n",
        "    print(token_sequence)\n",
        "    \n",
        "    \n",
        "    sequence_classification=classifier.predict_on_batch(np.array([token_sequence]))[0]\n",
        "    print(\"classifier\")\n",
        "    token_sequence_unpadded=token_sequence[token_sequence!=0]\n",
        "    reference_sentence=[]\n",
        "    for token in token_sequence_unpadded:\n",
        "          reference_sentence.append(list(gen_tokenizer.word_index.keys())[token])\n",
        "    reference_sentence=reference_sentence[1:]\n",
        "    for seed in range(1, len(token_sequence_unpadded)):\n",
        "        current_sequence=token_sequence_unpadded[:seed]\n",
        "        generator_probability_distribution=[]\n",
        "        generated_len=0;\n",
        "        while True:\n",
        "        # print(np.array(pad_sequences([current_sequence], maxlen=64)))\n",
        "          generator_probability_distribution=g_object.generator_model.predict_on_batch({\"labels\":np.array([sequence_classification]), \"sequences\":np.array(pad_sequences([current_sequence], maxlen=64))});\n",
        "          \n",
        "          generated_token=roll_index(generator_probability_distribution[0])\n",
        "          current_sequence=np.append(current_sequence, [generated_token])\n",
        "        # print(current_sequence)\n",
        "          \n",
        "          generated_len+=1;\n",
        "          if(generated_token==2 or generated_len>=30):\n",
        "            break;\n",
        "        sentence=[]\n",
        "        for token in current_sequence:\n",
        "          sentence.append(list(gen_tokenizer.word_index.keys())[token])\n",
        "        sentence=sentence[1:]\n",
        "        all_bleus[seed].append(sentence_bleu([sentence], reference_sentence))\n",
        "        #print(all_bleus)\n",
        "      \n",
        " \n",
        "  return all_bleus\n",
        "\n",
        "    \n",
        "         \n",
        "  "
      ]
    },
    {
      "cell_type": "code",
      "execution_count": null,
      "metadata": {
        "id": "LOwBmZ9cmgb-"
      },
      "outputs": [],
      "source": [
        "generator_object.generator_model.save_weights(\"/content/drive/MyDrive/Saved_Models/generator_weights.h5\")\n",
        "discriminator_object.discriminator_model.save_weights(\"/content/drive/MyDrive/Saved_Models/discriminator_weights.h5\")"
      ]
    },
    {
      "cell_type": "code",
      "execution_count": null,
      "metadata": {
        "id": "BQciZ9UjjJ_S"
      },
      "outputs": [],
      "source": [
        "all_bleus=total_bleu(generator_object, np.array(pad_sequences(token_sequences, maxlen=200))[6700:6755], classifier)"
      ]
    },
    {
      "cell_type": "code",
      "execution_count": null,
      "metadata": {
        "id": "hxcHWCSRdRcn"
      },
      "outputs": [],
      "source": [
        ""
      ]
    },
    {
      "cell_type": "code",
      "execution_count": null,
      "metadata": {
        "id": "MhC-ISCarQ9M"
      },
      "outputs": [],
      "source": [
        "print(all_bleus)"
      ]
    },
    {
      "cell_type": "code",
      "execution_count": null,
      "metadata": {
        "colab": {
          "base_uri": "https://localhost:8080/",
          "height": 279
        },
        "id": "jTh22E1brD5l",
        "outputId": "0803fb19-bac3-409b-f2f6-941f35d11ae0"
      },
      "outputs": [
        {
          "data": {
            "image/png": "[encoded data removed]",
            "text/plain": [
              "<Figure size 432x288 with 1 Axes>"
            ]
          },
          "metadata": {},
          "output_type": "display_data"
        }
      ],
      "source": [
        "bleu_averages=[]\n",
        "for i in all_bleus:\n",
        "  if(len(i)!=0):\n",
        "    bleu_averages.append(sum(i)/len(i))\n",
        "\n",
        "plt.plot(bleu_averages)\n",
        "plt.xlabel(\"Amount of seed words provided to the generator\")\n",
        "plt.ylabel(\"Average bleu score\")\n",
        "plt.grid(True)"
      ]
    },
    {
      "cell_type": "code",
      "execution_count": null,
      "metadata": {
        "id": "a6CdG5Ebl3Y_"
      },
      "outputs": [],
      "source": [
        "print(sum(all_bleus)/len(all_bleus))"
      ]
    },
    {
      "cell_type": "code",
      "execution_count": null,
      "metadata": {
        "id": "urYq2lvfaQwf"
      },
      "outputs": [],
      "source": [
        "#print(generator_object.generator_model.evaluate({\"labels\": classification_onehots[1000:2000],\"sequences\":token_list_states[:1000]}, token_actions[1000:2000]))\n",
        "print(gan_object.get_average_score(generated_values[0], generated_values[1]))"
      ]
    },
    {
      "cell_type": "markdown",
      "metadata": {
        "id": "BRUMyn_YKRal"
      },
      "source": [
        ""
      ]
    },
    {
      "cell_type": "code",
      "execution_count": null,
      "metadata": {
        "id": "il9_nF4HBXgC"
      },
      "outputs": [],
      "source": [
        "!unzip tweet_emotions.csv.zip"
      ]
    },
    {
      "cell_type": "code",
      "execution_count": null,
      "metadata": {
        "id": "iIbDlTAbylDR"
      },
      "outputs": [],
      "source": [
        "!unzip archive.zip"
      ]
    }
  ],
  "metadata": {
    "colab": {
      "collapsed_sections": [],
      "name": "ResearchProject.ipynb",
      "provenance": [],
      "mount_file_id": "1u5ixrIEMlYhW8BpZXjeNiNUkllfTaV_3",
      "authorship_tag": "ABX9TyNKhlBK4Z8cxvZ7zbkzHvpa",
      "include_colab_link": true
    },
    "kernelspec": {
      "display_name": "Python 3",
      "name": "python3"
    },
    "language_info": {
      "name": "python"
    }
  },
  "nbformat": 4,
  "nbformat_minor": 0
}